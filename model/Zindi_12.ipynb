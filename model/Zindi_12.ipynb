{
 "cells": [
  {
   "cell_type": "code",
   "execution_count": 5,
   "metadata": {
    "colab": {
     "base_uri": "https://localhost:8080/",
     "height": 513
    },
    "colab_type": "code",
    "id": "ouHZ3hXfR4Yx",
    "outputId": "1a379963-2d09-4d35-c784-79ac92d1e10c"
   },
   "outputs": [
    {
     "name": "stdout",
     "output_type": "stream",
     "text": [
      "Collecting optuna\n",
      "\u001b[33m  Retrying (Retry(total=4, connect=None, read=None, redirect=None, status=None)) after connection broken by 'NewConnectionError('<urllib3.connection.VerifiedHTTPSConnection object at 0x7fbae3376438>: Failed to establish a new connection: [Errno -2] Name or service not known')': /simple/optuna/\u001b[0m\n",
      "\u001b[33m  Retrying (Retry(total=3, connect=None, read=None, redirect=None, status=None)) after connection broken by 'NewConnectionError('<urllib3.connection.VerifiedHTTPSConnection object at 0x7fbae33762b0>: Failed to establish a new connection: [Errno -2] Name or service not known')': /simple/optuna/\u001b[0m\n",
      "\u001b[33m  Retrying (Retry(total=2, connect=None, read=None, redirect=None, status=None)) after connection broken by 'NewConnectionError('<urllib3.connection.VerifiedHTTPSConnection object at 0x7fbae3376400>: Failed to establish a new connection: [Errno -2] Name or service not known')': /simple/optuna/\u001b[0m\n",
      "\u001b[33m  Retrying (Retry(total=1, connect=None, read=None, redirect=None, status=None)) after connection broken by 'NewConnectionError('<urllib3.connection.VerifiedHTTPSConnection object at 0x7fbae3688f98>: Failed to establish a new connection: [Errno -2] Name or service not known')': /simple/optuna/\u001b[0m\n",
      "\u001b[33m  Retrying (Retry(total=0, connect=None, read=None, redirect=None, status=None)) after connection broken by 'NewConnectionError('<urllib3.connection.VerifiedHTTPSConnection object at 0x7fbae3688ef0>: Failed to establish a new connection: [Errno -2] Name or service not known')': /simple/optuna/\u001b[0m\n",
      "\u001b[31m  Could not find a version that satisfies the requirement optuna (from versions: )\u001b[0m\n",
      "\u001b[31mNo matching distribution found for optuna\u001b[0m\n"
     ]
    }
   ],
   "source": [
    "!pip3 install optuna"
   ]
  },
  {
   "cell_type": "code",
   "execution_count": 2,
   "metadata": {
    "colab": {},
    "colab_type": "code",
    "id": "cGFCfKw8M_0i"
   },
   "outputs": [],
   "source": []
  },
  {
   "cell_type": "code",
   "execution_count": 2,
   "metadata": {
    "colab": {
     "base_uri": "https://localhost:8080/",
     "height": 122
    },
    "colab_type": "code",
    "id": "x8kDOVByTzAb",
    "outputId": "1870f57e-9109-4a70-a068-6145a98211e4"
   },
   "outputs": [
    {
     "name": "stdout",
     "output_type": "stream",
     "text": [
      "Go to this URL in a browser: https://accounts.google.com/o/oauth2/auth?client_id=947318989803-6bn6qk8qdgf4n4g3pfee6491hc0brc4i.apps.googleusercontent.com&redirect_uri=urn%3aietf%3awg%3aoauth%3a2.0%3aoob&response_type=code&scope=email%20https%3a%2f%2fwww.googleapis.com%2fauth%2fdocs.test%20https%3a%2f%2fwww.googleapis.com%2fauth%2fdrive%20https%3a%2f%2fwww.googleapis.com%2fauth%2fdrive.photos.readonly%20https%3a%2f%2fwww.googleapis.com%2fauth%2fpeopleapi.readonly\n",
      "\n",
      "Enter your authorization code:\n",
      "··········\n",
      "Mounted at /content/drive\n"
     ]
    }
   ],
   "source": [
    "from google.colab import drive\n",
    "drive.mount('/content/drive')"
   ]
  },
  {
   "cell_type": "code",
   "execution_count": 6,
   "metadata": {
    "colab": {},
    "colab_type": "code",
    "id": "UZqulEEaR4ZN"
   },
   "outputs": [
    {
     "name": "stdout",
     "output_type": "stream",
     "text": [
      "Collecting xgboost\n",
      "\u001b[33m  Retrying (Retry(total=4, connect=None, read=None, redirect=None, status=None)) after connection broken by 'NewConnectionError('<urllib3.connection.VerifiedHTTPSConnection object at 0x7f820318d438>: Failed to establish a new connection: [Errno -2] Name or service not known')': /simple/xgboost/\u001b[0m\n",
      "\u001b[33m  Retrying (Retry(total=3, connect=None, read=None, redirect=None, status=None)) after connection broken by 'NewConnectionError('<urllib3.connection.VerifiedHTTPSConnection object at 0x7f820318d0b8>: Failed to establish a new connection: [Errno -2] Name or service not known')': /simple/xgboost/\u001b[0m\n",
      "\u001b[33m  Retrying (Retry(total=2, connect=None, read=None, redirect=None, status=None)) after connection broken by 'NewConnectionError('<urllib3.connection.VerifiedHTTPSConnection object at 0x7f820318d278>: Failed to establish a new connection: [Errno -2] Name or service not known')': /simple/xgboost/\u001b[0m\n",
      "\u001b[33m  Retrying (Retry(total=1, connect=None, read=None, redirect=None, status=None)) after connection broken by 'NewConnectionError('<urllib3.connection.VerifiedHTTPSConnection object at 0x7f82034dfd68>: Failed to establish a new connection: [Errno -2] Name or service not known')': /simple/xgboost/\u001b[0m\n",
      "\u001b[33m  Retrying (Retry(total=0, connect=None, read=None, redirect=None, status=None)) after connection broken by 'NewConnectionError('<urllib3.connection.VerifiedHTTPSConnection object at 0x7f82034dff98>: Failed to establish a new connection: [Errno -2] Name or service not known')': /simple/xgboost/\u001b[0m\n",
      "\u001b[31m  Could not find a version that satisfies the requirement xgboost (from versions: )\u001b[0m\n",
      "\u001b[31mNo matching distribution found for xgboost\u001b[0m\n"
     ]
    }
   ],
   "source": [
    "!pip3 install xgboost"
   ]
  },
  {
   "cell_type": "code",
   "execution_count": 2,
   "metadata": {
    "colab": {},
    "colab_type": "code",
    "id": "oYRRiwMtR4ZW"
   },
   "outputs": [
    {
     "ename": "ModuleNotFoundError",
     "evalue": "No module named 'xgboost'",
     "output_type": "error",
     "traceback": [
      "\u001b[0;31m---------------------------------------------------------------------------\u001b[0m",
      "\u001b[0;31mModuleNotFoundError\u001b[0m                       Traceback (most recent call last)",
      "\u001b[0;32m<ipython-input-2-0aab1237665b>\u001b[0m in \u001b[0;36m<module>\u001b[0;34m()\u001b[0m\n\u001b[1;32m      8\u001b[0m \u001b[0;32mfrom\u001b[0m \u001b[0msklearn\u001b[0m\u001b[0;34m.\u001b[0m\u001b[0mlinear_model\u001b[0m \u001b[0;32mimport\u001b[0m \u001b[0mLogisticRegression\u001b[0m\u001b[0;34m\u001b[0m\u001b[0;34m\u001b[0m\u001b[0m\n\u001b[1;32m      9\u001b[0m \u001b[0;32mfrom\u001b[0m \u001b[0msklearn\u001b[0m\u001b[0;34m.\u001b[0m\u001b[0mmetrics\u001b[0m \u001b[0;32mimport\u001b[0m \u001b[0maccuracy_score\u001b[0m\u001b[0;34m\u001b[0m\u001b[0;34m\u001b[0m\u001b[0m\n\u001b[0;32m---> 10\u001b[0;31m \u001b[0;32mimport\u001b[0m \u001b[0mxgboost\u001b[0m\u001b[0;34m\u001b[0m\u001b[0;34m\u001b[0m\u001b[0m\n\u001b[0m\u001b[1;32m     11\u001b[0m \u001b[0;31m#import optuna\u001b[0m\u001b[0;34m\u001b[0m\u001b[0;34m\u001b[0m\u001b[0;34m\u001b[0m\u001b[0m\n\u001b[1;32m     12\u001b[0m \u001b[0;34m\u001b[0m\u001b[0m\n",
      "\u001b[0;31mModuleNotFoundError\u001b[0m: No module named 'xgboost'"
     ]
    }
   ],
   "source": [
    "import pandas as pd\n",
    "import numpy as np\n",
    "import seaborn as sns\n",
    "import matplotlib.pyplot as plt\n",
    "\n",
    "from sklearn.preprocessing import LabelEncoder\n",
    "from sklearn.ensemble import RandomForestClassifier\n",
    "from sklearn.linear_model import LogisticRegression\n",
    "from sklearn.metrics import accuracy_score\n",
    "import xgboost\n",
    "#import optuna\n",
    "\n",
    "from xgboost import XGBClassifier\n",
    "from sklearn.model_selection import GridSearchCV\n",
    "from sklearn.metrics import confusion_matrix, accuracy_score\n",
    "from sklearn.ensemble import GradientBoostingClassifier\n",
    "from sklearn.model_selection import KFold\n",
    "\n",
    "\n",
    "import lightgbm as lgb\n",
    "from sklearn.model_selection import RandomizedSearchCV\n",
    "from sklearn import svm\n",
    "\n",
    "\n"
   ]
  },
  {
   "cell_type": "markdown",
   "metadata": {
    "colab_type": "text",
    "id": "FCcXA11RR4Zi"
   },
   "source": [
    "# data processing"
   ]
  },
  {
   "cell_type": "markdown",
   "metadata": {
    "colab_type": "text",
    "id": "Tl-BP_1ER4Zj"
   },
   "source": [
    "### Apload the data set"
   ]
  },
  {
   "cell_type": "code",
   "execution_count": 1,
   "metadata": {
    "colab": {},
    "colab_type": "code",
    "id": "6hPSanZ9R4Zl"
   },
   "outputs": [
    {
     "ename": "NameError",
     "evalue": "name 'pd' is not defined",
     "output_type": "error",
     "traceback": [
      "\u001b[0;31m---------------------------------------------------------------------------\u001b[0m",
      "\u001b[0;31mNameError\u001b[0m                                 Traceback (most recent call last)",
      "\u001b[0;32m<ipython-input-1-416597048517>\u001b[0m in \u001b[0;36m<module>\u001b[0;34m()\u001b[0m\n\u001b[1;32m      1\u001b[0m \u001b[0mpath\u001b[0m\u001b[0;34m=\u001b[0m\u001b[0;34m'./drive/My Drive/Zindi_mentorship'\u001b[0m\u001b[0;34m\u001b[0m\u001b[0;34m\u001b[0m\u001b[0m\n\u001b[1;32m      2\u001b[0m \u001b[0;34m\u001b[0m\u001b[0m\n\u001b[0;32m----> 3\u001b[0;31m \u001b[0mtrain\u001b[0m\u001b[0;34m=\u001b[0m\u001b[0mpd\u001b[0m\u001b[0;34m.\u001b[0m\u001b[0mread_csv\u001b[0m\u001b[0;34m(\u001b[0m\u001b[0;34m\"/Train_v2.csv\"\u001b[0m\u001b[0;34m)\u001b[0m\u001b[0;34m\u001b[0m\u001b[0;34m\u001b[0m\u001b[0m\n\u001b[0m\u001b[1;32m      4\u001b[0m \u001b[0mtest\u001b[0m\u001b[0;34m=\u001b[0m\u001b[0mpd\u001b[0m\u001b[0;34m.\u001b[0m\u001b[0mread_csv\u001b[0m\u001b[0;34m(\u001b[0m\u001b[0;34m\"/Test_v2.csv\"\u001b[0m\u001b[0;34m)\u001b[0m\u001b[0;34m\u001b[0m\u001b[0;34m\u001b[0m\u001b[0m\n",
      "\u001b[0;31mNameError\u001b[0m: name 'pd' is not defined"
     ]
    }
   ],
   "source": [
    "path='./drive/My Drive/Zindi_mentorship'\n",
    "\n",
    "train=pd.read_csv(\"/Train_v2.csv\")\n",
    "test=pd.read_csv(\"/Test_v2.csv\")"
   ]
  },
  {
   "cell_type": "code",
   "execution_count": 6,
   "metadata": {
    "colab": {},
    "colab_type": "code",
    "id": "qXegcWhtR4Zv"
   },
   "outputs": [],
   "source": [
    "id=test['uniqueid']"
   ]
  },
  {
   "cell_type": "code",
   "execution_count": 7,
   "metadata": {
    "colab": {},
    "colab_type": "code",
    "id": "aL8RtKNCR4Z4"
   },
   "outputs": [],
   "source": [
    "train['year_'] = train['year']\n",
    "test['year_'] = test['year']\n",
    "float_array = train[['household_size', 'age_of_respondent', 'year_']].values.astype(float)\n",
    "float_array = test[['household_size', 'age_of_respondent', 'year_']].values.astype(float)"
   ]
  },
  {
   "cell_type": "code",
   "execution_count": 8,
   "metadata": {
    "colab": {
     "base_uri": "https://localhost:8080/",
     "height": 34
    },
    "colab_type": "code",
    "id": "Nz4ya2UWR4aA",
    "outputId": "e79deb3d-a1bf-46cf-cc31-6969d9de3900"
   },
   "outputs": [
    {
     "name": "stdout",
     "output_type": "stream",
     "text": [
      "(23524, 14) (10086, 13)\n"
     ]
    }
   ],
   "source": [
    "print(train.shape,test.shape)"
   ]
  },
  {
   "cell_type": "code",
   "execution_count": 9,
   "metadata": {
    "colab": {},
    "colab_type": "code",
    "id": "qI9GGxE0R4aK",
    "scrolled": true
   },
   "outputs": [],
   "source": [
    "train_data=train"
   ]
  },
  {
   "cell_type": "code",
   "execution_count": 10,
   "metadata": {
    "colab": {
     "base_uri": "https://localhost:8080/",
     "height": 626
    },
    "colab_type": "code",
    "id": "M9PmNxavR4aS",
    "outputId": "9e3cca33-e95f-4b6d-c50a-66ff9a6c9c24"
   },
   "outputs": [
    {
     "data": {
      "text/html": [
       "<div>\n",
       "<style scoped>\n",
       "    .dataframe tbody tr th:only-of-type {\n",
       "        vertical-align: middle;\n",
       "    }\n",
       "\n",
       "    .dataframe tbody tr th {\n",
       "        vertical-align: top;\n",
       "    }\n",
       "\n",
       "    .dataframe thead th {\n",
       "        text-align: right;\n",
       "    }\n",
       "</style>\n",
       "<table border=\"1\" class=\"dataframe\">\n",
       "  <thead>\n",
       "    <tr style=\"text-align: right;\">\n",
       "      <th></th>\n",
       "      <th>country</th>\n",
       "      <th>year</th>\n",
       "      <th>uniqueid</th>\n",
       "      <th>bank_account</th>\n",
       "      <th>location_type</th>\n",
       "      <th>cellphone_access</th>\n",
       "      <th>household_size</th>\n",
       "      <th>age_of_respondent</th>\n",
       "      <th>gender_of_respondent</th>\n",
       "      <th>relationship_with_head</th>\n",
       "      <th>marital_status</th>\n",
       "      <th>education_level</th>\n",
       "      <th>job_type</th>\n",
       "      <th>year_</th>\n",
       "    </tr>\n",
       "  </thead>\n",
       "  <tbody>\n",
       "    <tr>\n",
       "      <th>0</th>\n",
       "      <td>Kenya</td>\n",
       "      <td>2018</td>\n",
       "      <td>uniqueid_1</td>\n",
       "      <td>Yes</td>\n",
       "      <td>Rural</td>\n",
       "      <td>Yes</td>\n",
       "      <td>3</td>\n",
       "      <td>24</td>\n",
       "      <td>Female</td>\n",
       "      <td>Spouse</td>\n",
       "      <td>Married/Living together</td>\n",
       "      <td>Secondary education</td>\n",
       "      <td>Self employed</td>\n",
       "      <td>2018</td>\n",
       "    </tr>\n",
       "    <tr>\n",
       "      <th>1</th>\n",
       "      <td>Kenya</td>\n",
       "      <td>2018</td>\n",
       "      <td>uniqueid_2</td>\n",
       "      <td>No</td>\n",
       "      <td>Rural</td>\n",
       "      <td>No</td>\n",
       "      <td>5</td>\n",
       "      <td>70</td>\n",
       "      <td>Female</td>\n",
       "      <td>Head of Household</td>\n",
       "      <td>Widowed</td>\n",
       "      <td>No formal education</td>\n",
       "      <td>Government Dependent</td>\n",
       "      <td>2018</td>\n",
       "    </tr>\n",
       "    <tr>\n",
       "      <th>2</th>\n",
       "      <td>Kenya</td>\n",
       "      <td>2018</td>\n",
       "      <td>uniqueid_3</td>\n",
       "      <td>Yes</td>\n",
       "      <td>Urban</td>\n",
       "      <td>Yes</td>\n",
       "      <td>5</td>\n",
       "      <td>26</td>\n",
       "      <td>Male</td>\n",
       "      <td>Other relative</td>\n",
       "      <td>Single/Never Married</td>\n",
       "      <td>Vocational/Specialised training</td>\n",
       "      <td>Self employed</td>\n",
       "      <td>2018</td>\n",
       "    </tr>\n",
       "    <tr>\n",
       "      <th>3</th>\n",
       "      <td>Kenya</td>\n",
       "      <td>2018</td>\n",
       "      <td>uniqueid_4</td>\n",
       "      <td>No</td>\n",
       "      <td>Rural</td>\n",
       "      <td>Yes</td>\n",
       "      <td>5</td>\n",
       "      <td>34</td>\n",
       "      <td>Female</td>\n",
       "      <td>Head of Household</td>\n",
       "      <td>Married/Living together</td>\n",
       "      <td>Primary education</td>\n",
       "      <td>Formally employed Private</td>\n",
       "      <td>2018</td>\n",
       "    </tr>\n",
       "    <tr>\n",
       "      <th>4</th>\n",
       "      <td>Kenya</td>\n",
       "      <td>2018</td>\n",
       "      <td>uniqueid_5</td>\n",
       "      <td>No</td>\n",
       "      <td>Urban</td>\n",
       "      <td>No</td>\n",
       "      <td>8</td>\n",
       "      <td>26</td>\n",
       "      <td>Male</td>\n",
       "      <td>Child</td>\n",
       "      <td>Single/Never Married</td>\n",
       "      <td>Primary education</td>\n",
       "      <td>Informally employed</td>\n",
       "      <td>2018</td>\n",
       "    </tr>\n",
       "    <tr>\n",
       "      <th>...</th>\n",
       "      <td>...</td>\n",
       "      <td>...</td>\n",
       "      <td>...</td>\n",
       "      <td>...</td>\n",
       "      <td>...</td>\n",
       "      <td>...</td>\n",
       "      <td>...</td>\n",
       "      <td>...</td>\n",
       "      <td>...</td>\n",
       "      <td>...</td>\n",
       "      <td>...</td>\n",
       "      <td>...</td>\n",
       "      <td>...</td>\n",
       "      <td>...</td>\n",
       "    </tr>\n",
       "    <tr>\n",
       "      <th>23519</th>\n",
       "      <td>Uganda</td>\n",
       "      <td>2018</td>\n",
       "      <td>uniqueid_2113</td>\n",
       "      <td>No</td>\n",
       "      <td>Rural</td>\n",
       "      <td>Yes</td>\n",
       "      <td>4</td>\n",
       "      <td>48</td>\n",
       "      <td>Female</td>\n",
       "      <td>Head of Household</td>\n",
       "      <td>Divorced/Seperated</td>\n",
       "      <td>No formal education</td>\n",
       "      <td>Other Income</td>\n",
       "      <td>2018</td>\n",
       "    </tr>\n",
       "    <tr>\n",
       "      <th>23520</th>\n",
       "      <td>Uganda</td>\n",
       "      <td>2018</td>\n",
       "      <td>uniqueid_2114</td>\n",
       "      <td>No</td>\n",
       "      <td>Rural</td>\n",
       "      <td>Yes</td>\n",
       "      <td>2</td>\n",
       "      <td>27</td>\n",
       "      <td>Female</td>\n",
       "      <td>Head of Household</td>\n",
       "      <td>Single/Never Married</td>\n",
       "      <td>Secondary education</td>\n",
       "      <td>Other Income</td>\n",
       "      <td>2018</td>\n",
       "    </tr>\n",
       "    <tr>\n",
       "      <th>23521</th>\n",
       "      <td>Uganda</td>\n",
       "      <td>2018</td>\n",
       "      <td>uniqueid_2115</td>\n",
       "      <td>No</td>\n",
       "      <td>Rural</td>\n",
       "      <td>Yes</td>\n",
       "      <td>5</td>\n",
       "      <td>27</td>\n",
       "      <td>Female</td>\n",
       "      <td>Parent</td>\n",
       "      <td>Widowed</td>\n",
       "      <td>Primary education</td>\n",
       "      <td>Other Income</td>\n",
       "      <td>2018</td>\n",
       "    </tr>\n",
       "    <tr>\n",
       "      <th>23522</th>\n",
       "      <td>Uganda</td>\n",
       "      <td>2018</td>\n",
       "      <td>uniqueid_2116</td>\n",
       "      <td>No</td>\n",
       "      <td>Urban</td>\n",
       "      <td>Yes</td>\n",
       "      <td>7</td>\n",
       "      <td>30</td>\n",
       "      <td>Female</td>\n",
       "      <td>Parent</td>\n",
       "      <td>Divorced/Seperated</td>\n",
       "      <td>Secondary education</td>\n",
       "      <td>Self employed</td>\n",
       "      <td>2018</td>\n",
       "    </tr>\n",
       "    <tr>\n",
       "      <th>23523</th>\n",
       "      <td>Uganda</td>\n",
       "      <td>2018</td>\n",
       "      <td>uniqueid_2117</td>\n",
       "      <td>No</td>\n",
       "      <td>Rural</td>\n",
       "      <td>Yes</td>\n",
       "      <td>10</td>\n",
       "      <td>20</td>\n",
       "      <td>Male</td>\n",
       "      <td>Child</td>\n",
       "      <td>Single/Never Married</td>\n",
       "      <td>Secondary education</td>\n",
       "      <td>No Income</td>\n",
       "      <td>2018</td>\n",
       "    </tr>\n",
       "  </tbody>\n",
       "</table>\n",
       "<p>23524 rows × 14 columns</p>\n",
       "</div>"
      ],
      "text/plain": [
       "      country  year  ...                   job_type year_\n",
       "0       Kenya  2018  ...              Self employed  2018\n",
       "1       Kenya  2018  ...       Government Dependent  2018\n",
       "2       Kenya  2018  ...              Self employed  2018\n",
       "3       Kenya  2018  ...  Formally employed Private  2018\n",
       "4       Kenya  2018  ...        Informally employed  2018\n",
       "...       ...   ...  ...                        ...   ...\n",
       "23519  Uganda  2018  ...               Other Income  2018\n",
       "23520  Uganda  2018  ...               Other Income  2018\n",
       "23521  Uganda  2018  ...               Other Income  2018\n",
       "23522  Uganda  2018  ...              Self employed  2018\n",
       "23523  Uganda  2018  ...                  No Income  2018\n",
       "\n",
       "[23524 rows x 14 columns]"
      ]
     },
     "execution_count": 10,
     "metadata": {
      "tags": []
     },
     "output_type": "execute_result"
    }
   ],
   "source": [
    "train_data.head()"
   ]
  },
  {
   "cell_type": "code",
   "execution_count": 10,
   "metadata": {
    "colab": {},
    "colab_type": "code",
    "id": "Y7B5Zc6qR4ae"
   },
   "outputs": [],
   "source": [
    "country=test['country']"
   ]
  },
  {
   "cell_type": "code",
   "execution_count": 11,
   "metadata": {
    "colab": {},
    "colab_type": "code",
    "id": "_gVaVzITfy6v"
   },
   "outputs": [],
   "source": [
    "## Let us have a look at the features of our dataset"
   ]
  },
  {
   "cell_type": "code",
   "execution_count": 12,
   "metadata": {
    "colab": {
     "base_uri": "https://localhost:8080/",
     "height": 34
    },
    "colab_type": "code",
    "id": "qmPlJvUtR4a5",
    "outputId": "38c29a2f-ebc3-4e8f-c003-d45d61e687d4"
   },
   "outputs": [
    {
     "name": "stdout",
     "output_type": "stream",
     "text": [
      "(23524, 14) (10086, 13)\n"
     ]
    }
   ],
   "source": [
    "print(train_data.shape,test.shape)"
   ]
  },
  {
   "cell_type": "code",
   "execution_count": 13,
   "metadata": {
    "colab": {
     "base_uri": "https://localhost:8080/",
     "height": 374
    },
    "colab_type": "code",
    "id": "fpFJiM3ZR4bD",
    "outputId": "3261eaca-947e-4ae7-8699-d41e9c5bb55f"
   },
   "outputs": [
    {
     "name": "stdout",
     "output_type": "stream",
     "text": [
      "<class 'pandas.core.frame.DataFrame'>\n",
      "RangeIndex: 23524 entries, 0 to 23523\n",
      "Data columns (total 14 columns):\n",
      " #   Column                  Non-Null Count  Dtype \n",
      "---  ------                  --------------  ----- \n",
      " 0   country                 23524 non-null  object\n",
      " 1   year                    23524 non-null  int64 \n",
      " 2   uniqueid                23524 non-null  object\n",
      " 3   bank_account            23524 non-null  object\n",
      " 4   location_type           23524 non-null  object\n",
      " 5   cellphone_access        23524 non-null  object\n",
      " 6   household_size          23524 non-null  int64 \n",
      " 7   age_of_respondent       23524 non-null  int64 \n",
      " 8   gender_of_respondent    23524 non-null  object\n",
      " 9   relationship_with_head  23524 non-null  object\n",
      " 10  marital_status          23524 non-null  object\n",
      " 11  education_level         23524 non-null  object\n",
      " 12  job_type                23524 non-null  object\n",
      " 13  year_                   23524 non-null  int64 \n",
      "dtypes: int64(4), object(10)\n",
      "memory usage: 2.5+ MB\n"
     ]
    }
   ],
   "source": [
    "train_data.describe()\n",
    "train_data.info()"
   ]
  },
  {
   "cell_type": "code",
   "execution_count": 14,
   "metadata": {
    "colab": {
     "base_uri": "https://localhost:8080/",
     "height": 288
    },
    "colab_type": "code",
    "id": "fOi-Y_ZGR4bO",
    "outputId": "ff5be9c6-7a59-4782-ecaf-927e97474b14"
   },
   "outputs": [
    {
     "data": {
      "text/plain": [
       "<matplotlib.axes._subplots.AxesSubplot at 0x7fb981bf3c50>"
      ]
     },
     "execution_count": 14,
     "metadata": {
      "tags": []
     },
     "output_type": "execute_result"
    },
    {
     "data": {
      "image/png": "[encoded data removed]",
      "text/plain": [
       "<Figure size 432x288 with 1 Axes>"
      ]
     },
     "metadata": {
      "needs_background": "light",
      "tags": []
     },
     "output_type": "display_data"
    }
   ],
   "source": [
    "train_data.bank_account.value_counts().plot(kind='bar')"
   ]
  },
  {
   "cell_type": "code",
   "execution_count": 15,
   "metadata": {
    "colab": {
     "base_uri": "https://localhost:8080/",
     "height": 68
    },
    "colab_type": "code",
    "id": "zJMXHsqPSezt",
    "outputId": "3839886d-bcd0-4f68-86e2-d5d42193110d"
   },
   "outputs": [
    {
     "data": {
      "text/plain": [
       "No     20212\n",
       "Yes     3312\n",
       "Name: bank_account, dtype: int64"
      ]
     },
     "execution_count": 15,
     "metadata": {
      "tags": []
     },
     "output_type": "execute_result"
    }
   ],
   "source": [
    "train_data.bank_account.value_counts()"
   ]
  },
  {
   "cell_type": "code",
   "execution_count": 16,
   "metadata": {
    "colab": {},
    "colab_type": "code",
    "id": "akhcjSxAR2q1"
   },
   "outputs": [],
   "source": [
    "scale_pos_weight = 20212/3312\n"
   ]
  },
  {
   "cell_type": "code",
   "execution_count": 17,
   "metadata": {
    "colab": {
     "base_uri": "https://localhost:8080/",
     "height": 34
    },
    "colab_type": "code",
    "id": "Lj-tw-RcTFn5",
    "outputId": "96be7056-2d7d-4ba5-fa0a-410867a34a4f"
   },
   "outputs": [
    {
     "data": {
      "text/plain": [
       "6.102657004830918"
      ]
     },
     "execution_count": 17,
     "metadata": {
      "tags": []
     },
     "output_type": "execute_result"
    }
   ],
   "source": [
    "scale_pos_weight"
   ]
  },
  {
   "cell_type": "markdown",
   "metadata": {
    "colab_type": "text",
    "id": "EWPIAST_R4bZ"
   },
   "source": [
    "### Convert the target data set to binary variable 0,1"
   ]
  },
  {
   "cell_type": "code",
   "execution_count": 18,
   "metadata": {
    "colab": {},
    "colab_type": "code",
    "id": "YgjJdmhrR4ba"
   },
   "outputs": [],
   "source": [
    "train_data['bank_account']=np.where(train_data['bank_account']=='Yes',1,0)"
   ]
  },
  {
   "cell_type": "markdown",
   "metadata": {
    "colab_type": "text",
    "id": "V-9-VPg2R4bg"
   },
   "source": [
    "### convert the categorical variables"
   ]
  },
  {
   "cell_type": "markdown",
   "metadata": {
    "colab_type": "text",
    "id": "Oi-IHmwER4cC"
   },
   "source": [
    "### education"
   ]
  },
  {
   "cell_type": "code",
   "execution_count": 19,
   "metadata": {
    "colab": {
     "base_uri": "https://localhost:8080/",
     "height": 68
    },
    "colab_type": "code",
    "id": "-Glyb7H1R4cD",
    "outputId": "5a51b56e-0c17-4e66-f3a2-19887c44b5a2"
   },
   "outputs": [
    {
     "data": {
      "text/plain": [
       "array(['Secondary education', 'No formal education',\n",
       "       'Vocational/Specialised training', 'Primary education',\n",
       "       'Tertiary education', 'Other/Dont know/RTA'], dtype=object)"
      ]
     },
     "execution_count": 19,
     "metadata": {
      "tags": []
     },
     "output_type": "execute_result"
    }
   ],
   "source": [
    "train_data['education_level'].unique()"
   ]
  },
  {
   "cell_type": "code",
   "execution_count": 20,
   "metadata": {
    "colab": {},
    "colab_type": "code",
    "id": "FJGiXD5lR4cj"
   },
   "outputs": [],
   "source": [
    "#train_data['education_level'] = train_data['education_level'].replace(['Secondary education','Vocational/Specialised training','Tertiary education'], 'high')\n",
    "#test['education_level'] = test['education_level'].replace(['Secondary education','Vocational/Specialised training','Tertiary education'], 'high')\n"
   ]
  },
  {
   "cell_type": "code",
   "execution_count": 21,
   "metadata": {
    "colab": {
     "base_uri": "https://localhost:8080/",
     "height": 326
    },
    "colab_type": "code",
    "id": "3veY6hqgR4co",
    "outputId": "f579c6e6-3690-4165-8aea-c5be7f56642c"
   },
   "outputs": [
    {
     "data": {
      "text/html": [
       "<div>\n",
       "<style scoped>\n",
       "    .dataframe tbody tr th:only-of-type {\n",
       "        vertical-align: middle;\n",
       "    }\n",
       "\n",
       "    .dataframe tbody tr th {\n",
       "        vertical-align: top;\n",
       "    }\n",
       "\n",
       "    .dataframe thead th {\n",
       "        text-align: right;\n",
       "    }\n",
       "</style>\n",
       "<table border=\"1\" class=\"dataframe\">\n",
       "  <thead>\n",
       "    <tr style=\"text-align: right;\">\n",
       "      <th></th>\n",
       "      <th>country</th>\n",
       "      <th>year</th>\n",
       "      <th>uniqueid</th>\n",
       "      <th>bank_account</th>\n",
       "      <th>location_type</th>\n",
       "      <th>cellphone_access</th>\n",
       "      <th>household_size</th>\n",
       "      <th>age_of_respondent</th>\n",
       "      <th>gender_of_respondent</th>\n",
       "      <th>relationship_with_head</th>\n",
       "      <th>marital_status</th>\n",
       "      <th>education_level</th>\n",
       "      <th>job_type</th>\n",
       "      <th>year_</th>\n",
       "    </tr>\n",
       "  </thead>\n",
       "  <tbody>\n",
       "    <tr>\n",
       "      <th>0</th>\n",
       "      <td>Kenya</td>\n",
       "      <td>2018</td>\n",
       "      <td>uniqueid_1</td>\n",
       "      <td>1</td>\n",
       "      <td>Rural</td>\n",
       "      <td>Yes</td>\n",
       "      <td>3</td>\n",
       "      <td>24</td>\n",
       "      <td>Female</td>\n",
       "      <td>Spouse</td>\n",
       "      <td>Married/Living together</td>\n",
       "      <td>Secondary education</td>\n",
       "      <td>Self employed</td>\n",
       "      <td>2018</td>\n",
       "    </tr>\n",
       "    <tr>\n",
       "      <th>1</th>\n",
       "      <td>Kenya</td>\n",
       "      <td>2018</td>\n",
       "      <td>uniqueid_2</td>\n",
       "      <td>0</td>\n",
       "      <td>Rural</td>\n",
       "      <td>No</td>\n",
       "      <td>5</td>\n",
       "      <td>70</td>\n",
       "      <td>Female</td>\n",
       "      <td>Head of Household</td>\n",
       "      <td>Widowed</td>\n",
       "      <td>No formal education</td>\n",
       "      <td>Government Dependent</td>\n",
       "      <td>2018</td>\n",
       "    </tr>\n",
       "    <tr>\n",
       "      <th>2</th>\n",
       "      <td>Kenya</td>\n",
       "      <td>2018</td>\n",
       "      <td>uniqueid_3</td>\n",
       "      <td>1</td>\n",
       "      <td>Urban</td>\n",
       "      <td>Yes</td>\n",
       "      <td>5</td>\n",
       "      <td>26</td>\n",
       "      <td>Male</td>\n",
       "      <td>Other relative</td>\n",
       "      <td>Single/Never Married</td>\n",
       "      <td>Vocational/Specialised training</td>\n",
       "      <td>Self employed</td>\n",
       "      <td>2018</td>\n",
       "    </tr>\n",
       "    <tr>\n",
       "      <th>3</th>\n",
       "      <td>Kenya</td>\n",
       "      <td>2018</td>\n",
       "      <td>uniqueid_4</td>\n",
       "      <td>0</td>\n",
       "      <td>Rural</td>\n",
       "      <td>Yes</td>\n",
       "      <td>5</td>\n",
       "      <td>34</td>\n",
       "      <td>Female</td>\n",
       "      <td>Head of Household</td>\n",
       "      <td>Married/Living together</td>\n",
       "      <td>Primary education</td>\n",
       "      <td>Formally employed Private</td>\n",
       "      <td>2018</td>\n",
       "    </tr>\n",
       "    <tr>\n",
       "      <th>4</th>\n",
       "      <td>Kenya</td>\n",
       "      <td>2018</td>\n",
       "      <td>uniqueid_5</td>\n",
       "      <td>0</td>\n",
       "      <td>Urban</td>\n",
       "      <td>No</td>\n",
       "      <td>8</td>\n",
       "      <td>26</td>\n",
       "      <td>Male</td>\n",
       "      <td>Child</td>\n",
       "      <td>Single/Never Married</td>\n",
       "      <td>Primary education</td>\n",
       "      <td>Informally employed</td>\n",
       "      <td>2018</td>\n",
       "    </tr>\n",
       "  </tbody>\n",
       "</table>\n",
       "</div>"
      ],
      "text/plain": [
       "  country  year  ...                   job_type  year_\n",
       "0   Kenya  2018  ...              Self employed   2018\n",
       "1   Kenya  2018  ...       Government Dependent   2018\n",
       "2   Kenya  2018  ...              Self employed   2018\n",
       "3   Kenya  2018  ...  Formally employed Private   2018\n",
       "4   Kenya  2018  ...        Informally employed   2018\n",
       "\n",
       "[5 rows x 14 columns]"
      ]
     },
     "execution_count": 21,
     "metadata": {
      "tags": []
     },
     "output_type": "execute_result"
    }
   ],
   "source": [
    "train_data.head(5)"
   ]
  },
  {
   "cell_type": "code",
   "execution_count": 22,
   "metadata": {
    "colab": {
     "base_uri": "https://localhost:8080/",
     "height": 297
    },
    "colab_type": "code",
    "id": "FXSIySa9R4cv",
    "outputId": "6eab99af-4984-4292-9e9b-fb8fe94cf758"
   },
   "outputs": [
    {
     "data": {
      "text/plain": [
       "<matplotlib.axes._subplots.AxesSubplot at 0x7fb981b49128>"
      ]
     },
     "execution_count": 22,
     "metadata": {
      "tags": []
     },
     "output_type": "execute_result"
    },
    {
     "data": {
      "image/png": "[encoded data removed]",
      "text/plain": [
       "<Figure size 432x288 with 1 Axes>"
      ]
     },
     "metadata": {
      "needs_background": "light",
      "tags": []
     },
     "output_type": "display_data"
    }
   ],
   "source": [
    "sns.countplot(train_data['marital_status'], hue=train_data['bank_account'])"
   ]
  },
  {
   "cell_type": "code",
   "execution_count": 23,
   "metadata": {
    "colab": {
     "base_uri": "https://localhost:8080/",
     "height": 258
    },
    "colab_type": "code",
    "id": "xFR3ODmdR4c1",
    "outputId": "c25ed52f-3e89-4ed7-a136-2929ff973c72"
   },
   "outputs": [
    {
     "data": {
      "text/html": [
       "<div>\n",
       "<style scoped>\n",
       "    .dataframe tbody tr th:only-of-type {\n",
       "        vertical-align: middle;\n",
       "    }\n",
       "\n",
       "    .dataframe tbody tr th {\n",
       "        vertical-align: top;\n",
       "    }\n",
       "\n",
       "    .dataframe thead th {\n",
       "        text-align: right;\n",
       "    }\n",
       "</style>\n",
       "<table border=\"1\" class=\"dataframe\">\n",
       "  <thead>\n",
       "    <tr style=\"text-align: right;\">\n",
       "      <th></th>\n",
       "      <th>country</th>\n",
       "      <th>year</th>\n",
       "      <th>uniqueid</th>\n",
       "      <th>bank_account</th>\n",
       "      <th>location_type</th>\n",
       "      <th>cellphone_access</th>\n",
       "      <th>household_size</th>\n",
       "      <th>age_of_respondent</th>\n",
       "      <th>gender_of_respondent</th>\n",
       "      <th>year_</th>\n",
       "      <th>relationship_with_head_Child</th>\n",
       "      <th>relationship_with_head_Head of Household</th>\n",
       "      <th>relationship_with_head_Other non-relatives</th>\n",
       "      <th>relationship_with_head_Other relative</th>\n",
       "      <th>relationship_with_head_Parent</th>\n",
       "      <th>relationship_with_head_Spouse</th>\n",
       "      <th>marital_status_Divorced/Seperated</th>\n",
       "      <th>marital_status_Dont know</th>\n",
       "      <th>marital_status_Married/Living together</th>\n",
       "      <th>marital_status_Single/Never Married</th>\n",
       "      <th>marital_status_Widowed</th>\n",
       "      <th>education_level_No formal education</th>\n",
       "      <th>education_level_Other/Dont know/RTA</th>\n",
       "      <th>education_level_Primary education</th>\n",
       "      <th>education_level_Secondary education</th>\n",
       "      <th>education_level_Tertiary education</th>\n",
       "      <th>education_level_Vocational/Specialised training</th>\n",
       "      <th>job_type_Dont Know/Refuse to answer</th>\n",
       "      <th>job_type_Farming and Fishing</th>\n",
       "      <th>job_type_Formally employed Government</th>\n",
       "      <th>job_type_Formally employed Private</th>\n",
       "      <th>job_type_Government Dependent</th>\n",
       "      <th>job_type_Informally employed</th>\n",
       "      <th>job_type_No Income</th>\n",
       "      <th>job_type_Other Income</th>\n",
       "      <th>job_type_Remittance Dependent</th>\n",
       "      <th>job_type_Self employed</th>\n",
       "      <th>country__Kenya</th>\n",
       "      <th>country__Rwanda</th>\n",
       "      <th>country__Tanzania</th>\n",
       "      <th>country__Uganda</th>\n",
       "    </tr>\n",
       "  </thead>\n",
       "  <tbody>\n",
       "    <tr>\n",
       "      <th>0</th>\n",
       "      <td>Kenya</td>\n",
       "      <td>2018</td>\n",
       "      <td>uniqueid_1</td>\n",
       "      <td>1</td>\n",
       "      <td>0</td>\n",
       "      <td>1</td>\n",
       "      <td>3</td>\n",
       "      <td>24</td>\n",
       "      <td>0</td>\n",
       "      <td>2018</td>\n",
       "      <td>0</td>\n",
       "      <td>0</td>\n",
       "      <td>0</td>\n",
       "      <td>0</td>\n",
       "      <td>0</td>\n",
       "      <td>1</td>\n",
       "      <td>0</td>\n",
       "      <td>0</td>\n",
       "      <td>1</td>\n",
       "      <td>0</td>\n",
       "      <td>0</td>\n",
       "      <td>0</td>\n",
       "      <td>0</td>\n",
       "      <td>0</td>\n",
       "      <td>1</td>\n",
       "      <td>0</td>\n",
       "      <td>0</td>\n",
       "      <td>0</td>\n",
       "      <td>0</td>\n",
       "      <td>0</td>\n",
       "      <td>0</td>\n",
       "      <td>0</td>\n",
       "      <td>0</td>\n",
       "      <td>0</td>\n",
       "      <td>0</td>\n",
       "      <td>0</td>\n",
       "      <td>1</td>\n",
       "      <td>1</td>\n",
       "      <td>0</td>\n",
       "      <td>0</td>\n",
       "      <td>0</td>\n",
       "    </tr>\n",
       "    <tr>\n",
       "      <th>1</th>\n",
       "      <td>Kenya</td>\n",
       "      <td>2018</td>\n",
       "      <td>uniqueid_2</td>\n",
       "      <td>0</td>\n",
       "      <td>0</td>\n",
       "      <td>0</td>\n",
       "      <td>5</td>\n",
       "      <td>70</td>\n",
       "      <td>0</td>\n",
       "      <td>2018</td>\n",
       "      <td>0</td>\n",
       "      <td>1</td>\n",
       "      <td>0</td>\n",
       "      <td>0</td>\n",
       "      <td>0</td>\n",
       "      <td>0</td>\n",
       "      <td>0</td>\n",
       "      <td>0</td>\n",
       "      <td>0</td>\n",
       "      <td>0</td>\n",
       "      <td>1</td>\n",
       "      <td>1</td>\n",
       "      <td>0</td>\n",
       "      <td>0</td>\n",
       "      <td>0</td>\n",
       "      <td>0</td>\n",
       "      <td>0</td>\n",
       "      <td>0</td>\n",
       "      <td>0</td>\n",
       "      <td>0</td>\n",
       "      <td>0</td>\n",
       "      <td>1</td>\n",
       "      <td>0</td>\n",
       "      <td>0</td>\n",
       "      <td>0</td>\n",
       "      <td>0</td>\n",
       "      <td>0</td>\n",
       "      <td>1</td>\n",
       "      <td>0</td>\n",
       "      <td>0</td>\n",
       "      <td>0</td>\n",
       "    </tr>\n",
       "    <tr>\n",
       "      <th>2</th>\n",
       "      <td>Kenya</td>\n",
       "      <td>2018</td>\n",
       "      <td>uniqueid_3</td>\n",
       "      <td>1</td>\n",
       "      <td>1</td>\n",
       "      <td>1</td>\n",
       "      <td>5</td>\n",
       "      <td>26</td>\n",
       "      <td>1</td>\n",
       "      <td>2018</td>\n",
       "      <td>0</td>\n",
       "      <td>0</td>\n",
       "      <td>0</td>\n",
       "      <td>1</td>\n",
       "      <td>0</td>\n",
       "      <td>0</td>\n",
       "      <td>0</td>\n",
       "      <td>0</td>\n",
       "      <td>0</td>\n",
       "      <td>1</td>\n",
       "      <td>0</td>\n",
       "      <td>0</td>\n",
       "      <td>0</td>\n",
       "      <td>0</td>\n",
       "      <td>0</td>\n",
       "      <td>0</td>\n",
       "      <td>1</td>\n",
       "      <td>0</td>\n",
       "      <td>0</td>\n",
       "      <td>0</td>\n",
       "      <td>0</td>\n",
       "      <td>0</td>\n",
       "      <td>0</td>\n",
       "      <td>0</td>\n",
       "      <td>0</td>\n",
       "      <td>0</td>\n",
       "      <td>1</td>\n",
       "      <td>1</td>\n",
       "      <td>0</td>\n",
       "      <td>0</td>\n",
       "      <td>0</td>\n",
       "    </tr>\n",
       "    <tr>\n",
       "      <th>3</th>\n",
       "      <td>Kenya</td>\n",
       "      <td>2018</td>\n",
       "      <td>uniqueid_4</td>\n",
       "      <td>0</td>\n",
       "      <td>0</td>\n",
       "      <td>1</td>\n",
       "      <td>5</td>\n",
       "      <td>34</td>\n",
       "      <td>0</td>\n",
       "      <td>2018</td>\n",
       "      <td>0</td>\n",
       "      <td>1</td>\n",
       "      <td>0</td>\n",
       "      <td>0</td>\n",
       "      <td>0</td>\n",
       "      <td>0</td>\n",
       "      <td>0</td>\n",
       "      <td>0</td>\n",
       "      <td>1</td>\n",
       "      <td>0</td>\n",
       "      <td>0</td>\n",
       "      <td>0</td>\n",
       "      <td>0</td>\n",
       "      <td>1</td>\n",
       "      <td>0</td>\n",
       "      <td>0</td>\n",
       "      <td>0</td>\n",
       "      <td>0</td>\n",
       "      <td>0</td>\n",
       "      <td>0</td>\n",
       "      <td>1</td>\n",
       "      <td>0</td>\n",
       "      <td>0</td>\n",
       "      <td>0</td>\n",
       "      <td>0</td>\n",
       "      <td>0</td>\n",
       "      <td>0</td>\n",
       "      <td>1</td>\n",
       "      <td>0</td>\n",
       "      <td>0</td>\n",
       "      <td>0</td>\n",
       "    </tr>\n",
       "    <tr>\n",
       "      <th>4</th>\n",
       "      <td>Kenya</td>\n",
       "      <td>2018</td>\n",
       "      <td>uniqueid_5</td>\n",
       "      <td>0</td>\n",
       "      <td>1</td>\n",
       "      <td>0</td>\n",
       "      <td>8</td>\n",
       "      <td>26</td>\n",
       "      <td>1</td>\n",
       "      <td>2018</td>\n",
       "      <td>1</td>\n",
       "      <td>0</td>\n",
       "      <td>0</td>\n",
       "      <td>0</td>\n",
       "      <td>0</td>\n",
       "      <td>0</td>\n",
       "      <td>0</td>\n",
       "      <td>0</td>\n",
       "      <td>0</td>\n",
       "      <td>1</td>\n",
       "      <td>0</td>\n",
       "      <td>0</td>\n",
       "      <td>0</td>\n",
       "      <td>1</td>\n",
       "      <td>0</td>\n",
       "      <td>0</td>\n",
       "      <td>0</td>\n",
       "      <td>0</td>\n",
       "      <td>0</td>\n",
       "      <td>0</td>\n",
       "      <td>0</td>\n",
       "      <td>0</td>\n",
       "      <td>1</td>\n",
       "      <td>0</td>\n",
       "      <td>0</td>\n",
       "      <td>0</td>\n",
       "      <td>0</td>\n",
       "      <td>1</td>\n",
       "      <td>0</td>\n",
       "      <td>0</td>\n",
       "      <td>0</td>\n",
       "    </tr>\n",
       "  </tbody>\n",
       "</table>\n",
       "</div>"
      ],
      "text/plain": [
       "  country  year  ... country__Tanzania  country__Uganda\n",
       "0   Kenya  2018  ...                 0                0\n",
       "1   Kenya  2018  ...                 0                0\n",
       "2   Kenya  2018  ...                 0                0\n",
       "3   Kenya  2018  ...                 0                0\n",
       "4   Kenya  2018  ...                 0                0\n",
       "\n",
       "[5 rows x 41 columns]"
      ]
     },
     "execution_count": 23,
     "metadata": {
      "tags": []
     },
     "output_type": "execute_result"
    }
   ],
   "source": [
    "\n",
    "train['country_'] = train['country']\n",
    "test['country_'] = test['country']\n",
    "le= LabelEncoder()\n",
    "categ = ['relationship_with_head', 'marital_status', 'education_level', 'job_type', 'country_']\n",
    "# One Hot Encoding conversion\n",
    "train_data = pd.get_dummies(train_data, prefix_sep='_', columns = categ)\n",
    "\n",
    "test= pd.get_dummies(test, prefix_sep='_', columns = categ)\n",
    "\n",
    "# Labelncoder conversion\n",
    "train_data['location_type'] = le.fit_transform(train_data['location_type'])\n",
    "train_data['cellphone_access'] = le.fit_transform(train_data['cellphone_access'])\n",
    "train_data['gender_of_respondent'] = le.fit_transform(train_data['gender_of_respondent'])\n",
    "\n",
    "\n",
    "test['location_type'] = le.fit_transform(test['location_type'])\n",
    "test['cellphone_access'] = le.fit_transform(test['cellphone_access'])\n",
    "test['gender_of_respondent'] = le.fit_transform(test['gender_of_respondent'])\n",
    "\n",
    "\n",
    "train_data.head()"
   ]
  },
  {
   "cell_type": "code",
   "execution_count": 24,
   "metadata": {
    "colab": {},
    "colab_type": "code",
    "id": "mEoevOu0R4c7"
   },
   "outputs": [],
   "source": [
    "train_data=train_data.drop([\"uniqueid\", \"country\",\"year\", ], axis=1)\n",
    "test=test.drop([\"country\",\"year\"], axis=1)"
   ]
  },
  {
   "cell_type": "code",
   "execution_count": 25,
   "metadata": {
    "colab": {},
    "colab_type": "code",
    "id": "VQuZLQikR4dA"
   },
   "outputs": [],
   "source": [
    "from sklearn.model_selection import train_test_split\n",
    "\n",
    "X = train_data.drop('bank_account', axis=1)\n",
    "y = train_data['bank_account']\n",
    "\n",
    "X_train, X_test, y_train, y_test = train_test_split(X, y, test_size=0.3, random_state=42)"
   ]
  },
  {
   "cell_type": "code",
   "execution_count": 26,
   "metadata": {
    "colab": {
     "base_uri": "https://localhost:8080/",
     "height": 34
    },
    "colab_type": "code",
    "id": "yWQTZsgJR4dG",
    "outputId": "fc7db17c-39a6-46e8-f6f2-c49612f53504"
   },
   "outputs": [
    {
     "data": {
      "text/plain": [
       "(23524, 38)"
      ]
     },
     "execution_count": 26,
     "metadata": {
      "tags": []
     },
     "output_type": "execute_result"
    }
   ],
   "source": [
    "train_data.shape"
   ]
  },
  {
   "cell_type": "code",
   "execution_count": 27,
   "metadata": {
    "colab": {},
    "colab_type": "code",
    "id": "g6j5xkAmR4dL"
   },
   "outputs": [],
   "source": [
    "test_data = test.drop('uniqueid', axis=1)\n"
   ]
  },
  {
   "cell_type": "code",
   "execution_count": 43,
   "metadata": {
    "colab": {},
    "colab_type": "code",
    "id": "0PPbEqNoR4dX"
   },
   "outputs": [],
   "source": [
    "model_logit=LogisticRegression(C=10.0, fit_intercept=True, intercept_scaling=1, max_iter=100,n_jobs=3,solver='lbfgs')"
   ]
  },
  {
   "cell_type": "code",
   "execution_count": 44,
   "metadata": {
    "colab": {},
    "colab_type": "code",
    "id": "cUO-WsPVEcFX"
   },
   "outputs": [],
   "source": [
    "# ‘newton-cg’, ‘lbfgs’, ‘liblinear’, ‘sag’, ‘saga’"
   ]
  },
  {
   "cell_type": "code",
   "execution_count": 45,
   "metadata": {
    "colab": {
     "base_uri": "https://localhost:8080/",
     "height": 102
    },
    "colab_type": "code",
    "id": "NOCXMvm_R4dd",
    "outputId": "ed814195-9044-43da-b539-01b0887fd3d8"
   },
   "outputs": [
    {
     "data": {
      "text/plain": [
       "LogisticRegression(C=10.0, class_weight=None, dual=False, fit_intercept=True,\n",
       "                   intercept_scaling=1, l1_ratio=None, max_iter=100,\n",
       "                   multi_class='auto', n_jobs=3, penalty='l2',\n",
       "                   random_state=None, solver='lbfgs', tol=0.0001, verbose=0,\n",
       "                   warm_start=False)"
      ]
     },
     "execution_count": 45,
     "metadata": {
      "tags": []
     },
     "output_type": "execute_result"
    }
   ],
   "source": [
    "model_logit.fit(X_train, y_train)"
   ]
  },
  {
   "cell_type": "code",
   "execution_count": 46,
   "metadata": {
    "colab": {},
    "colab_type": "code",
    "id": "e-Yu9RVqR4di"
   },
   "outputs": [],
   "source": [
    "\n",
    "pred=model_logit.predict(X_test)"
   ]
  },
  {
   "cell_type": "code",
   "execution_count": 47,
   "metadata": {
    "colab": {
     "base_uri": "https://localhost:8080/",
     "height": 34
    },
    "colab_type": "code",
    "id": "Qc77-1IVR4dr",
    "outputId": "a917c6bd-0e6b-42b8-d25b-48ea65751277"
   },
   "outputs": [
    {
     "data": {
      "text/plain": [
       "0.11448002266931145"
      ]
     },
     "execution_count": 47,
     "metadata": {
      "tags": []
     },
     "output_type": "execute_result"
    }
   ],
   "source": [
    "1-accuracy_score(y_test,pred)"
   ]
  },
  {
   "cell_type": "markdown",
   "metadata": {
    "colab_type": "text",
    "id": "8v8qr_LhXS5z"
   },
   "source": [
    "## gridsearch for logistic regression"
   ]
  },
  {
   "cell_type": "code",
   "execution_count": 30,
   "metadata": {
    "colab": {},
    "colab_type": "code",
    "id": "GBWnZvGucEWV"
   },
   "outputs": [],
   "source": [
    "fold = KFold(n_splits=5, shuffle=True, random_state=777)"
   ]
  },
  {
   "cell_type": "code",
   "execution_count": 31,
   "metadata": {
    "colab": {
     "base_uri": "https://localhost:8080/",
     "height": 1000
    },
    "colab_type": "code",
    "id": "tPvzhBgSXRXE",
    "outputId": "302c692e-4aa0-4117-d50a-c2c6ef3dfa08"
   },
   "outputs": [
    {
     "name": "stderr",
     "output_type": "stream",
     "text": [
      "/usr/local/lib/python3.6/dist-packages/sklearn/utils/optimize.py:212: ConvergenceWarning:\n",
      "\n",
      "newton-cg failed to converge. Increase the number of iterations.\n",
      "\n",
      "/usr/local/lib/python3.6/dist-packages/sklearn/utils/optimize.py:212: ConvergenceWarning:\n",
      "\n",
      "newton-cg failed to converge. Increase the number of iterations.\n",
      "\n",
      "/usr/local/lib/python3.6/dist-packages/sklearn/utils/optimize.py:212: ConvergenceWarning:\n",
      "\n",
      "newton-cg failed to converge. Increase the number of iterations.\n",
      "\n",
      "/usr/local/lib/python3.6/dist-packages/sklearn/utils/optimize.py:212: ConvergenceWarning:\n",
      "\n",
      "newton-cg failed to converge. Increase the number of iterations.\n",
      "\n",
      "/usr/local/lib/python3.6/dist-packages/sklearn/utils/optimize.py:212: ConvergenceWarning:\n",
      "\n",
      "newton-cg failed to converge. Increase the number of iterations.\n",
      "\n",
      "/usr/local/lib/python3.6/dist-packages/sklearn/utils/optimize.py:212: ConvergenceWarning:\n",
      "\n",
      "newton-cg failed to converge. Increase the number of iterations.\n",
      "\n",
      "/usr/local/lib/python3.6/dist-packages/sklearn/utils/optimize.py:212: ConvergenceWarning:\n",
      "\n",
      "newton-cg failed to converge. Increase the number of iterations.\n",
      "\n",
      "/usr/local/lib/python3.6/dist-packages/sklearn/utils/optimize.py:212: ConvergenceWarning:\n",
      "\n",
      "newton-cg failed to converge. Increase the number of iterations.\n",
      "\n",
      "/usr/local/lib/python3.6/dist-packages/sklearn/utils/optimize.py:212: ConvergenceWarning:\n",
      "\n",
      "newton-cg failed to converge. Increase the number of iterations.\n",
      "\n",
      "/usr/local/lib/python3.6/dist-packages/sklearn/utils/optimize.py:212: ConvergenceWarning:\n",
      "\n",
      "newton-cg failed to converge. Increase the number of iterations.\n",
      "\n",
      "/usr/local/lib/python3.6/dist-packages/sklearn/utils/optimize.py:212: ConvergenceWarning:\n",
      "\n",
      "newton-cg failed to converge. Increase the number of iterations.\n",
      "\n",
      "/usr/local/lib/python3.6/dist-packages/sklearn/utils/optimize.py:212: ConvergenceWarning:\n",
      "\n",
      "newton-cg failed to converge. Increase the number of iterations.\n",
      "\n",
      "/usr/local/lib/python3.6/dist-packages/sklearn/utils/optimize.py:212: ConvergenceWarning:\n",
      "\n",
      "newton-cg failed to converge. Increase the number of iterations.\n",
      "\n",
      "/usr/local/lib/python3.6/dist-packages/sklearn/utils/optimize.py:212: ConvergenceWarning:\n",
      "\n",
      "newton-cg failed to converge. Increase the number of iterations.\n",
      "\n",
      "/usr/local/lib/python3.6/dist-packages/sklearn/utils/optimize.py:212: ConvergenceWarning:\n",
      "\n",
      "newton-cg failed to converge. Increase the number of iterations.\n",
      "\n",
      "/usr/local/lib/python3.6/dist-packages/sklearn/utils/optimize.py:212: ConvergenceWarning:\n",
      "\n",
      "newton-cg failed to converge. Increase the number of iterations.\n",
      "\n",
      "/usr/local/lib/python3.6/dist-packages/sklearn/utils/optimize.py:212: ConvergenceWarning:\n",
      "\n",
      "newton-cg failed to converge. Increase the number of iterations.\n",
      "\n",
      "/usr/local/lib/python3.6/dist-packages/sklearn/utils/optimize.py:212: ConvergenceWarning:\n",
      "\n",
      "newton-cg failed to converge. Increase the number of iterations.\n",
      "\n",
      "/usr/local/lib/python3.6/dist-packages/sklearn/utils/optimize.py:212: ConvergenceWarning:\n",
      "\n",
      "newton-cg failed to converge. Increase the number of iterations.\n",
      "\n",
      "/usr/local/lib/python3.6/dist-packages/sklearn/utils/optimize.py:212: ConvergenceWarning:\n",
      "\n",
      "newton-cg failed to converge. Increase the number of iterations.\n",
      "\n",
      "/usr/local/lib/python3.6/dist-packages/sklearn/utils/optimize.py:212: ConvergenceWarning:\n",
      "\n",
      "newton-cg failed to converge. Increase the number of iterations.\n",
      "\n",
      "/usr/local/lib/python3.6/dist-packages/sklearn/utils/optimize.py:212: ConvergenceWarning:\n",
      "\n",
      "newton-cg failed to converge. Increase the number of iterations.\n",
      "\n",
      "/usr/local/lib/python3.6/dist-packages/sklearn/utils/optimize.py:212: ConvergenceWarning:\n",
      "\n",
      "newton-cg failed to converge. Increase the number of iterations.\n",
      "\n",
      "/usr/local/lib/python3.6/dist-packages/sklearn/utils/optimize.py:212: ConvergenceWarning:\n",
      "\n",
      "newton-cg failed to converge. Increase the number of iterations.\n",
      "\n",
      "/usr/local/lib/python3.6/dist-packages/sklearn/utils/optimize.py:212: ConvergenceWarning:\n",
      "\n",
      "newton-cg failed to converge. Increase the number of iterations.\n",
      "\n"
     ]
    },
    {
     "data": {
      "text/plain": [
       "GridSearchCV(cv=KFold(n_splits=5, random_state=777, shuffle=True),\n",
       "             error_score=nan,\n",
       "             estimator=LogisticRegression(C=1.0, class_weight=None, dual=False,\n",
       "                                          fit_intercept=True,\n",
       "                                          intercept_scaling=1, l1_ratio=None,\n",
       "                                          max_iter=10000, multi_class='auto',\n",
       "                                          n_jobs=None, penalty='l2',\n",
       "                                          random_state=777, solver='lbfgs',\n",
       "                                          tol=10, verbose=0, warm_start=False),\n",
       "             iid='deprecated', n_jobs=None,\n",
       "             param_grid={'C': [10, 15, 20, 25, 30],\n",
       "                         'max_iter': [10, 100, 200, 1000],\n",
       "                         'solver': ['newton-cg']},\n",
       "             pre_dispatch='2*n_jobs', refit=True, return_train_score=False,\n",
       "             scoring='roc_auc', verbose=0)"
      ]
     },
     "execution_count": 31,
     "metadata": {
      "tags": []
     },
     "output_type": "execute_result"
    }
   ],
   "source": [
    " grid = {\n",
    "        'C':  [10,15,20,25, 30]\n",
    "         , 'solver': ['newton-cg'],\n",
    "         'max_iter':[10,100,200,1000]\n",
    "    }\n",
    "clf = LogisticRegression(penalty='l2', random_state=777, max_iter=100, tol=10)\n",
    "gs = GridSearchCV(clf, grid, scoring='roc_auc', cv=fold)\n",
    "gs.fit(X_train, y_train)"
   ]
  },
  {
   "cell_type": "code",
   "execution_count": 32,
   "metadata": {
    "colab": {
     "base_uri": "https://localhost:8080/",
     "height": 34
    },
    "colab_type": "code",
    "id": "RIN3IYmvdFQb",
    "outputId": "98b90423-1a99-439a-bda8-50b9fd3153aa"
   },
   "outputs": [
    {
     "data": {
      "text/plain": [
       "{'C': 20, 'max_iter': 100, 'solver': 'newton-cg'}"
      ]
     },
     "execution_count": 32,
     "metadata": {
      "tags": []
     },
     "output_type": "execute_result"
    }
   ],
   "source": [
    "gs.best_params_"
   ]
  },
  {
   "cell_type": "code",
   "execution_count": null,
   "metadata": {
    "colab": {},
    "colab_type": "code",
    "id": "V2HnLw6nR4dz"
   },
   "outputs": [],
   "source": [
    "test_pred=model0.predict(test_data)"
   ]
  },
  {
   "cell_type": "markdown",
   "metadata": {
    "colab_type": "text",
    "id": "WQZ5EPABR4d5"
   },
   "source": [
    "### make a prediction"
   ]
  },
  {
   "cell_type": "code",
   "execution_count": null,
   "metadata": {
    "colab": {},
    "colab_type": "code",
    "id": "EmH4FQ0qR4d6"
   },
   "outputs": [],
   "source": [
    "col=[id[i] +' '+'x'+' '+ country[i] for i in range(len(test))]\n",
    "\n",
    "test['bank_account']=test_pred\n",
    "test['uniqueid']=col\n",
    "parameters that\n",
    "\n",
    "pred=test[['uniqueid','bank_account']]\n",
    "parameters that\n",
    "# pred.columns\n",
    "pred.to_csv('prediction_11.csv', index=False)\n"
   ]
  },
  {
   "cell_type": "markdown",
   "metadata": {
    "colab_type": "text",
    "id": "lwcjAYxMR4d-"
   },
   "source": [
    "## using svm"
   ]
  },
  {
   "cell_type": "code",
   "execution_count": null,
   "metadata": {
    "colab": {
     "base_uri": "https://localhost:8080/",
     "height": 89
    },
    "colab_type": "code",
    "id": "SQ_0zOsxR4eE",
    "outputId": "f352530a-6d25-4061-a4f4-2e82b63c6892"
   },
   "outputs": [
    {
     "name": "stderr",
     "output_type": "stream",
     "text": [
      "/usr/local/lib/python2.7/dist-packages/sklearn/svm/base.py:196: FutureWarning: The default value of gamma will change from 'auto' to 'scale' in version 0.22 to account better for unscaled features. Set gamma explicitly to 'auto' or 'scale' to avoid this warning.\n",
      "  \"avoid this warning.\", FutureWarning)\n"
     ]
    },
    {
     "name": "stdout",
     "output_type": "stream",
     "text": [
      "0.12312269764805894\n"
     ]
    }
   ],
   "source": [
    "clf = svm.SVC(kernel='rbf',C=100,)\n",
    "clf.fit(X_train, y_train)\n",
    "pred=clf.predict(X_test)\n",
    "print(1-accuracy_score(y_test,pred))"
   ]
  },
  {
   "cell_type": "code",
   "execution_count": null,
   "metadata": {
    "colab": {
     "base_uri": "https://localhost:8080/",
     "height": 34
    },
    "colab_type": "code",
    "id": "OdkZH1IEhbSA",
    "outputId": "bb4a1084-4961-4fe1-f6d8-71c6954f72c6"
   },
   "outputs": [
    {
     "name": "stdout",
     "output_type": "stream",
     "text": [
      "0.11490507225843016\n"
     ]
    }
   ],
   "source": [
    "clf2 = svm.SVC(kernel='linear',C=100,)\n",
    "clf2.fit(X_train, y_train)\n",
    "predc=clf2.predict(X_test)\n",
    "print(1-accuracy_score(y_test,pred))"
   ]
  },
  {
   "cell_type": "markdown",
   "metadata": {
    "colab_type": "text",
    "id": "5otiCgnlgVq6"
   },
   "source": [
    "## using random forest"
   ]
  },
  {
   "cell_type": "code",
   "execution_count": 93,
   "metadata": {
    "colab": {},
    "colab_type": "code",
    "id": "g0mMF434R4ed"
   },
   "outputs": [],
   "source": [
    "\n",
    "# Create the model with 100 trees\n",
    "model_randf = RandomForestClassifier(bootstrap= True,\n",
    "                                max_depth= 47,\n",
    "                                max_features= 'auto',\n",
    "                                min_samples_leaf= 4,\n",
    "                                min_samples_split= 5,\n",
    "                                n_estimators= 733)\n",
    "# Fit on training data"
   ]
  },
  {
   "cell_type": "code",
   "execution_count": 95,
   "metadata": {
    "colab": {
     "base_uri": "https://localhost:8080/",
     "height": 153
    },
    "colab_type": "code",
    "id": "nk3xXNkWR4el",
    "outputId": "319f5d8b-d686-419b-9b60-08153802872b"
   },
   "outputs": [
    {
     "data": {
      "text/plain": [
       "RandomForestClassifier(bootstrap=True, ccp_alpha=0.0, class_weight=None,\n",
       "                       criterion='gini', max_depth=47, max_features='auto',\n",
       "                       max_leaf_nodes=None, max_samples=None,\n",
       "                       min_impurity_decrease=0.0, min_impurity_split=None,\n",
       "                       min_samples_leaf=4, min_samples_split=5,\n",
       "                       min_weight_fraction_leaf=0.0, n_estimators=733,\n",
       "                       n_jobs=None, oob_score=False, random_state=None,\n",
       "                       verbose=0, warm_start=False)"
      ]
     },
     "execution_count": 95,
     "metadata": {
      "tags": []
     },
     "output_type": "execute_result"
    }
   ],
   "source": [
    "model_randf.fit(X_train,y_train)"
   ]
  },
  {
   "cell_type": "code",
   "execution_count": 97,
   "metadata": {
    "colab": {
     "base_uri": "https://localhost:8080/",
     "height": 34
    },
    "colab_type": "code",
    "id": "DiOzNgFAR4ep",
    "outputId": "248c42cc-6b02-4f8f-b5c0-4bc7d78816c6"
   },
   "outputs": [
    {
     "name": "stdout",
     "output_type": "stream",
     "text": [
      "0.1113629923491074\n"
     ]
    }
   ],
   "source": [
    "pred = model_randf.predict(X_test)\n",
    "# Probabilities for each class\n",
    "print(1-accuracy_score(y_test,pred))"
   ]
  },
  {
   "cell_type": "markdown",
   "metadata": {
    "colab_type": "text",
    "id": "555aeGK5fl9-"
   },
   "source": [
    "## Gridsearch for random forest"
   ]
  },
  {
   "cell_type": "code",
   "execution_count": null,
   "metadata": {
    "colab": {},
    "colab_type": "code",
    "id": "nkzlDWuUR4eu"
   },
   "outputs": [],
   "source": []
  },
  {
   "cell_type": "code",
   "execution_count": null,
   "metadata": {
    "colab": {},
    "colab_type": "code",
    "id": "QvpX9r2ER4ey"
   },
   "outputs": [],
   "source": [
    "n_estimators = [int(x) for x in np.linspace(start = 100, stop = 2000, num = 10)]\n",
    "max_features = ['auto', 'sqrt']\n",
    "max_depth = [int(x) for x in np.linspace(5, 110, num = 11)]\n",
    "max_depth.append(None)\n",
    "min_samples_split = [2, 5, 10]\n",
    "min_samples_leaf = [1, 2, 4,6]\n",
    "bootstrap = [True, False]"
   ]
  },
  {
   "cell_type": "code",
   "execution_count": null,
   "metadata": {
    "colab": {
     "base_uri": "https://localhost:8080/",
     "height": 367
    },
    "colab_type": "code",
    "id": "sCB7QDeSR4e1",
    "outputId": "53b48b5e-e6fd-4451-afd7-e58b5152457a"
   },
   "outputs": [
    {
     "name": "stdout",
     "output_type": "stream",
     "text": [
      "Fitting 3 folds for each of 100 candidates, totalling 300 fits\n"
     ]
    },
    {
     "name": "stderr",
     "output_type": "stream",
     "text": [
      "[Parallel(n_jobs=-1)]: Using backend LokyBackend with 2 concurrent workers.\n",
      "/usr/local/lib/python2.7/dist-packages/sklearn/externals/joblib/externals/loky/process_executor.py:706: UserWarning: A worker stopped while some jobs were given to the executor. This can be caused by a too short worker timeout or by a memory leak.\n",
      "  \"timeout or by a memory leak.\", UserWarning\n",
      "[Parallel(n_jobs=-1)]: Done  37 tasks      | elapsed:  5.1min\n",
      "[Parallel(n_jobs=-1)]: Done 158 tasks      | elapsed: 23.4min\n",
      "[Parallel(n_jobs=-1)]: Done 300 out of 300 | elapsed: 45.3min finished\n"
     ]
    },
    {
     "data": {
      "text/plain": [
       "RandomizedSearchCV(cv=3, error_score='raise-deprecating',\n",
       "          estimator=RandomForestClassifier(bootstrap=True, class_weight=None, criterion='gini',\n",
       "            max_depth=None, max_features='auto', max_leaf_nodes=None,\n",
       "            min_impurity_decrease=0.0, min_impurity_split=None,\n",
       "            min_samples_leaf=1, min_samples_split=2,\n",
       "            min_weight_fraction_leaf=0.0, n_estimators='warn', n_jobs=None,\n",
       "            oob_score=False, random_state=None, verbose=0,\n",
       "            warm_start=False),\n",
       "          fit_params=None, iid='warn', n_iter=100, n_jobs=-1,\n",
       "          param_distributions={'bootstrap': [True, False], 'min_samples_leaf': [1, 2, 4, 6], 'n_estimators': [100, 311, 522, 733, 944, 1155, 1366, 1577, 1788, 2000], 'min_samples_split': [2, 5, 10], 'max_features': ['auto', 'sqrt'], 'max_depth': [5, 15, 26, 36, 47, 57, 68, 78, 89, 99, 110, None]},\n",
       "          pre_dispatch='2*n_jobs', random_state=42, refit=True,\n",
       "          return_train_score='warn', scoring=None, verbose=2)"
      ]
     },
     "execution_count": 95,
     "metadata": {
      "tags": []
     },
     "output_type": "execute_result"
    }
   ],
   "source": [
    "\n",
    "model_rf =  RandomForestClassifier()\n",
    "\n",
    "random_grid = {'n_estimators': n_estimators,\n",
    "               'max_features': max_features,\n",
    "               'max_depth': max_depth,\n",
    "               'min_samples_split': min_samples_split,\n",
    "               'min_samples_leaf': min_samples_leaf,\n",
    "               'bootstrap': bootstrap}\n",
    "\n",
    "\n",
    "rf_random = RandomizedSearchCV(estimator = model_rf, param_distributions = random_grid, n_iter = 100, cv = 3, verbose=2, random_state=42, n_jobs = -1)# Fit the random search model\n",
    "rf_random.fit(X_train, y_train)"
   ]
  },
  {
   "cell_type": "code",
   "execution_count": null,
   "metadata": {
    "colab": {
     "base_uri": "https://localhost:8080/",
     "height": 121
    },
    "colab_type": "code",
    "id": "ueQaaMrDR4e8",
    "outputId": "a88fb7c7-aab2-4ef3-c452-7cc9bc3782fb"
   },
   "outputs": [
    {
     "data": {
      "text/plain": [
       "{'bootstrap': True,\n",
       " 'max_depth': 47,\n",
       " 'max_features': 'auto',\n",
       " 'min_samples_leaf': 4,\n",
       " 'min_samples_split': 5,\n",
       " 'n_estimators': 733}"
      ]
     },
     "execution_count": 96,
     "metadata": {
      "tags": []
     },
     "output_type": "execute_result"
    }
   ],
   "source": [
    "rf_random.best_params_"
   ]
  },
  {
   "cell_type": "code",
   "execution_count": null,
   "metadata": {
    "colab": {},
    "colab_type": "code",
    "id": "TCIYA7-CR4fD",
    "outputId": "28f622cf-42bd-4537-d1d5-9e8fa9a92e84"
   },
   "outputs": [
    {
     "data": {
      "text/plain": [
       "0.11547180504392174"
      ]
     },
     "execution_count": 91,
     "metadata": {
      "tags": []
     },
     "output_type": "execute_result"
    }
   ],
   "source": [
    "1-accuracy_score(y_test,pred)"
   ]
  },
  {
   "cell_type": "markdown",
   "metadata": {
    "colab_type": "text",
    "id": "ya1Kz8KXgnp_"
   },
   "source": [
    "\n",
    "\n",
    "## using xgboost\n",
    "In this part, we try to experiment the xgboost classifier with gridsearch to find the best parameters"
   ]
  },
  {
   "cell_type": "code",
   "execution_count": null,
   "metadata": {
    "colab": {},
    "colab_type": "code",
    "id": "SK1zuAduR4fQ"
   },
   "outputs": [],
   "source": [
    "\n",
    "model = XGBClassifier()\n",
    "\n",
    "param_grid = {'min_child_weight': [2, 3,4,5],\n",
    "        'gamma': [0.5,0.8,0.9, 1, 1.5],\n",
    "        'subsample': [0.6,0.7, 0.8,0.9],\n",
    "        'max_depth': [2,5,10,15],\n",
    "        'max_delta_step':[0, 1, 2,4],\n",
    "        'lambda':[1,1.5,2],\n",
    "        'alpha':[0,1,1.5],\n",
    "        'lr':[0.01,0.05,0.07, 0.1],\n",
    "        'cv':[4,5,6]\n",
    "\n",
    "        }\n",
    "model2 = GridSearchCV(model, param_grid)\n",
    "model2.fit(X_train, y_train)\n",
    "print(model2.best_params_)"
   ]
  },
  {
   "cell_type": "code",
   "execution_count": null,
   "metadata": {
    "colab": {},
    "colab_type": "code",
    "id": "ymh6ZgW3uo89"
   },
   "outputs": [],
   "source": []
  },
  {
   "cell_type": "code",
   "execution_count": null,
   "metadata": {
    "colab": {},
    "colab_type": "code",
    "id": "BN-UkRKMf6Dq"
   },
   "outputs": [],
   "source": [
    "[I 2020-07-16 20:55:19,416] Finished trial#228 with value: 0.8921790875602154 with parameters: {'min_child_weight': 4, 'gamma': 1.7343571874110282, 'subsample': 0.8197822151517198, 'colsample_bytree': 0.804480088428881, 'max_deph': 9, 'lr': 0.08535849305738896, 'lambd': 6.850214318645396, 'alpha': 3.827093200443012, 'scale_pos_weight': 1}. Best is trial#154 with value: 0.8931708699348258.\n"
   ]
  },
  {
   "cell_type": "code",
   "execution_count": 129,
   "metadata": {
    "colab": {
     "base_uri": "https://localhost:8080/",
     "height": 68
    },
    "colab_type": "code",
    "id": "nCU0yfv0R4fU",
    "outputId": "97d5aac7-b738-4c52-e58c-eec7fa53efc2"
   },
   "outputs": [
    {
     "name": "stdout",
     "output_type": "stream",
     "text": [
      "Error rate of Random Forest classifier:  0.10838764522527633\n"
     ]
    },
    {
     "data": {
      "text/plain": [
       "array([[5930,  622],\n",
       "       [ 143,  363]])"
      ]
     },
     "execution_count": 129,
     "metadata": {
      "tags": []
     },
     "output_type": "execute_result"
    }
   ],
   "source": [
    "\n",
    "# fit and Evaluate model[I 2020-07-16 20:55:19,416] Finished trial#228 with value: 0.8921790875602154 with parameters: {'min_child_weight': 4, 'gamma': 1.7343571874110282, 'subsample': 0.8197822151517198, 'colsample_bytree': 0.804480088428881, 'max_deph': 9, 'lr': 0.08535849305738896, 'lambd': 6.850214318645396, 'alpha': 3.827093200443012, 'scale_pos_weight': 1}. Best is trial#154 with value: 0.8931708699348258.\n",
    "\n",
    "xgb_model= XGBClassifier(min_child_weight = 4, gamma = 1.7343571874110282, subsample = 0.8197822151517198,\n",
    "                         colsample_bytree = 0.7355311514104833,\n",
    "                         max_depth = 9,\n",
    "                         learning_rate= 0.08535849305738896,\n",
    "                         reg_lambda= 6.850214318645396,\n",
    "                         reg_alpha=3.827093200443012,\n",
    "                         scale_pos_weight= 1,\n",
    "                         nthread=4,\n",
    "                         seed=27,\n",
    "                         n_jobs=3)\n",
    "#xgb_model= XGBClassifier(**model2.best_params)\n",
    "xgb_model.fit(X_train, y_train)\n",
    "y_pred = xgb_model.predict(X_test)\n",
    "print(\"Error rate of Random Forest classifier: \", 1 - accuracy_score(y_test, y_pred))\n",
    "confusion_matrix(y_pred, y_test)"
   ]
  },
  {
   "cell_type": "code",
   "execution_count": 120,
   "metadata": {
    "colab": {},
    "colab_type": "code",
    "id": "lGRLMIzWvrgT"
   },
   "outputs": [],
   "source": [
    "pred=xgb_model.predict(test_data)"
   ]
  },
  {
   "cell_type": "code",
   "execution_count": 130,
   "metadata": {
    "colab": {},
    "colab_type": "code",
    "id": "U05H8lT0vnIB"
   },
   "outputs": [],
   "source": [
    "col=[id[i] +' '+'x'+' '+ country[i] for i in range(len(test))]\n",
    "\n",
    "test['bank_account']=pred\n",
    "test['uniqueid']=col\n",
    "\n",
    "\n",
    "pred=test[['uniqueid','bank_account']]\n",
    "\n",
    "# pred.columns\n",
    "pred.to_csv('xgboost_to_try.csv', index=False)\n"
   ]
  },
  {
   "cell_type": "code",
   "execution_count": 115,
   "metadata": {
    "colab": {
     "base_uri": "https://localhost:8080/",
     "height": 1000,
     "referenced_widgets": [
      "a7310c22385c40fc99d9f65d8cebddda",
      "b7a52d14f284406c9b3e523ecac63802",
      "a3fc28d7e41a42759531906dd7a3f038",
      "9aa69d3779854c339e42c821dfbc8228",
      "f909dcea24f840a6a6a6e5db0b557e9e",
      "fd054817b8144c3189638bbd141b0b98",
      "14f25f7ba8624792bc91651fe397c721",
      "3656d38e8f0c4cbebab1ae600e186617"
     ]
    },
    "colab_type": "code",
    "id": "sWyUW1nsR4fe",
    "outputId": "975590e5-57d9-49be-be53-13efeaba01b1"
   },
   "outputs": [
    {
     "name": "stderr",
     "output_type": "stream",
     "text": [
      "/usr/local/lib/python3.6/dist-packages/optuna/_experimental.py:61: ExperimentalWarning:\n",
      "\n",
      "Progress bar is experimental (supported from v1.2.0). The interface can change in the future.\n",
      "\n"
     ]
    },
    {
     "data": {
      "application/vnd.jupyter.widget-view+json": {
       "model_id": "a7310c22385c40fc99d9f65d8cebddda",
       "version_major": 2,
       "version_minor": 0
      },
      "text/plain": [
       "HBox(children=(FloatProgress(value=0.0, max=500.0), HTML(value='')))"
      ]
     },
     "metadata": {
      "tags": []
     },
     "output_type": "display_data"
    },
    {
     "name": "stderr",
     "output_type": "stream",
     "text": [
      "/usr/local/lib/python3.6/dist-packages/optuna/distributions.py:544: UserWarning:\n",
      "\n",
      "The distribution is specified by [0.01, 6.102657004830918] and step=1, but the range is not divisible by `step`. It will be replaced by [0.01, 6.01].\n",
      "\n"
     ]
    },
    {
     "name": "stdout",
     "output_type": "stream",
     "text": [
      "[I 2020-07-16 20:39:51,112] Finished trial#0 with value: 0.8859450269198074 with parameters: {'min_child_weight': 6, 'gamma': 3.6790197500428774, 'subsample': 0.8442864256419206, 'colsample_bytree': 0.7903849837986854, 'max_deph': 5, 'lr': 0.009460043107251632, 'lambd': 9.350440969763708, 'alpha': 7.653251779628442, 'scale_pos_weight': 1}. Best is trial#0 with value: 0.8859450269198074.\n",
      "[I 2020-07-16 20:39:54,087] Finished trial#1 with value: 0.8209124397846416 with parameters: {'min_child_weight': 10, 'gamma': 5.003231278789737, 'subsample': 0.7021254507773351, 'colsample_bytree': 0.4574728297993279, 'max_deph': 7, 'lr': 0.0521312982277301, 'lambd': 7.141942892000751, 'alpha': 5.306630723059939, 'scale_pos_weight': 5}. Best is trial#0 with value: 0.8859450269198074.\n",
      "[I 2020-07-16 20:39:56,224] Finished trial#2 with value: 0.7910172853499575 with parameters: {'min_child_weight': 3, 'gamma': 6.102333525443569, 'subsample': 0.9151742183087719, 'colsample_bytree': 0.36641970687356495, 'max_deph': 6, 'lr': 0.07605974199950104, 'lambd': 4.541778792147163, 'alpha': 3.4085671359239402, 'scale_pos_weight': 6}. Best is trial#0 with value: 0.8859450269198074.\n",
      "[I 2020-07-16 20:39:57,207] Finished trial#3 with value: 0.7737319353924624 with parameters: {'min_child_weight': 3, 'gamma': 7.067617194669672, 'subsample': 0.922449187559522, 'colsample_bytree': 0.22199747867786934, 'max_deph': 2, 'lr': 0.061036041210287786, 'lambd': 5.171321451797245, 'alpha': 5.58439109366117, 'scale_pos_weight': 6}. Best is trial#0 with value: 0.8859450269198074.\n",
      "[I 2020-07-16 20:39:58,187] Finished trial#4 with value: 0.8340889770473222 with parameters: {'min_child_weight': 8, 'gamma': 9.313423551259163, 'subsample': 0.6429979281851247, 'colsample_bytree': 0.07472201854401672, 'max_deph': 7, 'lr': 0.06463338944325149, 'lambd': 1.8506312740325654, 'alpha': 2.710695378821686, 'scale_pos_weight': 5}. Best is trial#0 with value: 0.8859450269198074.\n",
      "[I 2020-07-16 20:39:59,409] Finished trial#5 with value: 0.8693680929441768 with parameters: {'min_child_weight': 6, 'gamma': 7.887639198829768, 'subsample': 0.7568388279766157, 'colsample_bytree': 0.23071290443732884, 'max_deph': 3, 'lr': 0.04996050246791985, 'lambd': 4.321746764862885, 'alpha': 4.460378894784038, 'scale_pos_weight': 3}. Best is trial#0 with value: 0.8859450269198074.\n",
      "[I 2020-07-16 20:40:00,221] Finished trial#6 with value: 0.8604420515726835 with parameters: {'min_child_weight': 3, 'gamma': 3.3484718053800644, 'subsample': 0.8188763980947157, 'colsample_bytree': 0.27219276136976933, 'max_deph': 9, 'lr': 0.05571551326934602, 'lambd': 2.497095242335008, 'alpha': 8.426622995119658, 'scale_pos_weight': 0}. Best is trial#0 with value: 0.8859450269198074.\n",
      "[I 2020-07-16 20:40:01,371] Finished trial#7 with value: 0.8688013601586851 with parameters: {'min_child_weight': 6, 'gamma': 5.799697744313552, 'subsample': 0.8121835284688224, 'colsample_bytree': 0.12057963323780008, 'max_deph': 4, 'lr': 0.002672220319517621, 'lambd': 5.601771798704161, 'alpha': 4.071434730683848, 'scale_pos_weight': 5}. Best is trial#0 with value: 0.8859450269198074.\n",
      "[I 2020-07-16 20:40:03,557] Finished trial#8 with value: 0.8824029470104846 with parameters: {'min_child_weight': 2, 'gamma': 5.799316643508412, 'subsample': 0.5068926480651219, 'colsample_bytree': 0.7994007238436639, 'max_deph': 3, 'lr': 0.09223139220871025, 'lambd': 5.406382418717119, 'alpha': 6.646190245529356, 'scale_pos_weight': 2}. Best is trial#0 with value: 0.8859450269198074.\n",
      "[I 2020-07-16 20:40:05,205] Finished trial#9 with value: 0.8702181921224142 with parameters: {'min_child_weight': 10, 'gamma': 6.433349119041878, 'subsample': 0.5868028403216652, 'colsample_bytree': 0.1698059931472642, 'max_deph': 7, 'lr': 0.08530766695978162, 'lambd': 9.64413889208215, 'alpha': 5.6936584608133325, 'scale_pos_weight': 3}. Best is trial#0 with value: 0.8859450269198074.\n",
      "[I 2020-07-16 20:40:06,228] Finished trial#10 with value: 0.8604420515726835 with parameters: {'min_child_weight': 8, 'gamma': 1.3073575980672842, 'subsample': 0.9811376283487265, 'colsample_bytree': 0.9825716286015314, 'max_deph': 10, 'lr': 0.00482647375538061, 'lambd': 9.848157430472599, 'alpha': 0.2287698772149831, 'scale_pos_weight': 0}. Best is trial#0 with value: 0.8859450269198074.\n",
      "[I 2020-07-16 20:40:08,825] Finished trial#11 with value: 0.8842448285633324 with parameters: {'min_child_weight': 5, 'gamma': 3.7989478822064533, 'subsample': 0.5251337042846178, 'colsample_bytree': 0.7811366681975385, 'max_deph': 4, 'lr': 0.02581255614507711, 'lambd': 7.90481265708422, 'alpha': 8.880710490232635, 'scale_pos_weight': 1}. Best is trial#0 with value: 0.8859450269198074.\n",
      "[I 2020-07-16 20:40:11,314] Finished trial#12 with value: 0.8862283933125531 with parameters: {'min_child_weight': 5, 'gamma': 2.91944914738319, 'subsample': 0.8563696302712971, 'colsample_bytree': 0.6788154091144101, 'max_deph': 5, 'lr': 0.024027731555750977, 'lambd': 8.101605185106143, 'alpha': 9.960837796469711, 'scale_pos_weight': 1}. Best is trial#12 with value: 0.8862283933125531.\n",
      "[I 2020-07-16 20:40:13,361] Finished trial#13 with value: 0.884811561348824 with parameters: {'min_child_weight': 5, 'gamma': 0.9764075880654142, 'subsample': 0.8629226335197012, 'colsample_bytree': 0.6626824954045545, 'max_deph': 4, 'lr': 0.025236329131344357, 'lambd': 8.39991732286082, 'alpha': 9.949599224505157, 'scale_pos_weight': 1}. Best is trial#12 with value: 0.8862283933125531.\n",
      "[I 2020-07-16 20:40:15,528] Finished trial#14 with value: 0.8865117597052989 with parameters: {'min_child_weight': 7, 'gamma': 2.4611919267012565, 'subsample': 0.9806816966994346, 'colsample_bytree': 0.6123739262515921, 'max_deph': 5, 'lr': 0.02165014821001625, 'lambd': 9.072831524155713, 'alpha': 7.7364866546156135, 'scale_pos_weight': 1}. Best is trial#14 with value: 0.8865117597052989.\n",
      "[I 2020-07-16 20:40:18,109] Finished trial#15 with value: 0.8846698781524511 with parameters: {'min_child_weight': 8, 'gamma': 2.2355336269014443, 'subsample': 0.9897025060397145, 'colsample_bytree': 0.609271341907709, 'max_deph': 6, 'lr': 0.031108642115128964, 'lambd': 7.465209558299123, 'alpha': 9.92982942524733, 'scale_pos_weight': 2}. Best is trial#14 with value: 0.8865117597052989.\n",
      "[I 2020-07-16 20:40:21,109] Finished trial#16 with value: 0.8826863134032303 with parameters: {'min_child_weight': 7, 'gamma': 1.9529119390049168, 'subsample': 0.9173560915744776, 'colsample_bytree': 0.9484510190785285, 'max_deph': 5, 'lr': 0.03999329618132928, 'lambd': 8.694321234206944, 'alpha': 7.51282654513108, 'scale_pos_weight': 2}. Best is trial#14 with value: 0.8865117597052989.\n",
      "[I 2020-07-16 20:40:21,981] Finished trial#17 with value: 0.8604420515726835 with parameters: {'min_child_weight': 4, 'gamma': 2.8750611742585797, 'subsample': 0.9965259578022784, 'colsample_bytree': 0.5362588633853788, 'max_deph': 8, 'lr': 0.014681951612651872, 'lambd': 6.474616830975874, 'alpha': 9.90719790349925, 'scale_pos_weight': 0}. Best is trial#14 with value: 0.8865117597052989.\n",
      "[I 2020-07-16 20:40:24,574] Finished trial#18 with value: 0.8883536412581468 with parameters: {'min_child_weight': 9, 'gamma': 0.5090710035456727, 'subsample': 0.7711719662867429, 'colsample_bytree': 0.6689469797447887, 'max_deph': 5, 'lr': 0.03876089239479468, 'lambd': 9.99368992296611, 'alpha': 8.734539670397368, 'scale_pos_weight': 1}. Best is trial#18 with value: 0.8883536412581468.\n",
      "[I 2020-07-16 20:40:25,817] Finished trial#19 with value: 0.8520827429866817 with parameters: {'min_child_weight': 9, 'gamma': 0.6895020469415165, 'subsample': 0.7517905254631031, 'colsample_bytree': 0.4427917275474303, 'max_deph': 2, 'lr': 0.038178327613868294, 'lambd': 9.126728487108323, 'alpha': 8.689401974581214, 'scale_pos_weight': 4}. Best is trial#18 with value: 0.8883536412581468.\n",
      "[I 2020-07-16 20:40:28,003] Finished trial#20 with value: 0.8835364125814679 with parameters: {'min_child_weight': 9, 'gamma': 0.5167201895125643, 'subsample': 0.6857346229061807, 'colsample_bytree': 0.9059676909137427, 'max_deph': 3, 'lr': 0.040739094577796266, 'lambd': 6.448364989240243, 'alpha': 6.774153015102492, 'scale_pos_weight': 2}. Best is trial#18 with value: 0.8883536412581468.\n",
      "[I 2020-07-16 20:40:30,568] Finished trial#21 with value: 0.8856616605270615 with parameters: {'min_child_weight': 7, 'gamma': 4.423196665004994, 'subsample': 0.7866189650692056, 'colsample_bytree': 0.6931325160260836, 'max_deph': 5, 'lr': 0.01728580989823051, 'lambd': 9.912976768342679, 'alpha': 9.307537599873509, 'scale_pos_weight': 1}. Best is trial#18 with value: 0.8883536412581468.\n",
      "[I 2020-07-16 20:40:31,478] Finished trial#22 with value: 0.8604420515726835 with parameters: {'min_child_weight': 5, 'gamma': 2.096326636117277, 'subsample': 0.8841726150949947, 'colsample_bytree': 0.5609221627513495, 'max_deph': 5, 'lr': 0.020549027890358975, 'lambd': 8.361043886759271, 'alpha': 7.979912846675226, 'scale_pos_weight': 0}. Best is trial#18 with value: 0.8883536412581468.\n",
      "[I 2020-07-16 20:40:34,281] Finished trial#23 with value: 0.8899121564182488 with parameters: {'min_child_weight': 7, 'gamma': 2.6334417995315165, 'subsample': 0.9582211072142619, 'colsample_bytree': 0.7020210885663162, 'max_deph': 6, 'lr': 0.03153231892450697, 'lambd': 8.915889423222985, 'alpha': 6.774918829715175, 'scale_pos_weight': 1}. Best is trial#23 with value: 0.8899121564182488.\n",
      "[I 2020-07-16 20:40:37,578] Finished trial#24 with value: 0.8853782941343157 with parameters: {'min_child_weight': 7, 'gamma': 1.5087930513902565, 'subsample': 0.9482677194920611, 'colsample_bytree': 0.8636479022062098, 'max_deph': 6, 'lr': 0.032692958071655315, 'lambd': 9.04522155480345, 'alpha': 6.611705518547773, 'scale_pos_weight': 2}. Best is trial#23 with value: 0.8899121564182488.\n",
      "[I 2020-07-16 20:40:41,335] Finished trial#25 with value: 0.8897704732218759 with parameters: {'min_child_weight': 9, 'gamma': 0.5354184525634624, 'subsample': 0.9640590111346248, 'colsample_bytree': 0.7309996301312585, 'max_deph': 8, 'lr': 0.04280309417038765, 'lambd': 9.950472915762237, 'alpha': 6.757456705960929, 'scale_pos_weight': 1}. Best is trial#23 with value: 0.8899121564182488.\n",
      "[I 2020-07-16 20:40:42,291] Finished trial#26 with value: 0.8604420515726835 with parameters: {'min_child_weight': 9, 'gamma': 0.5540018445626904, 'subsample': 0.940892805887307, 'colsample_bytree': 0.7439576170645797, 'max_deph': 8, 'lr': 0.042389567444505054, 'lambd': 9.863397777710167, 'alpha': 6.933569143325629, 'scale_pos_weight': 0}. Best is trial#23 with value: 0.8899121564182488.\n",
      "[I 2020-07-16 20:40:47,452] Finished trial#27 with value: 0.8635590818928875 with parameters: {'min_child_weight': 10, 'gamma': 1.496248346591614, 'subsample': 0.5704923508750803, 'colsample_bytree': 0.8699894104208723, 'max_deph': 8, 'lr': 0.04861641418221973, 'lambd': 3.456173643679112, 'alpha': 6.036453995295301, 'scale_pos_weight': 3}. Best is trial#23 with value: 0.8899121564182488.\n",
      "[I 2020-07-16 20:40:51,393] Finished trial#28 with value: 0.8901955228109946 with parameters: {'min_child_weight': 9, 'gamma': 4.4682694443251165, 'subsample': 0.6950650297389283, 'colsample_bytree': 0.601434438179248, 'max_deph': 10, 'lr': 0.06658906385284233, 'lambd': 9.929838924418803, 'alpha': 4.8277897974504755, 'scale_pos_weight': 1}. Best is trial#28 with value: 0.8901955228109946.\n",
      "[I 2020-07-16 20:40:57,165] Finished trial#29 with value: 0.8809861150467555 with parameters: {'min_child_weight': 8, 'gamma': 4.408840882764106, 'subsample': 0.6844780007847963, 'colsample_bytree': 0.8134333811676142, 'max_deph': 10, 'lr': 0.07636381773379648, 'lambd': 7.086501219668891, 'alpha': 2.5098847251486927, 'scale_pos_weight': 2}. Best is trial#28 with value: 0.8901955228109946.\n",
      "[I 2020-07-16 20:40:58,064] Finished trial#30 with value: 0.8604420515726835 with parameters: {'min_child_weight': 10, 'gamma': 4.697374292164374, 'subsample': 0.7257923150835973, 'colsample_bytree': 0.3803068554265889, 'max_deph': 9, 'lr': 0.05787193209555327, 'lambd': 9.411800241353053, 'alpha': 4.7648276327162655, 'scale_pos_weight': 0}. Best is trial#28 with value: 0.8901955228109946.\n",
      "[I 2020-07-16 20:41:01,667] Finished trial#31 with value: 0.8897704732218759 with parameters: {'min_child_weight': 9, 'gamma': 4.026945323594919, 'subsample': 0.6312588533338905, 'colsample_bytree': 0.6118231319426791, 'max_deph': 9, 'lr': 0.07111674827462437, 'lambd': 9.95465618946043, 'alpha': 7.448481423662711, 'scale_pos_weight': 1}. Best is trial#28 with value: 0.8901955228109946.\n",
      "[I 2020-07-16 20:41:05,372] Finished trial#32 with value: 0.8909039387928591 with parameters: {'min_child_weight': 9, 'gamma': 3.8328000737153705, 'subsample': 0.664218203296193, 'colsample_bytree': 0.596247806119051, 'max_deph': 9, 'lr': 0.06807239390129056, 'lambd': 8.851499881479537, 'alpha': 6.045638823246806, 'scale_pos_weight': 1}. Best is trial#32 with value: 0.8909039387928591.\n",
      "[I 2020-07-16 20:41:08,743] Finished trial#33 with value: 0.8883536412581468 with parameters: {'min_child_weight': 10, 'gamma': 5.293487930407848, 'subsample': 0.6391857240013531, 'colsample_bytree': 0.5208375772084626, 'max_deph': 10, 'lr': 0.06734604411060376, 'lambd': 8.777188100071593, 'alpha': 6.159807414580275, 'scale_pos_weight': 1}. Best is trial#32 with value: 0.8909039387928591.\n",
      "[I 2020-07-16 20:41:12,112] Finished trial#34 with value: 0.8794275998866534 with parameters: {'min_child_weight': 8, 'gamma': 3.6392490298434392, 'subsample': 0.6208898160391794, 'colsample_bytree': 0.45497382896975, 'max_deph': 9, 'lr': 0.07374790689374836, 'lambd': 7.361237682151196, 'alpha': 4.9253316114065, 'scale_pos_weight': 2}. Best is trial#32 with value: 0.8909039387928591.\n",
      "[I 2020-07-16 20:41:15,738] Finished trial#35 with value: 0.8913289883819779 with parameters: {'min_child_weight': 9, 'gamma': 4.0468713626070505, 'subsample': 0.7136527451309608, 'colsample_bytree': 0.594072963916807, 'max_deph': 9, 'lr': 0.08313858744948373, 'lambd': 7.867258899296637, 'alpha': 5.343555504009226, 'scale_pos_weight': 1}. Best is trial#35 with value: 0.8913289883819779.\n",
      "[I 2020-07-16 20:41:16,592] Finished trial#36 with value: 0.8604420515726835 with parameters: {'min_child_weight': 8, 'gamma': 5.217728189407032, 'subsample': 0.718199634220063, 'colsample_bytree': 0.35084219526763816, 'max_deph': 10, 'lr': 0.08485616245636099, 'lambd': 6.6787898725007615, 'alpha': 3.1374378925735043, 'scale_pos_weight': 0}. Best is trial#35 with value: 0.8913289883819779.\n",
      "[I 2020-07-16 20:41:20,084] Finished trial#37 with value: 0.8390478889203741 with parameters: {'min_child_weight': 10, 'gamma': 3.163950327254702, 'subsample': 0.6730881814418048, 'colsample_bytree': 0.5755215307456635, 'max_deph': 7, 'lr': 0.09811367650744224, 'lambd': 7.705121492032205, 'alpha': 3.8894102381300932, 'scale_pos_weight': 4}. Best is trial#35 with value: 0.8913289883819779.\n",
      "[I 2020-07-16 20:41:23,811] Finished trial#38 with value: 0.8809861150467555 with parameters: {'min_child_weight': 6, 'gamma': 4.08795507121969, 'subsample': 0.6628201934003528, 'colsample_bytree': 0.4911468536841112, 'max_deph': 9, 'lr': 0.06322190803180337, 'lambd': 5.999145122698153, 'alpha': 5.130805803435961, 'scale_pos_weight': 2}. Best is trial#35 with value: 0.8913289883819779.\n",
      "[I 2020-07-16 20:41:26,749] Finished trial#39 with value: 0.8889203740436384 with parameters: {'min_child_weight': 7, 'gamma': 4.952081497668357, 'subsample': 0.7181932649905268, 'colsample_bytree': 0.41496013300122314, 'max_deph': 10, 'lr': 0.081469796104936, 'lambd': 8.60148154235373, 'alpha': 5.504121880642379, 'scale_pos_weight': 1}. Best is trial#35 with value: 0.8913289883819779.\n",
      "[I 2020-07-16 20:41:27,719] Finished trial#40 with value: 0.8604420515726835 with parameters: {'min_child_weight': 9, 'gamma': 8.108530533993612, 'subsample': 0.5762871172749995, 'colsample_bytree': 0.49671990187886134, 'max_deph': 8, 'lr': 0.06884687808937956, 'lambd': 9.344436100337168, 'alpha': 4.051595992823068, 'scale_pos_weight': 0}. Best is trial#35 with value: 0.8913289883819779.\n",
      "[I 2020-07-16 20:41:31,423] Finished trial#41 with value: 0.8906205724001134 with parameters: {'min_child_weight': 9, 'gamma': 4.005150503937807, 'subsample': 0.6150222411186804, 'colsample_bytree': 0.6179286920907173, 'max_deph': 9, 'lr': 0.07407903743331092, 'lambd': 9.42980829044029, 'alpha': 6.193589263716033, 'scale_pos_weight': 1}. Best is trial#35 with value: 0.8913289883819779.\n",
      "[I 2020-07-16 20:41:35,294] Finished trial#42 with value: 0.8913289883819779 with parameters: {'min_child_weight': 8, 'gamma': 3.461660811814866, 'subsample': 0.6120281982591557, 'colsample_bytree': 0.6265118117083248, 'max_deph': 9, 'lr': 0.07881370451655667, 'lambd': 8.108825265740279, 'alpha': 5.951530044339158, 'scale_pos_weight': 1}. Best is trial#35 with value: 0.8913289883819779.\n",
      "[I 2020-07-16 20:41:38,956] Finished trial#43 with value: 0.891187305185605 with parameters: {'min_child_weight': 10, 'gamma': 3.4527058481845763, 'subsample': 0.6057024530957447, 'colsample_bytree': 0.6069890816494636, 'max_deph': 9, 'lr': 0.09134474106442028, 'lambd': 7.952991440503757, 'alpha': 6.015443494242596, 'scale_pos_weight': 1}. Best is trial#35 with value: 0.8913289883819779.\n",
      "[I 2020-07-16 20:41:40,022] Finished trial#44 with value: 0.8604420515726835 with parameters: {'min_child_weight': 10, 'gamma': 3.2488202247637554, 'subsample': 0.6046564364978638, 'colsample_bytree': 0.6542136959441224, 'max_deph': 9, 'lr': 0.09662694416430355, 'lambd': 8.031569667297918, 'alpha': 5.991413882188492, 'scale_pos_weight': 0}. Best is trial#35 with value: 0.8913289883819779.\n",
      "[I 2020-07-16 20:41:43,850] Finished trial#45 with value: 0.8797109662793993 with parameters: {'min_child_weight': 10, 'gamma': 3.5907903684815428, 'subsample': 0.5297254471443865, 'colsample_bytree': 0.5506627704787131, 'max_deph': 9, 'lr': 0.09060216985655685, 'lambd': 7.045851230210332, 'alpha': 5.48712677091386, 'scale_pos_weight': 2}. Best is trial#35 with value: 0.8913289883819779.\n",
      "[I 2020-07-16 20:41:48,557] Finished trial#46 with value: 0.8622839331255313 with parameters: {'min_child_weight': 8, 'gamma': 3.959632726080223, 'subsample': 0.555988646892843, 'colsample_bytree': 0.7574345776318018, 'max_deph': 8, 'lr': 0.08015366538173736, 'lambd': 8.194771607729951, 'alpha': 6.286074788342346, 'scale_pos_weight': 3}. Best is trial#35 with value: 0.8913289883819779.\n",
      "[I 2020-07-16 20:41:52,523] Finished trial#47 with value: 0.891187305185605 with parameters: {'min_child_weight': 9, 'gamma': 3.3928339424039997, 'subsample': 0.6070847129343198, 'colsample_bytree': 0.6231774261504894, 'max_deph': 9, 'lr': 0.09049369451149489, 'lambd': 7.677901686153571, 'alpha': 4.394894451923626, 'scale_pos_weight': 1}. Best is trial#35 with value: 0.8913289883819779.\n",
      "[I 2020-07-16 20:41:55,970] Finished trial#48 with value: 0.8913289883819779 with parameters: {'min_child_weight': 10, 'gamma': 5.679578609112161, 'subsample': 0.6592097232714166, 'colsample_bytree': 0.6397760957975496, 'max_deph': 7, 'lr': 0.09096623223181655, 'lambd': 7.62643197401456, 'alpha': 4.314892499383162, 'scale_pos_weight': 1}. Best is trial#35 with value: 0.8913289883819779.\n",
      "[I 2020-07-16 20:42:00,364] Finished trial#49 with value: 0.880277699064891 with parameters: {'min_child_weight': 10, 'gamma': 6.049289752141458, 'subsample': 0.5956887568171989, 'colsample_bytree': 0.8248281832491522, 'max_deph': 7, 'lr': 0.09132352981964875, 'lambd': 7.71772577283924, 'alpha': 2.483850474834426, 'scale_pos_weight': 2}. Best is trial#35 with value: 0.8913289883819779.\n",
      "[I 2020-07-16 20:42:01,393] Finished trial#50 with value: 0.8604420515726835 with parameters: {'min_child_weight': 10, 'gamma': 6.467519490215472, 'subsample': 0.6474662147887539, 'colsample_bytree': 0.6401141142218968, 'max_deph': 7, 'lr': 0.08750798438655605, 'lambd': 5.819575342749916, 'alpha': 1.604708088823462, 'scale_pos_weight': 0}. Best is trial#35 with value: 0.8913289883819779.\n",
      "[I 2020-07-16 20:42:04,937] Finished trial#51 with value: 0.8910456219892321 with parameters: {'min_child_weight': 9, 'gamma': 5.3539440937577805, 'subsample': 0.6594544671923003, 'colsample_bytree': 0.5730957765296459, 'max_deph': 8, 'lr': 0.09487615897952717, 'lambd': 7.463423351894074, 'alpha': 4.355923627206627, 'scale_pos_weight': 1}. Best is trial#35 with value: 0.8913289883819779.\n",
      "[I 2020-07-16 20:42:08,946] Finished trial#52 with value: 0.8906205724001134 with parameters: {'min_child_weight': 9, 'gamma': 7.064735499892854, 'subsample': 0.5573927060421827, 'colsample_bytree': 0.7155752763017219, 'max_deph': 8, 'lr': 0.09528953677976555, 'lambd': 6.811257785778104, 'alpha': 4.4315345354217754, 'scale_pos_weight': 1}. Best is trial#35 with value: 0.8913289883819779.\n",
      "[I 2020-07-16 20:42:12,025] Finished trial#53 with value: 0.891187305185605 with parameters: {'min_child_weight': 8, 'gamma': 5.717969333561335, 'subsample': 0.6460850535015692, 'colsample_bytree': 0.5164217366686182, 'max_deph': 7, 'lr': 0.09901542510043701, 'lambd': 7.38787243832001, 'alpha': 3.2766780045749857, 'scale_pos_weight': 1}. Best is trial#35 with value: 0.8913289883819779.\n",
      "[I 2020-07-16 20:42:12,999] Finished trial#54 with value: 0.8604420515726835 with parameters: {'min_child_weight': 8, 'gamma': 5.565438834671578, 'subsample': 0.6068511025373609, 'colsample_bytree': 0.5208829637460495, 'max_deph': 7, 'lr': 0.08836670741637392, 'lambd': 5.00648161296815, 'alpha': 3.5571010997927024, 'scale_pos_weight': 0}. Best is trial#35 with value: 0.8913289883819779.\n",
      "[I 2020-07-16 20:42:15,904] Finished trial#55 with value: 0.8909039387928591 with parameters: {'min_child_weight': 8, 'gamma': 6.289257150754969, 'subsample': 0.5414655771791878, 'colsample_bytree': 0.4708847830296537, 'max_deph': 7, 'lr': 0.08235575111974641, 'lambd': 7.83384543972059, 'alpha': 1.7740413988105148, 'scale_pos_weight': 1}. Best is trial#35 with value: 0.8913289883819779.\n",
      "[I 2020-07-16 20:42:18,718] Finished trial#56 with value: 0.8805610654576367 with parameters: {'min_child_weight': 10, 'gamma': 6.8845897623537695, 'subsample': 0.734451535446964, 'colsample_bytree': 0.32580807719968097, 'max_deph': 9, 'lr': 0.09999932508454762, 'lambd': 1.092871189630201, 'alpha': 3.1188500243073363, 'scale_pos_weight': 2}. Best is trial#35 with value: 0.8913289883819779.\n",
      "[I 2020-07-16 20:42:22,840] Finished trial#57 with value: 0.8909039387928591 with parameters: {'min_child_weight': 8, 'gamma': 4.852091220271404, 'subsample': 0.6437965797370372, 'colsample_bytree': 0.643008090507556, 'max_deph': 10, 'lr': 0.07873694808767055, 'lambd': 6.280455063953779, 'alpha': 5.1904403846947, 'scale_pos_weight': 1}. Best is trial#35 with value: 0.8913289883819779.\n",
      "[I 2020-07-16 20:42:25,687] Finished trial#58 with value: 0.880277699064891 with parameters: {'min_child_weight': 9, 'gamma': 2.8935062741233324, 'subsample': 0.5847870127349442, 'colsample_bytree': 0.4240395150533729, 'max_deph': 7, 'lr': 0.09963426653520667, 'lambd': 8.376364407587868, 'alpha': 3.6558772450434147, 'scale_pos_weight': 2}. Best is trial#35 with value: 0.8913289883819779.\n",
      "[I 2020-07-16 20:42:29,188] Finished trial#59 with value: 0.7988098611504676 with parameters: {'min_child_weight': 8, 'gamma': 5.836185793356172, 'subsample': 0.503139772083918, 'colsample_bytree': 0.6802788618976212, 'max_deph': 6, 'lr': 0.09336062031336355, 'lambd': 7.372945278403851, 'alpha': 4.63724631842154, 'scale_pos_weight': 6}. Best is trial#35 with value: 0.8913289883819779.\n",
      "[I 2020-07-16 20:42:33,692] Finished trial#60 with value: 0.8900538396146217 with parameters: {'min_child_weight': 2, 'gamma': 7.632050656079104, 'subsample': 0.7066336428051713, 'colsample_bytree': 0.7695005807072364, 'max_deph': 8, 'lr': 0.08495534274501727, 'lambd': 6.998524256192597, 'alpha': 5.713483077782035, 'scale_pos_weight': 1}. Best is trial#35 with value: 0.8913289883819779.\n",
      "[I 2020-07-16 20:42:37,073] Finished trial#61 with value: 0.8906205724001134 with parameters: {'min_child_weight': 9, 'gamma': 5.492243831088377, 'subsample': 0.6576386852129521, 'colsample_bytree': 0.5611546245055393, 'max_deph': 8, 'lr': 0.09366964875304777, 'lambd': 7.528862124182765, 'alpha': 4.466709906211681, 'scale_pos_weight': 1}. Best is trial#35 with value: 0.8913289883819779.\n",
      "[I 2020-07-16 20:42:40,555] Finished trial#62 with value: 0.8907622555964863 with parameters: {'min_child_weight': 10, 'gamma': 3.403596740237685, 'subsample': 0.624587026252223, 'colsample_bytree': 0.5676143729532463, 'max_deph': 8, 'lr': 0.08865625840696548, 'lambd': 8.028937620201626, 'alpha': 4.341194023958551, 'scale_pos_weight': 1}. Best is trial#35 with value: 0.8913289883819779.\n",
      "[I 2020-07-16 20:42:41,518] Finished trial#63 with value: 0.8604420515726835 with parameters: {'min_child_weight': 9, 'gamma': 4.595840759146549, 'subsample': 0.6827894944688291, 'colsample_bytree': 0.5163132236446372, 'max_deph': 8, 'lr': 0.09992371073997326, 'lambd': 7.252095183605463, 'alpha': 3.113079639516476, 'scale_pos_weight': 0}. Best is trial#35 with value: 0.8913289883819779.\n",
      "[I 2020-07-16 20:42:45,240] Finished trial#64 with value: 0.8918957211674695 with parameters: {'min_child_weight': 9, 'gamma': 2.585195019596019, 'subsample': 0.6990870683837009, 'colsample_bytree': 0.5895765723934412, 'max_deph': 9, 'lr': 0.09595439955122259, 'lambd': 7.672607196391203, 'alpha': 4.225353940119696, 'scale_pos_weight': 1}. Best is trial#64 with value: 0.8918957211674695.\n",
      "[I 2020-07-16 20:42:49,218] Finished trial#65 with value: 0.8913289883819779 with parameters: {'min_child_weight': 8, 'gamma': 1.8951650747910735, 'subsample': 0.7657338838150459, 'colsample_bytree': 0.6373267691362279, 'max_deph': 9, 'lr': 0.08565024174359681, 'lambd': 8.372643109779007, 'alpha': 3.847694164342525, 'scale_pos_weight': 1}. Best is trial#64 with value: 0.8918957211674695.\n",
      "[I 2020-07-16 20:42:50,195] Finished trial#66 with value: 0.8604420515726835 with parameters: {'min_child_weight': 7, 'gamma': 1.8395417297361671, 'subsample': 0.7874417381248876, 'colsample_bytree': 0.6458075948082156, 'max_deph': 10, 'lr': 0.08569411369829623, 'lambd': 8.46980394411447, 'alpha': 3.7878846526956287, 'scale_pos_weight': 0}. Best is trial#64 with value: 0.8918957211674695.\n",
      "[I 2020-07-16 20:42:54,376] Finished trial#67 with value: 0.8918957211674695 with parameters: {'min_child_weight': 10, 'gamma': 2.435102068710321, 'subsample': 0.8253057436397839, 'colsample_bytree': 0.6984375501199636, 'max_deph': 9, 'lr': 0.07772086861936661, 'lambd': 8.312123288423704, 'alpha': 4.138859171257276, 'scale_pos_weight': 1}. Best is trial#64 with value: 0.8918957211674695.\n",
      "[I 2020-07-16 20:42:58,886] Finished trial#68 with value: 0.8805610654576367 with parameters: {'min_child_weight': 10, 'gamma': 2.4975895891349063, 'subsample': 0.8142072531884088, 'colsample_bytree': 0.7162390402603522, 'max_deph': 9, 'lr': 0.07868974108402182, 'lambd': 8.196485563319836, 'alpha': 7.153462966201076, 'scale_pos_weight': 2}. Best is trial#64 with value: 0.8918957211674695.\n",
      "[I 2020-07-16 20:43:02,992] Finished trial#69 with value: 0.8917540379710966 with parameters: {'min_child_weight': 9, 'gamma': 1.060881295080443, 'subsample': 0.8421076015733926, 'colsample_bytree': 0.6756008718729472, 'max_deph': 9, 'lr': 0.07749029752525942, 'lambd': 8.594180625671877, 'alpha': 2.780945614496231, 'scale_pos_weight': 1}. Best is trial#64 with value: 0.8918957211674695.\n",
      "[I 2020-07-16 20:43:07,635] Finished trial#70 with value: 0.8918957211674695 with parameters: {'min_child_weight': 6, 'gamma': 1.0387817728453101, 'subsample': 0.8379440684483691, 'colsample_bytree': 0.6862881599135509, 'max_deph': 10, 'lr': 0.07678613849025254, 'lambd': 9.014430630150027, 'alpha': 2.5498457019873513, 'scale_pos_weight': 1}. Best is trial#64 with value: 0.8918957211674695.\n",
      "[I 2020-07-16 20:43:12,373] Finished trial#71 with value: 0.8906205724001134 with parameters: {'min_child_weight': 4, 'gamma': 0.9739792032948638, 'subsample': 0.8643311942413687, 'colsample_bytree': 0.6848630602468383, 'max_deph': 10, 'lr': 0.07680304436823635, 'lambd': 8.689819512750788, 'alpha': 2.0859778666685638, 'scale_pos_weight': 1}. Best is trial#64 with value: 0.8918957211674695.\n",
      "[I 2020-07-16 20:43:17,539] Finished trial#72 with value: 0.8916123547747237 with parameters: {'min_child_weight': 4, 'gamma': 1.769243343491044, 'subsample': 0.8345212896065809, 'colsample_bytree': 0.7359179161610637, 'max_deph': 10, 'lr': 0.08374852457995938, 'lambd': 9.571658208085264, 'alpha': 0.7396447949768001, 'scale_pos_weight': 1}. Best is trial#64 with value: 0.8918957211674695.\n",
      "[I 2020-07-16 20:43:22,949] Finished trial#73 with value: 0.8906205724001134 with parameters: {'min_child_weight': 4, 'gamma': 1.7086925848959342, 'subsample': 0.832115042650823, 'colsample_bytree': 0.8004916265326295, 'max_deph': 10, 'lr': 0.08316061458062558, 'lambd': 9.131460844985876, 'alpha': 1.2468302053732152, 'scale_pos_weight': 1}. Best is trial#64 with value: 0.8918957211674695.\n",
      "[I 2020-07-16 20:43:28,136] Finished trial#74 with value: 0.8791442334939076 with parameters: {'min_child_weight': 3, 'gamma': 1.1390108279109272, 'subsample': 0.903025008861462, 'colsample_bytree': 0.725234026692333, 'max_deph': 10, 'lr': 0.07167481218959691, 'lambd': 9.579184883819371, 'alpha': 1.1072280649019293, 'scale_pos_weight': 2}. Best is trial#64 with value: 0.8918957211674695.\n",
      "[I 2020-07-16 20:43:33,031] Finished trial#75 with value: 0.8906205724001134 with parameters: {'min_child_weight': 5, 'gamma': 2.1489550387594525, 'subsample': 0.7979142534369572, 'colsample_bytree': 0.6950463533872877, 'max_deph': 10, 'lr': 0.07363024685272558, 'lambd': 9.260100569468932, 'alpha': 0.11960263324085052, 'scale_pos_weight': 1}. Best is trial#64 with value: 0.8918957211674695.\n",
      "[I 2020-07-16 20:43:34,109] Finished trial#76 with value: 0.8604420515726835 with parameters: {'min_child_weight': 6, 'gamma': 1.429539196814347, 'subsample': 0.7655005240218861, 'colsample_bytree': 0.8404089787751756, 'max_deph': 9, 'lr': 0.0761911739991308, 'lambd': 8.922481033725361, 'alpha': 2.902347428285925, 'scale_pos_weight': 0}. Best is trial#64 with value: 0.8918957211674695.\n",
      "[I 2020-07-16 20:43:39,228] Finished trial#77 with value: 0.8918957211674695 with parameters: {'min_child_weight': 5, 'gamma': 0.7736916012973163, 'subsample': 0.8421682712295225, 'colsample_bytree': 0.7779142590130051, 'max_deph': 10, 'lr': 0.05970320171329753, 'lambd': 8.431787400793581, 'alpha': 2.4257824156692513, 'scale_pos_weight': 1}. Best is trial#64 with value: 0.8918957211674695.\n",
      "[I 2020-07-16 20:43:44,337] Finished trial#78 with value: 0.8910456219892321 with parameters: {'min_child_weight': 5, 'gamma': 0.9319116051286059, 'subsample': 0.8404123707925214, 'colsample_bytree': 0.7510373782195584, 'max_deph': 10, 'lr': 0.05836028672505875, 'lambd': 9.740299347727923, 'alpha': 0.6923571328396596, 'scale_pos_weight': 1}. Best is trial#64 with value: 0.8918957211674695.\n",
      "[I 2020-07-16 20:43:45,162] Finished trial#79 with value: 0.8604420515726835 with parameters: {'min_child_weight': 4, 'gamma': 2.3710702497404696, 'subsample': 0.8742366415091778, 'colsample_bytree': 0.011084395048913231, 'max_deph': 10, 'lr': 0.06348221237593496, 'lambd': 8.562574897467645, 'alpha': 2.3886998822940706, 'scale_pos_weight': 2}. Best is trial#64 with value: 0.8918957211674695.\n",
      "[I 2020-07-16 20:43:46,210] Finished trial#80 with value: 0.8604420515726835 with parameters: {'min_child_weight': 5, 'gamma': 2.792444110472829, 'subsample': 0.8498232079799709, 'colsample_bytree': 0.8971396283851015, 'max_deph': 9, 'lr': 0.04893802119931197, 'lambd': 8.892836549043537, 'alpha': 0.5543345538331401, 'scale_pos_weight': 0}. Best is trial#64 with value: 0.8918957211674695.\n",
      "[I 2020-07-16 20:43:50,452] Finished trial#81 with value: 0.8914706715783508 with parameters: {'min_child_weight': 4, 'gamma': 1.644498924349097, 'subsample': 0.8286680373150938, 'colsample_bytree': 0.6723655110459997, 'max_deph': 9, 'lr': 0.0797944916725322, 'lambd': 8.261157521042627, 'alpha': 3.3829575441206763, 'scale_pos_weight': 1}. Best is trial#64 with value: 0.8918957211674695.\n",
      "[I 2020-07-16 20:43:55,718] Finished trial#82 with value: 0.8916123547747237 with parameters: {'min_child_weight': 3, 'gamma': 1.709462060407841, 'subsample': 0.8254748393223423, 'colsample_bytree': 0.7734588124399937, 'max_deph': 10, 'lr': 0.052648278064764895, 'lambd': 8.212979261854377, 'alpha': 2.761278570501206, 'scale_pos_weight': 1}. Best is trial#64 with value: 0.8918957211674695.\n",
      "[I 2020-07-16 20:44:01,050] Finished trial#83 with value: 0.8913289883819779 with parameters: {'min_child_weight': 3, 'gamma': 1.2362946003473763, 'subsample': 0.8229439410377198, 'colsample_bytree': 0.7829979212173401, 'max_deph': 10, 'lr': 0.07924098356847327, 'lambd': 9.149840012371914, 'alpha': 2.230232507427767, 'scale_pos_weight': 1}. Best is trial#64 with value: 0.8918957211674695.\n",
      "[I 2020-07-16 20:44:06,092] Finished trial#84 with value: 0.8899121564182488 with parameters: {'min_child_weight': 3, 'gamma': 1.6405014618594744, 'subsample': 0.8898807361001487, 'colsample_bytree': 0.7462347372693972, 'max_deph': 10, 'lr': 0.04559093538388416, 'lambd': 9.555535616030458, 'alpha': 2.734463110805245, 'scale_pos_weight': 1}. Best is trial#64 with value: 0.8918957211674695.\n",
      "[I 2020-07-16 20:44:10,399] Finished trial#85 with value: 0.891187305185605 with parameters: {'min_child_weight': 4, 'gamma': 0.6623351940125095, 'subsample': 0.8018585707513982, 'colsample_bytree': 0.6629701210095786, 'max_deph': 9, 'lr': 0.05297951231928631, 'lambd': 8.208284513319681, 'alpha': 2.7173471942858063, 'scale_pos_weight': 1}. Best is trial#64 with value: 0.8918957211674695.\n",
      "[I 2020-07-16 20:44:15,585] Finished trial#86 with value: 0.8926041371493341 with parameters: {'min_child_weight': 3, 'gamma': 2.146643997422959, 'subsample': 0.8341853070272615, 'colsample_bytree': 0.7755081648734363, 'max_deph': 10, 'lr': 0.07074522896045467, 'lambd': 8.593832680828848, 'alpha': 3.5031787328160524, 'scale_pos_weight': 1}. Best is trial#86 with value: 0.8926041371493341.\n",
      "[I 2020-07-16 20:44:20,931] Finished trial#87 with value: 0.8916123547747237 with parameters: {'min_child_weight': 3, 'gamma': 0.8151107509073191, 'subsample': 0.8395007590162225, 'colsample_bytree': 0.7966526617977334, 'max_deph': 10, 'lr': 0.05396467161949968, 'lambd': 8.671089829404904, 'alpha': 3.383760792593233, 'scale_pos_weight': 1}. Best is trial#86 with value: 0.8926041371493341.\n",
      "[I 2020-07-16 20:44:21,999] Finished trial#88 with value: 0.8604420515726835 with parameters: {'min_child_weight': 2, 'gamma': 0.8652131183233152, 'subsample': 0.8476862718341465, 'colsample_bytree': 0.9307909683135451, 'max_deph': 10, 'lr': 0.05364522500164494, 'lambd': 8.702534629837112, 'alpha': 1.7113876325038038, 'scale_pos_weight': 0}. Best is trial#86 with value: 0.8926041371493341.\n",
      "[I 2020-07-16 20:44:28,034] Finished trial#89 with value: 0.8794275998866534 with parameters: {'min_child_weight': 3, 'gamma': 2.0846350444548745, 'subsample': 0.8597213976193445, 'colsample_bytree': 0.8701019912520798, 'max_deph': 10, 'lr': 0.060679453069678035, 'lambd': 8.971019658861564, 'alpha': 4.095454532424659, 'scale_pos_weight': 2}. Best is trial#86 with value: 0.8926041371493341.\n",
      "[I 2020-07-16 20:44:33,554] Finished trial#90 with value: 0.8906205724001134 with parameters: {'min_child_weight': 3, 'gamma': 1.272945241742488, 'subsample': 0.8712802508303686, 'colsample_bytree': 0.8304935211257949, 'max_deph': 10, 'lr': 0.05719855717623116, 'lambd': 3.7031849463046793, 'alpha': 2.971597682937516, 'scale_pos_weight': 1}. Best is trial#86 with value: 0.8926041371493341.\n",
      "[I 2020-07-16 20:44:39,004] Finished trial#91 with value: 0.8918957211674695 with parameters: {'min_child_weight': 2, 'gamma': 1.5999356423693873, 'subsample': 0.8308202084717158, 'colsample_bytree': 0.7895499675235382, 'max_deph': 10, 'lr': 0.07335402577686304, 'lambd': 8.506565608403145, 'alpha': 3.480942059024996, 'scale_pos_weight': 1}. Best is trial#86 with value: 0.8926041371493341.\n",
      "[I 2020-07-16 20:44:44,396] Finished trial#92 with value: 0.8916123547747237 with parameters: {'min_child_weight': 2, 'gamma': 2.278983386924209, 'subsample': 0.8389368688858764, 'colsample_bytree': 0.7848452957768145, 'max_deph': 10, 'lr': 0.07228409123041654, 'lambd': 8.50699757125352, 'alpha': 3.428259342704997, 'scale_pos_weight': 1}. Best is trial#86 with value: 0.8926041371493341.\n",
      "[I 2020-07-16 20:44:49,869] Finished trial#93 with value: 0.8914706715783508 with parameters: {'min_child_weight': 2, 'gamma': 2.3201898032752437, 'subsample': 0.8114955595065902, 'colsample_bytree': 0.7920926557121869, 'max_deph': 10, 'lr': 0.06995890501578612, 'lambd': 8.543634467187674, 'alpha': 3.4609256852377204, 'scale_pos_weight': 1}. Best is trial#86 with value: 0.8926041371493341.\n",
      "[I 2020-07-16 20:44:55,799] Finished trial#94 with value: 0.8926041371493341 with parameters: {'min_child_weight': 2, 'gamma': 2.7154890445684248, 'subsample': 0.7811110135694387, 'colsample_bytree': 0.8434088276784962, 'max_deph': 10, 'lr': 0.06616795377999078, 'lambd': 8.736182260698607, 'alpha': 1.9849625542380007, 'scale_pos_weight': 1}. Best is trial#86 with value: 0.8926041371493341.\n",
      "[I 2020-07-16 20:45:01,704] Finished trial#95 with value: 0.8924624539529612 with parameters: {'min_child_weight': 2, 'gamma': 2.7382561792974887, 'subsample': 0.7807815337987545, 'colsample_bytree': 0.8539314873514139, 'max_deph': 10, 'lr': 0.06515854707889315, 'lambd': 9.331839181372487, 'alpha': 2.0087670030450924, 'scale_pos_weight': 1}. Best is trial#86 with value: 0.8926041371493341.\n",
      "[I 2020-07-16 20:45:02,815] Finished trial#96 with value: 0.8604420515726835 with parameters: {'min_child_weight': 2, 'gamma': 3.111880928068622, 'subsample': 0.793478918913184, 'colsample_bytree': 0.9924611385207347, 'max_deph': 10, 'lr': 0.06585135833201874, 'lambd': 9.25991722387872, 'alpha': 2.104666522614355, 'scale_pos_weight': 0}. Best is trial#86 with value: 0.8926041371493341.\n",
      "[I 2020-07-16 20:45:09,121] Finished trial#97 with value: 0.8799943326721451 with parameters: {'min_child_weight': 2, 'gamma': 2.7158165954244655, 'subsample': 0.754080568714166, 'colsample_bytree': 0.8476934923125717, 'max_deph': 10, 'lr': 0.06175624984459159, 'lambd': 8.796371370787444, 'alpha': 1.442178944423437, 'scale_pos_weight': 2}. Best is trial#86 with value: 0.8926041371493341.\n",
      "[I 2020-07-16 20:45:14,960] Finished trial#98 with value: 0.8434400680079343 with parameters: {'min_child_weight': 2, 'gamma': 2.5979449853870715, 'subsample': 0.7813116269218326, 'colsample_bytree': 0.8929066143402622, 'max_deph': 9, 'lr': 0.06841500250314955, 'lambd': 9.480281404407844, 'alpha': 2.3376653300487362, 'scale_pos_weight': 4}. Best is trial#86 with value: 0.8926041371493341.\n",
      "[I 2020-07-16 20:45:21,706] Finished trial#99 with value: 0.8920374043638425 with parameters: {'min_child_weight': 2, 'gamma': 1.122280555762168, 'subsample': 0.7438627292728883, 'colsample_bytree': 0.9738158251532085, 'max_deph': 10, 'lr': 0.06083504990941339, 'lambd': 7.842409103716965, 'alpha': 1.932968064350235, 'scale_pos_weight': 1}. Best is trial#86 with value: 0.8926041371493341.\n",
      "[I 2020-07-16 20:45:27,661] Finished trial#100 with value: 0.891187305185605 with parameters: {'min_child_weight': 2, 'gamma': 1.0447944186201337, 'subsample': 0.7743282872618028, 'colsample_bytree': 0.9651106295088916, 'max_deph': 9, 'lr': 0.06575891602519059, 'lambd': 7.837375286018569, 'alpha': 2.0343829908792097, 'scale_pos_weight': 1}. Best is trial#86 with value: 0.8926041371493341.\n",
      "[I 2020-07-16 20:45:33,452] Finished trial#101 with value: 0.8907622555964863 with parameters: {'min_child_weight': 2, 'gamma': 1.3645084851344418, 'subsample': 0.8141166393087502, 'colsample_bytree': 0.8156388495671124, 'max_deph': 10, 'lr': 0.07452299059160118, 'lambd': 9.094363176174134, 'alpha': 0.9887947197678703, 'scale_pos_weight': 1}. Best is trial#86 with value: 0.8926041371493341.\n",
      "[I 2020-07-16 20:45:39,763] Finished trial#102 with value: 0.891187305185605 with parameters: {'min_child_weight': 2, 'gamma': 1.9466929455426327, 'subsample': 0.80824237673693, 'colsample_bytree': 0.9233669816924245, 'max_deph': 10, 'lr': 0.05985601254823274, 'lambd': 9.785963860499038, 'alpha': 1.9174980800922188, 'scale_pos_weight': 1}. Best is trial#86 with value: 0.8926041371493341.\n",
      "[I 2020-07-16 20:45:45,222] Finished trial#103 with value: 0.8909039387928591 with parameters: {'min_child_weight': 2, 'gamma': 2.999888993756996, 'subsample': 0.7396838226186224, 'colsample_bytree': 0.7707265645669671, 'max_deph': 10, 'lr': 0.056333605490568504, 'lambd': 8.080085487869148, 'alpha': 2.5590221330625247, 'scale_pos_weight': 1}. Best is trial#86 with value: 0.8926041371493341.\n",
      "[I 2020-07-16 20:45:50,965] Finished trial#104 with value: 0.8910456219892321 with parameters: {'min_child_weight': 2, 'gamma': 2.2406132513291834, 'subsample': 0.8568270185167718, 'colsample_bytree': 0.8708615053590882, 'max_deph': 10, 'lr': 0.07185020540838061, 'lambd': 8.48726119333632, 'alpha': 4.054090787551984, 'scale_pos_weight': 1}. Best is trial#86 with value: 0.8926041371493341.\n",
      "[I 2020-07-16 20:45:55,645] Finished trial#105 with value: 0.8913289883819779 with parameters: {'min_child_weight': 3, 'gamma': 0.7942614188235344, 'subsample': 0.7470836736720705, 'colsample_bytree': 0.704858096977584, 'max_deph': 9, 'lr': 0.06340772319054139, 'lambd': 8.94697864356025, 'alpha': 3.2230535509306955, 'scale_pos_weight': 1}. Best is trial#86 with value: 0.8926041371493341.\n",
      "[I 2020-07-16 20:46:00,868] Finished trial#106 with value: 0.8917540379710966 with parameters: {'min_child_weight': 3, 'gamma': 1.5563009887215515, 'subsample': 0.8236782912680788, 'colsample_bytree': 0.7667899090459968, 'max_deph': 10, 'lr': 0.051491891750291625, 'lambd': 8.346648501771572, 'alpha': 2.854881523417937, 'scale_pos_weight': 1}. Best is trial#86 with value: 0.8926041371493341.\n",
      "[I 2020-07-16 20:46:06,108] Finished trial#107 with value: 0.8909039387928591 with parameters: {'min_child_weight': 3, 'gamma': 2.076718039121036, 'subsample': 0.8032687268635965, 'colsample_bytree': 0.7326360679399558, 'max_deph': 10, 'lr': 0.06935570476847124, 'lambd': 7.933306987057869, 'alpha': 1.5711511251307737, 'scale_pos_weight': 1}. Best is trial#86 with value: 0.8926041371493341.\n",
      "[I 2020-07-16 20:46:10,833] Finished trial#108 with value: 0.8838197789742137 with parameters: {'min_child_weight': 6, 'gamma': 9.907269322392807, 'subsample': 0.8914202349937264, 'colsample_bytree': 0.7602020967262881, 'max_deph': 9, 'lr': 0.06687379421872547, 'lambd': 8.327544818563878, 'alpha': 2.9529900648634064, 'scale_pos_weight': 2}. Best is trial#86 with value: 0.8926041371493341.\n",
      "[I 2020-07-16 20:46:16,487] Finished trial#109 with value: 0.8910456219892321 with parameters: {'min_child_weight': 3, 'gamma': 0.5129397974807013, 'subsample': 0.7790611468753089, 'colsample_bytree': 0.8529783259378833, 'max_deph': 10, 'lr': 0.06005023563021845, 'lambd': 8.800140493954583, 'alpha': 3.7424981296619437, 'scale_pos_weight': 1}. Best is trial#86 with value: 0.8926041371493341.\n",
      "[I 2020-07-16 20:46:17,508] Finished trial#110 with value: 0.8604420515726835 with parameters: {'min_child_weight': 2, 'gamma': 1.4419668936979098, 'subsample': 0.8493372760256059, 'colsample_bytree': 0.8153959636097236, 'max_deph': 9, 'lr': 0.05111038243876999, 'lambd': 9.33999092432326, 'alpha': 1.957875850341953, 'scale_pos_weight': 0}. Best is trial#86 with value: 0.8926041371493341.\n",
      "[I 2020-07-16 20:46:22,882] Finished trial#111 with value: 0.8913289883819779 with parameters: {'min_child_weight': 2, 'gamma': 2.5168870725047308, 'subsample': 0.8750095186088975, 'colsample_bytree': 0.8019337368255076, 'max_deph': 10, 'lr': 0.07162708097344628, 'lambd': 8.518050578746792, 'alpha': 2.58098302738653, 'scale_pos_weight': 1}. Best is trial#86 with value: 0.8926041371493341.\n",
      "[I 2020-07-16 20:46:27,939] Finished trial#112 with value: 0.8900538396146217 with parameters: {'min_child_weight': 3, 'gamma': 1.048561811795183, 'subsample': 0.8203939639610596, 'colsample_bytree': 0.7056640306717947, 'max_deph': 10, 'lr': 0.06271668554073107, 'lambd': 8.612463632382951, 'alpha': 2.368593862053414, 'scale_pos_weight': 1}. Best is trial#86 with value: 0.8926041371493341.\n",
      "[I 2020-07-16 20:46:33,900] Finished trial#113 with value: 0.891187305185605 with parameters: {'min_child_weight': 2, 'gamma': 1.5458267110886472, 'subsample': 0.7897692026728689, 'colsample_bytree': 0.8800026728710854, 'max_deph': 10, 'lr': 0.06467538740832819, 'lambd': 7.7850044468221595, 'alpha': 3.5458646692024915, 'scale_pos_weight': 1}. Best is trial#86 with value: 0.8926041371493341.\n",
      "[I 2020-07-16 20:46:39,395] Finished trial#114 with value: 0.8906205724001134 with parameters: {'min_child_weight': 3, 'gamma': 0.6689713163103975, 'subsample': 0.8390916741984586, 'colsample_bytree': 0.8316832900816127, 'max_deph': 10, 'lr': 0.05472304236218528, 'lambd': 8.697211354603349, 'alpha': 2.905066408662607, 'scale_pos_weight': 1}. Best is trial#86 with value: 0.8926041371493341.\n",
      "[I 2020-07-16 20:46:44,639] Finished trial#115 with value: 0.8909039387928591 with parameters: {'min_child_weight': 3, 'gamma': 1.173102287007838, 'subsample': 0.8264996486414358, 'colsample_bytree': 0.7701498583274089, 'max_deph': 10, 'lr': 0.04655479951526028, 'lambd': 8.177029605095157, 'alpha': 2.2633282061558213, 'scale_pos_weight': 1}. Best is trial#86 with value: 0.8926041371493341.\n",
      "[I 2020-07-16 20:46:49,310] Finished trial#116 with value: 0.8921790875602154 with parameters: {'min_child_weight': 4, 'gamma': 1.8440033527584125, 'subsample': 0.822692898363013, 'colsample_bytree': 0.7448641098866293, 'max_deph': 9, 'lr': 0.07690576724038588, 'lambd': 7.626514338840825, 'alpha': 2.776375325667504, 'scale_pos_weight': 1}. Best is trial#86 with value: 0.8926041371493341.\n",
      "[I 2020-07-16 20:46:53,872] Finished trial#117 with value: 0.8921790875602154 with parameters: {'min_child_weight': 5, 'gamma': 1.9335084437644126, 'subsample': 0.7986895924263324, 'colsample_bytree': 0.7233479361165256, 'max_deph': 9, 'lr': 0.07752475773684586, 'lambd': 7.559742190483191, 'alpha': 2.592707197797841, 'scale_pos_weight': 1}. Best is trial#86 with value: 0.8926041371493341.\n",
      "[I 2020-07-16 20:46:58,524] Finished trial#118 with value: 0.8921790875602154 with parameters: {'min_child_weight': 5, 'gamma': 1.9802127902371884, 'subsample': 0.7299409843848623, 'colsample_bytree': 0.7163852477680732, 'max_deph': 9, 'lr': 0.07490583976525378, 'lambd': 6.96443149639784, 'alpha': 1.7697467802237723, 'scale_pos_weight': 1}. Best is trial#86 with value: 0.8926041371493341.\n",
      "[I 2020-07-16 20:46:59,558] Finished trial#119 with value: 0.8604420515726835 with parameters: {'min_child_weight': 5, 'gamma': 1.9673884778215636, 'subsample': 0.6990804704656669, 'colsample_bytree': 0.7193816822579552, 'max_deph': 9, 'lr': 0.07575159199559767, 'lambd': 7.242003183209054, 'alpha': 1.5261565879176613, 'scale_pos_weight': 0}. Best is trial#86 with value: 0.8926041371493341.\n",
      "[I 2020-07-16 20:47:04,347] Finished trial#120 with value: 0.8918957211674695 with parameters: {'min_child_weight': 5, 'gamma': 2.8031508836551717, 'subsample': 0.7333510676118689, 'colsample_bytree': 0.747614593948625, 'max_deph': 9, 'lr': 0.08169999455835246, 'lambd': 6.903571247690251, 'alpha': 1.823764137227592, 'scale_pos_weight': 1}. Best is trial#86 with value: 0.8926041371493341.\n",
      "[I 2020-07-16 20:47:09,219] Finished trial#121 with value: 0.8916123547747237 with parameters: {'min_child_weight': 5, 'gamma': 2.6376488073913444, 'subsample': 0.7275797148429558, 'colsample_bytree': 0.7501103198937862, 'max_deph': 9, 'lr': 0.07459311811151531, 'lambd': 6.86882201678101, 'alpha': 1.4026078477263864, 'scale_pos_weight': 1}. Best is trial#86 with value: 0.8926041371493341.\n",
      "[I 2020-07-16 20:47:14,374] Finished trial#122 with value: 0.8234627373193539 with parameters: {'min_child_weight': 5, 'gamma': 2.9596229294016156, 'subsample': 0.7623355425220847, 'colsample_bytree': 0.7330356565389918, 'max_deph': 9, 'lr': 0.08110390714585472, 'lambd': 7.6038161170282, 'alpha': 1.843600657535341, 'scale_pos_weight': 5}. Best is trial#86 with value: 0.8926041371493341.\n",
      "[I 2020-07-16 20:47:18,910] Finished trial#123 with value: 0.8923207707565882 with parameters: {'min_child_weight': 5, 'gamma': 2.4658638002471527, 'subsample': 0.7381382267329678, 'colsample_bytree': 0.6956248930481226, 'max_deph': 9, 'lr': 0.06964244781339489, 'lambd': 6.2778252226697715, 'alpha': 2.1878648154701135, 'scale_pos_weight': 1}. Best is trial#86 with value: 0.8926041371493341.\n",
      "[I 2020-07-16 20:47:23,071] Finished trial#124 with value: 0.8907622555964863 with parameters: {'min_child_weight': 5, 'gamma': 2.4608180860464297, 'subsample': 0.71170020807265, 'colsample_bytree': 0.688936520197908, 'max_deph': 8, 'lr': 0.07002291624282932, 'lambd': 6.477810559594337, 'alpha': 1.7690407511645327, 'scale_pos_weight': 1}. Best is trial#86 with value: 0.8926041371493341.\n",
      "[I 2020-07-16 20:47:27,036] Finished trial#125 with value: 0.8914706715783508 with parameters: {'min_child_weight': 6, 'gamma': 1.890874526734456, 'subsample': 0.7405737364764879, 'colsample_bytree': 0.5882783408433353, 'max_deph': 9, 'lr': 0.07322764500183473, 'lambd': 6.5931872839782955, 'alpha': 2.1524147668433824, 'scale_pos_weight': 1}. Best is trial#86 with value: 0.8926041371493341.\n",
      "[I 2020-07-16 20:47:31,824] Finished trial#126 with value: 0.891187305185605 with parameters: {'min_child_weight': 5, 'gamma': 2.18421458914194, 'subsample': 0.7532820982769585, 'colsample_bytree': 0.7441410117388269, 'max_deph': 9, 'lr': 0.06742540186197188, 'lambd': 6.332778784200927, 'alpha': 1.1813918813016193, 'scale_pos_weight': 1}. Best is trial#86 with value: 0.8926041371493341.\n",
      "[I 2020-07-16 20:47:36,505] Finished trial#127 with value: 0.8913289883819779 with parameters: {'min_child_weight': 4, 'gamma': 3.2377407663227253, 'subsample': 0.725410243384371, 'colsample_bytree': 0.7139589669138343, 'max_deph': 9, 'lr': 0.07725811829782545, 'lambd': 6.934160851709765, 'alpha': 2.5522280563795103, 'scale_pos_weight': 1}. Best is trial#86 with value: 0.8926041371493341.\n",
      "[I 2020-07-16 20:47:40,920] Finished trial#128 with value: 0.8924624539529612 with parameters: {'min_child_weight': 5, 'gamma': 2.850630661584837, 'subsample': 0.6924156082074376, 'colsample_bytree': 0.6601962116523376, 'max_deph': 9, 'lr': 0.06453444917482365, 'lambd': 6.139813063426726, 'alpha': 1.9518889549991383, 'scale_pos_weight': 1}. Best is trial#86 with value: 0.8926041371493341.\n",
      "[I 2020-07-16 20:47:45,556] Finished trial#129 with value: 0.8807027486540097 with parameters: {'min_child_weight': 6, 'gamma': 2.8128412847370208, 'subsample': 0.7714284033443063, 'colsample_bytree': 0.8038498858791079, 'max_deph': 8, 'lr': 0.06452120336823454, 'lambd': 5.409243917119047, 'alpha': 1.8844273081748868, 'scale_pos_weight': 2}. Best is trial#86 with value: 0.8926041371493341.\n",
      "[I 2020-07-16 20:47:49,828] Finished trial#130 with value: 0.8913289883819779 with parameters: {'min_child_weight': 5, 'gamma': 2.3736753345923765, 'subsample': 0.7929459050142956, 'colsample_bytree': 0.6538726543752295, 'max_deph': 9, 'lr': 0.06991600738523648, 'lambd': 5.76854619491688, 'alpha': 3.0970062739731388, 'scale_pos_weight': 1}. Best is trial#86 with value: 0.8926041371493341.\n",
      "[I 2020-07-16 20:47:54,357] Finished trial#131 with value: 0.891187305185605 with parameters: {'min_child_weight': 5, 'gamma': 2.6898592766091953, 'subsample': 0.6986642449111667, 'colsample_bytree': 0.6950375858094038, 'max_deph': 9, 'lr': 0.07598339946496993, 'lambd': 7.305923764018904, 'alpha': 2.1755510752758034, 'scale_pos_weight': 1}. Best is trial#86 with value: 0.8926041371493341.\n",
      "[I 2020-07-16 20:47:58,830] Finished trial#132 with value: 0.8910456219892321 with parameters: {'min_child_weight': 4, 'gamma': 2.081352553831951, 'subsample': 0.6902539037647984, 'colsample_bytree': 0.6634249454031782, 'max_deph': 9, 'lr': 0.06724245785262084, 'lambd': 5.139967903422053, 'alpha': 2.4583344410729557, 'scale_pos_weight': 1}. Best is trial#86 with value: 0.8926041371493341.\n",
      "[I 2020-07-16 20:48:03,238] Finished trial#133 with value: 0.8916123547747237 with parameters: {'min_child_weight': 5, 'gamma': 1.889073607602724, 'subsample': 0.6823388504896947, 'colsample_bytree': 0.6865193414579654, 'max_deph': 9, 'lr': 0.07328914562313088, 'lambd': 6.132539667860418, 'alpha': 4.685181751740741, 'scale_pos_weight': 1}. Best is trial#86 with value: 0.8926041371493341.\n",
      "[I 2020-07-16 20:48:07,471] Finished trial#134 with value: 0.8917540379710966 with parameters: {'min_child_weight': 4, 'gamma': 2.4310154202793948, 'subsample': 0.8031552136579032, 'colsample_bytree': 0.62953898427827, 'max_deph': 9, 'lr': 0.058854079229672285, 'lambd': 7.550114845937786, 'alpha': 2.5822667561046977, 'scale_pos_weight': 1}. Best is trial#86 with value: 0.8926041371493341.\n",
      "[I 2020-07-16 20:48:12,470] Finished trial#135 with value: 0.8909039387928591 with parameters: {'min_child_weight': 5, 'gamma': 3.1070798603073504, 'subsample': 0.734847862831806, 'colsample_bytree': 0.7215387086697443, 'max_deph': 10, 'lr': 0.08149044037871346, 'lambd': 6.742587785594493, 'alpha': 1.6785891849558403, 'scale_pos_weight': 1}. Best is trial#86 with value: 0.8926041371493341.\n",
      "[I 2020-07-16 20:48:17,012] Finished trial#136 with value: 0.8913289883819779 with parameters: {'min_child_weight': 6, 'gamma': 1.3287991372127652, 'subsample': 0.672873928627893, 'colsample_bytree': 0.7825495255142685, 'max_deph': 8, 'lr': 0.0616035803571483, 'lambd': 7.993012747569173, 'alpha': 1.309844884304576, 'scale_pos_weight': 1}. Best is trial#86 with value: 0.8926041371493341.\n",
      "[I 2020-07-16 20:48:21,449] Finished trial#137 with value: 0.8923207707565882 with parameters: {'min_child_weight': 4, 'gamma': 2.9609143029477494, 'subsample': 0.7244378678208119, 'colsample_bytree': 0.670068110019101, 'max_deph': 9, 'lr': 0.07829569533410143, 'lambd': 7.083131259356854, 'alpha': 1.9568665723044145, 'scale_pos_weight': 1}. Best is trial#86 with value: 0.8926041371493341.\n",
      "[I 2020-07-16 20:48:25,982] Finished trial#138 with value: 0.8914706715783508 with parameters: {'min_child_weight': 4, 'gamma': 2.889679066421472, 'subsample': 0.7236895666943164, 'colsample_bytree': 0.6626271089787193, 'max_deph': 9, 'lr': 0.0784758597821335, 'lambd': 7.111744170415216, 'alpha': 0.9954599271366059, 'scale_pos_weight': 1}. Best is trial#86 with value: 0.8926041371493341.\n",
      "[I 2020-07-16 20:48:27,771] Finished trial#139 with value: 0.8883536412581468 with parameters: {'min_child_weight': 4, 'gamma': 3.577672216417956, 'subsample': 0.7083716013133556, 'colsample_bytree': 0.6186162233603097, 'max_deph': 3, 'lr': 0.06800015386764255, 'lambd': 5.79347535328768, 'alpha': 2.0329402740537983, 'scale_pos_weight': 1}. Best is trial#86 with value: 0.8926041371493341.\n",
      "[I 2020-07-16 20:48:32,735] Finished trial#140 with value: 0.8914706715783508 with parameters: {'min_child_weight': 5, 'gamma': 1.6130237091430555, 'subsample': 0.7457060659344223, 'colsample_bytree': 0.7063591314629134, 'max_deph': 10, 'lr': 0.07503175380543978, 'lambd': 6.5878163812993575, 'alpha': 2.366514716057034, 'scale_pos_weight': 1}. Best is trial#86 with value: 0.8926041371493341.\n",
      "[I 2020-07-16 20:48:37,459] Finished trial#141 with value: 0.8918957211674695 with parameters: {'min_child_weight': 5, 'gamma': 2.141739592139043, 'subsample': 0.7832472062084135, 'colsample_bytree': 0.7476403044041134, 'max_deph': 9, 'lr': 0.08061676893366304, 'lambd': 6.003686536754018, 'alpha': 1.6768737183696105, 'scale_pos_weight': 1}. Best is trial#86 with value: 0.8926041371493341.\n",
      "[I 2020-07-16 20:48:42,194] Finished trial#142 with value: 0.891187305185605 with parameters: {'min_child_weight': 5, 'gamma': 2.781628246081534, 'subsample': 0.7674561243757607, 'colsample_bytree': 0.7344160891855565, 'max_deph': 9, 'lr': 0.07108150252277924, 'lambd': 7.456157251321274, 'alpha': 1.8901355337262238, 'scale_pos_weight': 1}. Best is trial#86 with value: 0.8926041371493341.\n",
      "[I 2020-07-16 20:48:47,066] Finished trial#143 with value: 0.8918957211674695 with parameters: {'min_child_weight': 5, 'gamma': 2.3458125354860107, 'subsample': 0.7550179431334164, 'colsample_bytree': 0.7601578610504185, 'max_deph': 9, 'lr': 0.07723664334572587, 'lambd': 6.9930809074244955, 'alpha': 2.213483228844876, 'scale_pos_weight': 1}. Best is trial#86 with value: 0.8926041371493341.\n",
      "[I 2020-07-16 20:48:51,692] Finished trial#144 with value: 0.8903372060073675 with parameters: {'min_child_weight': 5, 'gamma': 2.604239193486198, 'subsample': 0.7556265813977833, 'colsample_bytree': 0.8236658804004052, 'max_deph': 8, 'lr': 0.06605756090002833, 'lambd': 7.18820173826011, 'alpha': 4.172114886518759, 'scale_pos_weight': 1}. Best is trial#86 with value: 0.8926041371493341.\n",
      "[I 2020-07-16 20:48:56,420] Finished trial#145 with value: 0.8918957211674695 with parameters: {'min_child_weight': 5, 'gamma': 2.2524165230745945, 'subsample': 0.7778596565245139, 'colsample_bytree': 0.7549969900780783, 'max_deph': 9, 'lr': 0.07981513994749549, 'lambd': 6.155375984115965, 'alpha': 1.6504210003767517, 'scale_pos_weight': 1}. Best is trial#86 with value: 0.8926041371493341.\n",
      "[I 2020-07-16 20:48:58,023] Finished trial#146 with value: 0.8852366109379428 with parameters: {'min_child_weight': 6, 'gamma': 1.6982141840697025, 'subsample': 0.8163649467353342, 'colsample_bytree': 0.9685954128272258, 'max_deph': 2, 'lr': 0.07313380642155382, 'lambd': 5.565240794280118, 'alpha': 2.7276357497843855, 'scale_pos_weight': 1}. Best is trial#86 with value: 0.8926041371493341.\n",
      "[I 2020-07-16 20:49:03,775] Finished trial#147 with value: 0.891187305185605 with parameters: {'min_child_weight': 5, 'gamma': 3.0467391694456185, 'subsample': 0.7148060393385463, 'colsample_bytree': 0.8477448459226519, 'max_deph': 10, 'lr': 0.08324147764245204, 'lambd': 6.314017532625052, 'alpha': 1.4904660237510279, 'scale_pos_weight': 1}. Best is trial#86 with value: 0.8926041371493341.\n",
      "[I 2020-07-16 20:49:09,360] Finished trial#148 with value: 0.8917540379710966 with parameters: {'min_child_weight': 4, 'gamma': 2.047239107615366, 'subsample': 0.7320598902338935, 'colsample_bytree': 0.9168743398821111, 'max_deph': 9, 'lr': 0.08722129211885105, 'lambd': 5.894129869743164, 'alpha': 1.9874980427382616, 'scale_pos_weight': 1}. Best is trial#86 with value: 0.8926041371493341.\n",
      "[I 2020-07-16 20:49:10,429] Finished trial#149 with value: 0.8604420515726835 with parameters: {'min_child_weight': 5, 'gamma': 3.7697341159884843, 'subsample': 0.7215991692393073, 'colsample_bytree': 0.7898058618037296, 'max_deph': 9, 'lr': 0.06493142876938343, 'lambd': 6.739671584132953, 'alpha': 1.7432442578057175, 'scale_pos_weight': 0}. Best is trial#86 with value: 0.8926041371493341.\n",
      "[I 2020-07-16 20:49:14,842] Finished trial#150 with value: 0.8907622555964863 with parameters: {'min_child_weight': 7, 'gamma': 3.3080069740812847, 'subsample': 0.7015485890323144, 'colsample_bytree': 0.6773582459452959, 'max_deph': 9, 'lr': 0.07014703711385528, 'lambd': 7.776193821433102, 'alpha': 2.274847086172039, 'scale_pos_weight': 1}. Best is trial#86 with value: 0.8926041371493341.\n",
      "[I 2020-07-16 20:49:19,465] Finished trial#151 with value: 0.8920374043638425 with parameters: {'min_child_weight': 5, 'gamma': 2.4024032090159433, 'subsample': 0.7755518743300346, 'colsample_bytree': 0.7030459979814376, 'max_deph': 9, 'lr': 0.08074277425806715, 'lambd': 6.058190511151741, 'alpha': 1.6229117743703125, 'scale_pos_weight': 1}. Best is trial#86 with value: 0.8926041371493341.\n",
      "[I 2020-07-16 20:49:24,135] Finished trial#152 with value: 0.8914706715783508 with parameters: {'min_child_weight': 5, 'gamma': 2.5361759925729515, 'subsample': 0.7622066719712345, 'colsample_bytree': 0.704845944681073, 'max_deph': 9, 'lr': 0.08096160974214162, 'lambd': 6.009457174517055, 'alpha': 1.3839542237121776, 'scale_pos_weight': 1}. Best is trial#86 with value: 0.8926041371493341.\n",
      "[I 2020-07-16 20:49:28,904] Finished trial#153 with value: 0.8917540379710966 with parameters: {'min_child_weight': 5, 'gamma': 2.3089101602843383, 'subsample': 0.744125236870826, 'colsample_bytree': 0.7503213372936267, 'max_deph': 9, 'lr': 0.07845079246502966, 'lambd': 6.134713136501309, 'alpha': 2.1224314874040817, 'scale_pos_weight': 1}. Best is trial#86 with value: 0.8926041371493341.\n",
      "[I 2020-07-16 20:49:33,576] Finished trial#154 with value: 0.8931708699348258 with parameters: {'min_child_weight': 4, 'gamma': 2.720775100320441, 'subsample': 0.7907277178771294, 'colsample_bytree': 0.7355311514104833, 'max_deph': 9, 'lr': 0.08347307207616275, 'lambd': 6.404303575406692, 'alpha': 3.839749036506068, 'scale_pos_weight': 1}. Best is trial#154 with value: 0.8931708699348258.\n",
      "[I 2020-07-16 20:49:38,346] Finished trial#155 with value: 0.8924624539529612 with parameters: {'min_child_weight': 4, 'gamma': 2.217053074800275, 'subsample': 0.7821040345433411, 'colsample_bytree': 0.7546615061818004, 'max_deph': 9, 'lr': 0.08441032495964675, 'lambd': 6.4502227553943365, 'alpha': 1.5514747838129586, 'scale_pos_weight': 1}. Best is trial#154 with value: 0.8931708699348258.\n",
      "[I 2020-07-16 20:49:42,537] Finished trial#156 with value: 0.8923207707565882 with parameters: {'min_child_weight': 4, 'gamma': 2.933842377657145, 'subsample': 0.7891723831512079, 'colsample_bytree': 0.7239471802162426, 'max_deph': 8, 'lr': 0.08466624270834146, 'lambd': 6.522686368551757, 'alpha': 0.9206931073426738, 'scale_pos_weight': 1}. Best is trial#154 with value: 0.8931708699348258.\n",
      "[I 2020-07-16 20:49:47,192] Finished trial#157 with value: 0.8916123547747237 with parameters: {'min_child_weight': 4, 'gamma': 1.7610367285490962, 'subsample': 0.7968596285174167, 'colsample_bytree': 0.7278028122355586, 'max_deph': 9, 'lr': 0.08533369428690125, 'lambd': 6.46719125437254, 'alpha': 0.8438163117943949, 'scale_pos_weight': 1}. Best is trial#154 with value: 0.8931708699348258.\n",
      "[I 2020-07-16 20:49:51,408] Finished trial#158 with value: 0.8909039387928591 with parameters: {'min_child_weight': 4, 'gamma': 2.8563933064218614, 'subsample': 0.7869457393023045, 'colsample_bytree': 0.7251437977811124, 'max_deph': 8, 'lr': 0.07476913819892628, 'lambd': 6.614473823962185, 'alpha': 0.3090777442058166, 'scale_pos_weight': 1}. Best is trial#154 with value: 0.8931708699348258.\n",
      "[I 2020-07-16 20:49:55,849] Finished trial#159 with value: 0.8917540379710966 with parameters: {'min_child_weight': 4, 'gamma': 3.078054669089996, 'subsample': 0.7710723197683774, 'colsample_bytree': 0.7745325012844119, 'max_deph': 8, 'lr': 0.08700813080281392, 'lambd': 7.0446726847008945, 'alpha': 1.1588799302048494, 'scale_pos_weight': 1}. Best is trial#154 with value: 0.8931708699348258.\n",
      "[I 2020-07-16 20:50:00,234] Finished trial#160 with value: 0.891187305185605 with parameters: {'min_child_weight': 4, 'gamma': 2.6875941326522104, 'subsample': 0.7835050178812807, 'colsample_bytree': 0.6678395923895788, 'max_deph': 9, 'lr': 0.08895118779831464, 'lambd': 6.860493939175463, 'alpha': 1.4863435805619023, 'scale_pos_weight': 1}. Best is trial#154 with value: 0.8931708699348258.\n",
      "[I 2020-07-16 20:50:04,954] Finished trial#161 with value: 0.8920374043638425 with parameters: {'min_child_weight': 4, 'gamma': 2.3192017457121814, 'subsample': 0.7587152137297147, 'colsample_bytree': 0.703504467098057, 'max_deph': 9, 'lr': 0.07951316229859352, 'lambd': 6.163347950694169, 'alpha': 1.6309792924403828, 'scale_pos_weight': 1}. Best is trial#154 with value: 0.8931708699348258.\n",
      "[I 2020-07-16 20:50:09,436] Finished trial#162 with value: 0.8918957211674695 with parameters: {'min_child_weight': 4, 'gamma': 1.9315490486629718, 'subsample': 0.7968227002224681, 'colsample_bytree': 0.6856547942777591, 'max_deph': 9, 'lr': 0.0840433099640167, 'lambd': 6.321680538731422, 'alpha': 2.446128385455352, 'scale_pos_weight': 1}. Best is trial#154 with value: 0.8931708699348258.\n",
      "[I 2020-07-16 20:50:13,959] Finished trial#163 with value: 0.8930291867384528 with parameters: {'min_child_weight': 4, 'gamma': 2.461920680722567, 'subsample': 0.8082027743985999, 'colsample_bytree': 0.7068158396497451, 'max_deph': 9, 'lr': 0.08292222320078611, 'lambd': 6.186419609520872, 'alpha': 3.8529115216000243, 'scale_pos_weight': 1}. Best is trial#154 with value: 0.8931708699348258.\n",
      "[I 2020-07-16 20:50:18,235] Finished trial#164 with value: 0.8913289883819779 with parameters: {'min_child_weight': 4, 'gamma': 2.535691174417784, 'subsample': 0.8095446529245803, 'colsample_bytree': 0.6459125587974033, 'max_deph': 9, 'lr': 0.0830589909957582, 'lambd': 6.432615367377632, 'alpha': 0.4776615941536711, 'scale_pos_weight': 1}. Best is trial#154 with value: 0.8931708699348258.\n",
      "[I 2020-07-16 20:50:22,465] Finished trial#165 with value: 0.8918957211674695 with parameters: {'min_child_weight': 4, 'gamma': 2.2331270381560504, 'subsample': 0.7781990636224513, 'colsample_bytree': 0.7152124455387825, 'max_deph': 8, 'lr': 0.08663411920092604, 'lambd': 5.7012210634394, 'alpha': 2.008497127597788, 'scale_pos_weight': 1}. Best is trial#154 with value: 0.8931708699348258.\n",
      "[I 2020-07-16 20:50:27,146] Finished trial#166 with value: 0.8917540379710966 with parameters: {'min_child_weight': 4, 'gamma': 2.0329793982361166, 'subsample': 0.8039757784225843, 'colsample_bytree': 0.7033280951712078, 'max_deph': 9, 'lr': 0.0845174966978074, 'lambd': 6.181564423528827, 'alpha': 1.2860583293850472, 'scale_pos_weight': 1}. Best is trial#154 with value: 0.8931708699348258.\n",
      "[I 2020-07-16 20:50:31,877] Finished trial#167 with value: 0.8910456219892321 with parameters: {'min_child_weight': 4, 'gamma': 2.6213118498295143, 'subsample': 0.7604206863379768, 'colsample_bytree': 0.7290072254698717, 'max_deph': 9, 'lr': 0.08879910699243451, 'lambd': 5.968698901929807, 'alpha': 1.0216745029607588, 'scale_pos_weight': 1}. Best is trial#154 with value: 0.8931708699348258.\n",
      "[I 2020-07-16 20:50:36,796] Finished trial#168 with value: 0.8921790875602154 with parameters: {'min_child_weight': 4, 'gamma': 1.8133865238655402, 'subsample': 0.7901054183126013, 'colsample_bytree': 0.8085182494588454, 'max_deph': 9, 'lr': 0.08000627742232577, 'lambd': 6.61027445982333, 'alpha': 3.9091149927737057, 'scale_pos_weight': 1}. Best is trial#154 with value: 0.8931708699348258.\n",
      "[I 2020-07-16 20:50:41,824] Finished trial#169 with value: 0.8904788892037404 with parameters: {'min_child_weight': 4, 'gamma': 3.2307858693136535, 'subsample': 0.7920443192616017, 'colsample_bytree': 0.8110326567755243, 'max_deph': 9, 'lr': 0.0818994721173709, 'lambd': 6.602380318971473, 'alpha': 3.800402451737091, 'scale_pos_weight': 1}. Best is trial#154 with value: 0.8931708699348258.\n",
      "[I 2020-07-16 20:50:45,953] Finished trial#170 with value: 0.8906205724001134 with parameters: {'min_child_weight': 4, 'gamma': 2.363216373861335, 'subsample': 0.7668705842297298, 'colsample_bytree': 0.6924168347932642, 'max_deph': 8, 'lr': 0.07965396897498042, 'lambd': 6.4520567566213956, 'alpha': 1.5787353572194858, 'scale_pos_weight': 1}. Best is trial#154 with value: 0.8931708699348258.\n",
      "[I 2020-07-16 20:50:50,748] Finished trial#171 with value: 0.891187305185605 with parameters: {'min_child_weight': 4, 'gamma': 2.1227227753885956, 'subsample': 0.7813499855481694, 'colsample_bytree': 0.7409362538664277, 'max_deph': 9, 'lr': 0.07954823723788898, 'lambd': 5.998798605490408, 'alpha': 1.7455307274124978, 'scale_pos_weight': 1}. Best is trial#154 with value: 0.8931708699348258.\n",
      "[I 2020-07-16 20:50:55,283] Finished trial#172 with value: 0.8914706715783508 with parameters: {'min_child_weight': 4, 'gamma': 2.997244910064526, 'subsample': 0.8137953607491932, 'colsample_bytree': 0.7102240788223931, 'max_deph': 9, 'lr': 0.07719895345065722, 'lambd': 6.134329085254037, 'alpha': 3.593093756538261, 'scale_pos_weight': 1}. Best is trial#154 with value: 0.8931708699348258.\n",
      "[I 2020-07-16 20:51:00,251] Finished trial#173 with value: 0.8910456219892321 with parameters: {'min_child_weight': 4, 'gamma': 1.8913826740250776, 'subsample': 0.7487049066584609, 'colsample_bytree': 0.7972346776514522, 'max_deph': 9, 'lr': 0.07540349331731463, 'lambd': 6.777594379730455, 'alpha': 4.001669837065445, 'scale_pos_weight': 1}. Best is trial#154 with value: 0.8931708699348258.\n",
      "[I 2020-07-16 20:51:05,238] Finished trial#174 with value: 0.8921790875602154 with parameters: {'min_child_weight': 2, 'gamma': 1.4988714222818063, 'subsample': 0.7989413918168147, 'colsample_bytree': 0.7719053612885362, 'max_deph': 9, 'lr': 0.08315193304075902, 'lambd': 6.274770279291764, 'alpha': 3.2395469664100363, 'scale_pos_weight': 1}. Best is trial#154 with value: 0.8931708699348258.\n",
      "[I 2020-07-16 20:51:10,088] Finished trial#175 with value: 0.8907622555964863 with parameters: {'min_child_weight': 4, 'gamma': 1.4229377119025979, 'subsample': 0.789866984317902, 'colsample_bytree': 0.7697772698789245, 'max_deph': 9, 'lr': 0.08264952275976603, 'lambd': 6.354435257032718, 'alpha': 3.2442625562942933, 'scale_pos_weight': 1}. Best is trial#154 with value: 0.8931708699348258.\n",
      "[I 2020-07-16 20:51:15,153] Finished trial#176 with value: 0.8918957211674695 with parameters: {'min_child_weight': 4, 'gamma': 1.7754787927723388, 'subsample': 0.8018322226996154, 'colsample_bytree': 0.8313572953061689, 'max_deph': 9, 'lr': 0.08535833890832248, 'lambd': 6.5766524183099175, 'alpha': 3.079425196672215, 'scale_pos_weight': 1}. Best is trial#154 with value: 0.8931708699348258.\n",
      "[I 2020-07-16 20:51:20,011] Finished trial#177 with value: 0.8918957211674695 with parameters: {'min_child_weight': 3, 'gamma': 2.443769928086155, 'subsample': 0.7737824683963311, 'colsample_bytree': 0.7617301719941489, 'max_deph': 9, 'lr': 0.08387819007192349, 'lambd': 6.209179766256107, 'alpha': 3.799449810083107, 'scale_pos_weight': 1}. Best is trial#154 with value: 0.8931708699348258.\n",
      "[I 2020-07-16 20:51:24,918] Finished trial#178 with value: 0.892745820345707 with parameters: {'min_child_weight': 2, 'gamma': 2.2049503054136315, 'subsample': 0.8075076912742277, 'colsample_bytree': 0.7355778168739598, 'max_deph': 9, 'lr': 0.08198313982610239, 'lambd': 5.583378864671684, 'alpha': 1.9324084115562226, 'scale_pos_weight': 1}. Best is trial#154 with value: 0.8931708699348258.\n",
      "[I 2020-07-16 20:51:30,606] Finished trial#179 with value: 0.8906205724001134 with parameters: {'min_child_weight': 2, 'gamma': 2.7136124380322855, 'subsample': 0.8055902538685961, 'colsample_bytree': 0.9408512004003224, 'max_deph': 9, 'lr': 0.08214002361852155, 'lambd': 5.551215061801134, 'alpha': 1.987766290342159, 'scale_pos_weight': 1}. Best is trial#154 with value: 0.8931708699348258.\n",
      "[I 2020-07-16 20:51:35,970] Finished trial#180 with value: 0.8907622555964863 with parameters: {'min_child_weight': 2, 'gamma': 2.0645300344552364, 'subsample': 0.7974568649409803, 'colsample_bytree': 0.8581263042514835, 'max_deph': 9, 'lr': 0.0810950940636131, 'lambd': 5.2618830016525004, 'alpha': 2.213363163814809, 'scale_pos_weight': 1}. Best is trial#154 with value: 0.8931708699348258.\n",
      "[I 2020-07-16 20:51:40,876] Finished trial#181 with value: 0.8913289883819779 with parameters: {'min_child_weight': 2, 'gamma': 2.2208677525360794, 'subsample': 0.7890515792112026, 'colsample_bytree': 0.7372291136534156, 'max_deph': 9, 'lr': 0.0781318157441214, 'lambd': 4.757549472841852, 'alpha': 1.871451290847124, 'scale_pos_weight': 1}. Best is trial#154 with value: 0.8931708699348258.\n",
      "[I 2020-07-16 20:51:45,649] Finished trial#182 with value: 0.8914706715783508 with parameters: {'min_child_weight': 2, 'gamma': 1.8347481821688534, 'subsample': 0.8183064820764002, 'colsample_bytree': 0.724765037175023, 'max_deph': 9, 'lr': 0.08547329912474283, 'lambd': 5.727522964724168, 'alpha': 1.399512060916591, 'scale_pos_weight': 1}. Best is trial#154 with value: 0.8931708699348258.\n",
      "[I 2020-07-16 20:51:50,043] Finished trial#183 with value: 0.8910456219892321 with parameters: {'min_child_weight': 4, 'gamma': 2.449931024751766, 'subsample': 0.7730020118220967, 'colsample_bytree': 0.6747090155836022, 'max_deph': 9, 'lr': 0.07976001743594147, 'lambd': 6.320986512124639, 'alpha': 2.0860842467654437, 'scale_pos_weight': 1}. Best is trial#154 with value: 0.8931708699348258.\n",
      "[I 2020-07-16 20:51:54,680] Finished trial#184 with value: 0.8914706715783508 with parameters: {'min_child_weight': 2, 'gamma': 2.8331458045691025, 'subsample': 0.7579448074850798, 'colsample_bytree': 0.6994322879815114, 'max_deph': 9, 'lr': 0.07668556794951228, 'lambd': 6.695164742709388, 'alpha': 2.699520494126154, 'scale_pos_weight': 1}. Best is trial#154 with value: 0.8931708699348258.\n",
      "[I 2020-07-16 20:51:59,537] Finished trial#185 with value: 0.8918957211674695 with parameters: {'min_child_weight': 4, 'gamma': 2.2641841274131465, 'subsample': 0.8099245127638174, 'colsample_bytree': 0.779998595399496, 'max_deph': 9, 'lr': 0.08308402347599458, 'lambd': 5.914930215356134, 'alpha': 1.559451542643617, 'scale_pos_weight': 1}. Best is trial#154 with value: 0.8931708699348258.\n",
      "[I 2020-07-16 20:52:04,316] Finished trial#186 with value: 0.8920374043638425 with parameters: {'min_child_weight': 3, 'gamma': 2.5875602251455274, 'subsample': 0.7830940539703372, 'colsample_bytree': 0.751958404629624, 'max_deph': 9, 'lr': 0.0721570806538038, 'lambd': 7.153888763440628, 'alpha': 3.2750912283823395, 'scale_pos_weight': 1}. Best is trial#154 with value: 0.8931708699348258.\n",
      "[I 2020-07-16 20:52:08,936] Finished trial#187 with value: 0.8914706715783508 with parameters: {'min_child_weight': 3, 'gamma': 2.5717522253480745, 'subsample': 0.7861029971105937, 'colsample_bytree': 0.8116746625731566, 'max_deph': 8, 'lr': 0.0716103903982322, 'lambd': 7.194051668627892, 'alpha': 3.6024620082365217, 'scale_pos_weight': 1}. Best is trial#154 with value: 0.8931708699348258.\n",
      "[I 2020-07-16 20:52:13,509] Finished trial#188 with value: 0.8918957211674695 with parameters: {'min_child_weight': 4, 'gamma': 2.9508824452934905, 'subsample': 0.777494091842803, 'colsample_bytree': 0.7135272450765812, 'max_deph': 9, 'lr': 0.089903707554672, 'lambd': 6.508870350824255, 'alpha': 3.392445545736718, 'scale_pos_weight': 1}. Best is trial#154 with value: 0.8931708699348258.\n",
      "[I 2020-07-16 20:52:18,495] Finished trial#189 with value: 0.8913289883819779 with parameters: {'min_child_weight': 2, 'gamma': 1.5359354692125509, 'subsample': 0.7959729227388219, 'colsample_bytree': 0.756930262063024, 'max_deph': 9, 'lr': 0.06864221120099173, 'lambd': 7.114175218944005, 'alpha': 3.2258250149775383, 'scale_pos_weight': 1}. Best is trial#154 with value: 0.8931708699348258.\n",
      "[I 2020-07-16 20:52:23,341] Finished trial#190 with value: 0.8924624539529612 with parameters: {'min_child_weight': 3, 'gamma': 2.1389827048206245, 'subsample': 0.7481386962313993, 'colsample_bytree': 0.7454796458215954, 'max_deph': 9, 'lr': 0.07276733784101667, 'lambd': 7.331571866392588, 'alpha': 2.990564365814635, 'scale_pos_weight': 1}. Best is trial#154 with value: 0.8931708699348258.\n",
      "[I 2020-07-16 20:52:28,350] Finished trial#191 with value: 0.891187305185605 with parameters: {'min_child_weight': 2, 'gamma': 1.9968638045947975, 'subsample': 0.7400200177703987, 'colsample_bytree': 0.7355225633906787, 'max_deph': 9, 'lr': 0.0748707406489308, 'lambd': 6.882166810938721, 'alpha': 2.9776339073977476, 'scale_pos_weight': 1}. Best is trial#154 with value: 0.8931708699348258.\n",
      "[I 2020-07-16 20:52:33,222] Finished trial#192 with value: 0.8913289883819779 with parameters: {'min_child_weight': 3, 'gamma': 1.7680080585702127, 'subsample': 0.8183896057942234, 'colsample_bytree': 0.7613367117169375, 'max_deph': 9, 'lr': 0.07221849847039502, 'lambd': 7.4664598195926315, 'alpha': 3.2634126209890275, 'scale_pos_weight': 1}. Best is trial#154 with value: 0.8931708699348258.\n",
      "[I 2020-07-16 20:52:38,331] Finished trial#193 with value: 0.891187305185605 with parameters: {'min_child_weight': 3, 'gamma': 2.4029374699769273, 'subsample': 0.7661937966789556, 'colsample_bytree': 0.7866789129465886, 'max_deph': 9, 'lr': 0.07965478099145808, 'lambd': 6.227655754416283, 'alpha': 2.8165038850901616, 'scale_pos_weight': 1}. Best is trial#154 with value: 0.8931708699348258.\n",
      "[I 2020-07-16 20:52:42,735] Finished trial#194 with value: 0.8913289883819779 with parameters: {'min_child_weight': 4, 'gamma': 2.148466098329979, 'subsample': 0.7489319559187504, 'colsample_bytree': 0.6583672820344783, 'max_deph': 9, 'lr': 0.07706116764197646, 'lambd': 6.720264241546932, 'alpha': 2.2904626878940375, 'scale_pos_weight': 1}. Best is trial#154 with value: 0.8931708699348258.\n",
      "[I 2020-07-16 20:52:47,364] Finished trial#195 with value: 0.8914706715783508 with parameters: {'min_child_weight': 4, 'gamma': 1.9652809236271878, 'subsample': 0.7327187822998064, 'colsample_bytree': 0.69384420037812, 'max_deph': 9, 'lr': 0.08092781963064132, 'lambd': 6.4730629550106755, 'alpha': 1.8004060470556458, 'scale_pos_weight': 1}. Best is trial#154 with value: 0.8931708699348258.\n",
      "[I 2020-07-16 20:52:52,045] Finished trial#196 with value: 0.8914706715783508 with parameters: {'min_child_weight': 3, 'gamma': 2.6969526331396927, 'subsample': 0.8012549819769516, 'colsample_bytree': 0.7477022968912179, 'max_deph': 9, 'lr': 0.06861736404125031, 'lambd': 7.3523042051319125, 'alpha': 3.970160887783931, 'scale_pos_weight': 1}. Best is trial#154 with value: 0.8931708699348258.\n",
      "[I 2020-07-16 20:52:57,526] Finished trial#197 with value: 0.8909039387928591 with parameters: {'min_child_weight': 2, 'gamma': 2.840722700471031, 'subsample': 0.779785301564155, 'colsample_bytree': 0.8848591041492727, 'max_deph': 9, 'lr': 0.06390150405051359, 'lambd': 7.032977141044536, 'alpha': 3.6631752791806, 'scale_pos_weight': 1}. Best is trial#154 with value: 0.8931708699348258.\n",
      "[I 2020-07-16 20:53:02,128] Finished trial#198 with value: 0.8916123547747237 with parameters: {'min_child_weight': 3, 'gamma': 2.2253345459695053, 'subsample': 0.7563952494154099, 'colsample_bytree': 0.801932338486101, 'max_deph': 8, 'lr': 0.07348109446918547, 'lambd': 7.6564690869517165, 'alpha': 2.9519788023961966, 'scale_pos_weight': 1}. Best is trial#154 with value: 0.8931708699348258.\n",
      "[I 2020-07-16 20:53:06,738] Finished trial#199 with value: 0.8916123547747237 with parameters: {'min_child_weight': 4, 'gamma': 2.4632321292802124, 'subsample': 0.7890985438610273, 'colsample_bytree': 0.7160797251157967, 'max_deph': 9, 'lr': 0.0863450219407093, 'lambd': 6.035198259340342, 'alpha': 2.5158165198930584, 'scale_pos_weight': 1}. Best is trial#154 with value: 0.8931708699348258.\n",
      "[I 2020-07-16 20:53:11,207] Finished trial#200 with value: 0.891187305185605 with parameters: {'min_child_weight': 5, 'gamma': 2.609738694926587, 'subsample': 0.7684166403445231, 'colsample_bytree': 0.6783586650229997, 'max_deph': 9, 'lr': 0.07524491318052844, 'lambd': 5.860292427686706, 'alpha': 3.1386154875564154, 'scale_pos_weight': 1}. Best is trial#154 with value: 0.8931708699348258.\n",
      "[I 2020-07-16 20:53:14,623] Finished trial#201 with value: 0.8914706715783508 with parameters: {'min_child_weight': 2, 'gamma': 2.3394205376879205, 'subsample': 0.7443625110331991, 'colsample_bytree': 0.7298936289664949, 'max_deph': 6, 'lr': 0.0705376161233768, 'lambd': 7.2460456129987145, 'alpha': 1.9567728802077027, 'scale_pos_weight': 1}. Best is trial#154 with value: 0.8931708699348258.\n",
      "[I 2020-07-16 20:53:16,267] Finished trial#202 with value: 0.8853782941343157 with parameters: {'min_child_weight': 4, 'gamma': 1.2895753079122065, 'subsample': 0.7186841989630279, 'colsample_bytree': 0.18421521393356133, 'max_deph': 9, 'lr': 0.0665469743904197, 'lambd': 6.316293310188229, 'alpha': 1.7221308212677213, 'scale_pos_weight': 1}. Best is trial#154 with value: 0.8931708699348258.\n",
      "[I 2020-07-16 20:53:21,122] Finished trial#203 with value: 0.8913289883819779 with parameters: {'min_child_weight': 3, 'gamma': 2.1204357406082304, 'subsample': 0.8094392006826121, 'colsample_bytree': 0.7743146921776435, 'max_deph': 9, 'lr': 0.07789309901089836, 'lambd': 7.360671662200159, 'alpha': 3.4015557237961134, 'scale_pos_weight': 1}. Best is trial#154 with value: 0.8931708699348258.\n",
      "[I 2020-07-16 20:53:26,209] Finished trial#204 with value: 0.8603003683763105 with parameters: {'min_child_weight': 4, 'gamma': 1.7940120619235722, 'subsample': 0.7605628676778556, 'colsample_bytree': 0.7392505864651654, 'max_deph': 9, 'lr': 0.08400757945820836, 'lambd': 6.711497713668297, 'alpha': 2.123187318623875, 'scale_pos_weight': 3}. Best is trial#154 with value: 0.8931708699348258.\n",
      "[I 2020-07-16 20:53:30,795] Finished trial#205 with value: 0.8917540379710966 with parameters: {'min_child_weight': 5, 'gamma': 3.1397025609997766, 'subsample': 0.7750669265581684, 'colsample_bytree': 0.7188082060320501, 'max_deph': 9, 'lr': 0.08170561901098025, 'lambd': 6.944271397270567, 'alpha': 2.6462068833744485, 'scale_pos_weight': 1}. Best is trial#154 with value: 0.8931708699348258.\n",
      "[I 2020-07-16 20:53:36,054] Finished trial#206 with value: 0.8918957211674695 with parameters: {'min_child_weight': 3, 'gamma': 2.554551479534161, 'subsample': 0.827940493802577, 'colsample_bytree': 0.7519802357091213, 'max_deph': 10, 'lr': 0.07876445133254446, 'lambd': 6.105262905912562, 'alpha': 1.1936429114479847, 'scale_pos_weight': 1}. Best is trial#154 with value: 0.8931708699348258.\n",
      "[I 2020-07-16 20:53:40,682] Finished trial#207 with value: 0.891187305185605 with parameters: {'min_child_weight': 2, 'gamma': 1.6489426844299333, 'subsample': 0.7947553678647933, 'colsample_bytree': 0.6963057511036237, 'max_deph': 9, 'lr': 0.07264692994561625, 'lambd': 6.34504255481322, 'alpha': 2.308768918147415, 'scale_pos_weight': 1}. Best is trial#154 with value: 0.8931708699348258.\n",
      "[I 2020-07-16 20:53:45,582] Finished trial#208 with value: 0.8907622555964863 with parameters: {'min_child_weight': 4, 'gamma': 2.316657693163083, 'subsample': 0.7800599230687786, 'colsample_bytree': 0.764724503789622, 'max_deph': 9, 'lr': 0.06928383048117473, 'lambd': 6.466336052728272, 'alpha': 1.5507072111523634, 'scale_pos_weight': 1}. Best is trial#154 with value: 0.8931708699348258.\n",
      "[I 2020-07-16 20:53:51,106] Finished trial#209 with value: 0.8904788892037404 with parameters: {'min_child_weight': 5, 'gamma': 2.7511946818292157, 'subsample': 0.7877043160633833, 'colsample_bytree': 0.8368320620778007, 'max_deph': 10, 'lr': 0.08751887298487614, 'lambd': 7.597420399024014, 'alpha': 2.0313058252663927, 'scale_pos_weight': 1}. Best is trial#154 with value: 0.8931708699348258.\n",
      "[I 2020-07-16 20:53:55,764] Finished trial#210 with value: 0.8920374043638425 with parameters: {'min_child_weight': 4, 'gamma': 1.9787713771326576, 'subsample': 0.7993839986090957, 'colsample_bytree': 0.70832891493119, 'max_deph': 9, 'lr': 0.07617985256506944, 'lambd': 5.550684498359731, 'alpha': 1.7878013103315737, 'scale_pos_weight': 1}. Best is trial#154 with value: 0.8931708699348258.\n",
      "[I 2020-07-16 20:54:00,442] Finished trial#211 with value: 0.8916123547747237 with parameters: {'min_child_weight': 4, 'gamma': 1.9484303405944519, 'subsample': 0.8047245785330636, 'colsample_bytree': 0.7147129219947093, 'max_deph': 9, 'lr': 0.07539262445871867, 'lambd': 5.306990531206909, 'alpha': 1.8266979556718745, 'scale_pos_weight': 1}. Best is trial#154 with value: 0.8931708699348258.\n",
      "[I 2020-07-16 20:54:05,229] Finished trial#212 with value: 0.8914706715783508 with parameters: {'min_child_weight': 4, 'gamma': 1.9985928157938375, 'subsample': 0.796562716297812, 'colsample_bytree': 0.7403526334135403, 'max_deph': 9, 'lr': 0.08042497677751165, 'lambd': 5.72977574781294, 'alpha': 1.6574367695789392, 'scale_pos_weight': 1}. Best is trial#154 with value: 0.8931708699348258.\n",
      "[I 2020-07-16 20:54:09,712] Finished trial#213 with value: 0.8916123547747237 with parameters: {'min_child_weight': 4, 'gamma': 2.2624149131224405, 'subsample': 0.817724727972358, 'colsample_bytree': 0.6932630413831617, 'max_deph': 9, 'lr': 0.07653821376274172, 'lambd': 5.579662552944943, 'alpha': 1.9179939698977349, 'scale_pos_weight': 1}. Best is trial#154 with value: 0.8931708699348258.\n",
      "[I 2020-07-16 20:54:14,208] Finished trial#214 with value: 0.8914706715783508 with parameters: {'min_child_weight': 4, 'gamma': 2.429003854369639, 'subsample': 0.7388431303505109, 'colsample_bytree': 0.6669444081846632, 'max_deph': 9, 'lr': 0.0830777107470136, 'lambd': 5.473769361613764, 'alpha': 1.2962264011821567, 'scale_pos_weight': 1}. Best is trial#154 with value: 0.8931708699348258.\n",
      "[I 2020-07-16 20:54:16,510] Finished trial#215 with value: 0.8903372060073675 with parameters: {'min_child_weight': 2, 'gamma': 1.6650328672872714, 'subsample': 0.7687978653942702, 'colsample_bytree': 0.723424609301104, 'max_deph': 4, 'lr': 0.06652189046816329, 'lambd': 6.198605123694893, 'alpha': 2.213728747399071, 'scale_pos_weight': 1}. Best is trial#154 with value: 0.8931708699348258.\n",
      "[I 2020-07-16 20:54:21,392] Finished trial#216 with value: 0.8923207707565882 with parameters: {'min_child_weight': 4, 'gamma': 2.1493897668391613, 'subsample': 0.7855135342162017, 'colsample_bytree': 0.782740762474869, 'max_deph': 9, 'lr': 0.0628287520750743, 'lambd': 6.747526864630084, 'alpha': 2.3883381063588454, 'scale_pos_weight': 1}. Best is trial#154 with value: 0.8931708699348258.\n",
      "[I 2020-07-16 20:54:26,369] Finished trial#217 with value: 0.8914706715783508 with parameters: {'min_child_weight': 4, 'gamma': 2.1599540173191647, 'subsample': 0.8079467304426119, 'colsample_bytree': 0.7945089711485137, 'max_deph': 9, 'lr': 0.06173026992403146, 'lambd': 6.763860349890984, 'alpha': 2.4503815174264414, 'scale_pos_weight': 1}. Best is trial#154 with value: 0.8931708699348258.\n",
      "[I 2020-07-16 20:54:31,344] Finished trial#218 with value: 0.8918957211674695 with parameters: {'min_child_weight': 2, 'gamma': 1.41854512009854, 'subsample': 0.7992722721760572, 'colsample_bytree': 0.7768226162228259, 'max_deph': 9, 'lr': 0.06461186542068927, 'lambd': 4.98215027705625, 'alpha': 2.769963415831073, 'scale_pos_weight': 1}. Best is trial#154 with value: 0.8931708699348258.\n",
      "[I 2020-07-16 20:54:36,990] Finished trial#219 with value: 0.8914706715783508 with parameters: {'min_child_weight': 4, 'gamma': 1.909147403298032, 'subsample': 0.7562213090371396, 'colsample_bytree': 0.8150229093810434, 'max_deph': 10, 'lr': 0.061992310253525425, 'lambd': 5.8969287982522625, 'alpha': 2.168220321102544, 'scale_pos_weight': 1}. Best is trial#154 with value: 0.8931708699348258.\n",
      "[I 2020-07-16 20:54:41,803] Finished trial#220 with value: 0.891187305185605 with parameters: {'min_child_weight': 4, 'gamma': 2.9190436263025923, 'subsample': 0.78486257789573, 'colsample_bytree': 0.7647895601080844, 'max_deph': 9, 'lr': 0.07062518762079936, 'lambd': 7.021101552408114, 'alpha': 3.032762143525383, 'scale_pos_weight': 1}. Best is trial#154 with value: 0.8931708699348258.\n",
      "[I 2020-07-16 20:54:46,581] Finished trial#221 with value: 0.8926041371493341 with parameters: {'min_child_weight': 4, 'gamma': 2.6051225556976862, 'subsample': 0.7818719293753487, 'colsample_bytree': 0.7415382487819951, 'max_deph': 9, 'lr': 0.07853482204257614, 'lambd': 6.6114266239790975, 'alpha': 1.828983557258201, 'scale_pos_weight': 1}. Best is trial#154 with value: 0.8931708699348258.\n",
      "[I 2020-07-16 20:54:51,278] Finished trial#222 with value: 0.8913289883819779 with parameters: {'min_child_weight': 5, 'gamma': 2.6032205699618896, 'subsample': 0.7760989962049549, 'colsample_bytree': 0.7532772371533889, 'max_deph': 9, 'lr': 0.07885406456718558, 'lambd': 6.609830192833191, 'alpha': 2.370238614941872, 'scale_pos_weight': 1}. Best is trial#154 with value: 0.8931708699348258.\n",
      "[I 2020-07-16 20:54:55,944] Finished trial#223 with value: 0.8918957211674695 with parameters: {'min_child_weight': 4, 'gamma': 2.4499214156540647, 'subsample': 0.7859243617314841, 'colsample_bytree': 0.706243118236665, 'max_deph': 9, 'lr': 0.07447654120004736, 'lambd': 6.524180385092451, 'alpha': 1.7016425254202652, 'scale_pos_weight': 1}. Best is trial#154 with value: 0.8931708699348258.\n",
      "[I 2020-07-16 20:55:00,683] Finished trial#224 with value: 0.8923207707565882 with parameters: {'min_child_weight': 4, 'gamma': 2.07179255036137, 'subsample': 0.7953034422858193, 'colsample_bytree': 0.7328239821607927, 'max_deph': 9, 'lr': 0.08183488750764277, 'lambd': 6.296420740532371, 'alpha': 1.9331686898895861, 'scale_pos_weight': 1}. Best is trial#154 with value: 0.8931708699348258.\n",
      "[I 2020-07-16 20:55:05,000] Finished trial#225 with value: 0.8893454236327571 with parameters: {'min_child_weight': 4, 'gamma': 2.0605492532958563, 'subsample': 0.8135125288572898, 'colsample_bytree': 0.7334665875441038, 'max_deph': 9, 'lr': 0.00977424921860829, 'lambd': 6.3031477368995965, 'alpha': 2.0466951563851294, 'scale_pos_weight': 1}. Best is trial#154 with value: 0.8931708699348258.\n",
      "[I 2020-07-16 20:55:09,651] Finished trial#226 with value: 0.8923207707565882 with parameters: {'min_child_weight': 4, 'gamma': 1.8407791529320987, 'subsample': 0.7926269455334347, 'colsample_bytree': 0.7542354229381933, 'max_deph': 9, 'lr': 0.08150002756356285, 'lambd': 6.881188841289262, 'alpha': 3.782080673460043, 'scale_pos_weight': 1}. Best is trial#154 with value: 0.8931708699348258.\n",
      "[I 2020-07-16 20:55:14,548] Finished trial#227 with value: 0.8921790875602154 with parameters: {'min_child_weight': 4, 'gamma': 1.5544677787597183, 'subsample': 0.8274739650580624, 'colsample_bytree': 0.78486344279172, 'max_deph': 9, 'lr': 0.08430653263275148, 'lambd': 6.878577092302608, 'alpha': 3.662547876539961, 'scale_pos_weight': 1}. Best is trial#154 with value: 0.8931708699348258.\n",
      "[I 2020-07-16 20:55:19,416] Finished trial#228 with value: 0.8921790875602154 with parameters: {'min_child_weight': 4, 'gamma': 1.7343571874110282, 'subsample': 0.8197822151517198, 'colsample_bytree': 0.804480088428881, 'max_deph': 9, 'lr': 0.08535849305738896, 'lambd': 6.850214318645396, 'alpha': 3.827093200443012, 'scale_pos_weight': 1}. Best is trial#154 with value: 0.8931708699348258.\n",
      "[I 2020-07-16 20:55:24,415] Finished trial#229 with value: 0.8923207707565882 with parameters: {'min_child_weight': 4, 'gamma': 1.5355524862644523, 'subsample': 0.8276522486163918, 'colsample_bytree': 0.8289594437269013, 'max_deph': 9, 'lr': 0.0851856734576466, 'lambd': 6.893576862247764, 'alpha': 3.9669484659309564, 'scale_pos_weight': 1}. Best is trial#154 with value: 0.8931708699348258.\n",
      "[I 2020-07-16 20:55:29,529] Finished trial#230 with value: 0.8918957211674695 with parameters: {'min_child_weight': 4, 'gamma': 1.5023300044314432, 'subsample': 0.832025133925132, 'colsample_bytree': 0.8435787883322081, 'max_deph': 9, 'lr': 0.08449103212681865, 'lambd': 6.908890285908396, 'alpha': 3.80142985677378, 'scale_pos_weight': 1}. Best is trial#154 with value: 0.8931708699348258.\n",
      "[I 2020-07-16 20:55:34,523] Finished trial#231 with value: 0.8921790875602154 with parameters: {'min_child_weight': 4, 'gamma': 1.7824009942509562, 'subsample': 0.8234484095758894, 'colsample_bytree': 0.820729087464021, 'max_deph': 9, 'lr': 0.08554651237446734, 'lambd': 6.818158391788221, 'alpha': 3.927152774423772, 'scale_pos_weight': 1}. Best is trial#154 with value: 0.8931708699348258.\n",
      "[I 2020-07-16 20:55:39,724] Finished trial#232 with value: 0.8916123547747237 with parameters: {'min_child_weight': 4, 'gamma': 1.655280832085371, 'subsample': 0.8280330320376345, 'colsample_bytree': 0.8662200851449571, 'max_deph': 9, 'lr': 0.08759890210688286, 'lambd': 6.697492046222409, 'alpha': 4.089066239797177, 'scale_pos_weight': 1}. Best is trial#154 with value: 0.8931708699348258.\n",
      "[I 2020-07-16 20:55:44,527] Finished trial#233 with value: 0.8923207707565882 with parameters: {'min_child_weight': 4, 'gamma': 1.4749526149962258, 'subsample': 0.8471998586316118, 'colsample_bytree': 0.7946689998012173, 'max_deph': 9, 'lr': 0.08265876282972749, 'lambd': 6.913202667374298, 'alpha': 4.227272536026046, 'scale_pos_weight': 1}. Best is trial#154 with value: 0.8931708699348258.\n",
      "[I 2020-07-16 20:55:49,454] Finished trial#234 with value: 0.8923207707565882 with parameters: {'min_child_weight': 4, 'gamma': 1.429945079907298, 'subsample': 0.8461357891136736, 'colsample_bytree': 0.8233366016453831, 'max_deph': 9, 'lr': 0.08624929792456493, 'lambd': 6.857672090966603, 'alpha': 4.303418937306033, 'scale_pos_weight': 1}. Best is trial#154 with value: 0.8931708699348258.\n",
      "[I 2020-07-16 20:55:54,363] Finished trial#235 with value: 0.8921790875602154 with parameters: {'min_child_weight': 4, 'gamma': 1.278296853507717, 'subsample': 0.8561421845957637, 'colsample_bytree': 0.8265890632317484, 'max_deph': 9, 'lr': 0.08717255750016917, 'lambd': 6.855322559213573, 'alpha': 4.211259065623055, 'scale_pos_weight': 1}. Best is trial#154 with value: 0.8931708699348258.\n",
      "[I 2020-07-16 20:55:59,243] Finished trial#236 with value: 0.8920374043638425 with parameters: {'min_child_weight': 4, 'gamma': 1.5364688449863488, 'subsample': 0.8345734801729502, 'colsample_bytree': 0.7935412664535189, 'max_deph': 9, 'lr': 0.08989344270607164, 'lambd': 7.125327089518423, 'alpha': 3.672299010709658, 'scale_pos_weight': 1}. Best is trial#154 with value: 0.8931708699348258.\n",
      "[I 2020-07-16 20:56:04,317] Finished trial#237 with value: 0.8913289883819779 with parameters: {'min_child_weight': 4, 'gamma': 1.284150406803399, 'subsample': 0.8425132898040801, 'colsample_bytree': 0.8523243553656179, 'max_deph': 9, 'lr': 0.08313292719289114, 'lambd': 7.0577730469323505, 'alpha': 4.401809525372791, 'scale_pos_weight': 1}. Best is trial#154 with value: 0.8931708699348258.\n",
      "[I 2020-07-16 20:56:09,212] Finished trial#238 with value: 0.8914706715783508 with parameters: {'min_child_weight': 4, 'gamma': 1.2132640938035122, 'subsample': 0.8667009631532661, 'colsample_bytree': 0.825278598331151, 'max_deph': 9, 'lr': 0.09250705376589487, 'lambd': 6.632276130020543, 'alpha': 4.084071147193005, 'scale_pos_weight': 1}. Best is trial#154 with value: 0.8931708699348258.\n",
      "[I 2020-07-16 20:56:14,091] Finished trial#239 with value: 0.891187305185605 with parameters: {'min_child_weight': 4, 'gamma': 1.852282935626986, 'subsample': 0.8543237922609992, 'colsample_bytree': 0.8355078545921306, 'max_deph': 9, 'lr': 0.08675091160874104, 'lambd': 6.645095927170801, 'alpha': 4.315834553178271, 'scale_pos_weight': 1}. Best is trial#154 with value: 0.8931708699348258.\n",
      "[I 2020-07-16 20:56:18,938] Finished trial#240 with value: 0.8916123547747237 with parameters: {'min_child_weight': 4, 'gamma': 1.4245783275848694, 'subsample': 0.842981649403685, 'colsample_bytree': 0.7845223245109135, 'max_deph': 9, 'lr': 0.08283808863145888, 'lambd': 6.487228420880059, 'alpha': 3.9293410143419787, 'scale_pos_weight': 1}. Best is trial#154 with value: 0.8931708699348258.\n",
      "[I 2020-07-16 20:56:23,934] Finished trial#241 with value: 0.8909039387928591 with parameters: {'min_child_weight': 4, 'gamma': 1.81885932867864, 'subsample': 0.8171838851220333, 'colsample_bytree': 0.8150335788540946, 'max_deph': 9, 'lr': 0.08446101649210813, 'lambd': 6.879259784088987, 'alpha': 4.557452271682989, 'scale_pos_weight': 1}. Best is trial#154 with value: 0.8931708699348258.\n",
      "[I 2020-07-16 20:56:28,852] Finished trial#242 with value: 0.8914706715783508 with parameters: {'min_child_weight': 4, 'gamma': 1.3053301458224291, 'subsample': 0.8634365366435666, 'colsample_bytree': 0.8231824707628138, 'max_deph': 9, 'lr': 0.08825463183461527, 'lambd': 6.739126779221616, 'alpha': 4.19577200056529, 'scale_pos_weight': 1}. Best is trial#154 with value: 0.8931708699348258.\n",
      "[I 2020-07-16 20:56:33,812] Finished trial#243 with value: 0.8917540379710966 with parameters: {'min_child_weight': 4, 'gamma': 2.168219809767751, 'subsample': 0.8796282626246609, 'colsample_bytree': 0.8584931172890239, 'max_deph': 9, 'lr': 0.08211115655273275, 'lambd': 6.515906908557611, 'alpha': 4.150936148412267, 'scale_pos_weight': 1}. Best is trial#154 with value: 0.8931708699348258.\n",
      "[I 2020-07-16 20:56:38,795] Finished trial#244 with value: 0.8916123547747237 with parameters: {'min_child_weight': 4, 'gamma': 1.761811201819556, 'subsample': 0.8363595174536079, 'colsample_bytree': 0.835197373571116, 'max_deph': 9, 'lr': 0.08585863522383298, 'lambd': 6.810403692191591, 'alpha': 3.8975331575920573, 'scale_pos_weight': 1}. Best is trial#154 with value: 0.8931708699348258.\n",
      "[I 2020-07-16 20:56:43,585] Finished trial#245 with value: 0.8914706715783508 with parameters: {'min_child_weight': 4, 'gamma': 1.9963447466825361, 'subsample': 0.8479022035369473, 'colsample_bytree': 0.8011661014133984, 'max_deph': 9, 'lr': 0.08116010496070802, 'lambd': 7.184062145456106, 'alpha': 4.555155082314608, 'scale_pos_weight': 1}. Best is trial#154 with value: 0.8931708699348258.\n",
      "[I 2020-07-16 20:56:48,484] Finished trial#246 with value: 0.8916123547747237 with parameters: {'min_child_weight': 4, 'gamma': 1.6141393593341653, 'subsample': 0.85523305251137, 'colsample_bytree': 0.8218141733054364, 'max_deph': 9, 'lr': 0.08554279459114258, 'lambd': 6.973628927135966, 'alpha': 4.8074689071884995, 'scale_pos_weight': 1}. Best is trial#154 with value: 0.8931708699348258.\n",
      "[I 2020-07-16 20:56:53,183] Finished trial#247 with value: 0.8916123547747237 with parameters: {'min_child_weight': 4, 'gamma': 1.3734045176208678, 'subsample': 0.8525657471579668, 'colsample_bytree': 0.7718540954448421, 'max_deph': 9, 'lr': 0.08364658241019218, 'lambd': 6.975840331809805, 'alpha': 3.622961581036531, 'scale_pos_weight': 1}. Best is trial#154 with value: 0.8931708699348258.\n",
      "[I 2020-07-16 20:56:57,964] Finished trial#248 with value: 0.8914706715783508 with parameters: {'min_child_weight': 4, 'gamma': 1.4359889671339265, 'subsample': 0.8302336327866141, 'colsample_bytree': 0.7773049312749444, 'max_deph': 9, 'lr': 0.08210253800421079, 'lambd': 6.3511843188701995, 'alpha': 3.5594341991430465, 'scale_pos_weight': 1}. Best is trial#154 with value: 0.8931708699348258.\n",
      "[I 2020-07-16 20:57:02,847] Finished trial#249 with value: 0.8910456219892321 with parameters: {'min_child_weight': 4, 'gamma': 1.5688093887274732, 'subsample': 0.8052923442737138, 'colsample_bytree': 0.7990108136648858, 'max_deph': 9, 'lr': 0.0884168473935306, 'lambd': 6.807532339912745, 'alpha': 4.286144150381772, 'scale_pos_weight': 1}. Best is trial#154 with value: 0.8931708699348258.\n",
      "[I 2020-07-16 20:57:07,753] Finished trial#250 with value: 0.8924624539529612 with parameters: {'min_child_weight': 4, 'gamma': 1.7597798948514982, 'subsample': 0.8195479959683403, 'colsample_bytree': 0.8063406173798001, 'max_deph': 9, 'lr': 0.0854515444633808, 'lambd': 6.5117140270604175, 'alpha': 3.817894449393202, 'scale_pos_weight': 1}. Best is trial#154 with value: 0.8931708699348258.\n",
      "[I 2020-07-16 20:57:12,670] Finished trial#251 with value: 0.8923207707565882 with parameters: {'min_child_weight': 4, 'gamma': 1.6867027396779575, 'subsample': 0.8132850338102747, 'colsample_bytree': 0.79707352537203, 'max_deph': 9, 'lr': 0.08434896785029604, 'lambd': 6.636655940383408, 'alpha': 3.8808875534783103, 'scale_pos_weight': 1}. Best is trial#154 with value: 0.8931708699348258.\n",
      "[I 2020-07-16 20:57:17,545] Finished trial#252 with value: 0.8914706715783508 with parameters: {'min_child_weight': 4, 'gamma': 1.7538265087664244, 'subsample': 0.8247190554902791, 'colsample_bytree': 0.8055904294840246, 'max_deph': 9, 'lr': 0.0855178312879166, 'lambd': 6.752491848148581, 'alpha': 3.8720393502627246, 'scale_pos_weight': 1}. Best is trial#154 with value: 0.8931708699348258.\n",
      "[I 2020-07-16 20:57:22,201] Finished trial#253 with value: 0.8920374043638425 with parameters: {'min_child_weight': 4, 'gamma': 1.7295472255473572, 'subsample': 0.8118406643084133, 'colsample_bytree': 0.8639512587083603, 'max_deph': 8, 'lr': 0.08518695753907783, 'lambd': 6.463923600830336, 'alpha': 3.9353335495201107, 'scale_pos_weight': 1}. Best is trial#154 with value: 0.8931708699348258.\n",
      "[I 2020-07-16 20:57:26,845] Finished trial#254 with value: 0.8921790875602154 with parameters: {'min_child_weight': 4, 'gamma': 2.1016942847681874, 'subsample': 0.8194113847065236, 'colsample_bytree': 0.7449710957960739, 'max_deph': 9, 'lr': 0.0904714720894565, 'lambd': 7.381925898226216, 'alpha': 3.7254859062318877, 'scale_pos_weight': 1}. Best is trial#154 with value: 0.8931708699348258.\n",
      "[I 2020-07-16 20:57:32,250] Finished trial#255 with value: 0.8907622555964863 with parameters: {'min_child_weight': 4, 'gamma': 2.7609907669053517, 'subsample': 0.7928237735735078, 'colsample_bytree': 0.898847158311964, 'max_deph': 9, 'lr': 0.0807861211708586, 'lambd': 6.558343708381248, 'alpha': 5.010795766863919, 'scale_pos_weight': 1}. Best is trial#154 with value: 0.8931708699348258.\n",
      "[I 2020-07-16 20:57:36,990] Finished trial#256 with value: 0.8930291867384528 with parameters: {'min_child_weight': 4, 'gamma': 2.109754912347393, 'subsample': 0.8101094500066415, 'colsample_bytree': 0.7523781407916786, 'max_deph': 9, 'lr': 0.09143396628183896, 'lambd': 7.433808718765852, 'alpha': 3.505611922192821, 'scale_pos_weight': 1}. Best is trial#154 with value: 0.8931708699348258.\n",
      "[I 2020-07-16 20:57:42,072] Finished trial#257 with value: 0.8917540379710966 with parameters: {'min_child_weight': 4, 'gamma': 2.9752103175036995, 'subsample': 0.8311691067110183, 'colsample_bytree': 0.8454776404215675, 'max_deph': 9, 'lr': 0.0941181516536505, 'lambd': 6.6019777881576385, 'alpha': 3.5283318748798944, 'scale_pos_weight': 1}. Best is trial#154 with value: 0.8931708699348258.\n",
      "[I 2020-07-16 20:57:46,944] Finished trial#258 with value: 0.8926041371493341 with parameters: {'min_child_weight': 4, 'gamma': 2.1389469009926563, 'subsample': 0.8201068175401813, 'colsample_bytree': 0.7922392776632051, 'max_deph': 9, 'lr': 0.0921513714302704, 'lambd': 7.2691063919064325, 'alpha': 3.7959697788660103, 'scale_pos_weight': 1}. Best is trial#154 with value: 0.8931708699348258.\n",
      "[I 2020-07-16 20:57:51,857] Finished trial#259 with value: 0.8917540379710966 with parameters: {'min_child_weight': 4, 'gamma': 2.136982756266016, 'subsample': 0.8076901945179378, 'colsample_bytree': 0.7912805273153001, 'max_deph': 9, 'lr': 0.09217077622443409, 'lambd': 7.1587641905487525, 'alpha': 3.71957208196638, 'scale_pos_weight': 1}. Best is trial#154 with value: 0.8931708699348258.\n",
      "[I 2020-07-16 20:57:56,924] Finished trial#260 with value: 0.820062340606404 with parameters: {'min_child_weight': 4, 'gamma': 8.740143794536582, 'subsample': 0.793563264888994, 'colsample_bytree': 0.7629141767942192, 'max_deph': 9, 'lr': 0.08999162157002072, 'lambd': 7.32478642118591, 'alpha': 3.950155153804895, 'scale_pos_weight': 5}. Best is trial#154 with value: 0.8931708699348258.\n",
      "[I 2020-07-16 20:58:01,271] Finished trial#261 with value: 0.8910456219892321 with parameters: {'min_child_weight': 4, 'gamma': 2.310356929459419, 'subsample': 0.8030038910985168, 'colsample_bytree': 0.7665076970639003, 'max_deph': 8, 'lr': 0.082663832842467, 'lambd': 6.302953351187957, 'alpha': 3.4406477343838606, 'scale_pos_weight': 1}. Best is trial#154 with value: 0.8931708699348258.\n",
      "[I 2020-07-16 20:58:06,105] Finished trial#262 with value: 0.891187305185605 with parameters: {'min_child_weight': 4, 'gamma': 2.7694265835968914, 'subsample': 0.8258073974342035, 'colsample_bytree': 0.7857831016602, 'max_deph': 9, 'lr': 0.09621063042258435, 'lambd': 7.055982252078935, 'alpha': 3.6715164995689795, 'scale_pos_weight': 1}. Best is trial#154 with value: 0.8931708699348258.\n",
      "[I 2020-07-16 20:58:11,007] Finished trial#263 with value: 0.8917540379710966 with parameters: {'min_child_weight': 4, 'gamma': 2.2145347269620927, 'subsample': 0.8130929276042835, 'colsample_bytree': 0.7847872667506004, 'max_deph': 9, 'lr': 0.0877708412257081, 'lambd': 7.2726808621487935, 'alpha': 3.4670046970937927, 'scale_pos_weight': 1}. Best is trial#154 with value: 0.8931708699348258.\n",
      "[I 2020-07-16 20:58:15,994] Finished trial#264 with value: 0.8926041371493341 with parameters: {'min_child_weight': 4, 'gamma': 2.0939579991065127, 'subsample': 0.8143924304523623, 'colsample_bytree': 0.7443094915890378, 'max_deph': 10, 'lr': 0.09166697796717317, 'lambd': 6.624608345909339, 'alpha': 4.054578245747208, 'scale_pos_weight': 1}. Best is trial#154 with value: 0.8931708699348258.\n",
      "[I 2020-07-16 20:58:21,025] Finished trial#265 with value: 0.8926041371493341 with parameters: {'min_child_weight': 4, 'gamma': 2.4981464898250914, 'subsample': 0.8060825095707148, 'colsample_bytree': 0.7561583427685017, 'max_deph': 10, 'lr': 0.09342588372293426, 'lambd': 6.337747057695874, 'alpha': 4.094022335326837, 'scale_pos_weight': 1}. Best is trial#154 with value: 0.8931708699348258.\n",
      "[I 2020-07-16 20:58:26,638] Finished trial#266 with value: 0.804477189005384 with parameters: {'min_child_weight': 4, 'gamma': 2.4772423763727476, 'subsample': 0.8111101409692603, 'colsample_bytree': 0.7450803308823992, 'max_deph': 10, 'lr': 0.0896353983723022, 'lambd': 6.423193619988104, 'alpha': 4.422456307501846, 'scale_pos_weight': 6}. Best is trial#154 with value: 0.8931708699348258.\n",
      "[I 2020-07-16 20:58:31,719] Finished trial#267 with value: 0.8918957211674695 with parameters: {'min_child_weight': 4, 'gamma': 2.689812056639594, 'subsample': 0.8407515827846699, 'colsample_bytree': 0.7593762196822005, 'max_deph': 10, 'lr': 0.09208774828717808, 'lambd': 6.120082577439483, 'alpha': 4.183062609567772, 'scale_pos_weight': 1}. Best is trial#154 with value: 0.8931708699348258.\n",
      "[I 2020-07-16 20:58:36,706] Finished trial#268 with value: 0.8928875035420799 with parameters: {'min_child_weight': 4, 'gamma': 2.456001975019148, 'subsample': 0.8074908062871945, 'colsample_bytree': 0.7341190839743178, 'max_deph': 10, 'lr': 0.09471371820186353, 'lambd': 6.4650935904945, 'alpha': 3.9673384819137367, 'scale_pos_weight': 1}. Best is trial#154 with value: 0.8931708699348258.\n",
      "[I 2020-07-16 20:58:41,670] Finished trial#269 with value: 0.8921790875602154 with parameters: {'min_child_weight': 4, 'gamma': 2.505400829370034, 'subsample': 0.8059800642732633, 'colsample_bytree': 0.7362302760352228, 'max_deph': 10, 'lr': 0.09778640673805179, 'lambd': 6.452997469424942, 'alpha': 4.1843918063666505, 'scale_pos_weight': 1}. Best is trial#154 with value: 0.8931708699348258.\n",
      "[I 2020-07-16 20:58:46,668] Finished trial#270 with value: 0.8918957211674695 with parameters: {'min_child_weight': 4, 'gamma': 2.3259242763421377, 'subsample': 0.797317504216637, 'colsample_bytree': 0.7308195949816509, 'max_deph': 10, 'lr': 0.09540379299396025, 'lambd': 6.212382095638609, 'alpha': 4.106715187309165, 'scale_pos_weight': 1}. Best is trial#154 with value: 0.8931708699348258.\n",
      "[I 2020-07-16 20:58:51,782] Finished trial#271 with value: 0.8924624539529612 with parameters: {'min_child_weight': 4, 'gamma': 2.5809331218461034, 'subsample': 0.8152268445332285, 'colsample_bytree': 0.7601877982479185, 'max_deph': 10, 'lr': 0.09656265164514435, 'lambd': 6.632275017816917, 'alpha': 3.865279713366608, 'scale_pos_weight': 1}. Best is trial#154 with value: 0.8931708699348258.\n",
      "[I 2020-07-16 20:58:57,423] Finished trial#272 with value: 0.8432983848115614 with parameters: {'min_child_weight': 4, 'gamma': 2.5532542559780196, 'subsample': 0.8171120140424982, 'colsample_bytree': 0.7599164960969165, 'max_deph': 10, 'lr': 0.09552306670462613, 'lambd': 6.594280207659506, 'alpha': 3.9963520485243222, 'scale_pos_weight': 4}. Best is trial#154 with value: 0.8931708699348258.\n",
      "[I 2020-07-16 20:59:02,297] Finished trial#273 with value: 0.891187305185605 with parameters: {'min_child_weight': 4, 'gamma': 2.8966121789732235, 'subsample': 0.8343475733852183, 'colsample_bytree': 0.7366011926111145, 'max_deph': 10, 'lr': 0.0934306648842386, 'lambd': 6.361750482913315, 'alpha': 4.361805354910869, 'scale_pos_weight': 1}. Best is trial#154 with value: 0.8931708699348258.\n",
      "[I 2020-07-16 20:59:07,399] Finished trial#274 with value: 0.8930291867384528 with parameters: {'min_child_weight': 3, 'gamma': 2.2753710111686183, 'subsample': 0.812342361988791, 'colsample_bytree': 0.7559388404212017, 'max_deph': 10, 'lr': 0.09735329734745476, 'lambd': 6.7030791760332145, 'alpha': 3.812836897637455, 'scale_pos_weight': 1}. Best is trial#154 with value: 0.8931708699348258.\n",
      "[I 2020-07-16 20:59:12,600] Finished trial#275 with value: 0.8921790875602154 with parameters: {'min_child_weight': 3, 'gamma': 2.3053056149300564, 'subsample': 0.818717366152805, 'colsample_bytree': 0.7731281495523069, 'max_deph': 10, 'lr': 0.09750479017414455, 'lambd': 6.713661671371853, 'alpha': 3.8375634698201995, 'scale_pos_weight': 1}. Best is trial#154 with value: 0.8931708699348258.\n",
      "[I 2020-07-16 20:59:17,587] Finished trial#276 with value: 0.8917540379710966 with parameters: {'min_child_weight': 3, 'gamma': 2.598865100965618, 'subsample': 0.8062664077300552, 'colsample_bytree': 0.7272715644982747, 'max_deph': 10, 'lr': 0.09836357793031324, 'lambd': 2.3647856499427813, 'alpha': 4.058749688120858, 'scale_pos_weight': 1}. Best is trial#154 with value: 0.8931708699348258.\n",
      "[I 2020-07-16 20:59:22,521] Finished trial#277 with value: 0.8916123547747237 with parameters: {'min_child_weight': 3, 'gamma': 2.68198653462359, 'subsample': 0.813359939583339, 'colsample_bytree': 0.7546524824609476, 'max_deph': 10, 'lr': 0.09375398056857782, 'lambd': 6.611789841895693, 'alpha': 4.676860890370009, 'scale_pos_weight': 1}. Best is trial#154 with value: 0.8931708699348258.\n",
      "[I 2020-07-16 20:59:27,589] Finished trial#278 with value: 0.8920374043638425 with parameters: {'min_child_weight': 3, 'gamma': 2.1599938724726355, 'subsample': 0.8231969885751066, 'colsample_bytree': 0.7505334951385495, 'max_deph': 10, 'lr': 0.09410121414012997, 'lambd': 6.893091928168955, 'alpha': 3.6885935652715123, 'scale_pos_weight': 1}. Best is trial#154 with value: 0.8931708699348258.\n",
      "[I 2020-07-16 20:59:32,844] Finished trial#279 with value: 0.8920374043638425 with parameters: {'min_child_weight': 3, 'gamma': 2.409409903561681, 'subsample': 0.8065950573204949, 'colsample_bytree': 0.7721688281807794, 'max_deph': 10, 'lr': 0.09909858757915402, 'lambd': 6.038971867281711, 'alpha': 3.4513344048330756, 'scale_pos_weight': 1}. Best is trial#154 with value: 0.8931708699348258.\n",
      "[I 2020-07-16 20:59:38,530] Finished trial#280 with value: 0.8918957211674695 with parameters: {'min_child_weight': 3, 'gamma': 3.100480478474372, 'subsample': 0.8443695788473645, 'colsample_bytree': 0.8808247678076945, 'max_deph': 10, 'lr': 0.09166503166842085, 'lambd': 6.2987144879705514, 'alpha': 4.284134517153069, 'scale_pos_weight': 1}. Best is trial#154 with value: 0.8931708699348258.\n",
      "[I 2020-07-16 20:59:43,375] Finished trial#281 with value: 0.8923207707565882 with parameters: {'min_child_weight': 4, 'gamma': 2.442161602854851, 'subsample': 0.7930897089501405, 'colsample_bytree': 0.7241410536707561, 'max_deph': 10, 'lr': 0.09635674052171808, 'lambd': 6.473606430614412, 'alpha': 4.001971686491962, 'scale_pos_weight': 1}. Best is trial#154 with value: 0.8931708699348258.\n",
      "[I 2020-07-16 20:59:48,446] Finished trial#282 with value: 0.8917540379710966 with parameters: {'min_child_weight': 4, 'gamma': 2.0846289079995297, 'subsample': 0.7837002489870639, 'colsample_bytree': 0.7524593705063125, 'max_deph': 10, 'lr': 0.09986294514663815, 'lambd': 7.092374598036693, 'alpha': 3.5604820479062176, 'scale_pos_weight': 1}. Best is trial#154 with value: 0.8931708699348258.\n",
      "[I 2020-07-16 20:59:53,698] Finished trial#283 with value: 0.878577500708416 with parameters: {'min_child_weight': 4, 'gamma': 2.3750129458981495, 'subsample': 0.7942405236213398, 'colsample_bytree': 0.7216353510952084, 'max_deph': 10, 'lr': 0.09672117126424053, 'lambd': 6.3866486111590985, 'alpha': 3.739999370187717, 'scale_pos_weight': 2}. Best is trial#154 with value: 0.8931708699348258.\n",
      "[I 2020-07-16 20:59:58,996] Finished trial#284 with value: 0.8920374043638425 with parameters: {'min_child_weight': 4, 'gamma': 2.2472109667919167, 'subsample': 0.8144360951987403, 'colsample_bytree': 0.810008466588389, 'max_deph': 10, 'lr': 0.09232008258897552, 'lambd': 6.716560296699685, 'alpha': 3.8474135393377376, 'scale_pos_weight': 1}. Best is trial#154 with value: 0.8931708699348258.\n",
      "[I 2020-07-16 21:00:04,050] Finished trial#285 with value: 0.8916123547747237 with parameters: {'min_child_weight': 4, 'gamma': 4.2605573056027595, 'subsample': 0.8337399900622802, 'colsample_bytree': 0.7811061654743741, 'max_deph': 10, 'lr': 0.09430693255549139, 'lambd': 6.991552379143313, 'alpha': 4.070034504006005, 'scale_pos_weight': 1}. Best is trial#154 with value: 0.8931708699348258.\n",
      "[I 2020-07-16 21:00:05,049] Finished trial#286 with value: 0.8604420515726835 with parameters: {'min_child_weight': 3, 'gamma': 2.8696528810351922, 'subsample': 0.8230571625693452, 'colsample_bytree': 0.7193962941881781, 'max_deph': 10, 'lr': 0.0954905006747445, 'lambd': 6.481088991002318, 'alpha': 4.094825546329085, 'scale_pos_weight': 0}. Best is trial#154 with value: 0.8931708699348258.\n",
      "[I 2020-07-16 21:00:09,942] Finished trial#287 with value: 0.8916123547747237 with parameters: {'min_child_weight': 4, 'gamma': 2.709767089030069, 'subsample': 0.7831032596513251, 'colsample_bytree': 0.6901906701295393, 'max_deph': 10, 'lr': 0.06567597049374554, 'lambd': 6.098311230415499, 'alpha': 1.9160060145234445, 'scale_pos_weight': 1}. Best is trial#154 with value: 0.8931708699348258.\n",
      "[I 2020-07-16 21:00:14,973] Finished trial#288 with value: 0.8909039387928591 with parameters: {'min_child_weight': 4, 'gamma': 2.0107781455302898, 'subsample': 0.8036398305497879, 'colsample_bytree': 0.763759371117548, 'max_deph': 10, 'lr': 0.06758026352817656, 'lambd': 9.38053642961462, 'alpha': 4.387008747467494, 'scale_pos_weight': 1}. Best is trial#154 with value: 0.8931708699348258.\n",
      "[I 2020-07-16 21:00:20,240] Finished trial#289 with value: 0.8916123547747237 with parameters: {'min_child_weight': 4, 'gamma': 2.568845657477359, 'subsample': 0.8348053814852547, 'colsample_bytree': 0.7990975507192448, 'max_deph': 10, 'lr': 0.08962106156779441, 'lambd': 4.259825456440324, 'alpha': 3.8212998015657873, 'scale_pos_weight': 1}. Best is trial#154 with value: 0.8931708699348258.\n",
      "[I 2020-07-16 21:00:25,904] Finished trial#290 with value: 0.8918957211674695 with parameters: {'min_child_weight': 3, 'gamma': 3.4804576397020126, 'subsample': 0.8189959572330077, 'colsample_bytree': 0.8281240425443447, 'max_deph': 10, 'lr': 0.09206498874815945, 'lambd': 6.638061110106085, 'alpha': 0.8721619689932365, 'scale_pos_weight': 1}. Best is trial#154 with value: 0.8931708699348258.\n",
      "[I 2020-07-16 21:00:30,839] Finished trial#291 with value: 0.8917540379710966 with parameters: {'min_child_weight': 4, 'gamma': 2.4795144183400475, 'subsample': 0.7704655829217197, 'colsample_bytree': 0.741231917463393, 'max_deph': 10, 'lr': 0.09785799746171432, 'lambd': 6.453681123962952, 'alpha': 4.441867612268816, 'scale_pos_weight': 1}. Best is trial#154 with value: 0.8931708699348258.\n",
      "[I 2020-07-16 21:00:35,864] Finished trial#292 with value: 0.8918957211674695 with parameters: {'min_child_weight': 4, 'gamma': 2.226899202632195, 'subsample': 0.7885746323332252, 'colsample_bytree': 0.7378751429620652, 'max_deph': 10, 'lr': 0.09077640928350993, 'lambd': 9.732420071336726, 'alpha': 3.3465657302272733, 'scale_pos_weight': 1}. Best is trial#154 with value: 0.8931708699348258.\n",
      "[I 2020-07-16 21:00:40,456] Finished trial#293 with value: 0.891187305185605 with parameters: {'min_child_weight': 4, 'gamma': 2.9423467182039187, 'subsample': 0.800683229713322, 'colsample_bytree': 0.6739114158683628, 'max_deph': 10, 'lr': 0.09465880948689351, 'lambd': 6.231924473485201, 'alpha': 3.6224968107504028, 'scale_pos_weight': 1}. Best is trial#154 with value: 0.8931708699348258.\n",
      "[I 2020-07-16 21:00:44,350] Finished trial#294 with value: 0.8920374043638425 with parameters: {'min_child_weight': 4, 'gamma': 2.09022676896012, 'subsample': 0.8114386652201269, 'colsample_bytree': 0.7895682896008688, 'max_deph': 7, 'lr': 0.0862957624390382, 'lambd': 6.665999409928987, 'alpha': 4.035463062750328, 'scale_pos_weight': 1}. Best is trial#154 with value: 0.8931708699348258.\n",
      "[I 2020-07-16 21:00:49,866] Finished trial#295 with value: 0.8920374043638425 with parameters: {'min_child_weight': 4, 'gamma': 2.7138346379499785, 'subsample': 0.8473062457246637, 'colsample_bytree': 0.8452646937606196, 'max_deph': 10, 'lr': 0.08912344279508129, 'lambd': 7.084894172434784, 'alpha': 3.807920986387228, 'scale_pos_weight': 1}. Best is trial#154 with value: 0.8931708699348258.\n",
      "[I 2020-07-16 21:00:54,836] Finished trial#296 with value: 0.8918957211674695 with parameters: {'min_child_weight': 4, 'gamma': 2.389084863355027, 'subsample': 0.7969338177073129, 'colsample_bytree': 0.7563841641612669, 'max_deph': 10, 'lr': 0.09632274471514284, 'lambd': 6.417107458088455, 'alpha': 4.209495346587941, 'scale_pos_weight': 1}. Best is trial#154 with value: 0.8931708699348258.\n",
      "[I 2020-07-16 21:00:59,660] Finished trial#297 with value: 0.8907622555964863 with parameters: {'min_child_weight': 4, 'gamma': 1.9354646900046881, 'subsample': 0.8261936997130713, 'colsample_bytree': 0.808567079638087, 'max_deph': 10, 'lr': 0.08758155898379236, 'lambd': 6.743671121570241, 'alpha': 9.412111165786044, 'scale_pos_weight': 1}. Best is trial#154 with value: 0.8931708699348258.\n",
      "[I 2020-07-16 21:01:04,818] Finished trial#298 with value: 0.8913289883819779 with parameters: {'min_child_weight': 4, 'gamma': 3.172661722540678, 'subsample': 0.7782806700720216, 'colsample_bytree': 0.7778355320143095, 'max_deph': 10, 'lr': 0.09688387699310601, 'lambd': 6.540362058495145, 'alpha': 3.973075714824744, 'scale_pos_weight': 1}. Best is trial#154 with value: 0.8931708699348258.\n",
      "[I 2020-07-16 21:01:09,858] Finished trial#299 with value: 0.8921790875602154 with parameters: {'min_child_weight': 4, 'gamma': 2.3316257987192026, 'subsample': 0.7969377911867971, 'colsample_bytree': 0.7349767841730276, 'max_deph': 10, 'lr': 0.09997330010330437, 'lambd': 5.9093121112005615, 'alpha': 3.8719594794564696, 'scale_pos_weight': 1}. Best is trial#154 with value: 0.8931708699348258.\n",
      "[I 2020-07-16 21:01:12,180] Finished trial#300 with value: 0.8899121564182488 with parameters: {'min_child_weight': 6, 'gamma': 2.5250005766715615, 'subsample': 0.8109998082303372, 'colsample_bytree': 0.27489137878689773, 'max_deph': 10, 'lr': 0.09391134488780203, 'lambd': 7.481110726163838, 'alpha': 3.548563393098323, 'scale_pos_weight': 1}. Best is trial#154 with value: 0.8931708699348258.\n",
      "[I 2020-07-16 21:01:17,344] Finished trial#301 with value: 0.8914706715783508 with parameters: {'min_child_weight': 4, 'gamma': 2.9846481187452505, 'subsample': 0.806025848535358, 'colsample_bytree': 0.7733940885145368, 'max_deph': 10, 'lr': 0.09231382024334507, 'lambd': 6.790319272094261, 'alpha': 3.3788778638319488, 'scale_pos_weight': 1}. Best is trial#154 with value: 0.8931708699348258.\n",
      "[I 2020-07-16 21:01:21,897] Finished trial#302 with value: 0.891187305185605 with parameters: {'min_child_weight': 4, 'gamma': 2.7328062703082057, 'subsample': 0.8363652740814056, 'colsample_bytree': 0.851411458936829, 'max_deph': 8, 'lr': 0.0842711294497533, 'lambd': 6.318960011397903, 'alpha': 4.499851505893695, 'scale_pos_weight': 1}. Best is trial#154 with value: 0.8931708699348258.\n",
      "[I 2020-07-16 21:01:26,834] Finished trial#303 with value: 0.8917540379710966 with parameters: {'min_child_weight': 3, 'gamma': 2.825390498687789, 'subsample': 0.7930870633013948, 'colsample_bytree': 0.7173546315465908, 'max_deph': 10, 'lr': 0.08174330942864062, 'lambd': 9.951370949807849, 'alpha': 3.7461124576749234, 'scale_pos_weight': 1}. Best is trial#154 with value: 0.8931708699348258.\n",
      "[I 2020-07-16 21:01:31,687] Finished trial#304 with value: 0.8797109662793993 with parameters: {'min_child_weight': 4, 'gamma': 1.992856919764424, 'subsample': 0.8208748784464928, 'colsample_bytree': 0.7557345584623041, 'max_deph': 9, 'lr': 0.08830277912540736, 'lambd': 6.130565643069944, 'alpha': 0.5694879250443893, 'scale_pos_weight': 2}. Best is trial#154 with value: 0.8931708699348258.\n",
      "[I 2020-07-16 21:01:36,676] Finished trial#305 with value: 0.8923207707565882 with parameters: {'min_child_weight': 4, 'gamma': 2.167491136638453, 'subsample': 0.7878332687564652, 'colsample_bytree': 0.7497271842709761, 'max_deph': 10, 'lr': 0.09573268954816248, 'lambd': 9.056802601388346, 'alpha': 4.009605815980947, 'scale_pos_weight': 1}. Best is trial#154 with value: 0.8931708699348258.\n",
      "[I 2020-07-16 21:01:41,914] Finished trial#306 with value: 0.8921790875602154 with parameters: {'min_child_weight': 4, 'gamma': 2.0137394054993907, 'subsample': 0.8137071844168415, 'colsample_bytree': 0.8010208817986935, 'max_deph': 10, 'lr': 0.09323305720524895, 'lambd': 9.16446858972336, 'alpha': 4.282515210765747, 'scale_pos_weight': 1}. Best is trial#154 with value: 0.8931708699348258.\n",
      "[I 2020-07-16 21:01:47,231] Finished trial#307 with value: 0.8917540379710966 with parameters: {'min_child_weight': 2, 'gamma': 2.2257102204731165, 'subsample': 0.8035266864818386, 'colsample_bytree': 0.778716929463831, 'max_deph': 10, 'lr': 0.06333444731763245, 'lambd': 6.597906926853729, 'alpha': 3.6594818496654806, 'scale_pos_weight': 1}. Best is trial#154 with value: 0.8931708699348258.\n",
      "[I 2020-07-16 21:01:51,794] Finished trial#308 with value: 0.88948710682913 with parameters: {'min_child_weight': 3, 'gamma': 2.526602881813616, 'subsample': 0.7714658414926058, 'colsample_bytree': 0.7101684378045745, 'max_deph': 10, 'lr': 0.02846974351110224, 'lambd': 9.621879959243913, 'alpha': 4.58632439936482, 'scale_pos_weight': 1}. Best is trial#154 with value: 0.8931708699348258.\n",
      "[I 2020-07-16 21:01:55,264] Finished trial#309 with value: 0.8924624539529612 with parameters: {'min_child_weight': 4, 'gamma': 3.0954113470148275, 'subsample': 0.6716829943703883, 'colsample_bytree': 0.7398365112341476, 'max_deph': 6, 'lr': 0.08066278034273656, 'lambd': 7.282408073835301, 'alpha': 3.464141486218996, 'scale_pos_weight': 1}. Best is trial#154 with value: 0.8931708699348258.\n",
      "[I 2020-07-16 21:01:58,785] Finished trial#310 with value: 0.8914706715783508 with parameters: {'min_child_weight': 2, 'gamma': 3.232689912109752, 'subsample': 0.6777256361044428, 'colsample_bytree': 0.7356172843750767, 'max_deph': 6, 'lr': 0.06887519929703002, 'lambd': 6.203254468614717, 'alpha': 3.2349337263711226, 'scale_pos_weight': 1}. Best is trial#154 with value: 0.8931708699348258.\n",
      "[I 2020-07-16 21:02:02,654] Finished trial#311 with value: 0.8921790875602154 with parameters: {'min_child_weight': 4, 'gamma': 1.881470418067965, 'subsample': 0.8036229541553376, 'colsample_bytree': 0.7585773805431875, 'max_deph': 7, 'lr': 0.08255451366727623, 'lambd': 7.295496938043245, 'alpha': 3.3747148756995973, 'scale_pos_weight': 1}. Best is trial#154 with value: 0.8931708699348258.\n",
      "[I 2020-07-16 21:02:05,508] Finished trial#312 with value: 0.8918957211674695 with parameters: {'min_child_weight': 3, 'gamma': 2.9532337954516024, 'subsample': 0.6628373276355235, 'colsample_bytree': 0.6933536761679027, 'max_deph': 5, 'lr': 0.09691889568385934, 'lambd': 8.98556353427514, 'alpha': 3.589098693138371, 'scale_pos_weight': 1}. Best is trial#154 with value: 0.8931708699348258.\n",
      "[I 2020-07-16 21:02:08,128] Finished trial#313 with value: 0.8909039387928591 with parameters: {'min_child_weight': 4, 'gamma': 2.6389868393384477, 'subsample': 0.6738613147205942, 'colsample_bytree': 0.8246159543465178, 'max_deph': 4, 'lr': 0.06405207123318947, 'lambd': 7.216594042418562, 'alpha': 2.037771336046138, 'scale_pos_weight': 1}. Best is trial#154 with value: 0.8931708699348258.\n",
      "[I 2020-07-16 21:02:13,003] Finished trial#314 with value: 0.8917540379710966 with parameters: {'min_child_weight': 4, 'gamma': 1.635795850456572, 'subsample': 0.828777962844488, 'colsample_bytree': 0.7987598444529842, 'max_deph': 9, 'lr': 0.08058401392049726, 'lambd': 6.805889827891473, 'alpha': 3.778646012104325, 'scale_pos_weight': 1}. Best is trial#154 with value: 0.8931708699348258.\n",
      "[I 2020-07-16 21:02:17,274] Finished trial#315 with value: 0.8900538396146217 with parameters: {'min_child_weight': 4, 'gamma': 2.7931874010009503, 'subsample': 0.6554830678724078, 'colsample_bytree': 0.7026659277288054, 'max_deph': 8, 'lr': 0.07927399847754138, 'lambd': 7.43869836772234, 'alpha': 1.4703309233971353, 'scale_pos_weight': 1}. Best is trial#154 with value: 0.8931708699348258.\n",
      "[I 2020-07-16 21:02:19,103] Finished trial#316 with value: 0.8900538396146217 with parameters: {'min_child_weight': 4, 'gamma': 2.2623751657616573, 'subsample': 0.8184489883850637, 'colsample_bytree': 0.7521642452257081, 'max_deph': 3, 'lr': 0.09575691811234129, 'lambd': 9.041756461668495, 'alpha': 4.002057230398481, 'scale_pos_weight': 1}. Best is trial#154 with value: 0.8931708699348258.\n",
      "[I 2020-07-16 21:02:24,155] Finished trial#317 with value: 0.8916123547747237 with parameters: {'min_child_weight': 4, 'gamma': 2.4461068975601394, 'subsample': 0.6491870113817757, 'colsample_bytree': 0.7314793244053103, 'max_deph': 10, 'lr': 0.09090804741417928, 'lambd': 6.459228337441786, 'alpha': 3.916174883435607, 'scale_pos_weight': 1}. Best is trial#154 with value: 0.8931708699348258.\n",
      "[I 2020-07-16 21:02:28,954] Finished trial#318 with value: 0.8917540379710966 with parameters: {'min_child_weight': 4, 'gamma': 2.104234568918615, 'subsample': 0.7822784372098335, 'colsample_bytree': 0.7356567250822195, 'max_deph': 9, 'lr': 0.07889227502127806, 'lambd': 6.606534466560394, 'alpha': 1.9776666846221878, 'scale_pos_weight': 1}. Best is trial#154 with value: 0.8931708699348258.\n",
      "[I 2020-07-16 21:02:30,000] Finished trial#319 with value: 0.8604420515726835 with parameters: {'min_child_weight': 2, 'gamma': 2.635163753318978, 'subsample': 0.6864488825990432, 'colsample_bytree': 0.7093812236804832, 'max_deph': 10, 'lr': 0.09972844530002274, 'lambd': 9.308607049563784, 'alpha': 2.1722598344431407, 'scale_pos_weight': 0}. Best is trial#154 with value: 0.8931708699348258.\n",
      "[I 2020-07-16 21:02:34,949] Finished trial#320 with value: 0.8914706715783508 with parameters: {'min_child_weight': 4, 'gamma': 2.354615481289127, 'subsample': 0.7057317906720193, 'colsample_bytree': 0.7188610054487105, 'max_deph': 10, 'lr': 0.08165584290474465, 'lambd': 6.9668027661498835, 'alpha': 3.544922739244616, 'scale_pos_weight': 1}. Best is trial#154 with value: 0.8931708699348258.\n",
      "[I 2020-07-16 21:02:39,978] Finished trial#321 with value: 0.8921790875602154 with parameters: {'min_child_weight': 3, 'gamma': 2.167912750753923, 'subsample': 0.7644980481907766, 'colsample_bytree': 0.7687222809330269, 'max_deph': 9, 'lr': 0.06525904409747631, 'lambd': 5.961091298654365, 'alpha': 2.347201174068516, 'scale_pos_weight': 1}. Best is trial#154 with value: 0.8931708699348258.\n",
      "[I 2020-07-16 21:02:45,364] Finished trial#322 with value: 0.8910456219892321 with parameters: {'min_child_weight': 4, 'gamma': 3.058646398698098, 'subsample': 0.6265249489205074, 'colsample_bytree': 0.7890631613980664, 'max_deph': 10, 'lr': 0.09084091982493334, 'lambd': 6.501547107271187, 'alpha': 4.227205563197199, 'scale_pos_weight': 1}. Best is trial#154 with value: 0.8931708699348258.\n",
      "[I 2020-07-16 21:02:51,674] Finished trial#323 with value: 0.859733635590819 with parameters: {'min_child_weight': 4, 'gamma': 1.7846631208904769, 'subsample': 0.6356726777238106, 'colsample_bytree': 0.8152266285191769, 'max_deph': 10, 'lr': 0.0860625588139683, 'lambd': 6.951751289080006, 'alpha': 4.08741511172447, 'scale_pos_weight': 3}. Best is trial#154 with value: 0.8931708699348258.\n",
      "[I 2020-07-16 21:02:56,731] Finished trial#324 with value: 0.8920374043638425 with parameters: {'min_child_weight': 3, 'gamma': 3.3703311552397173, 'subsample': 0.7920944172972522, 'colsample_bytree': 0.7239535322477754, 'max_deph': 10, 'lr': 0.09364886756234057, 'lambd': 6.20623627524577, 'alpha': 3.4703308212709105, 'scale_pos_weight': 1}. Best is trial#154 with value: 0.8931708699348258.\n",
      "[I 2020-07-16 21:03:01,762] Finished trial#325 with value: 0.8918957211674695 with parameters: {'min_child_weight': 4, 'gamma': 2.1324849926854657, 'subsample': 0.7851015343138503, 'colsample_bytree': 0.7496920319549358, 'max_deph': 10, 'lr': 0.06220349345080427, 'lambd': 8.76090548219042, 'alpha': 3.8017135402410798, 'scale_pos_weight': 1}. Best is trial#154 with value: 0.8931708699348258.\n",
      "[I 2020-07-16 21:03:06,560] Finished trial#326 with value: 0.8917540379710966 with parameters: {'min_child_weight': 4, 'gamma': 1.9301061167948734, 'subsample': 0.8098050373213721, 'colsample_bytree': 0.7690751265854135, 'max_deph': 9, 'lr': 0.05740585891117678, 'lambd': 9.209651584312576, 'alpha': 3.1406977056402323, 'scale_pos_weight': 1}. Best is trial#154 with value: 0.8931708699348258.\n",
      "[I 2020-07-16 21:03:11,276] Finished trial#327 with value: 0.8913289883819779 with parameters: {'min_child_weight': 7, 'gamma': 2.372064628765784, 'subsample': 0.791886253902037, 'colsample_bytree': 0.6873489021789232, 'max_deph': 10, 'lr': 0.07020740704968657, 'lambd': 6.265377712922006, 'alpha': 2.1852640977985867, 'scale_pos_weight': 1}. Best is trial#154 with value: 0.8931708699348258.\n",
      "[I 2020-07-16 21:03:15,093] Finished trial#328 with value: 0.8913289883819779 with parameters: {'min_child_weight': 4, 'gamma': 2.520132761656006, 'subsample': 0.8136558568380303, 'colsample_bytree': 0.7625806529550629, 'max_deph': 7, 'lr': 0.08346182312316855, 'lambd': 6.660997349513179, 'alpha': 4.249241786058156, 'scale_pos_weight': 1}. Best is trial#154 with value: 0.8931708699348258.\n",
      "[I 2020-07-16 21:03:19,728] Finished trial#329 with value: 0.8913289883819779 with parameters: {'min_child_weight': 4, 'gamma': 5.059685863038798, 'subsample': 0.8012268146275756, 'colsample_bytree': 0.7396005933823562, 'max_deph': 9, 'lr': 0.09861221228399013, 'lambd': 6.389986348222056, 'alpha': 3.6912223245641513, 'scale_pos_weight': 1}. Best is trial#154 with value: 0.8931708699348258.\n",
      "[I 2020-07-16 21:03:24,827] Finished trial#330 with value: 0.891187305185605 with parameters: {'min_child_weight': 4, 'gamma': 2.5594208910615417, 'subsample': 0.6961179077172475, 'colsample_bytree': 0.8324322103283046, 'max_deph': 9, 'lr': 0.08720119767594232, 'lambd': 7.225695407259848, 'alpha': 5.302060390991248, 'scale_pos_weight': 1}. Best is trial#154 with value: 0.8931708699348258.\n",
      "[I 2020-07-16 21:03:28,084] Finished trial#331 with value: 0.8907622555964863 with parameters: {'min_child_weight': 2, 'gamma': 2.838960219165859, 'subsample': 0.7271715191058266, 'colsample_bytree': 0.6748707317411633, 'max_deph': 6, 'lr': 0.06850675380795346, 'lambd': 5.773201472079108, 'alpha': 1.7351747499779446, 'scale_pos_weight': 1}. Best is trial#154 with value: 0.8931708699348258.\n",
      "[I 2020-07-16 21:03:32,549] Finished trial#332 with value: 0.8914706715783508 with parameters: {'min_child_weight': 4, 'gamma': 2.9953569272943508, 'subsample': 0.7753858684204789, 'colsample_bytree': 0.7829485781845866, 'max_deph': 8, 'lr': 0.07855735731132892, 'lambd': 7.0933605719141735, 'alpha': 0.04709878019366631, 'scale_pos_weight': 1}. Best is trial#154 with value: 0.8931708699348258.\n",
      "[I 2020-07-16 21:03:38,330] Finished trial#333 with value: 0.8913289883819779 with parameters: {'min_child_weight': 3, 'gamma': 2.297890795902521, 'subsample': 0.7830789854935406, 'colsample_bytree': 0.8766423674009052, 'max_deph': 10, 'lr': 0.0940160517149551, 'lambd': 8.850822541264101, 'alpha': 4.010702731890373, 'scale_pos_weight': 1}. Best is trial#154 with value: 0.8931708699348258.\n",
      "[I 2020-07-16 21:03:43,732] Finished trial#334 with value: 0.8782941343156702 with parameters: {'min_child_weight': 4, 'gamma': 2.1802094012351025, 'subsample': 0.7906316014692869, 'colsample_bytree': 0.7512234379801367, 'max_deph': 10, 'lr': 0.09588928191184486, 'lambd': 9.472637399193335, 'alpha': 3.3046364726554707, 'scale_pos_weight': 2}. Best is trial#154 with value: 0.8931708699348258.\n",
      "[I 2020-07-16 21:03:48,492] Finished trial#335 with value: 0.8913289883819779 with parameters: {'min_child_weight': 4, 'gamma': 1.6293930933141123, 'subsample': 0.8405405631353136, 'colsample_bytree': 0.8094942756041367, 'max_deph': 9, 'lr': 0.08480132814908771, 'lambd': 7.279178264049377, 'alpha': 4.752752980249392, 'scale_pos_weight': 1}. Best is trial#154 with value: 0.8931708699348258.\n",
      "[I 2020-07-16 21:03:53,756] Finished trial#336 with value: 0.8907622555964863 with parameters: {'min_child_weight': 6, 'gamma': 2.48250677783121, 'subsample': 0.8271783633579676, 'colsample_bytree': 0.9030900054464539, 'max_deph': 9, 'lr': 0.06662270474627706, 'lambd': 7.887825024295175, 'alpha': 3.522313947079431, 'scale_pos_weight': 1}. Best is trial#154 with value: 0.8931708699348258.\n",
      "[I 2020-07-16 21:03:58,376] Finished trial#337 with value: 0.8917540379710966 with parameters: {'min_child_weight': 5, 'gamma': 2.687876485857175, 'subsample': 0.7407739890631628, 'colsample_bytree': 0.7472687526375046, 'max_deph': 9, 'lr': 0.09007375189162128, 'lambd': 8.975730188337987, 'alpha': 4.337261008710426, 'scale_pos_weight': 1}. Best is trial#154 with value: 0.8931708699348258.\n",
      "[I 2020-07-16 21:04:03,221] Finished trial#338 with value: 0.8916123547747237 with parameters: {'min_child_weight': 3, 'gamma': 2.3101147055649034, 'subsample': 0.6678771116926828, 'colsample_bytree': 0.714323308492373, 'max_deph': 9, 'lr': 0.06404178521473412, 'lambd': 6.140861478561366, 'alpha': 1.8784860718822074, 'scale_pos_weight': 1}. Best is trial#154 with value: 0.8931708699348258.\n",
      "[I 2020-07-16 21:04:08,194] Finished trial#339 with value: 0.8906205724001134 with parameters: {'min_child_weight': 2, 'gamma': 2.7095375981503453, 'subsample': 0.8219509879743916, 'colsample_bytree': 0.7908812997555748, 'max_deph': 9, 'lr': 0.08385998050842747, 'lambd': 6.760740893246321, 'alpha': 3.783153564257172, 'scale_pos_weight': 1}. Best is trial#154 with value: 0.8931708699348258.\n",
      "[I 2020-07-16 21:04:13,737] Finished trial#340 with value: 0.8916123547747237 with parameters: {'min_child_weight': 4, 'gamma': 1.9046175458407815, 'subsample': 0.8093876584559565, 'colsample_bytree': 0.8625873772589879, 'max_deph': 10, 'lr': 0.09227444012161724, 'lambd': 9.15229806303718, 'alpha': 3.9789392656150815, 'scale_pos_weight': 1}. Best is trial#154 with value: 0.8931708699348258.\n",
      "[I 2020-07-16 21:04:14,774] Finished trial#341 with value: 0.8604420515726835 with parameters: {'min_child_weight': 4, 'gamma': 1.0917795468277343, 'subsample': 0.8605527856812879, 'colsample_bytree': 0.8416270831715126, 'max_deph': 10, 'lr': 0.08844091113950661, 'lambd': 6.8655245674985625, 'alpha': 0.34419871535333557, 'scale_pos_weight': 0}. Best is trial#154 with value: 0.8931708699348258.\n",
      "[I 2020-07-16 21:04:19,760] Finished trial#342 with value: 0.8916123547747237 with parameters: {'min_child_weight': 5, 'gamma': 2.5425348413861246, 'subsample': 0.7985435377593405, 'colsample_bytree': 0.72457429892234, 'max_deph': 10, 'lr': 0.0978606246708832, 'lambd': 6.01265451613458, 'alpha': 1.296504952138637, 'scale_pos_weight': 1}. Best is trial#154 with value: 0.8931708699348258.\n",
      "[I 2020-07-16 21:04:24,989] Finished trial#343 with value: 0.8918957211674695 with parameters: {'min_child_weight': 4, 'gamma': 2.2280169742405085, 'subsample': 0.7779872416050752, 'colsample_bytree': 0.7650068160988368, 'max_deph': 10, 'lr': 0.09532647103802072, 'lambd': 7.417354817738253, 'alpha': 3.127302506084295, 'scale_pos_weight': 1}. Best is trial#154 with value: 0.8931708699348258.\n",
      "[I 2020-07-16 21:04:28,193] Finished trial#344 with value: 0.8910456219892321 with parameters: {'min_child_weight': 4, 'gamma': 3.214885292732818, 'subsample': 0.7656481750751919, 'colsample_bytree': 0.40695328712546575, 'max_deph': 9, 'lr': 0.08640861610085672, 'lambd': 7.584475463450449, 'alpha': 1.8477649848267919, 'scale_pos_weight': 1}. Best is trial#154 with value: 0.8931708699348258.\n",
      "[I 2020-07-16 21:04:33,284] Finished trial#345 with value: 0.8914706715783508 with parameters: {'min_child_weight': 3, 'gamma': 2.4208692019745444, 'subsample': 0.7440922712781814, 'colsample_bytree': 0.7409526994610506, 'max_deph': 10, 'lr': 0.09711576265756548, 'lambd': 6.37755859006752, 'alpha': 4.008778624057587, 'scale_pos_weight': 1}. Best is trial#154 with value: 0.8931708699348258.\n",
      "[I 2020-07-16 21:04:38,212] Finished trial#346 with value: 0.8907622555964863 with parameters: {'min_child_weight': 2, 'gamma': 2.039056292662619, 'subsample': 0.7979490774857882, 'colsample_bytree': 0.7003740522921809, 'max_deph': 10, 'lr': 0.0986763368395738, 'lambd': 5.86570363353332, 'alpha': 3.668383228244953, 'scale_pos_weight': 1}. Best is trial#154 with value: 0.8931708699348258.\n",
      "[I 2020-07-16 21:04:43,039] Finished trial#347 with value: 0.8914706715783508 with parameters: {'min_child_weight': 4, 'gamma': 2.79555851374042, 'subsample': 0.6913704575337103, 'colsample_bytree': 0.7289582378721747, 'max_deph': 10, 'lr': 0.09256987360224855, 'lambd': 7.133887175772698, 'alpha': 4.383679922020731, 'scale_pos_weight': 1}. Best is trial#154 with value: 0.8931708699348258.\n",
      "[I 2020-07-16 21:04:48,208] Finished trial#348 with value: 0.8920374043638425 with parameters: {'min_child_weight': 4, 'gamma': 1.9165888643594526, 'subsample': 0.8055262566439365, 'colsample_bytree': 0.7740132789173099, 'max_deph': 10, 'lr': 0.08122388443986261, 'lambd': 5.098867866251576, 'alpha': 3.901496075361196, 'scale_pos_weight': 1}. Best is trial#154 with value: 0.8931708699348258.\n",
      "[I 2020-07-16 21:04:52,354] Finished trial#349 with value: 0.8903372060073675 with parameters: {'min_child_weight': 5, 'gamma': 3.125596378174517, 'subsample': 0.713983396098635, 'colsample_bytree': 0.6431069124853787, 'max_deph': 9, 'lr': 0.0359927538522071, 'lambd': 6.250287136911835, 'alpha': 2.350567500890808, 'scale_pos_weight': 1}. Best is trial#154 with value: 0.8931708699348258.\n",
      "[I 2020-07-16 21:04:55,008] Finished trial#350 with value: 0.8903372060073675 with parameters: {'min_child_weight': 3, 'gamma': 2.8835712923218924, 'subsample': 0.7569704194194073, 'colsample_bytree': 0.6597820463191431, 'max_deph': 5, 'lr': 0.07160106899158199, 'lambd': 6.419708388323407, 'alpha': 1.5699589385982187, 'scale_pos_weight': 1}. Best is trial#154 with value: 0.8931708699348258.\n",
      "[I 2020-07-16 21:05:00,007] Finished trial#351 with value: 0.8921790875602154 with parameters: {'min_child_weight': 4, 'gamma': 2.3786606292123027, 'subsample': 0.7884246638549623, 'colsample_bytree': 0.7519377359387159, 'max_deph': 10, 'lr': 0.09433370571409526, 'lambd': 6.639716108996686, 'alpha': 4.12962156172819, 'scale_pos_weight': 1}. Best is trial#154 with value: 0.8931708699348258.\n",
      "[I 2020-07-16 21:05:05,300] Finished trial#352 with value: 0.8921790875602154 with parameters: {'min_child_weight': 2, 'gamma': 2.1346350513925842, 'subsample': 0.7712246478785796, 'colsample_bytree': 0.7402434878722931, 'max_deph': 10, 'lr': 0.06801810157162992, 'lambd': 6.271916822724155, 'alpha': 3.2918039345408365, 'scale_pos_weight': 1}. Best is trial#154 with value: 0.8931708699348258.\n",
      "[I 2020-07-16 21:05:08,648] Finished trial#353 with value: 0.8916123547747237 with parameters: {'min_child_weight': 4, 'gamma': 1.8285806723259428, 'subsample': 0.8215146480971682, 'colsample_bytree': 0.4852753705140551, 'max_deph': 9, 'lr': 0.07780486306298166, 'lambd': 6.957968924534984, 'alpha': 3.509554013609533, 'scale_pos_weight': 1}. Best is trial#154 with value: 0.8931708699348258.\n",
      "[I 2020-07-16 21:05:12,860] Finished trial#354 with value: 0.8914706715783508 with parameters: {'min_child_weight': 4, 'gamma': 2.636514469336859, 'subsample': 0.8457897077092656, 'colsample_bytree': 0.779118762301743, 'max_deph': 8, 'lr': 0.09545658025123774, 'lambd': 8.72030434424891, 'alpha': 4.140619941464163, 'scale_pos_weight': 1}. Best is trial#154 with value: 0.8931708699348258.\n",
      "[I 2020-07-16 21:05:17,022] Finished trial#355 with value: 0.8918957211674695 with parameters: {'min_child_weight': 3, 'gamma': 2.4865401084012837, 'subsample': 0.7514426599502712, 'colsample_bytree': 0.5441006876736227, 'max_deph': 10, 'lr': 0.09119531701804975, 'lambd': 1.2213414497403026, 'alpha': 3.8974225363226878, 'scale_pos_weight': 1}. Best is trial#154 with value: 0.8931708699348258.\n",
      "[I 2020-07-16 21:05:21,415] Finished trial#356 with value: 0.8907622555964863 with parameters: {'min_child_weight': 5, 'gamma': 2.9042208705838473, 'subsample': 0.8374873073635114, 'colsample_bytree': 0.6869713924751141, 'max_deph': 9, 'lr': 0.08706952020180998, 'lambd': 7.000669878907734, 'alpha': 1.060789426714756, 'scale_pos_weight': 1}. Best is trial#154 with value: 0.8931708699348258.\n",
      "[I 2020-07-16 21:05:22,341] Finished trial#357 with value: 0.8668177954094645 with parameters: {'min_child_weight': 4, 'gamma': 2.0572144965218366, 'subsample': 0.8109713157598987, 'colsample_bytree': 0.07283230498981907, 'max_deph': 5, 'lr': 0.08412664846519266, 'lambd': 6.55745539251883, 'alpha': 3.7498950958121617, 'scale_pos_weight': 1}. Best is trial#154 with value: 0.8931708699348258.\n",
      "[I 2020-07-16 21:05:26,552] Finished trial#358 with value: 0.891187305185605 with parameters: {'min_child_weight': 4, 'gamma': 2.32651339378593, 'subsample': 0.7916421395983841, 'colsample_bytree': 0.710014312948027, 'max_deph': 8, 'lr': 0.06962740350321622, 'lambd': 6.102581922151755, 'alpha': 2.267465785886014, 'scale_pos_weight': 1}. Best is trial#154 with value: 0.8931708699348258.\n",
      "[I 2020-07-16 21:05:31,616] Finished trial#359 with value: 0.8910456219892321 with parameters: {'min_child_weight': 4, 'gamma': 3.4262538134675804, 'subsample': 0.8311705001715189, 'colsample_bytree': 0.7178605024774302, 'max_deph': 10, 'lr': 0.09721381444545024, 'lambd': 4.870759871651433, 'alpha': 0.7285975564037663, 'scale_pos_weight': 1}. Best is trial#154 with value: 0.8931708699348258.\n",
      "[I 2020-07-16 21:05:36,384] Finished trial#360 with value: 0.8918957211674695 with parameters: {'min_child_weight': 4, 'gamma': 2.172702021799042, 'subsample': 0.8261938816497203, 'colsample_bytree': 0.7576420082429143, 'max_deph': 9, 'lr': 0.08090550448983022, 'lambd': 5.7175210537538215, 'alpha': 3.5900759102119086, 'scale_pos_weight': 1}. Best is trial#154 with value: 0.8931708699348258.\n",
      "[I 2020-07-16 21:05:37,404] Finished trial#361 with value: 0.8604420515726835 with parameters: {'min_child_weight': 2, 'gamma': 2.7120109780938235, 'subsample': 0.7802626681085992, 'colsample_bytree': 0.6823817685875412, 'max_deph': 10, 'lr': 0.09461177997923675, 'lambd': 6.028464312333658, 'alpha': 2.060229695446626, 'scale_pos_weight': 0}. Best is trial#154 with value: 0.8931708699348258.\n",
      "[I 2020-07-16 21:05:42,142] Finished trial#362 with value: 0.8821195806177388 with parameters: {'min_child_weight': 3, 'gamma': 3.0040076813533663, 'subsample': 0.7303003039088355, 'colsample_bytree': 0.6505379659975683, 'max_deph': 9, 'lr': 0.059499936655929155, 'lambd': 6.524566596841674, 'alpha': 2.527284441676425, 'scale_pos_weight': 2}. Best is trial#154 with value: 0.8931708699348258.\n",
      "[I 2020-07-16 21:05:47,052] Finished trial#363 with value: 0.8918957211674695 with parameters: {'min_child_weight': 5, 'gamma': 1.4720307454017099, 'subsample': 0.8423512975634416, 'colsample_bytree': 0.8163504715757315, 'max_deph': 9, 'lr': 0.08514399686058088, 'lambd': 6.737503432746689, 'alpha': 4.476858044672049, 'scale_pos_weight': 1}. Best is trial#154 with value: 0.8931708699348258.\n",
      "[I 2020-07-16 21:05:51,988] Finished trial#364 with value: 0.8920374043638425 with parameters: {'min_child_weight': 4, 'gamma': 3.127402264745924, 'subsample': 0.814200172214847, 'colsample_bytree': 0.7308004918492844, 'max_deph': 10, 'lr': 0.08949639955131229, 'lambd': 9.364009119632154, 'alpha': 3.9661230479168035, 'scale_pos_weight': 1}. Best is trial#154 with value: 0.8931708699348258.\n",
      "[I 2020-07-16 21:05:56,639] Finished trial#365 with value: 0.8918957211674695 with parameters: {'min_child_weight': 4, 'gamma': 2.59841051167641, 'subsample': 0.8018035837772078, 'colsample_bytree': 0.7037777415257739, 'max_deph': 9, 'lr': 0.08278764349806364, 'lambd': 6.35648278685169, 'alpha': 1.3944318358127332, 'scale_pos_weight': 1}. Best is trial#154 with value: 0.8931708699348258.\n",
      "[I 2020-07-16 21:06:01,848] Finished trial#366 with value: 0.891187305185605 with parameters: {'min_child_weight': 4, 'gamma': 2.224291327115513, 'subsample': 0.7842306344846036, 'colsample_bytree': 0.7487155595840115, 'max_deph': 10, 'lr': 0.06726581421415498, 'lambd': 6.367606217869329, 'alpha': 1.7608917985683854, 'scale_pos_weight': 1}. Best is trial#154 with value: 0.8931708699348258.\n",
      "[I 2020-07-16 21:06:05,923] Finished trial#367 with value: 0.8926041371493341 with parameters: {'min_child_weight': 6, 'gamma': 2.7081475329021116, 'subsample': 0.7213296290301796, 'colsample_bytree': 0.6213028941408466, 'max_deph': 9, 'lr': 0.07366099660870608, 'lambd': 7.685921557753531, 'alpha': 2.006433678666761, 'scale_pos_weight': 1}. Best is trial#154 with value: 0.8931708699348258.\n",
      "[I 2020-07-16 21:06:10,389] Finished trial#368 with value: 0.8921790875602154 with parameters: {'min_child_weight': 2, 'gamma': 3.2730159987473746, 'subsample': 0.7181800699592934, 'colsample_bytree': 0.6245409642445519, 'max_deph': 9, 'lr': 0.0732639026934368, 'lambd': 7.117320038336889, 'alpha': 1.6225183994736625, 'scale_pos_weight': 1}. Best is trial#154 with value: 0.8931708699348258.\n",
      "[I 2020-07-16 21:06:12,274] Finished trial#369 with value: 0.8880702748654009 with parameters: {'min_child_weight': 6, 'gamma': 2.429689199480358, 'subsample': 0.8163110783813192, 'colsample_bytree': 0.7931218558786305, 'max_deph': 3, 'lr': 0.07081991225506842, 'lambd': 7.320815625710781, 'alpha': 2.131197843095865, 'scale_pos_weight': 1}. Best is trial#154 with value: 0.8931708699348258.\n",
      "[I 2020-07-16 21:06:16,615] Finished trial#370 with value: 0.8913289883819779 with parameters: {'min_child_weight': 3, 'gamma': 6.7141590512409, 'subsample': 0.7072192830088051, 'colsample_bytree': 0.6367664993904067, 'max_deph': 9, 'lr': 0.07606611853252268, 'lambd': 7.264051897422561, 'alpha': 1.9538193814623137, 'scale_pos_weight': 1}. Best is trial#154 with value: 0.8931708699348258.\n",
      "[I 2020-07-16 21:06:21,002] Finished trial#371 with value: 0.8906205724001134 with parameters: {'min_child_weight': 4, 'gamma': 2.6779358035453256, 'subsample': 0.929674457519174, 'colsample_bytree': 0.7260774491290813, 'max_deph': 10, 'lr': 0.07407677425786974, 'lambd': 7.7788281053191515, 'alpha': 8.106556494413873, 'scale_pos_weight': 1}. Best is trial#154 with value: 0.8931708699348258.\n",
      "[I 2020-07-16 21:06:25,047] Finished trial#372 with value: 0.8914706715783508 with parameters: {'min_child_weight': 6, 'gamma': 2.760863413811495, 'subsample': 0.7401396551574574, 'colsample_bytree': 0.6038034644725991, 'max_deph': 9, 'lr': 0.06773167252318721, 'lambd': 7.563647712964673, 'alpha': 2.4448507875499295, 'scale_pos_weight': 1}. Best is trial#154 with value: 0.8931708699348258.\n",
      "[I 2020-07-16 21:06:29,863] Finished trial#373 with value: 0.8916123547747237 with parameters: {'min_child_weight': 6, 'gamma': 2.047580802848896, 'subsample': 0.7674568106111466, 'colsample_bytree': 0.769774451926066, 'max_deph': 9, 'lr': 0.0657674120362023, 'lambd': 8.86386924327786, 'alpha': 2.8197317147146475, 'scale_pos_weight': 1}. Best is trial#154 with value: 0.8931708699348258.\n",
      "[I 2020-07-16 21:06:34,807] Finished trial#374 with value: 0.8909039387928591 with parameters: {'min_child_weight': 6, 'gamma': 1.1740567023451383, 'subsample': 0.8503174426264022, 'colsample_bytree': 0.8523335650119677, 'max_deph': 9, 'lr': 0.08108213250075245, 'lambd': 7.675612892721347, 'alpha': 4.89153544271929, 'scale_pos_weight': 1}. Best is trial#154 with value: 0.8931708699348258.\n",
      "[I 2020-07-16 21:06:39,789] Finished trial#375 with value: 0.8914706715783508 with parameters: {'min_child_weight': 4, 'gamma': 2.2444197961235153, 'subsample': 0.6831778953192011, 'colsample_bytree': 0.7669076453279258, 'max_deph': 9, 'lr': 0.08915809928897693, 'lambd': 7.99686143103351, 'alpha': 3.074132826899046, 'scale_pos_weight': 1}. Best is trial#154 with value: 0.8931708699348258.\n",
      "[I 2020-07-16 21:06:44,152] Finished trial#376 with value: 0.8910456219892321 with parameters: {'min_child_weight': 4, 'gamma': 2.8413346002274094, 'subsample': 0.8342386984775996, 'colsample_bytree': 0.7952666169720949, 'max_deph': 8, 'lr': 0.0877392169258026, 'lambd': 7.518274984932441, 'alpha': 4.163693748159455, 'scale_pos_weight': 1}. Best is trial#154 with value: 0.8931708699348258.\n",
      "[I 2020-07-16 21:06:48,411] Finished trial#377 with value: 0.8916123547747237 with parameters: {'min_child_weight': 6, 'gamma': 2.988881788460322, 'subsample': 0.7109803393793761, 'colsample_bytree': 0.6651028522579818, 'max_deph': 9, 'lr': 0.07332850853055757, 'lambd': 8.423630228490403, 'alpha': 3.407247799463502, 'scale_pos_weight': 1}. Best is trial#154 with value: 0.8931708699348258.\n",
      "[I 2020-07-16 21:06:49,853] Finished trial#378 with value: 0.884811561348824 with parameters: {'min_child_weight': 5, 'gamma': 2.4814165888935054, 'subsample': 0.7737624388198846, 'colsample_bytree': 0.7032863248889728, 'max_deph': 2, 'lr': 0.07137638004351894, 'lambd': 6.685055744153634, 'alpha': 3.718335713913627, 'scale_pos_weight': 1}. Best is trial#154 with value: 0.8931708699348258.\n",
      "[I 2020-07-16 21:06:54,752] Finished trial#379 with value: 0.8903372060073675 with parameters: {'min_child_weight': 6, 'gamma': 2.7250771078411304, 'subsample': 0.8197357983860069, 'colsample_bytree': 0.8110531796447853, 'max_deph': 9, 'lr': 0.08349650138244974, 'lambd': 8.20416759758358, 'alpha': 4.606129416814565, 'scale_pos_weight': 1}. Best is trial#154 with value: 0.8931708699348258.\n",
      "[I 2020-07-16 21:06:58,514] Finished trial#380 with value: 0.8916123547747237 with parameters: {'min_child_weight': 6, 'gamma': 2.5869614245170753, 'subsample': 0.8021066169864759, 'colsample_bytree': 0.736162249436564, 'max_deph': 7, 'lr': 0.06997781332994392, 'lambd': 6.183279935480258, 'alpha': 2.120042611982509, 'scale_pos_weight': 1}. Best is trial#154 with value: 0.8931708699348258.\n",
      "[I 2020-07-16 21:07:03,700] Finished trial#381 with value: 0.8917540379710966 with parameters: {'min_child_weight': 4, 'gamma': 3.038631283723492, 'subsample': 0.7927641490771934, 'colsample_bytree': 0.7450754860009214, 'max_deph': 10, 'lr': 0.07787264820843175, 'lambd': 9.113660765508497, 'alpha': 1.8372715710017058, 'scale_pos_weight': 1}. Best is trial#154 with value: 0.8931708699348258.\n",
      "[I 2020-07-16 21:07:08,313] Finished trial#382 with value: 0.8920374043638425 with parameters: {'min_child_weight': 2, 'gamma': 2.4256775623886044, 'subsample': 0.807139052883476, 'colsample_bytree': 0.6908642852699496, 'max_deph': 9, 'lr': 0.06239465667577459, 'lambd': 6.472301019820961, 'alpha': 2.217901855166401, 'scale_pos_weight': 1}. Best is trial#154 with value: 0.8931708699348258.\n",
      "[I 2020-07-16 21:07:13,434] Finished trial#383 with value: 0.8918957211674695 with parameters: {'min_child_weight': 2, 'gamma': 1.9461983878612075, 'subsample': 0.7560068503848415, 'colsample_bytree': 0.7814022096335047, 'max_deph': 9, 'lr': 0.07878103084969285, 'lambd': 6.806234701567119, 'alpha': 1.9583021087044707, 'scale_pos_weight': 1}. Best is trial#154 with value: 0.8931708699348258.\n",
      "[I 2020-07-16 21:07:18,895] Finished trial#384 with value: 0.8910456219892321 with parameters: {'min_child_weight': 3, 'gamma': 2.3655900681584234, 'subsample': 0.8278942167107516, 'colsample_bytree': 0.8338431938453446, 'max_deph': 10, 'lr': 0.09962141116915706, 'lambd': 8.545887801523174, 'alpha': 3.9227704802645595, 'scale_pos_weight': 1}. Best is trial#154 with value: 0.8931708699348258.\n",
      "[I 2020-07-16 21:07:23,763] Finished trial#385 with value: 0.8926041371493341 with parameters: {'min_child_weight': 4, 'gamma': 1.8156149523173535, 'subsample': 0.7912780406511877, 'colsample_bytree': 0.7653524278179006, 'max_deph': 9, 'lr': 0.09045816615066163, 'lambd': 7.407233019878426, 'alpha': 3.3991907418941105, 'scale_pos_weight': 1}. Best is trial#154 with value: 0.8931708699348258.\n",
      "[I 2020-07-16 21:07:28,461] Finished trial#386 with value: 0.8918957211674695 with parameters: {'min_child_weight': 7, 'gamma': 1.733670678035336, 'subsample': 0.8156205266291454, 'colsample_bytree': 0.7742068322333651, 'max_deph': 9, 'lr': 0.09272627027727158, 'lambd': 7.75677035588854, 'alpha': 3.4032236379492464, 'scale_pos_weight': 1}. Best is trial#154 with value: 0.8931708699348258.\n",
      "[I 2020-07-16 21:07:32,694] Finished trial#387 with value: 0.8924624539529612 with parameters: {'min_child_weight': 5, 'gamma': 2.589741740336575, 'subsample': 0.8013280253728715, 'colsample_bytree': 0.7567182637983094, 'max_deph': 8, 'lr': 0.09143380457630176, 'lambd': 7.477730341604575, 'alpha': 3.237934404717425, 'scale_pos_weight': 1}. Best is trial#154 with value: 0.8931708699348258.\n",
      "[I 2020-07-16 21:07:37,038] Finished trial#388 with value: 0.8910456219892321 with parameters: {'min_child_weight': 4, 'gamma': 2.6551153328658836, 'subsample': 0.8032326257550606, 'colsample_bytree': 0.7659940603139143, 'max_deph': 8, 'lr': 0.0912246395898586, 'lambd': 7.5518869010593495, 'alpha': 3.252966921070524, 'scale_pos_weight': 1}. Best is trial#154 with value: 0.8931708699348258.\n",
      "[I 2020-07-16 21:07:41,641] Finished trial#389 with value: 0.8807027486540097 with parameters: {'min_child_weight': 5, 'gamma': 2.82556746864796, 'subsample': 0.7462653259431042, 'colsample_bytree': 0.6602809987637489, 'max_deph': 9, 'lr': 0.09194672024112431, 'lambd': 7.404502080679984, 'alpha': 2.991526951531016, 'scale_pos_weight': 2}. Best is trial#154 with value: 0.8931708699348258.\n",
      "[I 2020-07-16 21:07:45,479] Finished trial#390 with value: 0.8920374043638425 with parameters: {'min_child_weight': 6, 'gamma': 1.8515344453508882, 'subsample': 0.798891228931185, 'colsample_bytree': 0.7591009534505887, 'max_deph': 7, 'lr': 0.08972387056947068, 'lambd': 7.752411420180753, 'alpha': 3.223373576739402, 'scale_pos_weight': 1}. Best is trial#154 with value: 0.8931708699348258.\n",
      "[I 2020-07-16 21:07:49,792] Finished trial#391 with value: 0.8920374043638425 with parameters: {'min_child_weight': 3, 'gamma': 1.9608246759634738, 'subsample': 0.7912434071539473, 'colsample_bytree': 0.7391099651969661, 'max_deph': 8, 'lr': 0.09087885956021063, 'lambd': 7.491958257500744, 'alpha': 3.5378736118893217, 'scale_pos_weight': 1}. Best is trial#154 with value: 0.8931708699348258.\n",
      "[I 2020-07-16 21:07:54,878] Finished trial#392 with value: 0.8916123547747237 with parameters: {'min_child_weight': 4, 'gamma': 2.1629465640780823, 'subsample': 0.7811555287125207, 'colsample_bytree': 0.7516158804971862, 'max_deph': 10, 'lr': 0.09399783165979747, 'lambd': 7.3737179206390655, 'alpha': 3.416705968215905, 'scale_pos_weight': 1}. Best is trial#154 with value: 0.8931708699348258.\n",
      "[I 2020-07-16 21:07:57,724] Finished trial#393 with value: 0.891187305185605 with parameters: {'min_child_weight': 4, 'gamma': 2.2842973361852397, 'subsample': 0.7955461420873144, 'colsample_bytree': 0.5776427742662541, 'max_deph': 6, 'lr': 0.08016957026682073, 'lambd': 7.857820250990382, 'alpha': 3.208834814591245, 'scale_pos_weight': 1}. Best is trial#154 with value: 0.8931708699348258.\n",
      "[I 2020-07-16 21:08:02,529] Finished trial#394 with value: 0.8920374043638425 with parameters: {'min_child_weight': 4, 'gamma': 1.8360172303374327, 'subsample': 0.8088366157540765, 'colsample_bytree': 0.7639840962723117, 'max_deph': 9, 'lr': 0.08801861197909043, 'lambd': 8.06048627669638, 'alpha': 3.629807346009006, 'scale_pos_weight': 1}. Best is trial#154 with value: 0.8931708699348258.\n",
      "[I 2020-07-16 21:08:07,314] Finished trial#395 with value: 0.8926041371493341 with parameters: {'min_child_weight': 5, 'gamma': 2.539576411781556, 'subsample': 0.751737316611019, 'colsample_bytree': 0.6724667647138807, 'max_deph': 10, 'lr': 0.0759245032377088, 'lambd': 7.681225430002464, 'alpha': 1.5460674825249505, 'scale_pos_weight': 1}. Best is trial#154 with value: 0.8931708699348258.\n",
      "[I 2020-07-16 21:08:12,150] Finished trial#396 with value: 0.8924624539529612 with parameters: {'min_child_weight': 5, 'gamma': 2.427442206503905, 'subsample': 0.8203895527915221, 'colsample_bytree': 0.7106541948258269, 'max_deph': 10, 'lr': 0.07541382128332452, 'lambd': 7.613657312713891, 'alpha': 3.4534345457555133, 'scale_pos_weight': 1}. Best is trial#154 with value: 0.8931708699348258.\n",
      "[I 2020-07-16 21:08:16,962] Finished trial#397 with value: 0.891187305185605 with parameters: {'min_child_weight': 5, 'gamma': 2.5331665974613085, 'subsample': 0.8226227909157989, 'colsample_bytree': 0.6823560833047803, 'max_deph': 10, 'lr': 0.07354829181731319, 'lambd': 7.720934287982705, 'alpha': 1.4351767995083629, 'scale_pos_weight': 1}. Best is trial#154 with value: 0.8931708699348258.\n",
      "[I 2020-07-16 21:08:17,970] Finished trial#398 with value: 0.8604420515726835 with parameters: {'min_child_weight': 5, 'gamma': 2.850133227178418, 'subsample': 0.8067985351063921, 'colsample_bytree': 0.7137126899391609, 'max_deph': 10, 'lr': 0.07323261893372338, 'lambd': 7.918434327213245, 'alpha': 3.3896715111923488, 'scale_pos_weight': 0}. Best is trial#154 with value: 0.8931708699348258.\n",
      "[I 2020-07-16 21:08:23,164] Finished trial#399 with value: 0.8916123547747237 with parameters: {'min_child_weight': 5, 'gamma': 2.5999527557486055, 'subsample': 0.672309501190058, 'colsample_bytree': 0.7835220573610971, 'max_deph': 10, 'lr': 0.07630349077760169, 'lambd': 7.641831071305587, 'alpha': 2.98613306641147, 'scale_pos_weight': 1}. Best is trial#154 with value: 0.8931708699348258.\n",
      "[I 2020-07-16 21:08:28,080] Finished trial#400 with value: 0.8918957211674695 with parameters: {'min_child_weight': 5, 'gamma': 2.504270034159946, 'subsample': 0.6927508939557814, 'colsample_bytree': 0.7194384871685209, 'max_deph': 10, 'lr': 0.093262011497548, 'lambd': 7.539258392937241, 'alpha': 3.5254756707490333, 'scale_pos_weight': 1}. Best is trial#154 with value: 0.8931708699348258.\n",
      "[I 2020-07-16 21:08:32,821] Finished trial#401 with value: 0.8913289883819779 with parameters: {'min_child_weight': 5, 'gamma': 2.3585915030895936, 'subsample': 0.8142400832836855, 'colsample_bytree': 0.7014773373403139, 'max_deph': 10, 'lr': 0.07790670803632371, 'lambd': 7.395796283977579, 'alpha': 3.117566781136529, 'scale_pos_weight': 1}. Best is trial#154 with value: 0.8931708699348258.\n",
      "[I 2020-07-16 21:08:37,871] Finished trial#402 with value: 0.8917540379710966 with parameters: {'min_child_weight': 5, 'gamma': 2.4026669323517234, 'subsample': 0.7757135916368656, 'colsample_bytree': 0.7173425130330552, 'max_deph': 10, 'lr': 0.07634568467934529, 'lambd': 7.976113893414367, 'alpha': 1.5757026861512484, 'scale_pos_weight': 1}. Best is trial#154 with value: 0.8931708699348258.\n",
      "[I 2020-07-16 21:08:42,582] Finished trial#403 with value: 0.8913289883819779 with parameters: {'min_child_weight': 5, 'gamma': 2.5992532674839843, 'subsample': 0.802495060785086, 'colsample_bytree': 0.678410290386806, 'max_deph': 10, 'lr': 0.09530276107230065, 'lambd': 7.648744737488644, 'alpha': 3.315925628374912, 'scale_pos_weight': 1}. Best is trial#154 with value: 0.8931708699348258.\n",
      "[I 2020-07-16 21:08:48,052] Finished trial#404 with value: 0.8455653159535279 with parameters: {'min_child_weight': 5, 'gamma': 2.2602556223327595, 'subsample': 0.8198793760974711, 'colsample_bytree': 0.7367457973789248, 'max_deph': 10, 'lr': 0.07481127147750095, 'lambd': 7.443642147248916, 'alpha': 3.6602553436638074, 'scale_pos_weight': 4}. Best is trial#154 with value: 0.8931708699348258.\n",
      "[I 2020-07-16 21:08:50,125] Finished trial#405 with value: 0.8900538396146217 with parameters: {'min_child_weight': 5, 'gamma': 2.756510907370453, 'subsample': 0.8301926552997287, 'colsample_bytree': 0.6484906296750196, 'max_deph': 4, 'lr': 0.09002916982732849, 'lambd': 7.25539742200872, 'alpha': 3.4085587428451007, 'scale_pos_weight': 1}. Best is trial#154 with value: 0.8931708699348258.\n",
      "[I 2020-07-16 21:08:54,832] Finished trial#406 with value: 0.8913289883819779 with parameters: {'min_child_weight': 6, 'gamma': 2.458806999388946, 'subsample': 0.7629714283414456, 'colsample_bytree': 0.6972149767016845, 'max_deph': 10, 'lr': 0.09265002199433307, 'lambd': 8.212507870222636, 'alpha': 2.952808296701214, 'scale_pos_weight': 1}. Best is trial#154 with value: 0.8931708699348258.\n",
      "[I 2020-07-16 21:08:59,349] Finished trial#407 with value: 0.8926041371493341 with parameters: {'min_child_weight': 5, 'gamma': 2.2617441880503764, 'subsample': 0.658305664192107, 'colsample_bytree': 0.6202557000315465, 'max_deph': 10, 'lr': 0.07628448284926188, 'lambd': 7.845383798270222, 'alpha': 1.2334404471902192, 'scale_pos_weight': 1}. Best is trial#154 with value: 0.8931708699348258.\n",
      "[I 2020-07-16 21:09:03,730] Finished trial#408 with value: 0.891187305185605 with parameters: {'min_child_weight': 5, 'gamma': 2.2731317969757083, 'subsample': 0.665121413721882, 'colsample_bytree': 0.5900628419213818, 'max_deph': 10, 'lr': 0.07554981335777278, 'lambd': 7.868347767777568, 'alpha': 1.1769207908537231, 'scale_pos_weight': 1}. Best is trial#154 with value: 0.8931708699348258.\n",
      "[I 2020-07-16 21:09:08,223] Finished trial#409 with value: 0.8914706715783508 with parameters: {'min_child_weight': 5, 'gamma': 2.6409635609045234, 'subsample': 0.6778362922084676, 'colsample_bytree': 0.6136533498805141, 'max_deph': 10, 'lr': 0.07473877449597363, 'lambd': 7.6448805332294505, 'alpha': 1.2465829024723187, 'scale_pos_weight': 1}. Best is trial#154 with value: 0.8931708699348258.\n",
      "[I 2020-07-16 21:09:12,803] Finished trial#410 with value: 0.8909039387928591 with parameters: {'min_child_weight': 5, 'gamma': 7.41153212705027, 'subsample': 0.6669553992621851, 'colsample_bytree': 0.6299402098311145, 'max_deph': 10, 'lr': 0.07184881655369718, 'lambd': 7.775958405653962, 'alpha': 1.422421988632528, 'scale_pos_weight': 1}. Best is trial#154 with value: 0.8931708699348258.\n",
      "[I 2020-07-16 21:09:17,486] Finished trial#411 with value: 0.8923207707565882 with parameters: {'min_child_weight': 5, 'gamma': 2.0892272248845405, 'subsample': 0.6450378931458485, 'colsample_bytree': 0.6260564358387766, 'max_deph': 10, 'lr': 0.07544014460782214, 'lambd': 8.02875266284916, 'alpha': 1.1342723049472572, 'scale_pos_weight': 1}. Best is trial#154 with value: 0.8931708699348258.\n",
      "[I 2020-07-16 21:09:21,707] Finished trial#412 with value: 0.8916123547747237 with parameters: {'min_child_weight': 5, 'gamma': 5.951463948176795, 'subsample': 0.8141178639379857, 'colsample_bytree': 0.6111488195435999, 'max_deph': 10, 'lr': 0.07638851630194007, 'lambd': 7.523888051847054, 'alpha': 3.2279501836071485, 'scale_pos_weight': 1}. Best is trial#154 with value: 0.8931708699348258.\n",
      "[I 2020-07-16 21:09:26,331] Finished trial#413 with value: 0.8920374043638425 with parameters: {'min_child_weight': 5, 'gamma': 2.276074562985687, 'subsample': 0.6597643941652206, 'colsample_bytree': 0.6446049315795785, 'max_deph': 10, 'lr': 0.07318646921171022, 'lambd': 7.733500892239934, 'alpha': 1.5342797949165805, 'scale_pos_weight': 1}. Best is trial#154 with value: 0.8931708699348258.\n",
      "[I 2020-07-16 21:09:31,586] Finished trial#414 with value: 0.8914706715783508 with parameters: {'min_child_weight': 5, 'gamma': 2.529155374091594, 'subsample': 0.6503087712796155, 'colsample_bytree': 0.741638643735649, 'max_deph': 10, 'lr': 0.07743661947962382, 'lambd': 7.365671673381246, 'alpha': 1.3549842329271118, 'scale_pos_weight': 1}. Best is trial#154 with value: 0.8931708699348258.\n",
      "[I 2020-07-16 21:09:36,265] Finished trial#415 with value: 0.8907622555964863 with parameters: {'min_child_weight': 5, 'gamma': 2.794282890240613, 'subsample': 0.8058889342714574, 'colsample_bytree': 0.6628910783054727, 'max_deph': 10, 'lr': 0.07212138092766911, 'lambd': 7.60334936493001, 'alpha': 1.6199194346058725, 'scale_pos_weight': 1}. Best is trial#154 with value: 0.8931708699348258.\n",
      "[I 2020-07-16 21:09:41,397] Finished trial#416 with value: 0.8917540379710966 with parameters: {'min_child_weight': 5, 'gamma': 2.087211971473127, 'subsample': 0.6553984080265082, 'colsample_bytree': 0.761732774883279, 'max_deph': 10, 'lr': 0.07787851776843671, 'lambd': 8.062185100801841, 'alpha': 3.533132861792656, 'scale_pos_weight': 1}. Best is trial#154 with value: 0.8931708699348258.\n",
      "[I 2020-07-16 21:09:46,549] Finished trial#417 with value: 0.891187305185605 with parameters: {'min_child_weight': 2, 'gamma': 2.3694621721005635, 'subsample': 0.6983581021675211, 'colsample_bytree': 0.7246112790141923, 'max_deph': 10, 'lr': 0.0795623711736493, 'lambd': 5.4022553859487275, 'alpha': 3.6480624885573674, 'scale_pos_weight': 1}. Best is trial#154 with value: 0.8931708699348258.\n",
      "[I 2020-07-16 21:09:51,324] Finished trial#418 with value: 0.8909039387928591 with parameters: {'min_child_weight': 5, 'gamma': 2.618325100955697, 'subsample': 0.8259977161443339, 'colsample_bytree': 0.6789815888893368, 'max_deph': 10, 'lr': 0.07396054381083321, 'lambd': 7.824500177214304, 'alpha': 1.8015156054500623, 'scale_pos_weight': 1}. Best is trial#154 with value: 0.8931708699348258.\n",
      "[I 2020-07-16 21:09:56,585] Finished trial#419 with value: 0.8918957211674695 with parameters: {'min_child_weight': 6, 'gamma': 2.2757984334886445, 'subsample': 0.78570948316925, 'colsample_bytree': 0.779912819850786, 'max_deph': 10, 'lr': 0.09134971636510612, 'lambd': 7.469366551692266, 'alpha': 0.9451190657840625, 'scale_pos_weight': 1}. Best is trial#154 with value: 0.8931708699348258.\n",
      "[I 2020-07-16 21:10:01,533] Finished trial#420 with value: 0.892745820345707 with parameters: {'min_child_weight': 3, 'gamma': 2.0484814737697334, 'subsample': 0.7979713357664605, 'colsample_bytree': 0.7091515573741811, 'max_deph': 10, 'lr': 0.07949888487382281, 'lambd': 7.34056508229174, 'alpha': 3.7263293180641806, 'scale_pos_weight': 1}. Best is trial#154 with value: 0.8931708699348258.\n",
      "[I 2020-07-16 21:10:02,486] Finished trial#421 with value: 0.8604420515726835 with parameters: {'min_child_weight': 3, 'gamma': 2.0612524439937845, 'subsample': 0.7989612393613785, 'colsample_bytree': 0.558511168551254, 'max_deph': 10, 'lr': 0.07602745511342382, 'lambd': 8.28133114082958, 'alpha': 1.6803087661793992, 'scale_pos_weight': 0}. Best is trial#154 with value: 0.8931708699348258.\n",
      "[I 2020-07-16 21:10:07,324] Finished trial#422 with value: 0.8920374043638425 with parameters: {'min_child_weight': 3, 'gamma': 2.0230234403257836, 'subsample': 0.7735083191490213, 'colsample_bytree': 0.6951393090082316, 'max_deph': 10, 'lr': 0.09319353615902788, 'lambd': 7.645066280312277, 'alpha': 3.768865406724602, 'scale_pos_weight': 1}. Best is trial#154 with value: 0.8931708699348258.\n",
      "[I 2020-07-16 21:10:11,948] Finished trial#423 with value: 0.891187305185605 with parameters: {'min_child_weight': 3, 'gamma': 2.192990912196297, 'subsample': 0.8105853830087645, 'colsample_bytree': 0.6725248088286964, 'max_deph': 10, 'lr': 0.07189981664836818, 'lambd': 7.900595056175277, 'alpha': 3.667953372872831, 'scale_pos_weight': 1}. Best is trial#154 with value: 0.8931708699348258.\n",
      "[I 2020-07-16 21:10:16,278] Finished trial#424 with value: 0.8914706715783508 with parameters: {'min_child_weight': 3, 'gamma': 1.9208194952810935, 'subsample': 0.7964179676074595, 'colsample_bytree': 0.5971720205861183, 'max_deph': 10, 'lr': 0.07891118724833414, 'lambd': 7.18308969177204, 'alpha': 3.798076250344973, 'scale_pos_weight': 1}. Best is trial#154 with value: 0.8931708699348258.\n",
      "[I 2020-07-16 21:10:21,006] Finished trial#425 with value: 0.891187305185605 with parameters: {'min_child_weight': 3, 'gamma': 2.3819967412492806, 'subsample': 0.6422793378964831, 'colsample_bytree': 0.7069561574140294, 'max_deph': 9, 'lr': 0.07803072310167714, 'lambd': 7.314583137818856, 'alpha': 3.331693319706681, 'scale_pos_weight': 1}. Best is trial#154 with value: 0.8931708699348258.\n",
      "[I 2020-07-16 21:10:26,107] Finished trial#426 with value: 0.8921790875602154 with parameters: {'min_child_weight': 2, 'gamma': 2.746000835289163, 'subsample': 0.7840325644062107, 'colsample_bytree': 0.7259017461547006, 'max_deph': 10, 'lr': 0.07445613575364632, 'lambd': 7.463324331774716, 'alpha': 3.035603058841648, 'scale_pos_weight': 1}. Best is trial#154 with value: 0.8931708699348258.\n",
      "[I 2020-07-16 21:10:30,586] Finished trial#427 with value: 0.8909039387928591 with parameters: {'min_child_weight': 3, 'gamma': 2.5415049705093025, 'subsample': 0.8194129175115984, 'colsample_bytree': 0.6412209678399359, 'max_deph': 10, 'lr': 0.07674196300839217, 'lambd': 7.23050277907479, 'alpha': 3.431083926252756, 'scale_pos_weight': 1}. Best is trial#154 with value: 0.8931708699348258.\n",
      "[I 2020-07-16 21:10:35,233] Finished trial#428 with value: 0.8924624539529612 with parameters: {'min_child_weight': 5, 'gamma': 2.127569842144724, 'subsample': 0.8075535023313856, 'colsample_bytree': 0.7474728736530791, 'max_deph': 9, 'lr': 0.07996797357891516, 'lambd': 7.521645442903463, 'alpha': 3.5223627724308586, 'scale_pos_weight': 1}. Best is trial#154 with value: 0.8931708699348258.\n",
      "[I 2020-07-16 21:10:38,642] Finished trial#429 with value: 0.8906205724001134 with parameters: {'min_child_weight': 3, 'gamma': 2.0083421718074606, 'subsample': 0.591982606418469, 'colsample_bytree': 0.4497564610970315, 'max_deph': 10, 'lr': 0.08047857770539657, 'lambd': 7.612895016038653, 'alpha': 3.769712123677775, 'scale_pos_weight': 1}. Best is trial#154 with value: 0.8931708699348258.\n",
      "[I 2020-07-16 21:10:43,845] Finished trial#430 with value: 0.8914706715783508 with parameters: {'min_child_weight': 2, 'gamma': 2.1725649533463782, 'subsample': 0.8093124512244091, 'colsample_bytree': 0.7448986270928148, 'max_deph': 10, 'lr': 0.07712521402851188, 'lambd': 7.42031846015835, 'alpha': 3.5493970350564785, 'scale_pos_weight': 1}. Best is trial#154 with value: 0.8931708699348258.\n",
      "[I 2020-07-16 21:10:48,339] Finished trial#431 with value: 0.8914706715783508 with parameters: {'min_child_weight': 5, 'gamma': 2.3639600555771776, 'subsample': 0.7931017009645046, 'colsample_bytree': 0.69988160572209, 'max_deph': 10, 'lr': 0.09066301845504726, 'lambd': 5.93846069269829, 'alpha': 5.640297707812753, 'scale_pos_weight': 1}. Best is trial#154 with value: 0.8931708699348258.\n",
      "[I 2020-07-16 21:10:54,032] Finished trial#432 with value: 0.8916123547747237 with parameters: {'min_child_weight': 3, 'gamma': 2.4668843101261664, 'subsample': 0.761521666302298, 'colsample_bytree': 0.7957674880279619, 'max_deph': 10, 'lr': 0.0934218745796368, 'lambd': 4.633477856086658, 'alpha': 1.2978870373150473, 'scale_pos_weight': 1}. Best is trial#154 with value: 0.8931708699348258.\n",
      "[I 2020-07-16 21:10:59,085] Finished trial#433 with value: 0.8914706715783508 with parameters: {'min_child_weight': 2, 'gamma': 1.7777950811338008, 'subsample': 0.8004803516194349, 'colsample_bytree': 0.7673103603381671, 'max_deph': 9, 'lr': 0.07914762645815733, 'lambd': 7.142267035794755, 'alpha': 1.7084405879451952, 'scale_pos_weight': 1}. Best is trial#154 with value: 0.8931708699348258.\n",
      "[I 2020-07-16 21:11:04,011] Finished trial#434 with value: 0.8921790875602154 with parameters: {'min_child_weight': 3, 'gamma': 2.08511917400531, 'subsample': 0.8212558669748286, 'colsample_bytree': 0.7138226490939312, 'max_deph': 10, 'lr': 0.07936764331792681, 'lambd': 7.818286597711907, 'alpha': 3.538223192777401, 'scale_pos_weight': 1}. Best is trial#154 with value: 0.8931708699348258.\n",
      "[I 2020-07-16 21:11:08,979] Finished trial#435 with value: 0.8826863134032303 with parameters: {'min_child_weight': 5, 'gamma': 1.9899266086795915, 'subsample': 0.7807126265397966, 'colsample_bytree': 0.7372876244220737, 'max_deph': 9, 'lr': 0.04245413468897314, 'lambd': 7.5744527735343725, 'alpha': 3.2176626446880743, 'scale_pos_weight': 2}. Best is trial#154 with value: 0.8931708699348258.\n",
      "[I 2020-07-16 21:11:13,490] Finished trial#436 with value: 0.8916123547747237 with parameters: {'min_child_weight': 6, 'gamma': 2.2688474932866054, 'subsample': 0.6817817128309756, 'colsample_bytree': 0.7271207851989515, 'max_deph': 9, 'lr': 0.08852686667046314, 'lambd': 7.299340119043991, 'alpha': 3.871704896517284, 'scale_pos_weight': 1}. Best is trial#154 with value: 0.8931708699348258.\n",
      "[I 2020-07-16 21:11:17,864] Finished trial#437 with value: 0.8906205724001134 with parameters: {'min_child_weight': 5, 'gamma': 1.8727327579319248, 'subsample': 0.8068685129146482, 'colsample_bytree': 0.6855969790090142, 'max_deph': 9, 'lr': 0.08025633495099077, 'lambd': 7.455250159918345, 'alpha': 2.792598892586346, 'scale_pos_weight': 1}. Best is trial#154 with value: 0.8931708699348258.\n",
      "[I 2020-07-16 21:11:23,680] Finished trial#438 with value: 0.8906205724001134 with parameters: {'min_child_weight': 3, 'gamma': 4.690011271173965, 'subsample': 0.8341701139715324, 'colsample_bytree': 0.882188322509878, 'max_deph': 10, 'lr': 0.09796949241730159, 'lambd': 7.777008621736204, 'alpha': 1.5313452213836762, 'scale_pos_weight': 1}. Best is trial#154 with value: 0.8931708699348258.\n",
      "[I 2020-07-16 21:11:27,866] Finished trial#439 with value: 0.8913289883819779 with parameters: {'min_child_weight': 2, 'gamma': 2.5787596637705894, 'subsample': 0.7692650984028384, 'colsample_bytree': 0.530742400311197, 'max_deph': 10, 'lr': 0.07068043611068764, 'lambd': 5.654353763573237, 'alpha': 1.8896045106372807, 'scale_pos_weight': 1}. Best is trial#154 with value: 0.8931708699348258.\n",
      "[I 2020-07-16 21:11:32,035] Finished trial#440 with value: 0.8918957211674695 with parameters: {'min_child_weight': 5, 'gamma': 2.935282401462826, 'subsample': 0.8189858086076417, 'colsample_bytree': 0.7497597180260078, 'max_deph': 8, 'lr': 0.07536542818055371, 'lambd': 7.282918380396384, 'alpha': 3.3298538825730333, 'scale_pos_weight': 1}. Best is trial#154 with value: 0.8931708699348258.\n",
      "[I 2020-07-16 21:11:37,177] Finished trial#441 with value: 0.8913289883819779 with parameters: {'min_child_weight': 3, 'gamma': 2.2716526922365965, 'subsample': 0.6215177677325872, 'colsample_bytree': 0.7456345381519995, 'max_deph': 10, 'lr': 0.07714434885458948, 'lambd': 7.686614001414868, 'alpha': 3.120049795991782, 'scale_pos_weight': 1}. Best is trial#154 with value: 0.8931708699348258.\n",
      "[I 2020-07-16 21:11:41,932] Finished trial#442 with value: 0.8907622555964863 with parameters: {'min_child_weight': 6, 'gamma': 2.787192293090457, 'subsample': 0.7245076718045723, 'colsample_bytree': 0.7146176779964384, 'max_deph': 10, 'lr': 0.04499964672091638, 'lambd': 8.152836294301304, 'alpha': 2.679104434973434, 'scale_pos_weight': 1}. Best is trial#154 with value: 0.8931708699348258.\n",
      "[I 2020-07-16 21:11:46,642] Finished trial#443 with value: 0.8913289883819779 with parameters: {'min_child_weight': 2, 'gamma': 3.0879580810027925, 'subsample': 0.8158434699254264, 'colsample_bytree': 0.6700687501881363, 'max_deph': 10, 'lr': 0.07354980507931305, 'lambd': 7.065283105156953, 'alpha': 3.6395111312651944, 'scale_pos_weight': 1}. Best is trial#154 with value: 0.8931708699348258.\n",
      "[I 2020-07-16 21:11:47,686] Finished trial#444 with value: 0.8604420515726835 with parameters: {'min_child_weight': 5, 'gamma': 2.7232220490352637, 'subsample': 0.7975774725496884, 'colsample_bytree': 0.7846991380678888, 'max_deph': 10, 'lr': 0.09099719580344413, 'lambd': 7.966718896182071, 'alpha': 3.9000691645020393, 'scale_pos_weight': 0}. Best is trial#154 with value: 0.8931708699348258.\n",
      "[I 2020-07-16 21:11:52,653] Finished trial#445 with value: 0.8923207707565882 with parameters: {'min_child_weight': 3, 'gamma': 2.9454321408718758, 'subsample': 0.7876172838333155, 'colsample_bytree': 0.7657275495566018, 'max_deph': 9, 'lr': 0.09498224785177002, 'lambd': 6.164784766241013, 'alpha': 1.09022955458852, 'scale_pos_weight': 1}. Best is trial#154 with value: 0.8931708699348258.\n",
      "[I 2020-07-16 21:11:57,178] Finished trial#446 with value: 0.8921790875602154 with parameters: {'min_child_weight': 4, 'gamma': 2.5908987413933855, 'subsample': 0.8285321599833817, 'colsample_bytree': 0.6565514971064523, 'max_deph': 10, 'lr': 0.09997472439614892, 'lambd': 5.288590211706912, 'alpha': 4.1087851968814215, 'scale_pos_weight': 1}. Best is trial#154 with value: 0.8931708699348258.\n",
      "[I 2020-07-16 21:12:01,901] Finished trial#447 with value: 0.8914706715783508 with parameters: {'min_child_weight': 5, 'gamma': 2.4058980423777356, 'subsample': 0.6724550462612521, 'colsample_bytree': 0.7047831450544083, 'max_deph': 9, 'lr': 0.08166530957994315, 'lambd': 7.197376979259814, 'alpha': 1.4960517165976168, 'scale_pos_weight': 1}. Best is trial#154 with value: 0.8931708699348258.\n",
      "[I 2020-07-16 21:12:06,955] Finished trial#448 with value: 0.8234627373193539 with parameters: {'min_child_weight': 5, 'gamma': 2.1688638907293454, 'subsample': 0.8094271011549267, 'colsample_bytree': 0.76005153007919, 'max_deph': 9, 'lr': 0.08285322669104911, 'lambd': 7.799590384260263, 'alpha': 3.5139840521775225, 'scale_pos_weight': 5}. Best is trial#154 with value: 0.8931708699348258.\n",
      "[I 2020-07-16 21:12:12,316] Finished trial#449 with value: 0.8918957211674695 with parameters: {'min_child_weight': 6, 'gamma': 2.393737217248259, 'subsample': 0.7794275366654557, 'colsample_bytree': 0.8062059465170793, 'max_deph': 10, 'lr': 0.09224700647063719, 'lambd': 6.564480405842544, 'alpha': 1.7360818007078054, 'scale_pos_weight': 1}. Best is trial#154 with value: 0.8931708699348258.\n",
      "[I 2020-07-16 21:12:16,901] Finished trial#450 with value: 0.8910456219892321 with parameters: {'min_child_weight': 5, 'gamma': 1.7440536825086714, 'subsample': 0.5138842811236565, 'colsample_bytree': 0.7301196437837264, 'max_deph': 9, 'lr': 0.07856237430285513, 'lambd': 7.494184906207614, 'alpha': 3.391538095960919, 'scale_pos_weight': 1}. Best is trial#154 with value: 0.8931708699348258.\n",
      "[I 2020-07-16 21:12:22,075] Finished trial#451 with value: 0.8920374043638425 with parameters: {'min_child_weight': 4, 'gamma': 2.4892545065659135, 'subsample': 0.7919416719945348, 'colsample_bytree': 0.7772104860802833, 'max_deph': 10, 'lr': 0.08890272009401157, 'lambd': 7.097357086006114, 'alpha': 3.877600409395836, 'scale_pos_weight': 1}. Best is trial#154 with value: 0.8931708699348258.\n",
      "[I 2020-07-16 21:12:27,180] Finished trial#452 with value: 0.8913289883819779 with parameters: {'min_child_weight': 3, 'gamma': 1.9338248623225085, 'subsample': 0.8031166771470871, 'colsample_bytree': 0.7386631393515464, 'max_deph': 10, 'lr': 0.07679499241688699, 'lambd': 7.370564239301499, 'alpha': 3.5985883951460114, 'scale_pos_weight': 1}. Best is trial#154 with value: 0.8931708699348258.\n",
      "[I 2020-07-16 21:12:32,455] Finished trial#453 with value: 0.8926041371493341 with parameters: {'min_child_weight': 2, 'gamma': 2.1877069751131075, 'subsample': 0.7722597184432534, 'colsample_bytree': 0.7525444059411538, 'max_deph': 10, 'lr': 0.0800494944468516, 'lambd': 7.649343996626645, 'alpha': 2.964884342987286, 'scale_pos_weight': 1}. Best is trial#154 with value: 0.8931708699348258.\n",
      "[I 2020-07-16 21:12:37,506] Finished trial#454 with value: 0.8913289883819779 with parameters: {'min_child_weight': 2, 'gamma': 2.2167323965023833, 'subsample': 0.7564669036027, 'colsample_bytree': 0.7631912148654657, 'max_deph': 9, 'lr': 0.07502749985670988, 'lambd': 8.657452485392685, 'alpha': 2.8521599962346715, 'scale_pos_weight': 1}. Best is trial#154 with value: 0.8931708699348258.\n",
      "[I 2020-07-16 21:12:42,958] Finished trial#455 with value: 0.8914706715783508 with parameters: {'min_child_weight': 3, 'gamma': 2.005382074490566, 'subsample': 0.7779532119611056, 'colsample_bytree': 0.7894535097221754, 'max_deph': 10, 'lr': 0.09677661812695373, 'lambd': 8.009903536856253, 'alpha': 3.0730940456911395, 'scale_pos_weight': 1}. Best is trial#154 with value: 0.8931708699348258.\n",
      "[I 2020-07-16 21:12:48,019] Finished trial#456 with value: 0.8917540379710966 with parameters: {'min_child_weight': 2, 'gamma': 2.364971310195326, 'subsample': 0.7685433636857121, 'colsample_bytree': 0.7194019062562195, 'max_deph': 10, 'lr': 0.0801783153149739, 'lambd': 7.625243996268779, 'alpha': 3.3813927895538534, 'scale_pos_weight': 1}. Best is trial#154 with value: 0.8931708699348258.\n",
      "[I 2020-07-16 21:12:52,427] Finished trial#457 with value: 0.8920374043638425 with parameters: {'min_child_weight': 4, 'gamma': 2.140820929233759, 'subsample': 0.7542350695483555, 'colsample_bytree': 0.6991649620927012, 'max_deph': 9, 'lr': 0.08018997993474229, 'lambd': 7.674507075381573, 'alpha': 3.751927370077962, 'scale_pos_weight': 1}. Best is trial#154 with value: 0.8931708699348258.\n",
      "[I 2020-07-16 21:12:58,650] Finished trial#458 with value: 0.810711249645792 with parameters: {'min_child_weight': 2, 'gamma': 1.8337659049804313, 'subsample': 0.7667355660410453, 'colsample_bytree': 0.8051929947161072, 'max_deph': 10, 'lr': 0.0846695862484575, 'lambd': 8.394262057780765, 'alpha': 1.9467254720998695, 'scale_pos_weight': 6}. Best is trial#154 with value: 0.8931708699348258.\n",
      "[I 2020-07-16 21:13:02,832] Finished trial#459 with value: 0.8923207707565882 with parameters: {'min_child_weight': 5, 'gamma': 2.648447589492835, 'subsample': 0.8152982315421972, 'colsample_bytree': 0.6115119612208536, 'max_deph': 10, 'lr': 0.09336803996567476, 'lambd': 8.188789189540389, 'alpha': 3.7126372254532334, 'scale_pos_weight': 1}. Best is trial#154 with value: 0.8931708699348258.\n",
      "[I 2020-07-16 21:13:08,080] Finished trial#460 with value: 0.8914706715783508 with parameters: {'min_child_weight': 2, 'gamma': 2.1000568859238307, 'subsample': 0.568621313986728, 'colsample_bytree': 0.7521102314921924, 'max_deph': 10, 'lr': 0.0736513198717896, 'lambd': 7.54892872855263, 'alpha': 3.043482330954861, 'scale_pos_weight': 1}. Best is trial#154 with value: 0.8931708699348258.\n",
      "[I 2020-07-16 21:13:13,163] Finished trial#461 with value: 0.8918957211674695 with parameters: {'min_child_weight': 2, 'gamma': 2.9447001122184298, 'subsample': 0.7782716223884261, 'colsample_bytree': 0.687910848606542, 'max_deph': 10, 'lr': 0.08273214468333288, 'lambd': 9.98226353969767, 'alpha': 1.3863716292032555, 'scale_pos_weight': 1}. Best is trial#154 with value: 0.8931708699348258.\n",
      "[I 2020-07-16 21:13:18,033] Finished trial#462 with value: 0.8788608671011618 with parameters: {'min_child_weight': 2, 'gamma': 2.802801166682918, 'subsample': 0.691118112644706, 'colsample_bytree': 0.7737172372412635, 'max_deph': 8, 'lr': 0.09501774280337259, 'lambd': 7.000100977261858, 'alpha': 2.562373754156086, 'scale_pos_weight': 2}. Best is trial#154 with value: 0.8931708699348258.\n",
      "[I 2020-07-16 21:13:23,033] Finished trial#463 with value: 0.8917540379710966 with parameters: {'min_child_weight': 5, 'gamma': 2.4869928024431456, 'subsample': 0.7904404853971757, 'colsample_bytree': 0.7181284365276737, 'max_deph': 10, 'lr': 0.07897753750504251, 'lambd': 7.944827507698452, 'alpha': 1.7058225817053116, 'scale_pos_weight': 1}. Best is trial#154 with value: 0.8931708699348258.\n",
      "[I 2020-07-16 21:13:27,707] Finished trial#464 with value: 0.8907622555964863 with parameters: {'min_child_weight': 2, 'gamma': 3.1481265020000304, 'subsample': 0.7617861274739738, 'colsample_bytree': 0.6318790697929108, 'max_deph': 10, 'lr': 0.05507716447223461, 'lambd': 7.231183448967014, 'alpha': 2.637691225054584, 'scale_pos_weight': 1}. Best is trial#154 with value: 0.8931708699348258.\n",
      "[I 2020-07-16 21:13:31,032] Finished trial#465 with value: 0.8916123547747237 with parameters: {'min_child_weight': 4, 'gamma': 2.249194195470335, 'subsample': 0.7489925037287433, 'colsample_bytree': 0.733580958392774, 'max_deph': 6, 'lr': 0.08589781504651313, 'lambd': 7.390143807343865, 'alpha': 3.265946934020727, 'scale_pos_weight': 1}. Best is trial#154 with value: 0.8931708699348258.\n",
      "[I 2020-07-16 21:13:36,310] Finished trial#466 with value: 0.8910456219892321 with parameters: {'min_child_weight': 2, 'gamma': 2.150867366311486, 'subsample': 0.787560763906686, 'colsample_bytree': 0.748451023311284, 'max_deph': 10, 'lr': 0.08070326970259598, 'lambd': 7.404596908791563, 'alpha': 2.8245978037121384, 'scale_pos_weight': 1}. Best is trial#154 with value: 0.8931708699348258.\n",
      "[I 2020-07-16 21:13:40,587] Finished trial#467 with value: 0.8892037404363843 with parameters: {'min_child_weight': 2, 'gamma': 1.717994319962706, 'subsample': 0.827402279589368, 'colsample_bytree': 0.6651326200785802, 'max_deph': 10, 'lr': 0.018298526651434513, 'lambd': 7.716598635245586, 'alpha': 3.971115333424756, 'scale_pos_weight': 1}. Best is trial#154 with value: 0.8931708699348258.\n",
      "[I 2020-07-16 21:13:45,347] Finished trial#468 with value: 0.8909039387928591 with parameters: {'min_child_weight': 6, 'gamma': 1.6524869949454017, 'subsample': 0.8045194505453414, 'colsample_bytree': 0.7620903598675989, 'max_deph': 9, 'lr': 0.08210080930459657, 'lambd': 4.241125229835978, 'alpha': 3.1698214871011174, 'scale_pos_weight': 1}. Best is trial#154 with value: 0.8931708699348258.\n",
      "[I 2020-07-16 21:13:50,457] Finished trial#469 with value: 0.8907622555964863 with parameters: {'min_child_weight': 2, 'gamma': 9.972668974670494, 'subsample': 0.8021700081533376, 'colsample_bytree': 0.7857946299887006, 'max_deph': 9, 'lr': 0.08813141238760536, 'lambd': 5.883632641756857, 'alpha': 2.07955296830733, 'scale_pos_weight': 1}. Best is trial#154 with value: 0.8931708699348258.\n",
      "[I 2020-07-16 21:13:55,355] Finished trial#470 with value: 0.8918957211674695 with parameters: {'min_child_weight': 4, 'gamma': 1.9808081970391973, 'subsample': 0.796705429341591, 'colsample_bytree': 0.8014067043278329, 'max_deph': 9, 'lr': 0.09131906102159836, 'lambd': 6.021624598788891, 'alpha': 4.142318179733144, 'scale_pos_weight': 1}. Best is trial#154 with value: 0.8931708699348258.\n",
      "[I 2020-07-16 21:13:59,802] Finished trial#471 with value: 0.8918957211674695 with parameters: {'min_child_weight': 5, 'gamma': 2.297863403602312, 'subsample': 0.820974263460745, 'colsample_bytree': 0.7077867225679428, 'max_deph': 9, 'lr': 0.07510775345106015, 'lambd': 7.589437495305003, 'alpha': 3.7265614951029384, 'scale_pos_weight': 1}. Best is trial#154 with value: 0.8931708699348258.\n",
      "[I 2020-07-16 21:14:04,273] Finished trial#472 with value: 0.8916123547747237 with parameters: {'min_child_weight': 5, 'gamma': 1.9353195488853485, 'subsample': 0.8138206118572163, 'colsample_bytree': 0.7284663783437572, 'max_deph': 9, 'lr': 0.07689823343770906, 'lambd': 7.851008116605688, 'alpha': 3.507393659945284, 'scale_pos_weight': 1}. Best is trial#154 with value: 0.8931708699348258.\n",
      "[I 2020-07-16 21:14:05,360] Finished trial#473 with value: 0.8604420515726835 with parameters: {'min_child_weight': 3, 'gamma': 2.734189807871931, 'subsample': 0.7718520925700318, 'colsample_bytree': 0.8573581112320412, 'max_deph': 8, 'lr': 0.0872875366854963, 'lambd': 6.36052476415026, 'alpha': 2.3413154568204373, 'scale_pos_weight': 0}. Best is trial#154 with value: 0.8931708699348258.\n",
      "[I 2020-07-16 21:14:10,274] Finished trial#474 with value: 0.8924624539529612 with parameters: {'min_child_weight': 3, 'gamma': 2.0856954719607574, 'subsample': 0.7302792884047108, 'colsample_bytree': 0.7699044122453594, 'max_deph': 9, 'lr': 0.09464449093368651, 'lambd': 6.26036004246136, 'alpha': 4.168855040728206, 'scale_pos_weight': 1}. Best is trial#154 with value: 0.8931708699348258.\n",
      "[I 2020-07-16 21:14:15,550] Finished trial#475 with value: 0.8917540379710966 with parameters: {'min_child_weight': 2, 'gamma': 2.394645328397804, 'subsample': 0.7843157647799214, 'colsample_bytree': 0.7449406072057343, 'max_deph': 10, 'lr': 0.07763407472803588, 'lambd': 7.520967403885279, 'alpha': 3.0181202014622794, 'scale_pos_weight': 1}. Best is trial#154 with value: 0.8931708699348258.\n",
      "[I 2020-07-16 21:14:20,528] Finished trial#476 with value: 0.8918957211674695 with parameters: {'min_child_weight': 4, 'gamma': 2.6023912073384334, 'subsample': 0.8069291335904515, 'colsample_bytree': 0.7374158779718109, 'max_deph': 10, 'lr': 0.07858745768728909, 'lambd': 8.0890154626839, 'alpha': 3.5915485588141243, 'scale_pos_weight': 1}. Best is trial#154 with value: 0.8931708699348258.\n",
      "[I 2020-07-16 21:14:23,173] Finished trial#477 with value: 0.8907622555964863 with parameters: {'min_child_weight': 5, 'gamma': 2.4662803041672854, 'subsample': 0.7888483029533101, 'colsample_bytree': 0.6841562041243696, 'max_deph': 5, 'lr': 0.08126509637276405, 'lambd': 7.785904752658057, 'alpha': 3.32398440706823, 'scale_pos_weight': 1}. Best is trial#154 with value: 0.8931708699348258.\n",
      "[I 2020-07-16 21:14:28,037] Finished trial#478 with value: 0.8910456219892321 with parameters: {'min_child_weight': 4, 'gamma': 1.8475823890851664, 'subsample': 0.7344873983330206, 'colsample_bytree': 0.7779457401602813, 'max_deph': 9, 'lr': 0.08428095685476034, 'lambd': 6.12530798593845, 'alpha': 4.307721381252677, 'scale_pos_weight': 1}. Best is trial#154 with value: 0.8931708699348258.\n",
      "[I 2020-07-16 21:14:32,785] Finished trial#479 with value: 0.891187305185605 with parameters: {'min_child_weight': 7, 'gamma': 3.730871872073918, 'subsample': 0.6375791782700939, 'colsample_bytree': 0.7140905822726883, 'max_deph': 10, 'lr': 0.072894177613274, 'lambd': 7.281578882773822, 'alpha': 3.1626471951334674, 'scale_pos_weight': 1}. Best is trial#154 with value: 0.8931708699348258.\n",
      "[I 2020-07-16 21:14:36,102] Finished trial#480 with value: 0.8916123547747237 with parameters: {'min_child_weight': 3, 'gamma': 2.0684268706900064, 'subsample': 0.7229598123712714, 'colsample_bytree': 0.5680277961761435, 'max_deph': 7, 'lr': 0.0898163912328445, 'lambd': 7.3084554771485895, 'alpha': 4.104230814380133, 'scale_pos_weight': 1}. Best is trial#154 with value: 0.8931708699348258.\n",
      "[I 2020-07-16 21:14:41,045] Finished trial#481 with value: 0.8913289883819779 with parameters: {'min_child_weight': 5, 'gamma': 2.6308390733231795, 'subsample': 0.8001548535545633, 'colsample_bytree': 0.7480648970134842, 'max_deph': 10, 'lr': 0.0799411462590398, 'lambd': 7.539393012196939, 'alpha': 3.3813322280570883, 'scale_pos_weight': 1}. Best is trial#154 with value: 0.8931708699348258.\n",
      "[I 2020-07-16 21:14:46,199] Finished trial#482 with value: 0.891187305185605 with parameters: {'min_child_weight': 3, 'gamma': 3.3046236175511163, 'subsample': 0.6686293853853605, 'colsample_bytree': 0.7548719730033427, 'max_deph': 10, 'lr': 0.07008337189570164, 'lambd': 7.089296658694748, 'alpha': 2.9698475293864544, 'scale_pos_weight': 1}. Best is trial#154 with value: 0.8931708699348258.\n",
      "[I 2020-07-16 21:14:51,318] Finished trial#483 with value: 0.8906205724001134 with parameters: {'min_child_weight': 4, 'gamma': 1.624705386779215, 'subsample': 0.7187584301127804, 'colsample_bytree': 0.8229206213009224, 'max_deph': 9, 'lr': 0.09681611985772696, 'lambd': 6.338162312022667, 'alpha': 4.2106596345308, 'scale_pos_weight': 1}. Best is trial#154 with value: 0.8931708699348258.\n",
      "[I 2020-07-16 21:14:55,755] Finished trial#484 with value: 0.8909039387928591 with parameters: {'min_child_weight': 5, 'gamma': 2.2662911633178107, 'subsample': 0.9713589292950418, 'colsample_bytree': 0.7801464919931997, 'max_deph': 9, 'lr': 0.08621353978618049, 'lambd': 6.487136644048422, 'alpha': 3.7928340300757495, 'scale_pos_weight': 1}. Best is trial#154 with value: 0.8931708699348258.\n",
      "[I 2020-07-16 21:15:00,651] Finished trial#485 with value: 0.8920374043638425 with parameters: {'min_child_weight': 4, 'gamma': 1.9053805028349904, 'subsample': 0.6563997874421293, 'colsample_bytree': 0.7625589774601806, 'max_deph': 9, 'lr': 0.09311580969674546, 'lambd': 7.0203214297507355, 'alpha': 3.9121857865405474, 'scale_pos_weight': 1}. Best is trial#154 with value: 0.8931708699348258.\n",
      "[I 2020-07-16 21:15:05,520] Finished trial#486 with value: 0.8916123547747237 with parameters: {'min_child_weight': 6, 'gamma': 2.1464246231403923, 'subsample': 0.6819995008390691, 'colsample_bytree': 0.7340036101937216, 'max_deph': 9, 'lr': 0.08299335431101268, 'lambd': 5.760460510762423, 'alpha': 0.9132119366684004, 'scale_pos_weight': 1}. Best is trial#154 with value: 0.8931708699348258.\n",
      "[I 2020-07-16 21:15:10,117] Finished trial#487 with value: 0.8913289883819779 with parameters: {'min_child_weight': 5, 'gamma': 2.4793617683358646, 'subsample': 0.8368773167562604, 'colsample_bytree': 0.6872588312599812, 'max_deph': 10, 'lr': 0.07878596852026629, 'lambd': 7.704355158595188, 'alpha': 3.5074336703778437, 'scale_pos_weight': 1}. Best is trial#154 with value: 0.8931708699348258.\n",
      "[I 2020-07-16 21:15:14,909] Finished trial#488 with value: 0.8924624539529612 with parameters: {'min_child_weight': 4, 'gamma': 2.057026811248368, 'subsample': 0.8236330294344565, 'colsample_bytree': 0.7981438869421035, 'max_deph': 9, 'lr': 0.09856160164786536, 'lambd': 6.153238759370748, 'alpha': 4.440323239856449, 'scale_pos_weight': 1}. Best is trial#154 with value: 0.8931708699348258.\n",
      "[I 2020-07-16 21:15:19,606] Finished trial#489 with value: 0.8900538396146217 with parameters: {'min_child_weight': 2, 'gamma': 2.771134864673705, 'subsample': 0.9976203512524828, 'colsample_bytree': 0.8238696679580393, 'max_deph': 9, 'lr': 0.06587003630702865, 'lambd': 9.575585868230215, 'alpha': 2.0519890631133486, 'scale_pos_weight': 1}. Best is trial#154 with value: 0.8931708699348258.\n",
      "[I 2020-07-16 21:15:24,629] Finished trial#490 with value: 0.8778690847265515 with parameters: {'min_child_weight': 4, 'gamma': 1.9916716668399772, 'subsample': 0.8339722142517806, 'colsample_bytree': 0.8007891833045424, 'max_deph': 9, 'lr': 0.09844380285174453, 'lambd': 5.959957834963626, 'alpha': 4.3590632773848, 'scale_pos_weight': 2}. Best is trial#154 with value: 0.8931708699348258.\n",
      "[I 2020-07-16 21:15:28,944] Finished trial#491 with value: 0.8914706715783508 with parameters: {'min_child_weight': 4, 'gamma': 2.3136427928193917, 'subsample': 0.8060329130802061, 'colsample_bytree': 0.7575863990678925, 'max_deph': 8, 'lr': 0.08349426531502374, 'lambd': 6.834379692472706, 'alpha': 3.790361004516436, 'scale_pos_weight': 1}. Best is trial#154 with value: 0.8931708699348258.\n",
      "[I 2020-07-16 21:15:34,816] Finished trial#492 with value: 0.8903372060073675 with parameters: {'min_child_weight': 5, 'gamma': 3.0156273863860124, 'subsample': 0.7973623736724084, 'colsample_bytree': 0.9194987128752548, 'max_deph': 10, 'lr': 0.07629393756912693, 'lambd': 7.820552096944416, 'alpha': 3.557391852273424, 'scale_pos_weight': 1}. Best is trial#154 with value: 0.8931708699348258.\n",
      "[I 2020-07-16 21:15:39,628] Finished trial#493 with value: 0.891187305185605 with parameters: {'min_child_weight': 3, 'gamma': 2.2467372042146323, 'subsample': 0.7362371254482669, 'colsample_bytree': 0.7076426976443492, 'max_deph': 9, 'lr': 0.07251818463144985, 'lambd': 7.420891476446644, 'alpha': 1.118097139812808, 'scale_pos_weight': 1}. Best is trial#154 with value: 0.8931708699348258.\n",
      "[I 2020-07-16 21:15:45,287] Finished trial#494 with value: 0.8593085860017002 with parameters: {'min_child_weight': 3, 'gamma': 1.7323155187589088, 'subsample': 0.6103924708848336, 'colsample_bytree': 0.7943491400572318, 'max_deph': 9, 'lr': 0.09866728959879195, 'lambd': 6.277416799723542, 'alpha': 4.79703831863636, 'scale_pos_weight': 3}. Best is trial#154 with value: 0.8931708699348258.\n",
      "[I 2020-07-16 21:15:51,035] Finished trial#495 with value: 0.8913289883819779 with parameters: {'min_child_weight': 4, 'gamma': 2.392189272501673, 'subsample': 0.7732247255577878, 'colsample_bytree': 0.8664854457853141, 'max_deph': 10, 'lr': 0.09124058876334587, 'lambd': 6.673329958126447, 'alpha': 4.055274742225494, 'scale_pos_weight': 1}. Best is trial#154 with value: 0.8931708699348258.\n",
      "[I 2020-07-16 21:15:52,048] Finished trial#496 with value: 0.8604420515726835 with parameters: {'min_child_weight': 4, 'gamma': 2.5158827747805645, 'subsample': 0.814884967937226, 'colsample_bytree': 0.7327192496581711, 'max_deph': 10, 'lr': 0.0748113234731967, 'lambd': 7.533173816901919, 'alpha': 2.89835382523754, 'scale_pos_weight': 0}. Best is trial#154 with value: 0.8931708699348258.\n",
      "[I 2020-07-16 21:15:56,327] Finished trial#497 with value: 0.8923207707565882 with parameters: {'min_child_weight': 4, 'gamma': 1.7889802605831746, 'subsample': 0.7639205198990924, 'colsample_bytree': 0.6488770385544361, 'max_deph': 9, 'lr': 0.08108157856608057, 'lambd': 8.389039773228006, 'alpha': 3.7127527176671755, 'scale_pos_weight': 1}. Best is trial#154 with value: 0.8931708699348258.\n",
      "[I 2020-07-16 21:16:01,050] Finished trial#498 with value: 0.8918957211674695 with parameters: {'min_child_weight': 3, 'gamma': 2.1575738199111982, 'subsample': 0.75073109033717, 'colsample_bytree': 0.7753840593739931, 'max_deph': 9, 'lr': 0.09447194866283934, 'lambd': 6.510700001544121, 'alpha': 6.502797200274815, 'scale_pos_weight': 1}. Best is trial#154 with value: 0.8931708699348258.\n",
      "[I 2020-07-16 21:16:05,468] Finished trial#499 with value: 0.8921790875602154 with parameters: {'min_child_weight': 4, 'gamma': 2.3401115733176137, 'subsample': 0.8258991921071827, 'colsample_bytree': 0.7181520571120174, 'max_deph': 9, 'lr': 0.09967619967906155, 'lambd': 5.603259432304736, 'alpha': 4.505132078382816, 'scale_pos_weight': 1}. Best is trial#154 with value: 0.8931708699348258.\n",
      "\n"
     ]
    }
   ],
   "source": [
    "def objective(trial):\n",
    "    min_child_weight = trial.suggest_int('min_child_weight', 2, 10)\n",
    "    gamma=trial.suggest_float('gamma',0.5,10)\n",
    "    subsample = trial.suggest_float('subsample', 0.5,1)\n",
    "    colsample_bytree = trial.suggest_float('colsample_bytree', 0,1)\n",
    "    max_deph = trial.suggest_int('max_deph', 2,10)\n",
    "    lr= trial.suggest_float('lr', 0.001,0.1)\n",
    "    lambd= trial.suggest_float('lambd', 1,10)\n",
    "    alpha= trial.suggest_float('alpha', 0,10)\n",
    "    scale_pos_weight = trial.suggest_int('scale_pos_weight', 0.01,6.102657004830918)\n",
    "\n",
    "    \n",
    "    \n",
    "    my_model3 = XGBClassifier(learning_rate=lr,min_child_weight =min_child_weight, gamma = gamma, subsample = subsample, colsample_bytree = colsample_bytree,\n",
    "                              max_depth = max_deph,reg_alpha=alpha, reg_lambda=lambd, scale_pos_weight=scale_pos_weight)\n",
    "\n",
    "   \n",
    "    my_model3.fit(X_train, y_train)\n",
    "    y_pred = my_model3.predict(X_test)\n",
    "    \n",
    "    return accuracy_score(y_test, my_model3.predict(X_test))\n",
    "\n",
    "\n",
    "# cross_validate(X_train_mat100, y,lamda=0.01,k=4)parameters thatparameters that\n",
    "\n",
    "sampler = optuna.samplers.TPESampler()\n",
    "study = optuna.create_study(sampler=sampler, direction='maximize')\n",
    "df = study.optimize(func=objective, n_trials=500,show_progress_bar=True)"
   ]
  },
  {
   "cell_type": "code",
   "execution_count": null,
   "metadata": {
    "colab": {},
    "colab_type": "code",
    "id": "ot0pUcAvR4fp"
   },
   "outputs": [],
   "source": []
  },
  {
   "cell_type": "code",
   "execution_count": null,
   "metadata": {
    "colab": {},
    "colab_type": "code",
    "id": "41Fi4Y8fR4ft"
   },
   "outputs": [],
   "source": [
    "test_pred=xgb_model.predict(test_data)"
   ]
  },
  {
   "cell_type": "code",
   "execution_count": null,
   "metadata": {
    "colab": {},
    "colab_type": "code",
    "id": "urwJ2FmRR4fx"
   },
   "outputs": [],
   "source": [
    "col=[id[i] +' '+'x'+' '+ country[i] for i in range(len(test))]\n",
    "\n",
    "test['bank_account']=test_pred\n",
    "test['uniqueid']=col\n",
    "\n",
    "\n",
    "pred=test[['uniqueid','bank_account']]\n",
    "\n",
    "# pred.columns\n",
    "pred.to_csv('xgboost_overfit.csv', index=False)\n"
   ]
  },
  {
   "cell_type": "code",
   "execution_count": null,
   "metadata": {
    "colab": {},
    "colab_type": "code",
    "id": "Sp527mDB-ldn"
   },
   "outputs": [],
   "source": [
    "#y_pred = clf.predict(X_test)\n"
   ]
  },
  {
   "cell_type": "code",
   "execution_count": null,
   "metadata": {
    "colab": {
     "base_uri": "https://localhost:8080/",
     "height": 34
    },
    "colab_type": "code",
    "id": "morjgfk0-f3m",
    "outputId": "72ad04ac-ea9e-4645-a46d-75d64e9c6d44"
   },
   "outputs": [
    {
     "data": {
      "text/plain": [
       "0.1113629923491074"
      ]
     },
     "execution_count": 40,
     "metadata": {
      "tags": []
     },
     "output_type": "execute_result"
    }
   ],
   "source": [
    "#1-accuracy_score(y_test,pred)"
   ]
  },
  {
   "cell_type": "code",
   "execution_count": null,
   "metadata": {
    "colab": {},
    "colab_type": "code",
    "id": "1ds_u-jeg66w"
   },
   "outputs": [],
   "source": [
    "using LightGBM"
   ]
  },
  {
   "cell_type": "code",
   "execution_count": 123,
   "metadata": {
    "colab": {
     "base_uri": "https://localhost:8080/",
     "height": 1000,
     "referenced_widgets": [
      "e40d7277efe948bba288d3df15a35c83",
      "7e717c54d6db46368489a6b5b06f017d",
      "b693347643f24302b5afb24eacf8e112",
      "8b95eea59ca348bdaee0f20f85481e55",
      "61c69d23488d45e39f2dc84c060e09aa",
      "d1f967f5c73a4035aa5c336f513876ce",
      "dd9ae5df11eb40b2a2f1cddec55cc4ab",
      "dec6eb8225dd4072a3fdb619184cc3a2"
     ]
    },
    "colab_type": "code",
    "id": "wUSpffxtH-kW",
    "outputId": "ed5bb3da-158e-4011-ab95-c7ac5a84b7b7"
   },
   "outputs": [
    {
     "name": "stderr",
     "output_type": "stream",
     "text": [
      "/usr/local/lib/python3.6/dist-packages/optuna/_experimental.py:61: ExperimentalWarning:\n",
      "\n",
      "Progress bar is experimental (supported from v1.2.0). The interface can change in the future.\n",
      "\n"
     ]
    },
    {
     "data": {
      "application/vnd.jupyter.widget-view+json": {
       "model_id": "e40d7277efe948bba288d3df15a35c83",
       "version_major": 2,
       "version_minor": 0
      },
      "text/plain": [
       "HBox(children=(FloatProgress(value=0.0, max=500.0), HTML(value='')))"
      ]
     },
     "metadata": {
      "tags": []
     },
     "output_type": "display_data"
    },
    {
     "name": "stdout",
     "output_type": "stream",
     "text": [
      "[I 2020-07-16 21:30:06,500] Finished trial#0 with value: 0.8604420515726835 with parameters: {'subsample': 0.42954070655905596, 'colsample_bytree': 0.016036340086735823, 'lr': 0.003644444874729804, 'lambd': 1.0597220911365415, 'alpha': 1.074290672861865, 'n_estimator': 659, 'num_leaves': 4}. Best is trial#0 with value: 0.8604420515726835.\n",
      "[I 2020-07-16 21:30:06,893] Finished trial#1 with value: 0.8604420515726835 with parameters: {'subsample': 0.12259680026168257, 'colsample_bytree': 0.4922175864966365, 'lr': 0.009498781973111773, 'lambd': 5.994248153785465, 'alpha': 5.798744354373331, 'n_estimator': 214, 'num_leaves': 2}. Best is trial#0 with value: 0.8604420515726835.\n",
      "[I 2020-07-16 21:30:07,077] Finished trial#2 with value: 0.8604420515726835 with parameters: {'subsample': 0.9811460984468312, 'colsample_bytree': 0.9694514750969659, 'lr': 0.020943888215146745, 'lambd': 5.634681527681043, 'alpha': 2.810412678219051, 'n_estimator': 11, 'num_leaves': 4}. Best is trial#0 with value: 0.8604420515726835.\n",
      "[I 2020-07-16 21:30:07,951] Finished trial#3 with value: 0.8825446302068575 with parameters: {'subsample': 0.5080976199486238, 'colsample_bytree': 0.5764668845250578, 'lr': 0.009989348350195704, 'lambd': 6.659673171639548, 'alpha': 4.217936395419445, 'n_estimator': 464, 'num_leaves': 3}. Best is trial#3 with value: 0.8825446302068575.\n",
      "[I 2020-07-16 21:30:08,114] Finished trial#4 with value: 0.8604420515726835 with parameters: {'subsample': 0.3627555695174606, 'colsample_bytree': 0.057324308293345894, 'lr': 0.011778189879309942, 'lambd': 7.500862426324021, 'alpha': 8.37520382235296, 'n_estimator': 5, 'num_leaves': 2}. Best is trial#3 with value: 0.8825446302068575.\n",
      "[I 2020-07-16 21:30:09,342] Finished trial#5 with value: 0.8903372060073675 with parameters: {'subsample': 0.4693222616242021, 'colsample_bytree': 0.39751558915008534, 'lr': 0.064402324176155, 'lambd': 1.9693685726539893, 'alpha': 3.44485443226787, 'n_estimator': 645, 'num_leaves': 8}. Best is trial#5 with value: 0.8903372060073675.\n",
      "[I 2020-07-16 21:30:10,171] Finished trial#6 with value: 0.8897704732218759 with parameters: {'subsample': 0.5535555594347188, 'colsample_bytree': 0.2844990856169578, 'lr': 0.09405639024111571, 'lambd': 9.132680568603764, 'alpha': 3.420900692539516, 'n_estimator': 374, 'num_leaves': 7}. Best is trial#5 with value: 0.8903372060073675.\n",
      "[I 2020-07-16 21:30:10,562] Finished trial#7 with value: 0.8897704732218759 with parameters: {'subsample': 0.9585490322667353, 'colsample_bytree': 0.29745655925419157, 'lr': 0.07608543292401314, 'lambd': 9.334717275839713, 'alpha': 1.943733427216714, 'n_estimator': 119, 'num_leaves': 6}. Best is trial#5 with value: 0.8903372060073675.\n",
      "[I 2020-07-16 21:30:11,150] Finished trial#8 with value: 0.8889203740436384 with parameters: {'subsample': 0.8449682061051448, 'colsample_bytree': 0.6573848257807412, 'lr': 0.0862702858104798, 'lambd': 9.681943151402386, 'alpha': 8.250120307741899, 'n_estimator': 249, 'num_leaves': 4}. Best is trial#5 with value: 0.8903372060073675.\n",
      "[I 2020-07-16 21:30:12,111] Finished trial#9 with value: 0.8815528478322471 with parameters: {'subsample': 0.25911574678967486, 'colsample_bytree': 0.13693695470893663, 'lr': 0.014210535229156874, 'lambd': 7.838151717202738, 'alpha': 6.890803427746075, 'n_estimator': 487, 'num_leaves': 6}. Best is trial#5 with value: 0.8903372060073675.\n",
      "[I 2020-07-16 21:30:14,244] Finished trial#10 with value: 0.891187305185605 with parameters: {'subsample': 0.6982628355169422, 'colsample_bytree': 0.8151814530182895, 'lr': 0.05565485041368379, 'lambd': 2.554429304887922, 'alpha': 0.2766015641683044, 'n_estimator': 979, 'num_leaves': 10}. Best is trial#10 with value: 0.891187305185605.\n",
      "[I 2020-07-16 21:30:16,438] Finished trial#11 with value: 0.8914706715783508 with parameters: {'subsample': 0.6930300844147285, 'colsample_bytree': 0.9324724420943669, 'lr': 0.05329627960761993, 'lambd': 2.193149960313466, 'alpha': 0.13209445121168795, 'n_estimator': 991, 'num_leaves': 10}. Best is trial#11 with value: 0.8914706715783508.\n",
      "[I 2020-07-16 21:30:18,664] Finished trial#12 with value: 0.8904788892037404 with parameters: {'subsample': 0.707909873506987, 'colsample_bytree': 0.9857435219992685, 'lr': 0.0434792818604106, 'lambd': 3.470321238999847, 'alpha': 0.23470423803143703, 'n_estimator': 978, 'num_leaves': 10}. Best is trial#11 with value: 0.8914706715783508.\n",
      "[I 2020-07-16 21:30:20,855] Finished trial#13 with value: 0.8904788892037404 with parameters: {'subsample': 0.6927147732781341, 'colsample_bytree': 0.8041297044482556, 'lr': 0.041589252168298854, 'lambd': 3.831925679043227, 'alpha': 0.5950139245655768, 'n_estimator': 955, 'num_leaves': 10}. Best is trial#11 with value: 0.8914706715783508.\n",
      "[I 2020-07-16 21:30:22,734] Finished trial#14 with value: 0.8906205724001134 with parameters: {'subsample': 0.6699774419932598, 'colsample_bytree': 0.8220538842112152, 'lr': 0.059107269472574595, 'lambd': 3.330763542215369, 'alpha': 1.7202599173023545, 'n_estimator': 831, 'num_leaves': 9}. Best is trial#11 with value: 0.8914706715783508.\n",
      "[I 2020-07-16 21:30:24,531] Finished trial#15 with value: 0.8910456219892321 with parameters: {'subsample': 0.8384309463576047, 'colsample_bytree': 0.8280306171599656, 'lr': 0.03699204378106308, 'lambd': 1.9599400592133147, 'alpha': 0.1404413618344511, 'n_estimator': 808, 'num_leaves': 9}. Best is trial#11 with value: 0.8914706715783508.\n",
      "[I 2020-07-16 21:30:26,454] Finished trial#16 with value: 0.891187305185605 with parameters: {'subsample': 0.816114260421709, 'colsample_bytree': 0.6955264952057126, 'lr': 0.02951832007018958, 'lambd': 1.0846057732534513, 'alpha': 0.14112062896865632, 'n_estimator': 847, 'num_leaves': 10}. Best is trial#11 with value: 0.8914706715783508.\n",
      "[I 2020-07-16 21:30:28,349] Finished trial#17 with value: 0.8897704732218759 with parameters: {'subsample': 0.8138959393767922, 'colsample_bytree': 0.6657658545147339, 'lr': 0.027540149220371048, 'lambd': 1.0532894514628015, 'alpha': 1.9684225110296125, 'n_estimator': 842, 'num_leaves': 8}. Best is trial#11 with value: 0.8914706715783508.\n",
      "[I 2020-07-16 21:30:29,975] Finished trial#18 with value: 0.8903372060073675 with parameters: {'subsample': 0.895385286122268, 'colsample_bytree': 0.9439597161234795, 'lr': 0.030516971623912714, 'lambd': 4.449783008231934, 'alpha': 5.130134814844704, 'n_estimator': 664, 'num_leaves': 9}. Best is trial#11 with value: 0.8914706715783508.\n",
      "[I 2020-07-16 21:30:31,654] Finished trial#19 with value: 0.8900538396146217 with parameters: {'subsample': 0.6071203764625199, 'colsample_bytree': 0.714657568395127, 'lr': 0.06727146993651163, 'lambd': 4.711241374198536, 'alpha': 1.2801367237249976, 'n_estimator': 779, 'num_leaves': 8}. Best is trial#11 with value: 0.8914706715783508.\n",
      "[I 2020-07-16 21:30:33,122] Finished trial#20 with value: 0.8900538396146217 with parameters: {'subsample': 0.7631368096511393, 'colsample_bytree': 0.8971461079100453, 'lr': 0.0497140915940751, 'lambd': 1.263736938737475, 'alpha': 9.484950608592255, 'n_estimator': 901, 'num_leaves': 10}. Best is trial#11 with value: 0.8914706715783508.\n",
      "[I 2020-07-16 21:30:35,266] Finished trial#21 with value: 0.8901955228109946 with parameters: {'subsample': 0.6431523906997481, 'colsample_bytree': 0.7295602206717656, 'lr': 0.06038369570658394, 'lambd': 2.727211502469267, 'alpha': 0.17407457448162597, 'n_estimator': 988, 'num_leaves': 10}. Best is trial#11 with value: 0.8914706715783508.\n",
      "[I 2020-07-16 21:30:37,255] Finished trial#22 with value: 0.8909039387928591 with parameters: {'subsample': 0.7728569090418709, 'colsample_bytree': 0.8896890361959422, 'lr': 0.0505867584893321, 'lambd': 2.3186178398096855, 'alpha': 0.04397375767000909, 'n_estimator': 914, 'num_leaves': 9}. Best is trial#11 with value: 0.8914706715783508.\n",
      "[I 2020-07-16 21:30:38,773] Finished trial#23 with value: 0.8906205724001134 with parameters: {'subsample': 0.5839723739270467, 'colsample_bytree': 0.5475550913445819, 'lr': 0.07462392365921514, 'lambd': 1.6545115337424272, 'alpha': 2.4180282747408683, 'n_estimator': 1000, 'num_leaves': 10}. Best is trial#11 with value: 0.8914706715783508.\n",
      "[I 2020-07-16 21:30:40,340] Finished trial#24 with value: 0.889628790025503 with parameters: {'subsample': 0.908514205715502, 'colsample_bytree': 0.7630691774423232, 'lr': 0.05254100130330572, 'lambd': 2.6666437033270305, 'alpha': 0.8845612350176211, 'n_estimator': 720, 'num_leaves': 7}. Best is trial#11 with value: 0.8914706715783508.\n",
      "[I 2020-07-16 21:30:42,306] Finished trial#25 with value: 0.8910456219892321 with parameters: {'subsample': 0.7560824350959667, 'colsample_bytree': 0.6440158835533909, 'lr': 0.033871522270327734, 'lambd': 4.643429818020637, 'alpha': 0.08355672773352546, 'n_estimator': 896, 'num_leaves': 9}. Best is trial#11 with value: 0.8914706715783508.\n",
      "[I 2020-07-16 21:30:43,856] Finished trial#26 with value: 0.8901955228109946 with parameters: {'subsample': 0.7169917118788014, 'colsample_bytree': 0.8631231706060054, 'lr': 0.02362651354786943, 'lambd': 2.8825613030886688, 'alpha': 1.2602588192314303, 'n_estimator': 583, 'num_leaves': 10}. Best is trial#11 with value: 0.8914706715783508.\n",
      "[I 2020-07-16 21:30:45,484] Finished trial#27 with value: 0.8907622555964863 with parameters: {'subsample': 0.901591396723918, 'colsample_bytree': 0.7458483967691556, 'lr': 0.04462333877912575, 'lambd': 1.5558956574851481, 'alpha': 2.9790674210211474, 'n_estimator': 747, 'num_leaves': 8}. Best is trial#11 with value: 0.8914706715783508.\n",
      "[I 2020-07-16 21:30:46,909] Finished trial#28 with value: 0.8904788892037404 with parameters: {'subsample': 0.6264405243686286, 'colsample_bytree': 0.9911308196045645, 'lr': 0.07280278214501179, 'lambd': 4.0364749154875845, 'alpha': 4.1412436478477375, 'n_estimator': 890, 'num_leaves': 7}. Best is trial#11 with value: 0.8914706715783508.\n",
      "[I 2020-07-16 21:30:48,078] Finished trial#29 with value: 0.8904788892037404 with parameters: {'subsample': 0.4061050319513116, 'colsample_bytree': 0.6010884494513015, 'lr': 0.0551504832157932, 'lambd': 1.047276379106169, 'alpha': 1.007595763867713, 'n_estimator': 573, 'num_leaves': 5}. Best is trial#11 with value: 0.8914706715783508.\n",
      "[I 2020-07-16 21:30:50,370] Finished trial#30 with value: 0.891187305185605 with parameters: {'subsample': 0.5352235791937281, 'colsample_bytree': 0.9133454979194301, 'lr': 0.03817248043678532, 'lambd': 1.001174414823486, 'alpha': 1.6100085716529287, 'n_estimator': 990, 'num_leaves': 9}. Best is trial#11 with value: 0.8914706715783508.\n",
      "[I 2020-07-16 21:30:52,592] Finished trial#31 with value: 0.8910456219892321 with parameters: {'subsample': 0.5385400073473864, 'colsample_bytree': 0.9087951158846175, 'lr': 0.03791145700816744, 'lambd': 1.1850068227597126, 'alpha': 0.6190754212082841, 'n_estimator': 996, 'num_leaves': 9}. Best is trial#11 with value: 0.8914706715783508.\n",
      "[I 2020-07-16 21:30:54,871] Finished trial#32 with value: 0.8904788892037404 with parameters: {'subsample': 0.49042201513197037, 'colsample_bytree': 0.7983089267210186, 'lr': 0.02456673814375539, 'lambd': 2.240314287067805, 'alpha': 1.4344002775602982, 'n_estimator': 941, 'num_leaves': 10}. Best is trial#11 with value: 0.8914706715783508.\n",
      "[I 2020-07-16 21:30:56,986] Finished trial#33 with value: 0.8903372060073675 with parameters: {'subsample': 0.31953032811033655, 'colsample_bytree': 0.9564288809308851, 'lr': 0.018422065993911135, 'lambd': 3.134578835128503, 'alpha': 2.287327064978417, 'n_estimator': 842, 'num_leaves': 9}. Best is trial#11 with value: 0.8914706715783508.\n",
      "[I 2020-07-16 21:30:58,950] Finished trial#34 with value: 0.8907622555964863 with parameters: {'subsample': 0.6562169786290719, 'colsample_bytree': 0.47283825600911916, 'lr': 0.047744114965318794, 'lambd': 1.7057901551627248, 'alpha': 0.8181733302289275, 'n_estimator': 874, 'num_leaves': 10}. Best is trial#11 with value: 0.8914706715783508.\n",
      "[I 2020-07-16 21:31:01,417] Finished trial#35 with value: 0.8865117597052989 with parameters: {'subsample': 0.806956414015561, 'colsample_bytree': 0.8570834554416432, 'lr': 0.0032379452008045213, 'lambd': 2.292216197958297, 'alpha': 6.066729680737281, 'n_estimator': 942, 'num_leaves': 8}. Best is trial#11 with value: 0.8914706715783508.\n",
      "[I 2020-07-16 21:31:03,072] Finished trial#36 with value: 0.8901955228109946 with parameters: {'subsample': 0.732357643847208, 'colsample_bytree': 0.9978348237301079, 'lr': 0.05651109421050013, 'lambd': 5.251686053368748, 'alpha': 0.09688171442034665, 'n_estimator': 703, 'num_leaves': 10}. Best is trial#11 with value: 0.8914706715783508.\n",
      "[I 2020-07-16 21:31:04,143] Finished trial#37 with value: 0.8906205724001134 with parameters: {'subsample': 0.5691585923528287, 'colsample_bytree': 0.687000309275841, 'lr': 0.03241387433087462, 'lambd': 6.195138656945034, 'alpha': 2.7314404404921655, 'n_estimator': 373, 'num_leaves': 9}. Best is trial#11 with value: 0.8914706715783508.\n",
      "[I 2020-07-16 21:31:05,898] Finished trial#38 with value: 0.8906205724001134 with parameters: {'subsample': 0.9911112386161286, 'colsample_bytree': 0.9372817549138055, 'lr': 0.06424585807509803, 'lambd': 1.3953675064003117, 'alpha': 1.6209081009490676, 'n_estimator': 774, 'num_leaves': 8}. Best is trial#11 with value: 0.8914706715783508.\n",
      "[I 2020-07-16 21:31:07,846] Finished trial#39 with value: 0.8914706715783508 with parameters: {'subsample': 0.478914897380656, 'colsample_bytree': 0.7742865709117024, 'lr': 0.038806863823550315, 'lambd': 2.0007926897524575, 'alpha': 3.6899709235674973, 'n_estimator': 999, 'num_leaves': 10}. Best is trial#11 with value: 0.8914706715783508.\n",
      "[I 2020-07-16 21:31:09,126] Finished trial#40 with value: 0.8853782941343157 with parameters: {'subsample': 0.440326777581268, 'colsample_bytree': 0.5244565061173824, 'lr': 0.047234178486671455, 'lambd': 2.5381307149160155, 'alpha': 4.20810269654973, 'n_estimator': 943, 'num_leaves': 2}. Best is trial#11 with value: 0.8914706715783508.\n",
      "[I 2020-07-16 21:31:10,950] Finished trial#41 with value: 0.8906205724001134 with parameters: {'subsample': 0.5141455146269654, 'colsample_bytree': 0.7838993152240554, 'lr': 0.03901470399477362, 'lambd': 1.0106044311998226, 'alpha': 3.587096018080866, 'n_estimator': 996, 'num_leaves': 10}. Best is trial#11 with value: 0.8914706715783508.\n",
      "[I 2020-07-16 21:31:12,886] Finished trial#42 with value: 0.8904788892037404 with parameters: {'subsample': 0.4661633894853798, 'colsample_bytree': 0.6112653528829404, 'lr': 0.02952907390360034, 'lambd': 1.9333628288974354, 'alpha': 5.043312819459087, 'n_estimator': 999, 'num_leaves': 9}. Best is trial#11 with value: 0.8914706715783508.\n",
      "[I 2020-07-16 21:31:15,156] Finished trial#43 with value: 0.8897704732218759 with parameters: {'subsample': 0.3894476006577817, 'colsample_bytree': 0.8295859772559311, 'lr': 0.017187661871607147, 'lambd': 2.0029161356154863, 'alpha': 6.031010036302817, 'n_estimator': 865, 'num_leaves': 10}. Best is trial#11 with value: 0.8914706715783508.\n",
      "[I 2020-07-16 21:31:16,967] Finished trial#44 with value: 0.8903372060073675 with parameters: {'subsample': 0.18943532689960807, 'colsample_bytree': 0.4449577965602392, 'lr': 0.043025690894266944, 'lambd': 3.6541481999107255, 'alpha': 3.302171604713974, 'n_estimator': 937, 'num_leaves': 10}. Best is trial#11 with value: 0.8914706715783508.\n",
      "[I 2020-07-16 21:31:19,168] Finished trial#45 with value: 0.8910456219892321 with parameters: {'subsample': 0.6024919625361156, 'colsample_bytree': 0.7059422876646371, 'lr': 0.03847472236873391, 'lambd': 3.0615223269905782, 'alpha': 0.5593577180190006, 'n_estimator': 992, 'num_leaves': 9}. Best is trial#11 with value: 0.8914706715783508.\n",
      "[I 2020-07-16 21:31:20,042] Finished trial#46 with value: 0.8883536412581468 with parameters: {'subsample': 0.5359539348533991, 'colsample_bytree': 0.8671138308529294, 'lr': 0.03375153155625147, 'lambd': 1.0080543018958805, 'alpha': 2.0360815297072064, 'n_estimator': 415, 'num_leaves': 3}. Best is trial#11 with value: 0.8914706715783508.\n",
      "[I 2020-07-16 21:31:22,068] Finished trial#47 with value: 0.8897704732218759 with parameters: {'subsample': 0.3293211045697586, 'colsample_bytree': 0.778504476328833, 'lr': 0.008070504481100256, 'lambd': 1.6682575512508988, 'alpha': 0.5737161100311727, 'n_estimator': 793, 'num_leaves': 7}. Best is trial#11 with value: 0.8914706715783508.\n",
      "[I 2020-07-16 21:31:23,487] Finished trial#48 with value: 0.8897704732218759 with parameters: {'subsample': 0.6662767964923345, 'colsample_bytree': 0.92139227987429, 'lr': 0.06729611129968992, 'lambd': 2.3925954514138357, 'alpha': 6.890113931890518, 'n_estimator': 954, 'num_leaves': 10}. Best is trial#11 with value: 0.8914706715783508.\n",
      "[I 2020-07-16 21:31:23,800] Finished trial#49 with value: 0.8797109662793993 with parameters: {'subsample': 0.8604997422449194, 'colsample_bytree': 0.7478500937329455, 'lr': 0.025625146749188584, 'lambd': 8.421416382512156, 'alpha': 2.6653793836796322, 'n_estimator': 62, 'num_leaves': 9}. Best is trial#11 with value: 0.8914706715783508.\n",
      "[I 2020-07-16 21:31:24,422] Finished trial#50 with value: 0.889628790025503 with parameters: {'subsample': 0.6829973720374881, 'colsample_bytree': 0.3226432829711188, 'lr': 0.05478404312196569, 'lambd': 4.213820421760898, 'alpha': 5.504853874769882, 'n_estimator': 253, 'num_leaves': 5}. Best is trial#11 with value: 0.8914706715783508.\n",
      "[I 2020-07-16 21:31:26,443] Finished trial#51 with value: 0.8907622555964863 with parameters: {'subsample': 0.7494986221075302, 'colsample_bytree': 0.6431632659526986, 'lr': 0.0340086754992906, 'lambd': 5.3025867906032484, 'alpha': 0.3570392229054545, 'n_estimator': 882, 'num_leaves': 9}. Best is trial#11 with value: 0.8914706715783508.\n",
      "[I 2020-07-16 21:31:28,568] Finished trial#52 with value: 0.8903372060073675 with parameters: {'subsample': 0.7922737320642724, 'colsample_bytree': 0.620210195416005, 'lr': 0.04174339916170975, 'lambd': 6.716447413701639, 'alpha': 1.1526892681938004, 'n_estimator': 915, 'num_leaves': 9}. Best is trial#11 with value: 0.8914706715783508.\n",
      "[I 2020-07-16 21:31:30,779] Finished trial#53 with value: 0.8918957211674695 with parameters: {'subsample': 0.6220926697036075, 'colsample_bytree': 0.7007971622784548, 'lr': 0.03892784784601046, 'lambd': 3.0760603876685355, 'alpha': 0.4727731010342908, 'n_estimator': 965, 'num_leaves': 10}. Best is trial#53 with value: 0.8918957211674695.\n",
      "[I 2020-07-16 21:31:32,756] Finished trial#54 with value: 0.8903372060073675 with parameters: {'subsample': 0.6187069850770887, 'colsample_bytree': 0.8334402737907135, 'lr': 0.04628339262837029, 'lambd': 3.1998635054310034, 'alpha': 1.7993630032119414, 'n_estimator': 827, 'num_leaves': 10}. Best is trial#53 with value: 0.8918957211674695.\n",
      "[I 2020-07-16 21:31:34,160] Finished trial#55 with value: 0.8903372060073675 with parameters: {'subsample': 0.568506550676092, 'colsample_bytree': 0.6838698348420051, 'lr': 0.06035120151022811, 'lambd': 1.9709974939315358, 'alpha': 4.517900285983426, 'n_estimator': 964, 'num_leaves': 10}. Best is trial#53 with value: 0.8918957211674695.\n",
      "[I 2020-07-16 21:31:36,302] Finished trial#56 with value: 0.8913289883819779 with parameters: {'subsample': 0.46288330534131256, 'colsample_bytree': 0.5656204836850487, 'lr': 0.05071734966834829, 'lambd': 2.7574281222195958, 'alpha': 0.03038746869061995, 'n_estimator': 970, 'num_leaves': 10}. Best is trial#53 with value: 0.8918957211674695.\n",
      "[I 2020-07-16 21:31:38,370] Finished trial#57 with value: 0.8913289883819779 with parameters: {'subsample': 0.46934325106084807, 'colsample_bytree': 0.570244462551663, 'lr': 0.020844375902665208, 'lambd': 1.4039515145441428, 'alpha': 0.8402638109048995, 'n_estimator': 859, 'num_leaves': 10}. Best is trial#53 with value: 0.8918957211674695.\n",
      "[I 2020-07-16 21:31:40,456] Finished trial#58 with value: 0.8917540379710966 with parameters: {'subsample': 0.4458241884387588, 'colsample_bytree': 0.5156887859409975, 'lr': 0.05224635196736855, 'lambd': 2.874064687766593, 'alpha': 0.9217094264085626, 'n_estimator': 909, 'num_leaves': 10}. Best is trial#53 with value: 0.8918957211674695.\n",
      "[I 2020-07-16 21:31:42,544] Finished trial#59 with value: 0.8917540379710966 with parameters: {'subsample': 0.45366125320040007, 'colsample_bytree': 0.5557204534369824, 'lr': 0.05199805985008876, 'lambd': 2.81366743426104, 'alpha': 1.0677682418501657, 'n_estimator': 912, 'num_leaves': 10}. Best is trial#53 with value: 0.8918957211674695.\n",
      "[I 2020-07-16 21:31:44,318] Finished trial#60 with value: 0.8907622555964863 with parameters: {'subsample': 0.36807719886614176, 'colsample_bytree': 0.40501445590457996, 'lr': 0.06521596772616416, 'lambd': 3.6134589207441903, 'alpha': 0.9769363660486868, 'n_estimator': 812, 'num_leaves': 10}. Best is trial#53 with value: 0.8918957211674695.\n",
      "[I 2020-07-16 21:31:46,380] Finished trial#61 with value: 0.8917540379710966 with parameters: {'subsample': 0.4408319501560441, 'colsample_bytree': 0.5474105188694115, 'lr': 0.051427360722467286, 'lambd': 2.9856733564608247, 'alpha': 0.4689743449536954, 'n_estimator': 914, 'num_leaves': 10}. Best is trial#53 with value: 0.8918957211674695.\n",
      "[I 2020-07-16 21:31:48,325] Finished trial#62 with value: 0.8916123547747237 with parameters: {'subsample': 0.41817419078070656, 'colsample_bytree': 0.487072721654864, 'lr': 0.05264606495501223, 'lambd': 3.7959345080578015, 'alpha': 0.4873151651462003, 'n_estimator': 862, 'num_leaves': 10}. Best is trial#53 with value: 0.8918957211674695.\n",
      "[I 2020-07-16 21:31:50,384] Finished trial#63 with value: 0.8910456219892321 with parameters: {'subsample': 0.4283467788967818, 'colsample_bytree': 0.5151819941621812, 'lr': 0.057739559491637456, 'lambd': 3.4311291925264262, 'alpha': 0.40125544758412324, 'n_estimator': 916, 'num_leaves': 10}. Best is trial#53 with value: 0.8918957211674695.\n",
      "[I 2020-07-16 21:31:52,421] Finished trial#64 with value: 0.8897704732218759 with parameters: {'subsample': 0.3333026933607039, 'colsample_bytree': 0.45862815163787396, 'lr': 0.05379937855331406, 'lambd': 3.910322346657743, 'alpha': 1.2581343278752102, 'n_estimator': 916, 'num_leaves': 9}. Best is trial#53 with value: 0.8918957211674695.\n",
      "[I 2020-07-16 21:31:54,091] Finished trial#65 with value: 0.8901955228109946 with parameters: {'subsample': 0.41557976016910814, 'colsample_bytree': 0.3714208389526944, 'lr': 0.050379239000248065, 'lambd': 2.894460682623432, 'alpha': 2.1886102702857126, 'n_estimator': 758, 'num_leaves': 10}. Best is trial#53 with value: 0.8918957211674695.\n",
      "[I 2020-07-16 21:31:56,011] Finished trial#66 with value: 0.8914706715783508 with parameters: {'subsample': 0.2928177129526277, 'colsample_bytree': 0.22847962396765864, 'lr': 0.06229994201390511, 'lambd': 4.243449118342019, 'alpha': 0.6160416399048572, 'n_estimator': 890, 'num_leaves': 10}. Best is trial#53 with value: 0.8918957211674695.\n",
      "[I 2020-07-16 21:31:57,683] Finished trial#67 with value: 0.8890620572400113 with parameters: {'subsample': 0.4917160367497798, 'colsample_bytree': 0.5042803332344248, 'lr': 0.07066203480999705, 'lambd': 3.0125239378818285, 'alpha': 1.4199391570531614, 'n_estimator': 815, 'num_leaves': 8}. Best is trial#53 with value: 0.8918957211674695.\n",
      "[I 2020-07-16 21:31:59,464] Finished trial#68 with value: 0.8923207707565882 with parameters: {'subsample': 0.13040638225818157, 'colsample_bytree': 0.1900295530388929, 'lr': 0.061838842410482694, 'lambd': 4.386665806435824, 'alpha': 0.6977215452328622, 'n_estimator': 883, 'num_leaves': 9}. Best is trial#68 with value: 0.8923207707565882.\n",
      "[I 2020-07-16 21:32:00,664] Finished trial#69 with value: 0.887928591669028 with parameters: {'subsample': 0.2100217629103624, 'colsample_bytree': 0.12550522438867834, 'lr': 0.07897272119767448, 'lambd': 5.073755651786349, 'alpha': 9.084161649371993, 'n_estimator': 726, 'num_leaves': 9}. Best is trial#68 with value: 0.8923207707565882.\n",
      "[I 2020-07-16 21:32:01,485] Finished trial#70 with value: 0.8812694814395012 with parameters: {'subsample': 0.12264558711235568, 'colsample_bytree': 0.005532187081647877, 'lr': 0.04512149230608295, 'lambd': 3.737291402639854, 'alpha': 1.8023346678946965, 'n_estimator': 682, 'num_leaves': 10}. Best is trial#68 with value: 0.8923207707565882.\n",
      "[I 2020-07-16 21:32:03,343] Finished trial#71 with value: 0.8914706715783508 with parameters: {'subsample': 0.28403577347201425, 'colsample_bytree': 0.18539542323242197, 'lr': 0.06240823265265813, 'lambd': 4.454802059666777, 'alpha': 0.7447594936816746, 'n_estimator': 889, 'num_leaves': 10}. Best is trial#68 with value: 0.8923207707565882.\n",
      "[I 2020-07-16 21:32:05,427] Finished trial#72 with value: 0.8907622555964863 with parameters: {'subsample': 0.3735972331374692, 'colsample_bytree': 0.42307187022675774, 'lr': 0.05280531271819818, 'lambd': 3.4766821992623353, 'alpha': 0.3929899711926672, 'n_estimator': 929, 'num_leaves': 10}. Best is trial#68 with value: 0.8923207707565882.\n",
      "[I 2020-07-16 21:32:07,193] Finished trial#73 with value: 0.8903372060073675 with parameters: {'subsample': 0.12842884763526308, 'colsample_bytree': 0.2282879208886311, 'lr': 0.05843015956523745, 'lambd': 4.219726197554257, 'alpha': 1.0807216093794507, 'n_estimator': 835, 'num_leaves': 9}. Best is trial#68 with value: 0.8923207707565882.\n",
      "[I 2020-07-16 21:32:09,123] Finished trial#74 with value: 0.891187305185605 with parameters: {'subsample': 0.28577413213880937, 'colsample_bytree': 0.20863512740884968, 'lr': 0.06333840501136472, 'lambd': 4.762607520077823, 'alpha': 0.5907825981379238, 'n_estimator': 885, 'num_leaves': 10}. Best is trial#68 with value: 0.8923207707565882.\n",
      "[I 2020-07-16 21:32:10,507] Finished trial#75 with value: 0.88948710682913 with parameters: {'subsample': 0.22560653873955552, 'colsample_bytree': 0.14154923394117302, 'lr': 0.0687774002686639, 'lambd': 5.636381793156386, 'alpha': 0.8916000904606677, 'n_estimator': 624, 'num_leaves': 10}. Best is trial#68 with value: 0.8923207707565882.\n",
      "[I 2020-07-16 21:32:12,180] Finished trial#76 with value: 0.8904788892037404 with parameters: {'subsample': 0.27845313302746066, 'colsample_bytree': 0.23398473964950178, 'lr': 0.061618771080884614, 'lambd': 4.531695451177605, 'alpha': 1.5143521802073299, 'n_estimator': 854, 'num_leaves': 9}. Best is trial#68 with value: 0.8923207707565882.\n",
      "[I 2020-07-16 21:32:13,934] Finished trial#77 with value: 0.8892037404363843 with parameters: {'subsample': 0.16438023381494016, 'colsample_bytree': 0.08851748626411775, 'lr': 0.04973508002242573, 'lambd': 3.250721422467642, 'alpha': 0.024922698285526068, 'n_estimator': 965, 'num_leaves': 10}. Best is trial#68 with value: 0.8923207707565882.\n",
      "[I 2020-07-16 21:32:15,633] Finished trial#78 with value: 0.8917540379710966 with parameters: {'subsample': 0.5054928122246869, 'colsample_bytree': 0.5384078131404447, 'lr': 0.05628473207026499, 'lambd': 3.9597198564049645, 'alpha': 0.0056222008822206515, 'n_estimator': 781, 'num_leaves': 9}. Best is trial#68 with value: 0.8923207707565882.\n",
      "[I 2020-07-16 21:32:17,375] Finished trial#79 with value: 0.8913289883819779 with parameters: {'subsample': 0.5096926516638141, 'colsample_bytree': 0.5491825901489972, 'lr': 0.056874159997961894, 'lambd': 4.897416470302701, 'alpha': 0.7728122405032543, 'n_estimator': 800, 'num_leaves': 8}. Best is trial#68 with value: 0.8923207707565882.\n",
      "[I 2020-07-16 21:32:19,291] Finished trial#80 with value: 0.8907622555964863 with parameters: {'subsample': 0.4474287778688232, 'colsample_bytree': 0.48790425584048336, 'lr': 0.04719535560811501, 'lambd': 3.981471768542937, 'alpha': 0.2970671679679453, 'n_estimator': 862, 'num_leaves': 9}. Best is trial#68 with value: 0.8923207707565882.\n",
      "[I 2020-07-16 21:32:21,176] Finished trial#81 with value: 0.8921790875602154 with parameters: {'subsample': 0.3974945481410488, 'colsample_bytree': 0.1709155998028007, 'lr': 0.06201773531666109, 'lambd': 4.275734044419356, 'alpha': 0.6325928344907916, 'n_estimator': 894, 'num_leaves': 10}. Best is trial#68 with value: 0.8923207707565882.\n",
      "[I 2020-07-16 21:32:22,208] Finished trial#82 with value: 0.8850949277415698 with parameters: {'subsample': 0.34547093844928217, 'colsample_bytree': 0.03530040716212757, 'lr': 0.05973452973076935, 'lambd': 4.3541067304581516, 'alpha': 1.1954152473178556, 'n_estimator': 896, 'num_leaves': 10}. Best is trial#68 with value: 0.8923207707565882.\n",
      "[I 2020-07-16 21:32:24,138] Finished trial#83 with value: 0.891187305185605 with parameters: {'subsample': 0.4195616296088723, 'colsample_bytree': 0.36027059595467514, 'lr': 0.053028968812764636, 'lambd': 2.5232238639168143, 'alpha': 0.009693129526779226, 'n_estimator': 927, 'num_leaves': 9}. Best is trial#68 with value: 0.8923207707565882.\n",
      "[I 2020-07-16 21:32:25,967] Finished trial#84 with value: 0.8924624539529612 with parameters: {'subsample': 0.39620686503481795, 'colsample_bytree': 0.19097235943212282, 'lr': 0.0562599670924254, 'lambd': 3.817480576004472, 'alpha': 0.35816980529403475, 'n_estimator': 836, 'num_leaves': 10}. Best is trial#84 with value: 0.8924624539529612.\n",
      "[I 2020-07-16 21:32:27,737] Finished trial#85 with value: 0.8910456219892321 with parameters: {'subsample': 0.39082282100490057, 'colsample_bytree': 0.5928983305566475, 'lr': 0.055716568076700855, 'lambd': 3.828074873117049, 'alpha': 0.3268276047617089, 'n_estimator': 777, 'num_leaves': 9}. Best is trial#84 with value: 0.8924624539529612.\n",
      "[I 2020-07-16 21:32:29,525] Finished trial#86 with value: 0.8910456219892321 with parameters: {'subsample': 0.4413133282951147, 'colsample_bytree': 0.2964082415802014, 'lr': 0.06587550752042359, 'lambd': 3.412150564271152, 'alpha': 1.0378262930872209, 'n_estimator': 841, 'num_leaves': 10}. Best is trial#84 with value: 0.8924624539529612.\n",
      "[I 2020-07-16 21:32:31,229] Finished trial#87 with value: 0.8909039387928591 with parameters: {'subsample': 0.40310998530931463, 'colsample_bytree': 0.2667542496718561, 'lr': 0.048588032793177915, 'lambd': 4.020630519643298, 'alpha': 1.34509425682706, 'n_estimator': 746, 'num_leaves': 10}. Best is trial#84 with value: 0.8924624539529612.\n",
      "[I 2020-07-16 21:32:33,047] Finished trial#88 with value: 0.8913289883819779 with parameters: {'subsample': 0.519780304735757, 'colsample_bytree': 0.14706243399922633, 'lr': 0.05183027406312828, 'lambd': 3.598850401576799, 'alpha': 0.013116829989921419, 'n_estimator': 866, 'num_leaves': 9}. Best is trial#84 with value: 0.8924624539529612.\n",
      "[I 2020-07-16 21:32:34,465] Finished trial#89 with value: 0.8892037404363843 with parameters: {'subsample': 0.5624649025845135, 'colsample_bytree': 0.10504370350005335, 'lr': 0.07716499954823196, 'lambd': 2.8742492402872246, 'alpha': 0.4621290672130124, 'n_estimator': 798, 'num_leaves': 8}. Best is trial#84 with value: 0.8924624539529612.\n",
      "[I 2020-07-16 21:32:36,646] Finished trial#90 with value: 0.8920374043638425 with parameters: {'subsample': 0.4884322172814194, 'colsample_bytree': 0.531777359933633, 'lr': 0.04097067638168645, 'lambd': 3.2467015631904297, 'alpha': 0.22777516552065372, 'n_estimator': 954, 'num_leaves': 10}. Best is trial#84 with value: 0.8924624539529612.\n",
      "[I 2020-07-16 21:32:38,834] Finished trial#91 with value: 0.8903372060073675 with parameters: {'subsample': 0.4850173143322186, 'colsample_bytree': 0.539878252104259, 'lr': 0.04456249669170581, 'lambd': 3.0990845529493485, 'alpha': 0.7114082496973901, 'n_estimator': 945, 'num_leaves': 10}. Best is trial#84 with value: 0.8924624539529612.\n",
      "[I 2020-07-16 21:32:40,810] Finished trial#92 with value: 0.8904788892037404 with parameters: {'subsample': 0.5985996123321612, 'colsample_bytree': 0.18394347482555728, 'lr': 0.04038353154071308, 'lambd': 3.2971620652463915, 'alpha': 0.9901286676879227, 'n_estimator': 909, 'num_leaves': 10}. Best is trial#84 with value: 0.8924624539529612.\n",
      "[I 2020-07-16 21:32:42,986] Finished trial#93 with value: 0.88948710682913 with parameters: {'subsample': 0.45092035251283374, 'colsample_bytree': 0.6260657811221297, 'lr': 0.05854584412990198, 'lambd': 2.5605696721623215, 'alpha': 0.2157864317056316, 'n_estimator': 971, 'num_leaves': 10}. Best is trial#84 with value: 0.8924624539529612.\n",
      "[I 2020-07-16 21:32:44,773] Finished trial#94 with value: 0.8913289883819779 with parameters: {'subsample': 0.5481398528078227, 'colsample_bytree': 0.48255458365013565, 'lr': 0.036404079622055455, 'lambd': 3.7858707758230996, 'alpha': 0.2575378717348703, 'n_estimator': 874, 'num_leaves': 6}. Best is trial#84 with value: 0.8924624539529612.\n",
      "[I 2020-07-16 21:32:46,605] Finished trial#95 with value: 0.8918957211674695 with parameters: {'subsample': 0.5009885339973745, 'colsample_bytree': 0.5293749351933769, 'lr': 0.05428029588635411, 'lambd': 4.063831942738765, 'alpha': 0.5415057868546506, 'n_estimator': 817, 'num_leaves': 9}. Best is trial#84 with value: 0.8924624539529612.\n",
      "[I 2020-07-16 21:32:48,448] Finished trial#96 with value: 0.8909039387928591 with parameters: {'subsample': 0.4889719583136562, 'colsample_bytree': 0.5887273245109315, 'lr': 0.04283530870949367, 'lambd': 4.160855138748644, 'alpha': 0.001958811982005426, 'n_estimator': 818, 'num_leaves': 9}. Best is trial#84 with value: 0.8924624539529612.\n",
      "[I 2020-07-16 21:32:50,337] Finished trial#97 with value: 0.8899121564182488 with parameters: {'subsample': 0.5293445362479767, 'colsample_bytree': 0.44155557139958157, 'lr': 0.054459114481491294, 'lambd': 2.7939195049616763, 'alpha': 1.7086183072812169, 'n_estimator': 908, 'num_leaves': 8}. Best is trial#84 with value: 0.8924624539529612.\n",
      "[I 2020-07-16 21:32:52,352] Finished trial#98 with value: 0.8909039387928591 with parameters: {'subsample': 0.5038408455100722, 'colsample_bytree': 0.5376645837427907, 'lr': 0.04853562769999152, 'lambd': 3.540927384022471, 'alpha': 0.7504758517010597, 'n_estimator': 949, 'num_leaves': 7}. Best is trial#84 with value: 0.8924624539529612.\n",
      "[I 2020-07-16 21:32:54,224] Finished trial#99 with value: 0.8892037404363843 with parameters: {'subsample': 0.5867174258833655, 'colsample_bytree': 0.5175376748038192, 'lr': 0.05610396628814947, 'lambd': 4.613138533158623, 'alpha': 1.1799174815807492, 'n_estimator': 830, 'num_leaves': 9}. Best is trial#84 with value: 0.8924624539529612.\n",
      "[I 2020-07-16 21:32:55,912] Finished trial#100 with value: 0.8901955228109946 with parameters: {'subsample': 0.3863009210159973, 'colsample_bytree': 0.4607154432799227, 'lr': 0.06007049681825382, 'lambd': 3.0259490109723384, 'alpha': 1.5078295100404375, 'n_estimator': 781, 'num_leaves': 9}. Best is trial#84 with value: 0.8924624539529612.\n",
      "[I 2020-07-16 21:32:57,851] Finished trial#101 with value: 0.8914706715783508 with parameters: {'subsample': 0.3508084294103462, 'colsample_bytree': 0.4962619392712788, 'lr': 0.05216563138917822, 'lambd': 3.3227902825474267, 'alpha': 0.46374807803090423, 'n_estimator': 855, 'num_leaves': 10}. Best is trial#84 with value: 0.8924624539529612.\n",
      "[I 2020-07-16 21:33:00,004] Finished trial#102 with value: 0.8916123547747237 with parameters: {'subsample': 0.45951443871514597, 'colsample_bytree': 0.5591485120944736, 'lr': 0.057251338277284056, 'lambd': 4.008901445175914, 'alpha': 0.6081693543100553, 'n_estimator': 928, 'num_leaves': 10}. Best is trial#84 with value: 0.8924624539529612.\n",
      "[I 2020-07-16 21:33:02,071] Finished trial#103 with value: 0.8907622555964863 with parameters: {'subsample': 0.457051411701691, 'colsample_bytree': 0.5668389919336061, 'lr': 0.0570614679502742, 'lambd': 4.012984392229103, 'alpha': 0.19355322143830583, 'n_estimator': 935, 'num_leaves': 10}. Best is trial#84 with value: 0.8924624539529612.\n",
      "[I 2020-07-16 21:33:04,273] Finished trial#104 with value: 0.8897704732218759 with parameters: {'subsample': 0.6381521198722985, 'colsample_bytree': 0.6672784330805465, 'lr': 0.045561633040092156, 'lambd': 3.703251002126874, 'alpha': 0.9168543681495533, 'n_estimator': 975, 'num_leaves': 9}. Best is trial#84 with value: 0.8924624539529612.\n",
      "[I 2020-07-16 21:33:06,302] Finished trial#105 with value: 0.8904788892037404 with parameters: {'subsample': 0.4767848737725147, 'colsample_bytree': 0.544389842957806, 'lr': 0.07094484855940873, 'lambd': 4.392055215370346, 'alpha': 0.6279099268284171, 'n_estimator': 902, 'num_leaves': 10}. Best is trial#84 with value: 0.8924624539529612.\n",
      "[I 2020-07-16 21:33:08,395] Finished trial#106 with value: 0.8901955228109946 with parameters: {'subsample': 0.5037906172569558, 'colsample_bytree': 0.6327370653102895, 'lr': 0.066876355019383, 'lambd': 4.7765358178414825, 'alpha': 0.4872790302927479, 'n_estimator': 930, 'num_leaves': 10}. Best is trial#84 with value: 0.8924624539529612.\n",
      "[I 2020-07-16 21:33:10,217] Finished trial#107 with value: 0.8882119580617739 with parameters: {'subsample': 0.4317882951591287, 'colsample_bytree': 0.5761305206907654, 'lr': 0.09963126982105841, 'lambd': 5.060052019066132, 'alpha': 1.312638320454745, 'n_estimator': 984, 'num_leaves': 9}. Best is trial#84 with value: 0.8924624539529612.\n",
      "[I 2020-07-16 21:33:11,763] Finished trial#108 with value: 0.8900538396146217 with parameters: {'subsample': 0.4074069844313574, 'colsample_bytree': 0.6014331819337098, 'lr': 0.06384871705488947, 'lambd': 2.1636175192085934, 'alpha': 1.985660926454994, 'n_estimator': 757, 'num_leaves': 10}. Best is trial#84 with value: 0.8924624539529612.\n",
      "[I 2020-07-16 21:33:13,656] Finished trial#109 with value: 0.8910456219892321 with parameters: {'subsample': 0.5487845581458244, 'colsample_bytree': 0.1780640584809876, 'lr': 0.04086915879171195, 'lambd': 2.6948969741501587, 'alpha': 0.18718620906658856, 'n_estimator': 842, 'num_leaves': 10}. Best is trial#84 with value: 0.8924624539529612.\n",
      "[I 2020-07-16 21:33:15,680] Finished trial#110 with value: 0.8913289883819779 with parameters: {'subsample': 0.4308259837909842, 'colsample_bytree': 0.26915497233545005, 'lr': 0.03579790969737147, 'lambd': 3.4586724142942926, 'alpha': 0.9046722766042422, 'n_estimator': 872, 'num_leaves': 10}. Best is trial#84 with value: 0.8924624539529612.\n",
      "[I 2020-07-16 21:33:17,854] Finished trial#111 with value: 0.8924624539529612 with parameters: {'subsample': 0.3772833769559107, 'colsample_bytree': 0.5210922825859721, 'lr': 0.05084207547638583, 'lambd': 3.912249757544805, 'alpha': 0.4959951251851782, 'n_estimator': 960, 'num_leaves': 10}. Best is trial#84 with value: 0.8924624539529612.\n",
      "[I 2020-07-16 21:33:20,060] Finished trial#112 with value: 0.8913289883819779 with parameters: {'subsample': 0.3120472328972239, 'colsample_bytree': 0.5238132691854797, 'lr': 0.05075065717390442, 'lambd': 4.114370244761023, 'alpha': 0.6920784683676591, 'n_estimator': 962, 'num_leaves': 10}. Best is trial#84 with value: 0.8924624539529612.\n",
      "[I 2020-07-16 21:33:22,161] Finished trial#113 with value: 0.8918957211674695 with parameters: {'subsample': 0.4620229637748442, 'colsample_bytree': 0.5589942980331205, 'lr': 0.0541972738434595, 'lambd': 3.1777024209718365, 'alpha': 1.070425482761588, 'n_estimator': 922, 'num_leaves': 10}. Best is trial#84 with value: 0.8924624539529612.\n",
      "[I 2020-07-16 21:33:24,226] Finished trial#114 with value: 0.8906205724001134 with parameters: {'subsample': 0.3933190842941166, 'colsample_bytree': 0.5001028428157491, 'lr': 0.05456842497008433, 'lambd': 3.1537063235131613, 'alpha': 1.0537067527522193, 'n_estimator': 899, 'num_leaves': 10}. Best is trial#84 with value: 0.8924624539529612.\n",
      "[I 2020-07-16 21:33:26,313] Finished trial#115 with value: 0.891187305185605 with parameters: {'subsample': 0.4710991628017229, 'colsample_bytree': 0.6570542878710068, 'lr': 0.06171587992650317, 'lambd': 2.3836993956978176, 'alpha': 0.3428662730971496, 'n_estimator': 949, 'num_leaves': 9}. Best is trial#84 with value: 0.8924624539529612.\n",
      "[I 2020-07-16 21:33:27,573] Finished trial#116 with value: 0.8910456219892321 with parameters: {'subsample': 0.3647899541549501, 'colsample_bytree': 0.432961621896469, 'lr': 0.04851654324826755, 'lambd': 3.241287842657202, 'alpha': 0.03500336273215732, 'n_estimator': 522, 'num_leaves': 10}. Best is trial#84 with value: 0.8924624539529612.\n",
      "[I 2020-07-16 21:33:29,567] Finished trial#117 with value: 0.8913289883819779 with parameters: {'subsample': 0.5239691583670022, 'colsample_bytree': 0.46529212958250715, 'lr': 0.0465190099205205, 'lambd': 2.8936456969903954, 'alpha': 0.8238989905477047, 'n_estimator': 883, 'num_leaves': 9}. Best is trial#84 with value: 0.8924624539529612.\n",
      "[I 2020-07-16 21:33:31,656] Finished trial#118 with value: 0.8906205724001134 with parameters: {'subsample': 0.49823388300998495, 'colsample_bytree': 0.5289706114498143, 'lr': 0.059180300735651566, 'lambd': 3.6608179643297634, 'alpha': 1.4117951028509585, 'n_estimator': 912, 'num_leaves': 10}. Best is trial#84 with value: 0.8924624539529612.\n",
      "[I 2020-07-16 21:33:33,521] Finished trial#119 with value: 0.8906205724001134 with parameters: {'subsample': 0.37523823816784924, 'colsample_bytree': 0.5885785984041, 'lr': 0.05100101180563188, 'lambd': 2.5900881419302975, 'alpha': 0.004053193543608724, 'n_estimator': 820, 'num_leaves': 10}. Best is trial#84 with value: 0.8924624539529612.\n",
      "[I 2020-07-16 21:33:35,810] Finished trial#120 with value: 0.8910456219892321 with parameters: {'subsample': 0.443193550369193, 'colsample_bytree': 0.5109800453908698, 'lr': 0.04361829530614902, 'lambd': 3.562410460889375, 'alpha': 1.185616886099753, 'n_estimator': 996, 'num_leaves': 10}. Best is trial#84 with value: 0.8924624539529612.\n",
      "[I 2020-07-16 21:33:37,933] Finished trial#121 with value: 0.88948710682913 with parameters: {'subsample': 0.4582061843220217, 'colsample_bytree': 0.6068937014178536, 'lr': 0.056987864526055254, 'lambd': 3.865794566715535, 'alpha': 0.571389007619393, 'n_estimator': 924, 'num_leaves': 10}. Best is trial#84 with value: 0.8924624539529612.\n",
      "[I 2020-07-16 21:33:39,880] Finished trial#122 with value: 0.8920374043638425 with parameters: {'subsample': 0.41395553450667577, 'colsample_bytree': 0.47300691440343273, 'lr': 0.05388195170119365, 'lambd': 4.326004897357031, 'alpha': 0.4041414971416903, 'n_estimator': 850, 'num_leaves': 10}. Best is trial#84 with value: 0.8924624539529612.\n",
      "[I 2020-07-16 21:33:41,523] Finished trial#123 with value: 0.891187305185605 with parameters: {'subsample': 0.42374330610948646, 'colsample_bytree': 0.5529405584635616, 'lr': 0.05527052952818004, 'lambd': 4.318673917515644, 'alpha': 0.30930960826284676, 'n_estimator': 842, 'num_leaves': 5}. Best is trial#84 with value: 0.8924624539529612.\n",
      "[I 2020-07-16 21:33:43,561] Finished trial#124 with value: 0.8916123547747237 with parameters: {'subsample': 0.40088056337568856, 'colsample_bytree': 0.39072840482851545, 'lr': 0.05403382376092143, 'lambd': 3.3810137297713894, 'alpha': 0.819208158283018, 'n_estimator': 880, 'num_leaves': 10}. Best is trial#84 with value: 0.8924624539529612.\n",
      "[I 2020-07-16 21:33:45,728] Finished trial#125 with value: 0.8910456219892321 with parameters: {'subsample': 0.47589766978471176, 'colsample_bytree': 0.32949113416239895, 'lr': 0.04984424975480411, 'lambd': 3.0138621874774714, 'alpha': 0.4027274682322989, 'n_estimator': 962, 'num_leaves': 10}. Best is trial#84 with value: 0.8924624539529612.\n",
      "[I 2020-07-16 21:33:47,393] Finished trial#126 with value: 0.8909039387928591 with parameters: {'subsample': 0.35193921362455105, 'colsample_bytree': 0.16709847503107056, 'lr': 0.060699187093582185, 'lambd': 4.94108299499484, 'alpha': 1.1388303784380605, 'n_estimator': 797, 'num_leaves': 9}. Best is trial#84 with value: 0.8924624539529612.\n",
      "[I 2020-07-16 21:33:49,334] Finished trial#127 with value: 0.8917540379710966 with parameters: {'subsample': 0.4391490967515555, 'colsample_bytree': 0.2034530675134596, 'lr': 0.05232964340893674, 'lambd': 4.559503779420381, 'alpha': 0.17415472230087936, 'n_estimator': 858, 'num_leaves': 10}. Best is trial#84 with value: 0.8924624539529612.\n",
      "[I 2020-07-16 21:33:51,413] Finished trial#128 with value: 0.8899121564182488 with parameters: {'subsample': 0.414111140593876, 'colsample_bytree': 0.7339245268723711, 'lr': 0.05836589032848436, 'lambd': 4.258235812918873, 'alpha': 1.623925143249287, 'n_estimator': 895, 'num_leaves': 9}. Best is trial#84 with value: 0.8924624539529612.\n",
      "[I 2020-07-16 21:33:53,692] Finished trial#129 with value: 0.8903372060073675 with parameters: {'subsample': 0.5168230677680179, 'colsample_bytree': 0.46980498459514963, 'lr': 0.047214165431414816, 'lambd': 5.4289606552422205, 'alpha': 0.967434073047647, 'n_estimator': 999, 'num_leaves': 10}. Best is trial#84 with value: 0.8924624539529612.\n",
      "[I 2020-07-16 21:33:55,889] Finished trial#130 with value: 0.8921790875602154 with parameters: {'subsample': 0.1004536137105387, 'colsample_bytree': 0.5264349194734602, 'lr': 0.05416076858634365, 'lambd': 3.81380122926621, 'alpha': 0.502649327584594, 'n_estimator': 943, 'num_leaves': 10}. Best is trial#84 with value: 0.8924624539529612.\n",
      "[I 2020-07-16 21:33:57,443] Finished trial#131 with value: 0.8886370076508926 with parameters: {'subsample': 0.1396015160666628, 'colsample_bytree': 0.09184906792771608, 'lr': 0.05320418868564508, 'lambd': 4.56218038819295, 'alpha': 0.18989756986726225, 'n_estimator': 851, 'num_leaves': 10}. Best is trial#84 with value: 0.8924624539529612.\n",
      "[I 2020-07-16 21:33:59,638] Finished trial#132 with value: 0.8914706715783508 with parameters: {'subsample': 0.491616226360751, 'colsample_bytree': 0.5038415336573293, 'lr': 0.0553086412255598, 'lambd': 4.001670222920888, 'alpha': 0.5046685731285392, 'n_estimator': 947, 'num_leaves': 10}. Best is trial#84 with value: 0.8924624539529612.\n",
      "[I 2020-07-16 21:34:01,657] Finished trial#133 with value: 0.8910456219892321 with parameters: {'subsample': 0.4422138832422714, 'colsample_bytree': 0.1961799162673949, 'lr': 0.04942212040990363, 'lambd': 4.53347473373944, 'alpha': 0.707327432229709, 'n_estimator': 877, 'num_leaves': 10}. Best is trial#84 with value: 0.8924624539529612.\n",
      "[I 2020-07-16 21:34:02,975] Finished trial#134 with value: 0.8890620572400113 with parameters: {'subsample': 0.38478078376044633, 'colsample_bytree': 0.5274238130690584, 'lr': 0.06353480105093808, 'lambd': 3.7452929277716542, 'alpha': 7.664371858400695, 'n_estimator': 912, 'num_leaves': 10}. Best is trial#84 with value: 0.8924624539529612.\n",
      "[I 2020-07-16 21:34:05,225] Finished trial#135 with value: 0.8913289883819779 with parameters: {'subsample': 0.1471557971592412, 'colsample_bytree': 0.48952886976378773, 'lr': 0.05152974424056581, 'lambd': 3.2371747356435114, 'alpha': 0.41126822159474374, 'n_estimator': 973, 'num_leaves': 10}. Best is trial#84 with value: 0.8924624539529612.\n",
      "[I 2020-07-16 21:34:07,423] Finished trial#136 with value: 0.8909039387928591 with parameters: {'subsample': 0.5706195411702255, 'colsample_bytree': 0.5763472076189707, 'lr': 0.05870317626084442, 'lambd': 2.877324179708926, 'alpha': 0.7208248878391621, 'n_estimator': 927, 'num_leaves': 10}. Best is trial#84 with value: 0.8924624539529612.\n",
      "[I 2020-07-16 21:34:09,655] Finished trial#137 with value: 0.8917540379710966 with parameters: {'subsample': 0.11115115534117086, 'colsample_bytree': 0.21382216673299073, 'lr': 0.051954954705146675, 'lambd': 4.696880388959341, 'alpha': 0.259639949436115, 'n_estimator': 949, 'num_leaves': 10}. Best is trial#84 with value: 0.8924624539529612.\n",
      "[I 2020-07-16 21:34:11,455] Finished trial#138 with value: 0.891187305185605 with parameters: {'subsample': 0.5371026018505807, 'colsample_bytree': 0.15661267895285622, 'lr': 0.0545747970119643, 'lambd': 4.413885195030948, 'alpha': 0.07820860240116878, 'n_estimator': 821, 'num_leaves': 9}. Best is trial#84 with value: 0.8924624539529612.\n",
      "[I 2020-07-16 21:34:13,604] Finished trial#139 with value: 0.8910456219892321 with parameters: {'subsample': 0.1011937474868949, 'colsample_bytree': 0.2169527265654393, 'lr': 0.04521266840750678, 'lambd': 4.730079917680264, 'alpha': 0.28285417727122697, 'n_estimator': 951, 'num_leaves': 10}. Best is trial#84 with value: 0.8924624539529612.\n",
      "[I 2020-07-16 21:34:15,541] Finished trial#140 with value: 0.8906205724001134 with parameters: {'subsample': 0.430868937295134, 'colsample_bytree': 0.2502664077777377, 'lr': 0.04931375044177124, 'lambd': 3.50178290439306, 'alpha': 1.0152815039475664, 'n_estimator': 860, 'num_leaves': 10}. Best is trial#84 with value: 0.8924624539529612.\n",
      "[I 2020-07-16 21:34:17,397] Finished trial#141 with value: 0.889628790025503 with parameters: {'subsample': 0.46735498952352794, 'colsample_bytree': 0.11748423274484837, 'lr': 0.05312462620899287, 'lambd': 3.8501356430242932, 'alpha': 0.048831161337850704, 'n_estimator': 896, 'num_leaves': 10}. Best is trial#84 with value: 0.8924624539529612.\n",
      "[I 2020-07-16 21:34:19,493] Finished trial#142 with value: 0.8903372060073675 with parameters: {'subsample': 0.40947918644346515, 'colsample_bytree': 0.5509039562498426, 'lr': 0.060348943254419155, 'lambd': 4.091397844880227, 'alpha': 0.5149379763909616, 'n_estimator': 918, 'num_leaves': 10}. Best is trial#84 with value: 0.8924624539529612.\n",
      "[I 2020-07-16 21:34:21,675] Finished trial#143 with value: 0.8920374043638425 with parameters: {'subsample': 0.11053196853293609, 'colsample_bytree': 0.20701992546701814, 'lr': 0.051052001862164305, 'lambd': 4.200978336888859, 'alpha': 0.708914547135102, 'n_estimator': 978, 'num_leaves': 10}. Best is trial#84 with value: 0.8924624539529612.\n",
      "[I 2020-07-16 21:34:23,842] Finished trial#144 with value: 0.8920374043638425 with parameters: {'subsample': 0.10886958697838386, 'colsample_bytree': 0.20274952624755488, 'lr': 0.05687483242877363, 'lambd': 4.228475615583918, 'alpha': 0.006832894955662749, 'n_estimator': 982, 'num_leaves': 10}. Best is trial#84 with value: 0.8924624539529612.\n",
      "[I 2020-07-16 21:34:25,698] Finished trial#145 with value: 0.8901955228109946 with parameters: {'subsample': 0.11286939574070637, 'colsample_bytree': 0.13096848042437698, 'lr': 0.05756993855873017, 'lambd': 4.21696624112756, 'alpha': 0.8632277614894333, 'n_estimator': 986, 'num_leaves': 9}. Best is trial#84 with value: 0.8924624539529612.\n",
      "[I 2020-07-16 21:34:27,791] Finished trial#146 with value: 0.8899121564182488 with parameters: {'subsample': 0.17696392525557697, 'colsample_bytree': 0.23651973042406313, 'lr': 0.048372671042952564, 'lambd': 4.338709936530696, 'alpha': 1.3208182267588597, 'n_estimator': 952, 'num_leaves': 10}. Best is trial#84 with value: 0.8924624539529612.\n",
      "[I 2020-07-16 21:34:29,283] Finished trial#147 with value: 0.8870784924907906 with parameters: {'subsample': 0.14436945471354812, 'colsample_bytree': 0.06220115703533713, 'lr': 0.055976682398322944, 'lambd': 3.129206682664027, 'alpha': 0.6237902327746925, 'n_estimator': 999, 'num_leaves': 10}. Best is trial#84 with value: 0.8924624539529612.\n",
      "[I 2020-07-16 21:34:31,440] Finished trial#148 with value: 0.892745820345707 with parameters: {'subsample': 0.10291099300293095, 'colsample_bytree': 0.19629139453836372, 'lr': 0.06555102764591961, 'lambd': 4.122723668263834, 'alpha': 0.01840081641231725, 'n_estimator': 977, 'num_leaves': 10}. Best is trial#148 with value: 0.892745820345707.\n",
      "[I 2020-07-16 21:34:33,558] Finished trial#149 with value: 0.8920374043638425 with parameters: {'subsample': 0.1039763663919469, 'colsample_bytree': 0.15767003025091486, 'lr': 0.07005525463507606, 'lambd': 5.723871111407416, 'alpha': 0.22207402066173362, 'n_estimator': 981, 'num_leaves': 10}. Best is trial#148 with value: 0.892745820345707.\n",
      "[I 2020-07-16 21:34:35,139] Finished trial#150 with value: 0.8901955228109946 with parameters: {'subsample': 0.10379974350655455, 'colsample_bytree': 0.19427464793984447, 'lr': 0.0681062242165753, 'lambd': 5.742415265662423, 'alpha': 0.3900015900459801, 'n_estimator': 983, 'num_leaves': 4}. Best is trial#148 with value: 0.892745820345707.\n",
      "[I 2020-07-16 21:34:37,286] Finished trial#151 with value: 0.8923207707565882 with parameters: {'subsample': 0.12990273160950258, 'colsample_bytree': 0.17602691837224665, 'lr': 0.07009135782379702, 'lambd': 3.8888356104120314, 'alpha': 0.022887995931263533, 'n_estimator': 983, 'num_leaves': 10}. Best is trial#148 with value: 0.892745820345707.\n",
      "[I 2020-07-16 21:34:39,355] Finished trial#152 with value: 0.8914706715783508 with parameters: {'subsample': 0.16423977457895353, 'colsample_bytree': 0.16562644475407529, 'lr': 0.0744506991915095, 'lambd': 6.431632277833349, 'alpha': 0.24879303409192902, 'n_estimator': 974, 'num_leaves': 10}. Best is trial#148 with value: 0.892745820345707.\n",
      "[I 2020-07-16 21:34:41,411] Finished trial#153 with value: 0.8910456219892321 with parameters: {'subsample': 0.13079835465694808, 'colsample_bytree': 0.15068248809146007, 'lr': 0.06951811695978408, 'lambd': 5.910256670227388, 'alpha': 0.49217803290447026, 'n_estimator': 998, 'num_leaves': 10}. Best is trial#148 with value: 0.892745820345707.\n",
      "[I 2020-07-16 21:34:43,548] Finished trial#154 with value: 0.8916123547747237 with parameters: {'subsample': 0.20221204778779922, 'colsample_bytree': 0.17082403312823957, 'lr': 0.06587260431471818, 'lambd': 4.157750406185038, 'alpha': 0.016063571333851216, 'n_estimator': 968, 'num_leaves': 10}. Best is trial#148 with value: 0.892745820345707.\n",
      "[I 2020-07-16 21:34:45,526] Finished trial#155 with value: 0.8923207707565882 with parameters: {'subsample': 0.15650247521880983, 'colsample_bytree': 0.25514320348531894, 'lr': 0.07286773717327366, 'lambd': 3.8499035438569096, 'alpha': 0.6914627293901828, 'n_estimator': 938, 'num_leaves': 10}. Best is trial#148 with value: 0.892745820345707.\n",
      "[I 2020-07-16 21:34:46,897] Finished trial#156 with value: 0.8897704732218759 with parameters: {'subsample': 0.16012463811974753, 'colsample_bytree': 0.18722464522294888, 'lr': 0.07753112717862216, 'lambd': 3.864519237955815, 'alpha': 0.0072644599358522854, 'n_estimator': 939, 'num_leaves': 3}. Best is trial#148 with value: 0.892745820345707.\n",
      "[I 2020-07-16 21:34:48,990] Finished trial#157 with value: 0.8906205724001134 with parameters: {'subsample': 0.10287426305503432, 'colsample_bytree': 0.25616451768018494, 'lr': 0.07244850634222638, 'lambd': 4.117873949676963, 'alpha': 0.7231407402374653, 'n_estimator': 982, 'num_leaves': 10}. Best is trial#148 with value: 0.892745820345707.\n",
      "[I 2020-07-16 21:34:51,199] Finished trial#158 with value: 0.8924624539529612 with parameters: {'subsample': 0.18528259874137748, 'colsample_bytree': 0.24297401940876384, 'lr': 0.08438367234688327, 'lambd': 3.6335630554428406, 'alpha': 0.2175536958499772, 'n_estimator': 997, 'num_leaves': 10}. Best is trial#148 with value: 0.892745820345707.\n",
      "[I 2020-07-16 21:34:53,224] Finished trial#159 with value: 0.8897704732218759 with parameters: {'subsample': 0.19234730507479192, 'colsample_bytree': 0.29193414314072375, 'lr': 0.08726778791042886, 'lambd': 3.6828664515866762, 'alpha': 0.0020567897128335177, 'n_estimator': 936, 'num_leaves': 10}. Best is trial#148 with value: 0.892745820345707.\n",
      "[I 2020-07-16 21:34:55,429] Finished trial#160 with value: 0.8926041371493341 with parameters: {'subsample': 0.2394968428433788, 'colsample_bytree': 0.22342360069534867, 'lr': 0.09318147110348676, 'lambd': 5.218622469866547, 'alpha': 0.20967792935264173, 'n_estimator': 998, 'num_leaves': 10}. Best is trial#148 with value: 0.892745820345707.\n",
      "[I 2020-07-16 21:34:57,645] Finished trial#161 with value: 0.8931708699348258 with parameters: {'subsample': 0.23752991795498227, 'colsample_bytree': 0.23787465978353173, 'lr': 0.0840838297671002, 'lambd': 5.892130849807906, 'alpha': 0.25046537427858745, 'n_estimator': 997, 'num_leaves': 10}. Best is trial#161 with value: 0.8931708699348258.\n",
      "[I 2020-07-16 21:34:59,865] Finished trial#162 with value: 0.8913289883819779 with parameters: {'subsample': 0.22316252762503339, 'colsample_bytree': 0.3167419229625919, 'lr': 0.08448492567806824, 'lambd': 5.82909735464383, 'alpha': 0.19099005779163625, 'n_estimator': 1000, 'num_leaves': 10}. Best is trial#161 with value: 0.8931708699348258.\n",
      "[I 2020-07-16 21:35:02,082] Finished trial#163 with value: 0.8921790875602154 with parameters: {'subsample': 0.24086322771500882, 'colsample_bytree': 0.2416727880327662, 'lr': 0.091411656027925, 'lambd': 5.4702671564265275, 'alpha': 0.19106637204059554, 'n_estimator': 999, 'num_leaves': 10}. Best is trial#161 with value: 0.8931708699348258.\n",
      "[I 2020-07-16 21:35:04,266] Finished trial#164 with value: 0.8910456219892321 with parameters: {'subsample': 0.23790609715362224, 'colsample_bytree': 0.24165029942217686, 'lr': 0.09409816736253496, 'lambd': 5.477997043595508, 'alpha': 0.30187834472006336, 'n_estimator': 977, 'num_leaves': 10}. Best is trial#161 with value: 0.8931708699348258.\n",
      "[I 2020-07-16 21:35:06,443] Finished trial#165 with value: 0.8923207707565882 with parameters: {'subsample': 0.17851187457663345, 'colsample_bytree': 0.21872338552696782, 'lr': 0.0922453844455405, 'lambd': 6.107703228961532, 'alpha': 0.01635088207310422, 'n_estimator': 999, 'num_leaves': 10}. Best is trial#161 with value: 0.8931708699348258.\n",
      "[I 2020-07-16 21:35:08,559] Finished trial#166 with value: 0.8924624539529612 with parameters: {'subsample': 0.2534683285993113, 'colsample_bytree': 0.26688431673025315, 'lr': 0.09121561692991471, 'lambd': 6.264981885196105, 'alpha': 0.20262410392095637, 'n_estimator': 962, 'num_leaves': 10}. Best is trial#161 with value: 0.8931708699348258.\n",
      "[I 2020-07-16 21:35:10,713] Finished trial#167 with value: 0.8903372060073675 with parameters: {'subsample': 0.2647618893060471, 'colsample_bytree': 0.27755617071630784, 'lr': 0.09524467606226478, 'lambd': 6.233701578729711, 'alpha': 0.006088136738811756, 'n_estimator': 999, 'num_leaves': 10}. Best is trial#161 with value: 0.8931708699348258.\n",
      "[I 2020-07-16 21:35:12,890] Finished trial#168 with value: 0.8926041371493341 with parameters: {'subsample': 0.24252642651494982, 'colsample_bytree': 0.21457582258393862, 'lr': 0.09001260577957479, 'lambd': 6.572899707593994, 'alpha': 0.11652066486079748, 'n_estimator': 996, 'num_leaves': 10}. Best is trial#161 with value: 0.8931708699348258.\n",
      "[I 2020-07-16 21:35:15,069] Finished trial#169 with value: 0.8923207707565882 with parameters: {'subsample': 0.24684008860421772, 'colsample_bytree': 0.2237730747768915, 'lr': 0.0901197640675394, 'lambd': 7.0433240497533625, 'alpha': 0.022631474785908913, 'n_estimator': 990, 'num_leaves': 10}. Best is trial#161 with value: 0.8931708699348258.\n",
      "[I 2020-07-16 21:35:17,187] Finished trial#170 with value: 0.8916123547747237 with parameters: {'subsample': 0.2550221500337775, 'colsample_bytree': 0.22390976230614346, 'lr': 0.08990001757536736, 'lambd': 7.622336052486783, 'alpha': 0.5856290345636554, 'n_estimator': 1000, 'num_leaves': 10}. Best is trial#161 with value: 0.8931708699348258.\n",
      "[I 2020-07-16 21:35:19,323] Finished trial#171 with value: 0.8920374043638425 with parameters: {'subsample': 0.24873615333532534, 'colsample_bytree': 0.2475395499600068, 'lr': 0.09118477667882303, 'lambd': 6.848948735708636, 'alpha': 0.17644977670544904, 'n_estimator': 962, 'num_leaves': 10}. Best is trial#161 with value: 0.8931708699348258.\n",
      "[I 2020-07-16 21:35:21,460] Finished trial#172 with value: 0.8910456219892321 with parameters: {'subsample': 0.3036580768385547, 'colsample_bytree': 0.2660470781026142, 'lr': 0.08150799243643536, 'lambd': 6.146107119532906, 'alpha': 0.40913647375553364, 'n_estimator': 961, 'num_leaves': 10}. Best is trial#161 with value: 0.8931708699348258.\n",
      "[I 2020-07-16 21:35:23,625] Finished trial#173 with value: 0.8923207707565882 with parameters: {'subsample': 0.2170765272282213, 'colsample_bytree': 0.21199788059070854, 'lr': 0.09812069520682454, 'lambd': 7.049367490738624, 'alpha': 0.0064145631782134005, 'n_estimator': 999, 'num_leaves': 10}. Best is trial#161 with value: 0.8931708699348258.\n",
      "[I 2020-07-16 21:35:25,825] Finished trial#174 with value: 0.8920374043638425 with parameters: {'subsample': 0.21731222018107504, 'colsample_bytree': 0.22878552816709413, 'lr': 0.09815551105737445, 'lambd': 7.051488101396705, 'alpha': 0.020097987576892407, 'n_estimator': 999, 'num_leaves': 10}. Best is trial#161 with value: 0.8931708699348258.\n",
      "[I 2020-07-16 21:35:27,999] Finished trial#175 with value: 0.8918957211674695 with parameters: {'subsample': 0.18108196340195423, 'colsample_bytree': 0.17810177319906773, 'lr': 0.09069105368791175, 'lambd': 7.19232133688444, 'alpha': 0.1788576173619499, 'n_estimator': 999, 'num_leaves': 10}. Best is trial#161 with value: 0.8931708699348258.\n",
      "[I 2020-07-16 21:35:30,156] Finished trial#176 with value: 0.8928875035420799 with parameters: {'subsample': 0.24736557299936587, 'colsample_bytree': 0.2511880116102351, 'lr': 0.09113131845075406, 'lambd': 6.81737660998075, 'alpha': 0.14931631640478304, 'n_estimator': 961, 'num_leaves': 10}. Best is trial#161 with value: 0.8931708699348258.\n",
      "[I 2020-07-16 21:35:30,932] Finished trial#177 with value: 0.88948710682913 with parameters: {'subsample': 0.23345212463450882, 'colsample_bytree': 0.310983823615893, 'lr': 0.09685166035411905, 'lambd': 6.500953350087384, 'alpha': 0.007505519264678545, 'n_estimator': 286, 'num_leaves': 10}. Best is trial#161 with value: 0.8931708699348258.\n",
      "[I 2020-07-16 21:35:33,145] Finished trial#178 with value: 0.892745820345707 with parameters: {'subsample': 0.20601382976259447, 'colsample_bytree': 0.2567722760932118, 'lr': 0.08868039987134416, 'lambd': 7.144988182427344, 'alpha': 0.39225132593702994, 'n_estimator': 1000, 'num_leaves': 10}. Best is trial#161 with value: 0.8931708699348258.\n",
      "[I 2020-07-16 21:35:35,357] Finished trial#179 with value: 0.8900538396146217 with parameters: {'subsample': 0.269780980253274, 'colsample_bytree': 0.2826934884622409, 'lr': 0.08810445854327784, 'lambd': 6.794878517440754, 'alpha': 0.009887077346011519, 'n_estimator': 997, 'num_leaves': 10}. Best is trial#161 with value: 0.8931708699348258.\n",
      "[I 2020-07-16 21:35:37,564] Finished trial#180 with value: 0.8917540379710966 with parameters: {'subsample': 0.20405111718110064, 'colsample_bytree': 0.24909111274236675, 'lr': 0.09278066710841103, 'lambd': 7.140920078225791, 'alpha': 0.3327189592598139, 'n_estimator': 1000, 'num_leaves': 10}. Best is trial#161 with value: 0.8931708699348258.\n",
      "[I 2020-07-16 21:35:39,552] Finished trial#181 with value: 0.8910456219892321 with parameters: {'subsample': 0.1901850050116984, 'colsample_bytree': 0.21703817995380836, 'lr': 0.0894106866083073, 'lambd': 6.565799820682933, 'alpha': 0.515327355045345, 'n_estimator': 958, 'num_leaves': 10}. Best is trial#161 with value: 0.8931708699348258.\n",
      "[I 2020-07-16 21:35:41,645] Finished trial#182 with value: 0.8920374043638425 with parameters: {'subsample': 0.24962803818538157, 'colsample_bytree': 0.2636903671209496, 'lr': 0.08614108648743207, 'lambd': 7.470947632735859, 'alpha': 0.19069008787095582, 'n_estimator': 939, 'num_leaves': 10}. Best is trial#161 with value: 0.8931708699348258.\n",
      "[I 2020-07-16 21:35:43,736] Finished trial#183 with value: 0.8930291867384528 with parameters: {'subsample': 0.2346116107075122, 'colsample_bytree': 0.23086134807866243, 'lr': 0.09258572986969248, 'lambd': 6.053051080608746, 'alpha': 0.3774343251645409, 'n_estimator': 970, 'num_leaves': 10}. Best is trial#161 with value: 0.8931708699348258.\n",
      "[I 2020-07-16 21:35:45,927] Finished trial#184 with value: 0.892745820345707 with parameters: {'subsample': 0.2300425866246313, 'colsample_bytree': 0.23528233390395353, 'lr': 0.0831777834888598, 'lambd': 6.313369229496048, 'alpha': 0.3538541425049042, 'n_estimator': 970, 'num_leaves': 10}. Best is trial#161 with value: 0.8931708699348258.\n",
      "[I 2020-07-16 21:35:48,049] Finished trial#185 with value: 0.8933125531311986 with parameters: {'subsample': 0.21512097023721222, 'colsample_bytree': 0.22420426352183098, 'lr': 0.08402398620417535, 'lambd': 6.321249804026625, 'alpha': 0.3746747150462784, 'n_estimator': 968, 'num_leaves': 10}. Best is trial#185 with value: 0.8933125531311986.\n",
      "[I 2020-07-16 21:35:50,184] Finished trial#186 with value: 0.8918957211674695 with parameters: {'subsample': 0.21459293553750552, 'colsample_bytree': 0.22399604714594232, 'lr': 0.08243665076448217, 'lambd': 6.330661839481593, 'alpha': 0.352889577723078, 'n_estimator': 971, 'num_leaves': 10}. Best is trial#185 with value: 0.8933125531311986.\n",
      "[I 2020-07-16 21:35:52,314] Finished trial#187 with value: 0.8914706715783508 with parameters: {'subsample': 0.17048551232362733, 'colsample_bytree': 0.19297850268231706, 'lr': 0.08618788270284378, 'lambd': 6.053115925797492, 'alpha': 0.01847255158924513, 'n_estimator': 968, 'num_leaves': 10}. Best is trial#185 with value: 0.8933125531311986.\n",
      "[I 2020-07-16 21:35:54,535] Finished trial#188 with value: 0.8917540379710966 with parameters: {'subsample': 0.20108482127548122, 'colsample_bytree': 0.28565471249422003, 'lr': 0.08317477549677979, 'lambd': 6.917064303065336, 'alpha': 0.40637828598686065, 'n_estimator': 981, 'num_leaves': 10}. Best is trial#185 with value: 0.8933125531311986.\n",
      "[I 2020-07-16 21:35:56,597] Finished trial#189 with value: 0.8916123547747237 with parameters: {'subsample': 0.22802647214309152, 'colsample_bytree': 0.25556329567197156, 'lr': 0.08057653248928882, 'lambd': 6.677034549571373, 'alpha': 0.7934513533253631, 'n_estimator': 1000, 'num_leaves': 10}. Best is trial#185 with value: 0.8933125531311986.\n",
      "[I 2020-07-16 21:35:58,679] Finished trial#190 with value: 0.8920374043638425 with parameters: {'subsample': 0.27489948376652784, 'colsample_bytree': 0.20692273594244298, 'lr': 0.09311851800381758, 'lambd': 7.367532459545076, 'alpha': 0.005095931460662229, 'n_estimator': 951, 'num_leaves': 10}. Best is trial#185 with value: 0.8933125531311986.\n",
      "[I 2020-07-16 21:36:00,662] Finished trial#191 with value: 0.8917540379710966 with parameters: {'subsample': 0.25680455878701236, 'colsample_bytree': 0.2294766542161503, 'lr': 0.09600188051820925, 'lambd': 6.027702291361429, 'alpha': 0.6243472998046161, 'n_estimator': 961, 'num_leaves': 10}. Best is trial#185 with value: 0.8933125531311986.\n",
      "[I 2020-07-16 21:36:02,728] Finished trial#192 with value: 0.8917540379710966 with parameters: {'subsample': 0.1515223361615655, 'colsample_bytree': 0.23497777533978706, 'lr': 0.08849457005109382, 'lambd': 6.339705716616381, 'alpha': 0.4031806606142763, 'n_estimator': 932, 'num_leaves': 10}. Best is trial#185 with value: 0.8933125531311986.\n",
      "[I 2020-07-16 21:36:04,937] Finished trial#193 with value: 0.892745820345707 with parameters: {'subsample': 0.24091348557279813, 'colsample_bytree': 0.24508557527598118, 'lr': 0.09245308905770673, 'lambd': 6.702628083783875, 'alpha': 0.23091042313663923, 'n_estimator': 999, 'num_leaves': 10}. Best is trial#185 with value: 0.8933125531311986.\n",
      "[I 2020-07-16 21:36:07,147] Finished trial#194 with value: 0.8910456219892321 with parameters: {'subsample': 0.2939032901939492, 'colsample_bytree': 0.3419572266725633, 'lr': 0.08600823188486494, 'lambd': 6.982526446049026, 'alpha': 0.17979443639083023, 'n_estimator': 982, 'num_leaves': 10}. Best is trial#185 with value: 0.8933125531311986.\n",
      "[I 2020-07-16 21:36:09,374] Finished trial#195 with value: 0.8909039387928591 with parameters: {'subsample': 0.21753187279371716, 'colsample_bytree': 0.30110350312753065, 'lr': 0.09253909769554111, 'lambd': 6.635079366144436, 'alpha': 0.1732408757287731, 'n_estimator': 1000, 'num_leaves': 10}. Best is trial#185 with value: 0.8933125531311986.\n",
      "[I 2020-07-16 21:36:11,537] Finished trial#196 with value: 0.8916123547747237 with parameters: {'subsample': 0.23604728239885917, 'colsample_bytree': 0.26779855588686063, 'lr': 0.08390494971982572, 'lambd': 7.311506952955779, 'alpha': 0.012915758426595342, 'n_estimator': 981, 'num_leaves': 10}. Best is trial#185 with value: 0.8933125531311986.\n",
      "[I 2020-07-16 21:36:13,642] Finished trial#197 with value: 0.8916123547747237 with parameters: {'subsample': 0.17761781684235126, 'colsample_bytree': 0.2080552780707755, 'lr': 0.09907652049543249, 'lambd': 6.207168475729248, 'alpha': 0.35451378814091555, 'n_estimator': 965, 'num_leaves': 10}. Best is trial#185 with value: 0.8933125531311986.\n",
      "[I 2020-07-16 21:36:15,591] Finished trial#198 with value: 0.8899121564182488 with parameters: {'subsample': 0.1924600176811393, 'colsample_bytree': 0.24871136957381465, 'lr': 0.09474147106035019, 'lambd': 6.522236435423152, 'alpha': 0.6966936272035571, 'n_estimator': 953, 'num_leaves': 10}. Best is trial#185 with value: 0.8933125531311986.\n",
      "[I 2020-07-16 21:36:17,773] Finished trial#199 with value: 0.8923207707565882 with parameters: {'subsample': 0.21789552708879742, 'colsample_bytree': 0.1963937905931113, 'lr': 0.08875502271821885, 'lambd': 6.756990184677475, 'alpha': 0.2838323136909141, 'n_estimator': 1000, 'num_leaves': 10}. Best is trial#185 with value: 0.8933125531311986.\n",
      "[I 2020-07-16 21:36:19,775] Finished trial#200 with value: 0.8917540379710966 with parameters: {'subsample': 0.2638486985958136, 'colsample_bytree': 0.1840293509554464, 'lr': 0.08914331263854233, 'lambd': 6.7626983459529395, 'alpha': 0.5540609684191354, 'n_estimator': 981, 'num_leaves': 10}. Best is trial#185 with value: 0.8933125531311986.\n",
      "[I 2020-07-16 21:36:21,975] Finished trial#201 with value: 0.8923207707565882 with parameters: {'subsample': 0.21642918794806754, 'colsample_bytree': 0.20941752047984202, 'lr': 0.08460038823072205, 'lambd': 6.459477013426808, 'alpha': 0.28704507213155367, 'n_estimator': 1000, 'num_leaves': 10}. Best is trial#185 with value: 0.8933125531311986.\n",
      "[I 2020-07-16 21:36:24,149] Finished trial#202 with value: 0.8924624539529612 with parameters: {'subsample': 0.2337454351546048, 'colsample_bytree': 0.218663303475466, 'lr': 0.08438609610080328, 'lambd': 6.412915971270239, 'alpha': 0.022769096511739362, 'n_estimator': 999, 'num_leaves': 10}. Best is trial#185 with value: 0.8933125531311986.\n",
      "[I 2020-07-16 21:36:26,276] Finished trial#203 with value: 0.8914706715783508 with parameters: {'subsample': 0.22412527278624406, 'colsample_bytree': 0.1935778270635146, 'lr': 0.08484415072300999, 'lambd': 6.434658838920981, 'alpha': 0.2787173481190156, 'n_estimator': 988, 'num_leaves': 10}. Best is trial#185 with value: 0.8933125531311986.\n",
      "[I 2020-07-16 21:36:28,375] Finished trial#204 with value: 0.8920374043638425 with parameters: {'subsample': 0.2450083907792004, 'colsample_bytree': 0.22864388969208238, 'lr': 0.07938162231626034, 'lambd': 6.034920160393591, 'alpha': 0.006834752572008393, 'n_estimator': 959, 'num_leaves': 10}. Best is trial#185 with value: 0.8933125531311986.\n",
      "[I 2020-07-16 21:36:30,549] Finished trial#205 with value: 0.8918957211674695 with parameters: {'subsample': 0.20232898304547103, 'colsample_bytree': 0.2581135431247657, 'lr': 0.087720993949781, 'lambd': 6.9475589196837975, 'alpha': 0.14271472081705117, 'n_estimator': 981, 'num_leaves': 10}. Best is trial#185 with value: 0.8933125531311986.\n",
      "[I 2020-07-16 21:36:32,661] Finished trial#206 with value: 0.8916123547747237 with parameters: {'subsample': 0.28302695843116604, 'colsample_bytree': 0.22422360269943745, 'lr': 0.09288614658564275, 'lambd': 6.230631969306016, 'alpha': 0.4248631265921238, 'n_estimator': 999, 'num_leaves': 10}. Best is trial#185 with value: 0.8933125531311986.\n",
      "[I 2020-07-16 21:36:34,852] Finished trial#207 with value: 0.8921790875602154 with parameters: {'subsample': 0.23887688899743026, 'colsample_bytree': 0.21105058789109268, 'lr': 0.08495444308372584, 'lambd': 5.869508563378142, 'alpha': 0.04361669595163026, 'n_estimator': 999, 'num_leaves': 10}. Best is trial#185 with value: 0.8933125531311986.\n",
      "[I 2020-07-16 21:36:36,925] Finished trial#208 with value: 0.8918957211674695 with parameters: {'subsample': 0.21291704589024202, 'colsample_bytree': 0.13990117609069047, 'lr': 0.09716608942176545, 'lambd': 6.591458374447024, 'alpha': 0.278040239401945, 'n_estimator': 999, 'num_leaves': 10}. Best is trial#185 with value: 0.8933125531311986.\n",
      "[I 2020-07-16 21:36:38,881] Finished trial#209 with value: 0.8917540379710966 with parameters: {'subsample': 0.161789024548942, 'colsample_bytree': 0.2763381981396007, 'lr': 0.09134919595713084, 'lambd': 6.266128141484565, 'alpha': 0.5483347697901234, 'n_estimator': 938, 'num_leaves': 10}. Best is trial#185 with value: 0.8933125531311986.\n",
      "[I 2020-07-16 21:36:40,880] Finished trial#210 with value: 0.8906205724001134 with parameters: {'subsample': 0.2633427303404684, 'colsample_bytree': 0.2430772181953094, 'lr': 0.08214629437599441, 'lambd': 6.4068801624855, 'alpha': 0.8647076989672573, 'n_estimator': 969, 'num_leaves': 10}. Best is trial#185 with value: 0.8933125531311986.\n",
      "[I 2020-07-16 21:36:42,989] Finished trial#211 with value: 0.8920374043638425 with parameters: {'subsample': 0.22552309787860925, 'colsample_bytree': 0.21065209146625802, 'lr': 0.08961591720007754, 'lambd': 6.763853888835747, 'alpha': 0.3218273893665774, 'n_estimator': 965, 'num_leaves': 10}. Best is trial#185 with value: 0.8933125531311986.\n",
      "[I 2020-07-16 21:36:45,186] Finished trial#212 with value: 0.8921790875602154 with parameters: {'subsample': 0.17981896261885486, 'colsample_bytree': 0.16869524900568442, 'lr': 0.08716168021822511, 'lambd': 7.1816026587662725, 'alpha': 0.024550843700955838, 'n_estimator': 1000, 'num_leaves': 10}. Best is trial#185 with value: 0.8933125531311986.\n",
      "[I 2020-07-16 21:36:47,271] Finished trial#213 with value: 0.8923207707565882 with parameters: {'subsample': 0.19969970649501873, 'colsample_bytree': 0.23559907107536332, 'lr': 0.09383017612534718, 'lambd': 7.76024781343301, 'alpha': 0.13469518331460134, 'n_estimator': 942, 'num_leaves': 10}. Best is trial#185 with value: 0.8933125531311986.\n",
      "[I 2020-07-16 21:36:49,407] Finished trial#214 with value: 0.8921790875602154 with parameters: {'subsample': 0.1270978708398411, 'colsample_bytree': 0.18698493535773666, 'lr': 0.09104350243187208, 'lambd': 6.065326663189329, 'alpha': 0.00406750118918138, 'n_estimator': 977, 'num_leaves': 10}. Best is trial#185 with value: 0.8933125531311986.\n",
      "[I 2020-07-16 21:36:51,506] Finished trial#215 with value: 0.8928875035420799 with parameters: {'subsample': 0.20430740351282867, 'colsample_bytree': 0.24656084899866965, 'lr': 0.09454390142285371, 'lambd': 7.786837203409795, 'alpha': 0.22973522388259882, 'n_estimator': 941, 'num_leaves': 10}. Best is trial#185 with value: 0.8933125531311986.\n",
      "[I 2020-07-16 21:36:53,555] Finished trial#216 with value: 0.8917540379710966 with parameters: {'subsample': 0.2434696340310752, 'colsample_bytree': 0.28044541807096335, 'lr': 0.0886720325585654, 'lambd': 6.6829193272462994, 'alpha': 0.009699718759914771, 'n_estimator': 953, 'num_leaves': 10}. Best is trial#185 with value: 0.8933125531311986.\n",
      "[I 2020-07-16 21:36:55,598] Finished trial#217 with value: 0.891187305185605 with parameters: {'subsample': 0.18572726951542845, 'colsample_bytree': 0.2587371525041496, 'lr': 0.07544178393624837, 'lambd': 8.167511388628704, 'alpha': 0.5425325859094171, 'n_estimator': 928, 'num_leaves': 10}. Best is trial#185 with value: 0.8933125531311986.\n",
      "[I 2020-07-16 21:36:57,589] Finished trial#218 with value: 0.8920374043638425 with parameters: {'subsample': 0.21190497321004773, 'colsample_bytree': 0.1907990969859802, 'lr': 0.08040458269330901, 'lambd': 6.453929705681853, 'alpha': 0.34783824912145317, 'n_estimator': 925, 'num_leaves': 10}. Best is trial#185 with value: 0.8933125531311986.\n",
      "[I 2020-07-16 21:36:59,641] Finished trial#219 with value: 0.8913289883819779 with parameters: {'subsample': 0.2624466468470123, 'colsample_bytree': 0.2195589864202262, 'lr': 0.09996395531944756, 'lambd': 8.012115342274004, 'alpha': 0.6613440447619225, 'n_estimator': 1000, 'num_leaves': 10}. Best is trial#185 with value: 0.8933125531311986.\n",
      "[I 2020-07-16 21:37:01,691] Finished trial#220 with value: 0.8928875035420799 with parameters: {'subsample': 0.22975924644668355, 'colsample_bytree': 0.24069913159281217, 'lr': 0.09596075158462278, 'lambd': 6.898119796490368, 'alpha': 0.410839677314946, 'n_estimator': 962, 'num_leaves': 10}. Best is trial#185 with value: 0.8933125531311986.\n",
      "[I 2020-07-16 21:37:03,774] Finished trial#221 with value: 0.8933125531311986 with parameters: {'subsample': 0.23669158760734485, 'colsample_bytree': 0.2432162060945883, 'lr': 0.09575631339369542, 'lambd': 8.440108634735441, 'alpha': 0.44506981780828014, 'n_estimator': 970, 'num_leaves': 10}. Best is trial#185 with value: 0.8933125531311986.\n",
      "[I 2020-07-16 21:37:05,773] Finished trial#222 with value: 0.8909039387928591 with parameters: {'subsample': 0.1431315880064359, 'colsample_bytree': 0.24476458267258414, 'lr': 0.09612192644650117, 'lambd': 5.918776628695912, 'alpha': 0.516322116073062, 'n_estimator': 949, 'num_leaves': 10}. Best is trial#185 with value: 0.8933125531311986.\n",
      "[I 2020-07-16 21:37:07,959] Finished trial#223 with value: 0.891187305185605 with parameters: {'subsample': 0.23090701551570816, 'colsample_bytree': 0.23968339815897133, 'lr': 0.09461609914541333, 'lambd': 8.290951246672602, 'alpha': 0.24757497360808958, 'n_estimator': 969, 'num_leaves': 10}. Best is trial#185 with value: 0.8933125531311986.\n",
      "[I 2020-07-16 21:37:10,206] Finished trial#224 with value: 0.8918957211674695 with parameters: {'subsample': 0.20140469616066992, 'colsample_bytree': 0.23243971993802168, 'lr': 0.09353167463591519, 'lambd': 9.713187205849355, 'alpha': 0.17539791330187346, 'n_estimator': 1000, 'num_leaves': 10}. Best is trial#185 with value: 0.8933125531311986.\n",
      "[I 2020-07-16 21:37:10,682] Finished trial#225 with value: 0.8893454236327571 with parameters: {'subsample': 0.231021002448189, 'colsample_bytree': 0.2995875319532156, 'lr': 0.08320228373941468, 'lambd': 8.775001568770994, 'alpha': 0.7792408159595208, 'n_estimator': 125, 'num_leaves': 10}. Best is trial#185 with value: 0.8933125531311986.\n",
      "[I 2020-07-16 21:37:12,750] Finished trial#226 with value: 0.8906205724001134 with parameters: {'subsample': 0.27979905112580183, 'colsample_bytree': 0.2673182272342713, 'lr': 0.09410081834773147, 'lambd': 8.57953020624541, 'alpha': 0.47141894707336407, 'n_estimator': 942, 'num_leaves': 10}. Best is trial#185 with value: 0.8933125531311986.\n",
      "[I 2020-07-16 21:37:14,868] Finished trial#227 with value: 0.8926041371493341 with parameters: {'subsample': 0.21684504372661673, 'colsample_bytree': 0.2025799312552628, 'lr': 0.09722570579617823, 'lambd': 6.734423754007966, 'alpha': 0.3191972035499958, 'n_estimator': 972, 'num_leaves': 10}. Best is trial#185 with value: 0.8933125531311986.\n",
      "[I 2020-07-16 21:37:17,027] Finished trial#228 with value: 0.8921790875602154 with parameters: {'subsample': 0.2511433361660288, 'colsample_bytree': 0.2128188483787295, 'lr': 0.09050335867833942, 'lambd': 6.838149230570883, 'alpha': 0.32741221646845453, 'n_estimator': 977, 'num_leaves': 10}. Best is trial#185 with value: 0.8933125531311986.\n",
      "[I 2020-07-16 21:37:19,161] Finished trial#229 with value: 0.8918957211674695 with parameters: {'subsample': 0.19088839914230155, 'colsample_bytree': 0.16825621216762676, 'lr': 0.09583744125155087, 'lambd': 7.788219687676298, 'alpha': 0.18665956285879176, 'n_estimator': 961, 'num_leaves': 10}. Best is trial#185 with value: 0.8933125531311986.\n",
      "[I 2020-07-16 21:37:21,284] Finished trial#230 with value: 0.8914706715783508 with parameters: {'subsample': 0.24868475622407465, 'colsample_bytree': 0.22465717820269848, 'lr': 0.09982240651654037, 'lambd': 9.28096987371952, 'alpha': 0.0062689520507175096, 'n_estimator': 981, 'num_leaves': 10}. Best is trial#185 with value: 0.8933125531311986.\n",
      "[I 2020-07-16 21:37:23,409] Finished trial#231 with value: 0.8930291867384528 with parameters: {'subsample': 0.22661904760164722, 'colsample_bytree': 0.19565410018316445, 'lr': 0.09680016317509196, 'lambd': 6.925861764015503, 'alpha': 0.4125364705050534, 'n_estimator': 982, 'num_leaves': 10}. Best is trial#185 with value: 0.8933125531311986.\n",
      "[I 2020-07-16 21:37:25,476] Finished trial#232 with value: 0.8920374043638425 with parameters: {'subsample': 0.2030174020517703, 'colsample_bytree': 0.25355680350237425, 'lr': 0.09359545318192271, 'lambd': 7.725615002163023, 'alpha': 0.4649256071145341, 'n_estimator': 941, 'num_leaves': 10}. Best is trial#185 with value: 0.8933125531311986.\n",
      "[I 2020-07-16 21:37:27,391] Finished trial#233 with value: 0.8913289883819779 with parameters: {'subsample': 0.2206460668927723, 'colsample_bytree': 0.19745486264810147, 'lr': 0.0849305642855493, 'lambd': 6.638234519922917, 'alpha': 0.7119731821917814, 'n_estimator': 962, 'num_leaves': 10}. Best is trial#185 with value: 0.8933125531311986.\n",
      "[I 2020-07-16 21:37:29,541] Finished trial#234 with value: 0.8926041371493341 with parameters: {'subsample': 0.21797307777894953, 'colsample_bytree': 0.20269313783383897, 'lr': 0.09752093364717018, 'lambd': 6.983146323759923, 'alpha': 0.34826197077410614, 'n_estimator': 981, 'num_leaves': 10}. Best is trial#185 with value: 0.8933125531311986.\n",
      "[I 2020-07-16 21:37:31,622] Finished trial#235 with value: 0.8917540379710966 with parameters: {'subsample': 0.23035462418040722, 'colsample_bytree': 0.1814610122473524, 'lr': 0.0968684106431507, 'lambd': 6.86080366316817, 'alpha': 0.4079119562891991, 'n_estimator': 979, 'num_leaves': 10}. Best is trial#185 with value: 0.8933125531311986.\n",
      "[I 2020-07-16 21:37:32,824] Finished trial#236 with value: 0.8882119580617739 with parameters: {'subsample': 0.21328606792658375, 'colsample_bytree': 0.20617922028066574, 'lr': 0.09834886262083471, 'lambd': 7.3040004776739975, 'alpha': 9.90374739090759, 'n_estimator': 964, 'num_leaves': 10}. Best is trial#185 with value: 0.8933125531311986.\n",
      "[I 2020-07-16 21:37:34,948] Finished trial#237 with value: 0.8926041371493341 with parameters: {'subsample': 0.2674624410817953, 'colsample_bytree': 0.23650653737291957, 'lr': 0.09596305022342577, 'lambd': 7.9742901809627105, 'alpha': 0.2636752396280788, 'n_estimator': 947, 'num_leaves': 10}. Best is trial#185 with value: 0.8933125531311986.\n",
      "[I 2020-07-16 21:37:37,173] Finished trial#238 with value: 0.8897704732218759 with parameters: {'subsample': 0.2550356905772198, 'colsample_bytree': 0.27560780740380403, 'lr': 0.0957030193569494, 'lambd': 7.532870273708577, 'alpha': 0.28484956853625265, 'n_estimator': 978, 'num_leaves': 10}. Best is trial#185 with value: 0.8933125531311986.\n",
      "[I 2020-07-16 21:37:39,244] Finished trial#239 with value: 0.8914706715783508 with parameters: {'subsample': 0.32954345059032275, 'colsample_bytree': 0.24045606807664965, 'lr': 0.09779830706571947, 'lambd': 8.751552218257448, 'alpha': 0.5192896181358254, 'n_estimator': 954, 'num_leaves': 10}. Best is trial#185 with value: 0.8933125531311986.\n",
      "[I 2020-07-16 21:37:41,319] Finished trial#240 with value: 0.8921790875602154 with parameters: {'subsample': 0.23466740644257833, 'colsample_bytree': 0.24590330373090422, 'lr': 0.09471625792709613, 'lambd': 8.17065414033316, 'alpha': 0.20448387396325066, 'n_estimator': 920, 'num_leaves': 10}. Best is trial#185 with value: 0.8933125531311986.\n",
      "[I 2020-07-16 21:37:43,416] Finished trial#241 with value: 0.8930291867384528 with parameters: {'subsample': 0.30112721097603, 'colsample_bytree': 0.21909467112278233, 'lr': 0.09994214378320594, 'lambd': 7.069322537883524, 'alpha': 0.4381662582822762, 'n_estimator': 1000, 'num_leaves': 10}. Best is trial#185 with value: 0.8933125531311986.\n",
      "[I 2020-07-16 21:37:45,545] Finished trial#242 with value: 0.891187305185605 with parameters: {'subsample': 0.2719152316461185, 'colsample_bytree': 0.21932855746087548, 'lr': 0.09998005569814258, 'lambd': 7.007643341838213, 'alpha': 0.4220750745508911, 'n_estimator': 998, 'num_leaves': 10}. Best is trial#185 with value: 0.8933125531311986.\n",
      "[I 2020-07-16 21:37:47,734] Finished trial#243 with value: 0.8930291867384528 with parameters: {'subsample': 0.24900578311031865, 'colsample_bytree': 0.2237356230337434, 'lr': 0.09780345760684632, 'lambd': 7.0910366017592725, 'alpha': 0.15120693089753978, 'n_estimator': 984, 'num_leaves': 10}. Best is trial#185 with value: 0.8933125531311986.\n",
      "[I 2020-07-16 21:37:49,673] Finished trial#244 with value: 0.8913289883819779 with parameters: {'subsample': 0.3060000655305534, 'colsample_bytree': 0.19606331826815632, 'lr': 0.09702270418322198, 'lambd': 7.99111567091464, 'alpha': 0.6292873089484554, 'n_estimator': 962, 'num_leaves': 10}. Best is trial#185 with value: 0.8933125531311986.\n",
      "[I 2020-07-16 21:37:51,887] Finished trial#245 with value: 0.8924624539529612 with parameters: {'subsample': 0.28676164694711426, 'colsample_bytree': 0.23119571096506197, 'lr': 0.09303406763504661, 'lambd': 7.124859993300598, 'alpha': 0.19628938538164895, 'n_estimator': 982, 'num_leaves': 10}. Best is trial#185 with value: 0.8933125531311986.\n",
      "[I 2020-07-16 21:37:53,997] Finished trial#246 with value: 0.891187305185605 with parameters: {'subsample': 0.2984188227726614, 'colsample_bytree': 0.26210608034757665, 'lr': 0.09158199969601798, 'lambd': 7.177839494449575, 'alpha': 0.4219385615747773, 'n_estimator': 979, 'num_leaves': 10}. Best is trial#185 with value: 0.8933125531311986.\n",
      "[I 2020-07-16 21:37:56,158] Finished trial#247 with value: 0.8926041371493341 with parameters: {'subsample': 0.2751774341768503, 'colsample_bytree': 0.23541652876271654, 'lr': 0.0958792469028373, 'lambd': 7.36977072377962, 'alpha': 0.1965196262355093, 'n_estimator': 979, 'num_leaves': 10}. Best is trial#185 with value: 0.8933125531311986.\n",
      "[I 2020-07-16 21:37:57,601] Finished trial#248 with value: 0.8920374043638425 with parameters: {'subsample': 0.268262603258302, 'colsample_bytree': 0.23815964066063502, 'lr': 0.09995325971316443, 'lambd': 7.49039693368214, 'alpha': 0.23247208437903283, 'n_estimator': 626, 'num_leaves': 10}. Best is trial#185 with value: 0.8933125531311986.\n",
      "[I 2020-07-16 21:37:59,778] Finished trial#249 with value: 0.8909039387928591 with parameters: {'subsample': 0.2867249994007321, 'colsample_bytree': 0.28376601434888565, 'lr': 0.09577077676915804, 'lambd': 7.32206436929802, 'alpha': 0.16448869914429776, 'n_estimator': 983, 'num_leaves': 10}. Best is trial#185 with value: 0.8933125531311986.\n",
      "[I 2020-07-16 21:38:01,832] Finished trial#250 with value: 0.8917540379710966 with parameters: {'subsample': 0.25744162550873056, 'colsample_bytree': 0.25882824185547604, 'lr': 0.09828045896813073, 'lambd': 7.093938135674309, 'alpha': 0.5478869088110293, 'n_estimator': 955, 'num_leaves': 10}. Best is trial#185 with value: 0.8933125531311986.\n",
      "[I 2020-07-16 21:38:03,955] Finished trial#251 with value: 0.8918957211674695 with parameters: {'subsample': 0.2833672916752282, 'colsample_bytree': 0.23412484460477628, 'lr': 0.09273299699103667, 'lambd': 6.932426214733981, 'alpha': 0.35150055930896207, 'n_estimator': 968, 'num_leaves': 10}. Best is trial#185 with value: 0.8933125531311986.\n",
      "[I 2020-07-16 21:38:05,903] Finished trial#252 with value: 0.8916123547747237 with parameters: {'subsample': 0.24451767631568522, 'colsample_bytree': 0.22036384903828354, 'lr': 0.09508355925934309, 'lambd': 7.35021778389415, 'alpha': 0.5775137024761299, 'n_estimator': 945, 'num_leaves': 10}. Best is trial#185 with value: 0.8933125531311986.\n",
      "[I 2020-07-16 21:38:07,309] Finished trial#253 with value: 0.8892037404363843 with parameters: {'subsample': 0.23484651814153795, 'colsample_bytree': 0.1995157710634602, 'lr': 0.09751717712248935, 'lambd': 6.952405587076921, 'alpha': 4.574645974247782, 'n_estimator': 1000, 'num_leaves': 10}. Best is trial#185 with value: 0.8933125531311986.\n",
      "[I 2020-07-16 21:38:09,247] Finished trial#254 with value: 0.8907622555964863 with parameters: {'subsample': 0.31375353896938085, 'colsample_bytree': 0.23030732643310092, 'lr': 0.09431452470636774, 'lambd': 7.157776113257718, 'alpha': 0.8451390836789119, 'n_estimator': 976, 'num_leaves': 10}. Best is trial#185 with value: 0.8933125531311986.\n",
      "[I 2020-07-16 21:38:10,682] Finished trial#255 with value: 0.891187305185605 with parameters: {'subsample': 0.26457939390691, 'colsample_bytree': 0.26863868438913163, 'lr': 0.0926836190136163, 'lambd': 6.311546965818339, 'alpha': 3.1068440880349515, 'n_estimator': 935, 'num_leaves': 10}. Best is trial#185 with value: 0.8933125531311986.\n",
      "[I 2020-07-16 21:38:11,793] Finished trial#256 with value: 0.8930291867384528 with parameters: {'subsample': 0.2454625927414353, 'colsample_bytree': 0.252033405039423, 'lr': 0.0868861044492362, 'lambd': 6.70577357014665, 'alpha': 0.38306823030933057, 'n_estimator': 441, 'num_leaves': 10}. Best is trial#185 with value: 0.8933125531311986.\n",
      "[I 2020-07-16 21:38:12,908] Finished trial#257 with value: 0.892745820345707 with parameters: {'subsample': 0.23770795592774338, 'colsample_bytree': 0.24729356975737468, 'lr': 0.08668941696223982, 'lambd': 6.661364319810957, 'alpha': 0.15072660764909845, 'n_estimator': 451, 'num_leaves': 10}. Best is trial#185 with value: 0.8933125531311986.\n",
      "[I 2020-07-16 21:38:14,053] Finished trial#258 with value: 0.8916123547747237 with parameters: {'subsample': 0.25059684487595896, 'colsample_bytree': 0.29385492540369573, 'lr': 0.08639609545027552, 'lambd': 6.68631202552355, 'alpha': 0.18562136133629525, 'n_estimator': 465, 'num_leaves': 10}. Best is trial#185 with value: 0.8933125531311986.\n",
      "[I 2020-07-16 21:38:15,084] Finished trial#259 with value: 0.891187305185605 with parameters: {'subsample': 0.23536608507816, 'colsample_bytree': 0.25587858964487736, 'lr': 0.08739176482213429, 'lambd': 6.821813136293444, 'alpha': 0.0005676328904039296, 'n_estimator': 413, 'num_leaves': 10}. Best is trial#185 with value: 0.8933125531311986.\n",
      "[I 2020-07-16 21:38:17,284] Finished trial#260 with value: 0.8918957211674695 with parameters: {'subsample': 0.22708125399253426, 'colsample_bytree': 0.2479072599253878, 'lr': 0.08229489813321236, 'lambd': 6.496161498872235, 'alpha': 0.405924730738375, 'n_estimator': 999, 'num_leaves': 10}. Best is trial#185 with value: 0.8933125531311986.\n",
      "[I 2020-07-16 21:38:18,322] Finished trial#261 with value: 0.8910456219892321 with parameters: {'subsample': 0.26819354348868324, 'colsample_bytree': 0.2083550801435552, 'lr': 0.09981667866760757, 'lambd': 6.603805733684938, 'alpha': 0.6678393319412357, 'n_estimator': 425, 'num_leaves': 10}. Best is trial#185 with value: 0.8933125531311986.\n",
      "[I 2020-07-16 21:38:19,483] Finished trial#262 with value: 0.8910456219892321 with parameters: {'subsample': 0.25179012979303156, 'colsample_bytree': 0.27908512618686154, 'lr': 0.09024711400680609, 'lambd': 6.7603992894021765, 'alpha': 0.01049545351708366, 'n_estimator': 479, 'num_leaves': 10}. Best is trial#185 with value: 0.8933125531311986.\n",
      "[I 2020-07-16 21:38:20,583] Finished trial#263 with value: 0.8920374043638425 with parameters: {'subsample': 0.20614397086083402, 'colsample_bytree': 0.24927253972387367, 'lr': 0.08844712582500983, 'lambd': 7.588887408952009, 'alpha': 0.38282229452231176, 'n_estimator': 440, 'num_leaves': 10}. Best is trial#185 with value: 0.8933125531311986.\n",
      "[I 2020-07-16 21:38:21,574] Finished trial#264 with value: 0.8909039387928591 with parameters: {'subsample': 0.2732386777112794, 'colsample_bytree': 0.22959732666391927, 'lr': 0.09694910685368435, 'lambd': 7.25165719504779, 'alpha': 0.20785075911571227, 'n_estimator': 390, 'num_leaves': 10}. Best is trial#185 with value: 0.8933125531311986.\n",
      "[I 2020-07-16 21:38:22,649] Finished trial#265 with value: 0.891187305185605 with parameters: {'subsample': 0.2931212122093633, 'colsample_bytree': 0.18764032673791736, 'lr': 0.09159088825949914, 'lambd': 7.019523371402565, 'alpha': 0.3414943112744477, 'n_estimator': 443, 'num_leaves': 10}. Best is trial#185 with value: 0.8933125531311986.\n",
      "[I 2020-07-16 21:38:23,731] Finished trial#266 with value: 0.8921790875602154 with parameters: {'subsample': 0.2354567347770353, 'colsample_bytree': 0.2267328340952125, 'lr': 0.08674197704504376, 'lambd': 6.850509822402545, 'alpha': 0.005962986223110589, 'n_estimator': 437, 'num_leaves': 10}. Best is trial#185 with value: 0.8933125531311986.\n",
      "[I 2020-07-16 21:38:24,952] Finished trial#267 with value: 0.8918957211674695 with parameters: {'subsample': 0.2134606667876313, 'colsample_bytree': 0.20090386749137787, 'lr': 0.09601986189422813, 'lambd': 6.598311280984973, 'alpha': 0.5165116797298511, 'n_estimator': 513, 'num_leaves': 10}. Best is trial#185 with value: 0.8933125531311986.\n",
      "[I 2020-07-16 21:38:26,836] Finished trial#268 with value: 0.8901955228109946 with parameters: {'subsample': 0.2800019026904808, 'colsample_bytree': 0.24080250973033807, 'lr': 0.09449306271276459, 'lambd': 7.093280481041773, 'alpha': 0.8648292361300283, 'n_estimator': 983, 'num_leaves': 10}. Best is trial#185 with value: 0.8933125531311986.\n",
      "[I 2020-07-16 21:38:28,032] Finished trial#269 with value: 0.8906205724001134 with parameters: {'subsample': 0.23933956273589174, 'colsample_bytree': 0.16608632427058367, 'lr': 0.09991725127107423, 'lambd': 7.89917633266055, 'alpha': 0.6363359775364203, 'n_estimator': 533, 'num_leaves': 10}. Best is trial#185 with value: 0.8933125531311986.\n",
      "[I 2020-07-16 21:38:28,941] Finished trial#270 with value: 0.8910456219892321 with parameters: {'subsample': 0.2536361321100543, 'colsample_bytree': 0.2653074696012157, 'lr': 0.0920314584879977, 'lambd': 6.324081693720579, 'alpha': 0.15982867790349325, 'n_estimator': 350, 'num_leaves': 10}. Best is trial#185 with value: 0.8933125531311986.\n",
      "[I 2020-07-16 21:38:29,929] Finished trial#271 with value: 0.8887786908472655 with parameters: {'subsample': 0.3090333550540919, 'colsample_bytree': 0.1577342519414538, 'lr': 0.09780989238782929, 'lambd': 7.477462634446099, 'alpha': 6.691579293144646, 'n_estimator': 500, 'num_leaves': 10}. Best is trial#185 with value: 0.8933125531311986.\n",
      "[I 2020-07-16 21:38:31,053] Finished trial#272 with value: 0.8913289883819779 with parameters: {'subsample': 0.3316725925799666, 'colsample_bytree': 0.210657068219594, 'lr': 0.09535479062986355, 'lambd': 6.916736129863278, 'alpha': 0.4803951876748833, 'n_estimator': 459, 'num_leaves': 10}. Best is trial#185 with value: 0.8933125531311986.\n",
      "[I 2020-07-16 21:38:33,189] Finished trial#273 with value: 0.8918957211674695 with parameters: {'subsample': 0.19199087005382368, 'colsample_bytree': 0.29378931143853904, 'lr': 0.08884156161130416, 'lambd': 7.2416544071244235, 'alpha': 0.18886723442421396, 'n_estimator': 959, 'num_leaves': 10}. Best is trial#185 with value: 0.8933125531311986.\n",
      "[I 2020-07-16 21:38:35,336] Finished trial#274 with value: 0.8918957211674695 with parameters: {'subsample': 0.22173658929685852, 'colsample_bytree': 0.22178956107226938, 'lr': 0.09319683294093437, 'lambd': 6.633208444972133, 'alpha': 0.008379317988732649, 'n_estimator': 984, 'num_leaves': 10}. Best is trial#185 with value: 0.8933125531311986.\n",
      "[I 2020-07-16 21:38:37,485] Finished trial#275 with value: 0.891187305185605 with parameters: {'subsample': 0.24665194059970547, 'colsample_bytree': 0.2668295111908311, 'lr': 0.08526264338410969, 'lambd': 5.254005397008861, 'alpha': 0.3025484641691857, 'n_estimator': 965, 'num_leaves': 10}. Best is trial#185 with value: 0.8933125531311986.\n",
      "[I 2020-07-16 21:38:38,490] Finished trial#276 with value: 0.8910456219892321 with parameters: {'subsample': 0.2673148738252688, 'colsample_bytree': 0.19666963603950127, 'lr': 0.08976095336294315, 'lambd': 6.84789762321885, 'alpha': 0.0036845361810158295, 'n_estimator': 389, 'num_leaves': 10}. Best is trial#185 with value: 0.8933125531311986.\n",
      "[I 2020-07-16 21:38:39,629] Finished trial#277 with value: 0.8920374043638425 with parameters: {'subsample': 0.2075927775790142, 'colsample_bytree': 0.24943097071606415, 'lr': 0.08370635171298241, 'lambd': 5.6324233877768695, 'alpha': 0.1618269964016333, 'n_estimator': 463, 'num_leaves': 10}. Best is trial#185 with value: 0.8933125531311986.\n",
      "[I 2020-07-16 21:38:41,630] Finished trial#278 with value: 0.8910456219892321 with parameters: {'subsample': 0.22640771984414654, 'colsample_bytree': 0.24127847964518043, 'lr': 0.08117245333306178, 'lambd': 6.4438951157910465, 'alpha': 0.7228365242051841, 'n_estimator': 944, 'num_leaves': 10}. Best is trial#185 with value: 0.8933125531311986.\n",
      "[I 2020-07-16 21:38:42,928] Finished trial#279 with value: 0.8909039387928591 with parameters: {'subsample': 0.23704309088193679, 'colsample_bytree': 0.18188556258964897, 'lr': 0.09897348741188398, 'lambd': 8.38117831491195, 'alpha': 0.41213219804726164, 'n_estimator': 555, 'num_leaves': 10}. Best is trial#185 with value: 0.8933125531311986.\n",
      "[I 2020-07-16 21:38:45,072] Finished trial#280 with value: 0.8921790875602154 with parameters: {'subsample': 0.28426792962879716, 'colsample_bytree': 0.21908212062621119, 'lr': 0.09635403721107928, 'lambd': 6.969044512900535, 'alpha': 0.3720290207348909, 'n_estimator': 986, 'num_leaves': 10}. Best is trial#185 with value: 0.8933125531311986.\n",
      "[I 2020-07-16 21:38:47,188] Finished trial#281 with value: 0.8903372060073675 with parameters: {'subsample': 0.19629246216546503, 'colsample_bytree': 0.21111077550230747, 'lr': 0.07858430732376043, 'lambd': 6.695807923955071, 'alpha': 0.5643914069729117, 'n_estimator': 1000, 'num_leaves': 10}. Best is trial#185 with value: 0.8933125531311986.\n",
      "[I 2020-07-16 21:38:49,098] Finished trial#282 with value: 0.8930291867384528 with parameters: {'subsample': 0.26349889558742384, 'colsample_bytree': 0.22921959569407557, 'lr': 0.09323461605003874, 'lambd': 7.120347098699269, 'alpha': 0.8649599156667723, 'n_estimator': 929, 'num_leaves': 10}. Best is trial#185 with value: 0.8933125531311986.\n",
      "[I 2020-07-16 21:38:50,978] Finished trial#283 with value: 0.891187305185605 with parameters: {'subsample': 0.2967250450083362, 'colsample_bytree': 0.23409025705888517, 'lr': 0.09314180300430117, 'lambd': 7.1586534279123795, 'alpha': 0.8802757536242171, 'n_estimator': 916, 'num_leaves': 10}. Best is trial#185 with value: 0.8933125531311986.\n",
      "[I 2020-07-16 21:38:52,848] Finished trial#284 with value: 0.8916123547747237 with parameters: {'subsample': 0.2617830432617184, 'colsample_bytree': 0.1807258023056459, 'lr': 0.09727733033255258, 'lambd': 7.327960238482916, 'alpha': 0.6947407200846616, 'n_estimator': 941, 'num_leaves': 10}. Best is trial#185 with value: 0.8933125531311986.\n",
      "[I 2020-07-16 21:38:54,895] Finished trial#285 with value: 0.8920374043638425 with parameters: {'subsample': 0.25663883010106825, 'colsample_bytree': 0.27216851520430996, 'lr': 0.0909230629501568, 'lambd': 6.176103260930523, 'alpha': 0.3599522245942531, 'n_estimator': 921, 'num_leaves': 10}. Best is trial#185 with value: 0.8933125531311986.\n",
      "[I 2020-07-16 21:38:56,300] Finished trial#286 with value: 0.8903372060073675 with parameters: {'subsample': 0.21970333768269454, 'colsample_bytree': 0.3179890177504932, 'lr': 0.09556478797689627, 'lambd': 7.655852181280131, 'alpha': 3.853653051383562, 'n_estimator': 951, 'num_leaves': 10}. Best is trial#185 with value: 0.8933125531311986.\n",
      "[I 2020-07-16 21:38:57,461] Finished trial#287 with value: 0.8913289883819779 with parameters: {'subsample': 0.2820272354826575, 'colsample_bytree': 0.20286143216093594, 'lr': 0.0934642746104962, 'lambd': 7.086956787813456, 'alpha': 0.5638240460857253, 'n_estimator': 479, 'num_leaves': 10}. Best is trial#185 with value: 0.8933125531311986.\n",
      "[I 2020-07-16 21:38:58,670] Finished trial#288 with value: 0.8855199773306885 with parameters: {'subsample': 0.20614045941239922, 'colsample_bytree': 0.2480580022728398, 'lr': 0.08748667575035153, 'lambd': 7.493857489415545, 'alpha': 0.1557087546814665, 'n_estimator': 977, 'num_leaves': 2}. Best is trial#185 with value: 0.8933125531311986.\n",
      "[I 2020-07-16 21:39:00,361] Finished trial#289 with value: 0.891187305185605 with parameters: {'subsample': 0.2436857746070128, 'colsample_bytree': 0.18184101842945805, 'lr': 0.09847992991922036, 'lambd': 6.748184061549426, 'alpha': 0.9342855212110054, 'n_estimator': 930, 'num_leaves': 10}. Best is trial#185 with value: 0.8933125531311986.\n",
      "[I 2020-07-16 21:39:01,340] Finished trial#290 with value: 0.8910456219892321 with parameters: {'subsample': 0.18468592182839044, 'colsample_bytree': 0.25396523914185376, 'lr': 0.08927547938052385, 'lambd': 6.539661335750627, 'alpha': 0.5267834777997449, 'n_estimator': 418, 'num_leaves': 7}. Best is trial#185 with value: 0.8933125531311986.\n",
      "[I 2020-07-16 21:39:03,496] Finished trial#291 with value: 0.8918957211674695 with parameters: {'subsample': 0.26153007405975975, 'colsample_bytree': 0.28921874141411236, 'lr': 0.09018347516092899, 'lambd': 6.157589777694305, 'alpha': 0.3247451974628821, 'n_estimator': 961, 'num_leaves': 10}. Best is trial#185 with value: 0.8933125531311986.\n",
      "[I 2020-07-16 21:39:05,693] Finished trial#292 with value: 0.8914706715783508 with parameters: {'subsample': 0.2280359735782209, 'colsample_bytree': 0.22090313697014094, 'lr': 0.09147314296941428, 'lambd': 5.895509629461265, 'alpha': 0.01497998566153047, 'n_estimator': 1000, 'num_leaves': 10}. Best is trial#185 with value: 0.8933125531311986.\n",
      "[I 2020-07-16 21:39:07,673] Finished trial#293 with value: 0.8906205724001134 with parameters: {'subsample': 0.23775442398166166, 'colsample_bytree': 0.22042324303235816, 'lr': 0.0866024224191515, 'lambd': 6.4677362775760034, 'alpha': 0.7421586660591168, 'n_estimator': 966, 'num_leaves': 10}. Best is trial#185 with value: 0.8933125531311986.\n",
      "[I 2020-07-16 21:39:09,783] Finished trial#294 with value: 0.8920374043638425 with parameters: {'subsample': 0.24905506370840216, 'colsample_bytree': 0.2706818356543078, 'lr': 0.0945592671002717, 'lambd': 6.407083816621948, 'alpha': 0.1497047473206149, 'n_estimator': 944, 'num_leaves': 10}. Best is trial#185 with value: 0.8933125531311986.\n",
      "[I 2020-07-16 21:39:12,005] Finished trial#295 with value: 0.8917540379710966 with parameters: {'subsample': 0.21203309635120757, 'colsample_bytree': 0.24133703411603533, 'lr': 0.09630365306719046, 'lambd': 8.070224788637645, 'alpha': 0.48180581048892085, 'n_estimator': 999, 'num_leaves': 10}. Best is trial#185 with value: 0.8933125531311986.\n",
      "[I 2020-07-16 21:39:14,102] Finished trial#296 with value: 0.8916123547747237 with parameters: {'subsample': 0.2835698030606933, 'colsample_bytree': 0.14321144555351967, 'lr': 0.09257861682897561, 'lambd': 7.031451847280281, 'alpha': 0.27295705973906975, 'n_estimator': 980, 'num_leaves': 9}. Best is trial#185 with value: 0.8933125531311986.\n",
      "[I 2020-07-16 21:39:16,261] Finished trial#297 with value: 0.8924624539529612 with parameters: {'subsample': 0.2668706429304462, 'colsample_bytree': 0.26128538968081344, 'lr': 0.09129112078223467, 'lambd': 6.84989831958608, 'alpha': 0.3659996757701515, 'n_estimator': 901, 'num_leaves': 10}. Best is trial#185 with value: 0.8933125531311986.\n",
      "[I 2020-07-16 21:39:18,357] Finished trial#298 with value: 0.8913289883819779 with parameters: {'subsample': 0.26771598228314764, 'colsample_bytree': 0.23002916317939537, 'lr': 0.09446455021244622, 'lambd': 7.374867148770891, 'alpha': 0.5619909919764744, 'n_estimator': 962, 'num_leaves': 10}. Best is trial#185 with value: 0.8933125531311986.\n",
      "[I 2020-07-16 21:39:20,208] Finished trial#299 with value: 0.8923207707565882 with parameters: {'subsample': 0.22238295201826597, 'colsample_bytree': 0.18903451110738637, 'lr': 0.0987134723708213, 'lambd': 8.580197646642743, 'alpha': 0.7895396887801178, 'n_estimator': 923, 'num_leaves': 10}. Best is trial#185 with value: 0.8933125531311986.\n",
      "[I 2020-07-16 21:39:22,347] Finished trial#300 with value: 0.8900538396146217 with parameters: {'subsample': 0.24943500477737227, 'colsample_bytree': 0.306187839742175, 'lr': 0.0921074698469965, 'lambd': 7.213552524371327, 'alpha': 0.012952599698467904, 'n_estimator': 977, 'num_leaves': 10}. Best is trial#185 with value: 0.8933125531311986.\n",
      "[I 2020-07-16 21:39:24,192] Finished trial#301 with value: 0.8920374043638425 with parameters: {'subsample': 0.30109789996302283, 'colsample_bytree': 0.2804559896982689, 'lr': 0.09507280568011847, 'lambd': 6.949831385442119, 'alpha': 0.2001984198734476, 'n_estimator': 949, 'num_leaves': 6}. Best is trial#185 with value: 0.8933125531311986.\n",
      "[I 2020-07-16 21:39:26,410] Finished trial#302 with value: 0.8917540379710966 with parameters: {'subsample': 0.23426696924616058, 'colsample_bytree': 0.2086202219469918, 'lr': 0.08737747489208325, 'lambd': 6.333337599071207, 'alpha': 0.04232059531265586, 'n_estimator': 999, 'num_leaves': 10}. Best is trial#185 with value: 0.8933125531311986.\n",
      "[I 2020-07-16 21:39:28,414] Finished trial#303 with value: 0.8921790875602154 with parameters: {'subsample': 0.3207905523441208, 'colsample_bytree': 0.16251712503961774, 'lr': 0.09743289924374725, 'lambd': 6.693506731582433, 'alpha': 0.3901324129002668, 'n_estimator': 982, 'num_leaves': 10}. Best is trial#185 with value: 0.8933125531311986.\n",
      "[I 2020-07-16 21:39:30,649] Finished trial#304 with value: 0.8920374043638425 with parameters: {'subsample': 0.17363700709478624, 'colsample_bytree': 0.248712579863813, 'lr': 0.08373369909444649, 'lambd': 6.583003088623303, 'alpha': 0.023326632750846676, 'n_estimator': 999, 'num_leaves': 10}. Best is trial#185 with value: 0.8933125531311986.\n",
      "[I 2020-07-16 21:39:32,054] Finished trial#305 with value: 0.8897704732218759 with parameters: {'subsample': 0.19978412727487654, 'colsample_bytree': 0.23080618547382192, 'lr': 0.08579503631556301, 'lambd': 6.00187648149109, 'alpha': 5.505857062553056, 'n_estimator': 999, 'num_leaves': 9}. Best is trial#185 with value: 0.8933125531311986.\n",
      "[I 2020-07-16 21:39:33,940] Finished trial#306 with value: 0.8910456219892321 with parameters: {'subsample': 0.2733407608437962, 'colsample_bytree': 0.26278227148079464, 'lr': 0.09987503645214627, 'lambd': 6.833833028985453, 'alpha': 0.6445989634362704, 'n_estimator': 900, 'num_leaves': 10}. Best is trial#185 with value: 0.8933125531311986.\n",
      "[I 2020-07-16 21:39:34,940] Finished trial#307 with value: 0.8907622555964863 with parameters: {'subsample': 0.2197445951834696, 'colsample_bytree': 0.20384213090884995, 'lr': 0.09652718481660001, 'lambd': 8.945458242016926, 'alpha': 0.5383864707245093, 'n_estimator': 399, 'num_leaves': 10}. Best is trial#185 with value: 0.8933125531311986.\n",
      "[I 2020-07-16 21:39:37,111] Finished trial#308 with value: 0.892745820345707 with parameters: {'subsample': 0.19739163089353418, 'colsample_bytree': 0.23489638570599877, 'lr': 0.08934660973547608, 'lambd': 7.079765600825296, 'alpha': 0.24394483907771047, 'n_estimator': 979, 'num_leaves': 10}. Best is trial#185 with value: 0.8933125531311986.\n",
      "[I 2020-07-16 21:39:39,131] Finished trial#309 with value: 0.8930291867384528 with parameters: {'subsample': 0.20720857685766672, 'colsample_bytree': 0.25864103917404396, 'lr': 0.08921186718995164, 'lambd': 6.940591586914956, 'alpha': 0.3143190640602851, 'n_estimator': 913, 'num_leaves': 10}. Best is trial#185 with value: 0.8933125531311986.\n",
      "[I 2020-07-16 21:39:40,420] Finished trial#310 with value: 0.8899121564182488 with parameters: {'subsample': 0.1968011951131674, 'colsample_bytree': 0.2421262455629382, 'lr': 0.08846343968817633, 'lambd': 7.011246692933546, 'alpha': 8.236107699244208, 'n_estimator': 930, 'num_leaves': 10}. Best is trial#185 with value: 0.8933125531311986.\n",
      "[I 2020-07-16 21:39:42,314] Finished trial#311 with value: 0.8917540379710966 with parameters: {'subsample': 0.20904098186869083, 'colsample_bytree': 0.2833875961535113, 'lr': 0.08992084096471298, 'lambd': 7.320107850457106, 'alpha': 1.005245996214204, 'n_estimator': 942, 'num_leaves': 10}. Best is trial#185 with value: 0.8933125531311986.\n",
      "[I 2020-07-16 21:39:44,321] Finished trial#312 with value: 0.8930291867384528 with parameters: {'subsample': 0.168168946553019, 'colsample_bytree': 0.21850025259871506, 'lr': 0.0888193072139317, 'lambd': 6.805771955651839, 'alpha': 0.3021728168449086, 'n_estimator': 913, 'num_leaves': 10}. Best is trial#185 with value: 0.8933125531311986.\n",
      "[I 2020-07-16 21:39:46,367] Finished trial#313 with value: 0.8924624539529612 with parameters: {'subsample': 0.16937209523208147, 'colsample_bytree': 0.258358608385776, 'lr': 0.08695388050973105, 'lambd': 7.792112638394514, 'alpha': 0.34107838384638367, 'n_estimator': 910, 'num_leaves': 10}. Best is trial#185 with value: 0.8933125531311986.\n",
      "[I 2020-07-16 21:39:48,371] Finished trial#314 with value: 0.8926041371493341 with parameters: {'subsample': 0.18734009668386536, 'colsample_bytree': 0.20289055212513446, 'lr': 0.08868800821656932, 'lambd': 6.793825298115429, 'alpha': 0.16591024161062315, 'n_estimator': 915, 'num_leaves': 10}. Best is trial#185 with value: 0.8933125531311986.\n",
      "[I 2020-07-16 21:39:49,319] Finished trial#315 with value: 0.8903372060073675 with parameters: {'subsample': 0.23554815416158764, 'colsample_bytree': 0.23089531660906887, 'lr': 0.09134443122339203, 'lambd': 7.115294678418423, 'alpha': 0.6121879419741386, 'n_estimator': 365, 'num_leaves': 10}. Best is trial#185 with value: 0.8933125531311986.\n",
      "[I 2020-07-16 21:39:51,293] Finished trial#316 with value: 0.8933125531311986 with parameters: {'subsample': 0.19840846175421392, 'colsample_bytree': 0.24714510388641267, 'lr': 0.08941991330123823, 'lambd': 6.8134509273100425, 'alpha': 0.0007354207175847838, 'n_estimator': 906, 'num_leaves': 10}. Best is trial#185 with value: 0.8933125531311986.\n",
      "[I 2020-07-16 21:39:53,263] Finished trial#317 with value: 0.8934542363275716 with parameters: {'subsample': 0.15814720244904112, 'colsample_bytree': 0.21005013764551075, 'lr': 0.08918753100726669, 'lambd': 6.697235386095751, 'alpha': 0.00561657949225873, 'n_estimator': 888, 'num_leaves': 10}. Best is trial#317 with value: 0.8934542363275716.\n",
      "[I 2020-07-16 21:39:55,278] Finished trial#318 with value: 0.8933125531311986 with parameters: {'subsample': 0.1570039015594129, 'colsample_bytree': 0.21562060831942267, 'lr': 0.0885836160516073, 'lambd': 6.625103428980821, 'alpha': 0.10376371250218458, 'n_estimator': 916, 'num_leaves': 10}. Best is trial#317 with value: 0.8934542363275716.\n",
      "[I 2020-07-16 21:39:57,204] Finished trial#319 with value: 0.8923207707565882 with parameters: {'subsample': 0.16222492578520634, 'colsample_bytree': 0.2827968500498038, 'lr': 0.087736717800032, 'lambd': 5.683039350465713, 'alpha': 0.001727133618943087, 'n_estimator': 884, 'num_leaves': 10}. Best is trial#317 with value: 0.8934542363275716.\n",
      "[I 2020-07-16 21:39:59,155] Finished trial#320 with value: 0.8913289883819779 with parameters: {'subsample': 0.16018584344006256, 'colsample_bytree': 0.2550942600469711, 'lr': 0.08893632340943383, 'lambd': 6.744695837680232, 'alpha': 0.028235915911110188, 'n_estimator': 903, 'num_leaves': 10}. Best is trial#317 with value: 0.8934542363275716.\n",
      "[I 2020-07-16 21:40:01,117] Finished trial#321 with value: 0.892745820345707 with parameters: {'subsample': 0.14328361473249995, 'colsample_bytree': 0.2419471058046789, 'lr': 0.08556096625044682, 'lambd': 6.938664798210384, 'alpha': 0.43798355683840184, 'n_estimator': 896, 'num_leaves': 10}. Best is trial#317 with value: 0.8934542363275716.\n",
      "[I 2020-07-16 21:40:03,017] Finished trial#322 with value: 0.8903372060073675 with parameters: {'subsample': 0.15011705880918041, 'colsample_bytree': 0.332863611757469, 'lr': 0.08556361419150924, 'lambd': 6.947391041806604, 'alpha': 0.8376304312899223, 'n_estimator': 881, 'num_leaves': 10}. Best is trial#317 with value: 0.8934542363275716.\n",
      "[I 2020-07-16 21:40:04,572] Finished trial#323 with value: 0.8897704732218759 with parameters: {'subsample': 0.13384170338605111, 'colsample_bytree': 0.30655790703424785, 'lr': 0.0880229402023441, 'lambd': 6.7982022392427135, 'alpha': 0.4975160076554945, 'n_estimator': 901, 'num_leaves': 4}. Best is trial#317 with value: 0.8934542363275716.\n",
      "[I 2020-07-16 21:40:06,516] Finished trial#324 with value: 0.892745820345707 with parameters: {'subsample': 0.17448566254154357, 'colsample_bytree': 0.26528762962033675, 'lr': 0.08635859517759073, 'lambd': 7.193558445242391, 'alpha': 0.009530595660275025, 'n_estimator': 891, 'num_leaves': 10}. Best is trial#317 with value: 0.8934542363275716.\n",
      "[I 2020-07-16 21:40:08,376] Finished trial#325 with value: 0.8926041371493341 with parameters: {'subsample': 0.1730687071842852, 'colsample_bytree': 0.2699896406710023, 'lr': 0.082549025638614, 'lambd': 6.62529713525548, 'alpha': 0.02360559793652192, 'n_estimator': 884, 'num_leaves': 9}. Best is trial#317 with value: 0.8934542363275716.\n",
      "[I 2020-07-16 21:40:10,320] Finished trial#326 with value: 0.8920374043638425 with parameters: {'subsample': 0.14254517422306462, 'colsample_bytree': 0.29314449118980374, 'lr': 0.0858771387890382, 'lambd': 7.161546523102391, 'alpha': 0.001527826410938458, 'n_estimator': 879, 'num_leaves': 10}. Best is trial#317 with value: 0.8934542363275716.\n",
      "[I 2020-07-16 21:40:12,236] Finished trial#327 with value: 0.8913289883819779 with parameters: {'subsample': 0.17141582638609162, 'colsample_bytree': 0.2544254357446279, 'lr': 0.08571058620858638, 'lambd': 6.9736558203980605, 'alpha': 0.6939625271575254, 'n_estimator': 909, 'num_leaves': 10}. Best is trial#317 with value: 0.8934542363275716.\n",
      "[I 2020-07-16 21:40:14,242] Finished trial#328 with value: 0.8907622555964863 with parameters: {'subsample': 0.15203647519373684, 'colsample_bytree': 0.2779143669217506, 'lr': 0.08368564169987842, 'lambd': 6.66615416822797, 'alpha': 0.43950118712138797, 'n_estimator': 894, 'num_leaves': 10}. Best is trial#317 with value: 0.8934542363275716.\n",
      "[I 2020-07-16 21:40:16,148] Finished trial#329 with value: 0.892745820345707 with parameters: {'subsample': 0.18004228817764734, 'colsample_bytree': 0.2481050257643191, 'lr': 0.0896564495157691, 'lambd': 6.865262745872852, 'alpha': 0.010133170259871593, 'n_estimator': 863, 'num_leaves': 10}. Best is trial#317 with value: 0.8934542363275716.\n",
      "[I 2020-07-16 21:40:17,992] Finished trial#330 with value: 0.892745820345707 with parameters: {'subsample': 0.1717329934376916, 'colsample_bytree': 0.24919014210253773, 'lr': 0.08763221588920243, 'lambd': 6.516197095179369, 'alpha': 0.011992933232541692, 'n_estimator': 870, 'num_leaves': 9}. Best is trial#317 with value: 0.8934542363275716.\n",
      "[I 2020-07-16 21:40:19,812] Finished trial#331 with value: 0.892745820345707 with parameters: {'subsample': 0.12412241892193565, 'colsample_bytree': 0.2660771070097875, 'lr': 0.08133138676309984, 'lambd': 6.543426943979661, 'alpha': 0.0004028655658097069, 'n_estimator': 860, 'num_leaves': 9}. Best is trial#317 with value: 0.8934542363275716.\n",
      "[I 2020-07-16 21:40:21,688] Finished trial#332 with value: 0.8928875035420799 with parameters: {'subsample': 0.16008698660082993, 'colsample_bytree': 0.3016395894790878, 'lr': 0.08624669476495143, 'lambd': 6.50566791400253, 'alpha': 0.19584028376366028, 'n_estimator': 868, 'num_leaves': 9}. Best is trial#317 with value: 0.8934542363275716.\n",
      "[I 2020-07-16 21:40:23,444] Finished trial#333 with value: 0.8913289883819779 with parameters: {'subsample': 0.11667022190528539, 'colsample_bytree': 0.28821221061454955, 'lr': 0.08979053699943595, 'lambd': 6.49943493595939, 'alpha': 0.028813619251099626, 'n_estimator': 863, 'num_leaves': 8}. Best is trial#317 with value: 0.8934542363275716.\n",
      "[I 2020-07-16 21:40:25,368] Finished trial#334 with value: 0.8916123547747237 with parameters: {'subsample': 0.19038497615400005, 'colsample_bytree': 0.3170871200117737, 'lr': 0.08176140665583188, 'lambd': 6.333183370831616, 'alpha': 0.1912730249892823, 'n_estimator': 914, 'num_leaves': 8}. Best is trial#317 with value: 0.8934542363275716.\n",
      "[I 2020-07-16 21:40:27,413] Finished trial#335 with value: 0.8918957211674695 with parameters: {'subsample': 0.19322191983567444, 'colsample_bytree': 0.21772020053603897, 'lr': 0.0870226815077211, 'lambd': 6.693031315089471, 'alpha': 0.26513005079704866, 'n_estimator': 924, 'num_leaves': 10}. Best is trial#317 with value: 0.8934542363275716.\n",
      "[I 2020-07-16 21:40:29,470] Finished trial#336 with value: 0.8916123547747237 with parameters: {'subsample': 0.18778147735134304, 'colsample_bytree': 0.2276516861591802, 'lr': 0.08891242159020747, 'lambd': 6.136001713757963, 'alpha': 0.2219861537352106, 'n_estimator': 923, 'num_leaves': 10}. Best is trial#317 with value: 0.8934542363275716.\n",
      "[I 2020-07-16 21:40:31,345] Finished trial#337 with value: 0.8916123547747237 with parameters: {'subsample': 0.12170661512754369, 'colsample_bytree': 0.2675566718269043, 'lr': 0.07987315928676991, 'lambd': 6.2708944358479135, 'alpha': 0.42491154153504584, 'n_estimator': 862, 'num_leaves': 9}. Best is trial#317 with value: 0.8934542363275716.\n",
      "[I 2020-07-16 21:40:33,389] Finished trial#338 with value: 0.8909039387928591 with parameters: {'subsample': 0.1695653102949828, 'colsample_bytree': 0.3475791787120345, 'lr': 0.08551142270231588, 'lambd': 6.844301193858699, 'alpha': 0.6042079806423724, 'n_estimator': 889, 'num_leaves': 10}. Best is trial#317 with value: 0.8934542363275716.\n",
      "[I 2020-07-16 21:40:35,362] Finished trial#339 with value: 0.892745820345707 with parameters: {'subsample': 0.1439063607604878, 'colsample_bytree': 0.25147643662515373, 'lr': 0.09109248178667255, 'lambd': 6.922866726166028, 'alpha': 0.02574570398203535, 'n_estimator': 899, 'num_leaves': 10}. Best is trial#317 with value: 0.8934542363275716.\n",
      "[I 2020-07-16 21:40:36,908] Finished trial#340 with value: 0.891187305185605 with parameters: {'subsample': 0.14872903626143552, 'colsample_bytree': 0.296247659685297, 'lr': 0.08415954138218114, 'lambd': 7.187986725187686, 'alpha': 2.4746204080641796, 'n_estimator': 879, 'num_leaves': 10}. Best is trial#317 with value: 0.8934542363275716.\n",
      "[I 2020-07-16 21:40:38,769] Finished trial#341 with value: 0.8914706715783508 with parameters: {'subsample': 0.16629617695922833, 'colsample_bytree': 0.17621011632905273, 'lr': 0.08954655624086781, 'lambd': 6.475727852798228, 'alpha': 0.00772892718290108, 'n_estimator': 848, 'num_leaves': 10}. Best is trial#317 with value: 0.8934542363275716.\n",
      "[I 2020-07-16 21:40:40,553] Finished trial#342 with value: 0.8913289883819779 with parameters: {'subsample': 0.14483223742680773, 'colsample_bytree': 0.21755378979513512, 'lr': 0.09173751776973547, 'lambd': 6.92569532682869, 'alpha': 0.9906651096850949, 'n_estimator': 905, 'num_leaves': 10}. Best is trial#317 with value: 0.8934542363275716.\n",
      "[I 2020-07-16 21:40:42,624] Finished trial#343 with value: 0.8933125531311986 with parameters: {'subsample': 0.20294218590400367, 'colsample_bytree': 0.24686215530627081, 'lr': 0.09064735091194943, 'lambd': 6.703251580125204, 'alpha': 0.28550711898130177, 'n_estimator': 927, 'num_leaves': 10}. Best is trial#317 with value: 0.8934542363275716.\n",
      "[I 2020-07-16 21:40:44,507] Finished trial#344 with value: 0.8918957211674695 with parameters: {'subsample': 0.133489312084749, 'colsample_bytree': 0.2690506483924991, 'lr': 0.08745547086033884, 'lambd': 6.564545879201419, 'alpha': 0.020041463981794766, 'n_estimator': 877, 'num_leaves': 9}. Best is trial#317 with value: 0.8934542363275716.\n",
      "[I 2020-07-16 21:40:46,552] Finished trial#345 with value: 0.8938792859166903 with parameters: {'subsample': 0.18629885058277373, 'colsample_bytree': 0.23568434745552325, 'lr': 0.09042049414606464, 'lambd': 6.693537423020425, 'alpha': 0.24060508712715062, 'n_estimator': 915, 'num_leaves': 10}. Best is trial#345 with value: 0.8938792859166903.\n",
      "[I 2020-07-16 21:40:48,587] Finished trial#346 with value: 0.8930291867384528 with parameters: {'subsample': 0.19841873544224636, 'colsample_bytree': 0.18791757301641104, 'lr': 0.08875655968532248, 'lambd': 6.721433055090317, 'alpha': 0.22136262517478217, 'n_estimator': 927, 'num_leaves': 10}. Best is trial#345 with value: 0.8938792859166903.\n",
      "[I 2020-07-16 21:40:50,420] Finished trial#347 with value: 0.8900538396146217 with parameters: {'subsample': 0.18432637759488107, 'colsample_bytree': 0.22204018797595018, 'lr': 0.08541482558720773, 'lambd': 6.717113959609476, 'alpha': 0.7853856006270439, 'n_estimator': 906, 'num_leaves': 10}. Best is trial#345 with value: 0.8938792859166903.\n",
      "[I 2020-07-16 21:40:52,312] Finished trial#348 with value: 0.891187305185605 with parameters: {'subsample': 0.20580877028014932, 'colsample_bytree': 0.1797436635239242, 'lr': 0.0914624200580857, 'lambd': 6.538666917975706, 'alpha': 0.458399588233898, 'n_estimator': 926, 'num_leaves': 9}. Best is trial#345 with value: 0.8938792859166903.\n",
      "[I 2020-07-16 21:40:53,947] Finished trial#349 with value: 0.8920374043638425 with parameters: {'subsample': 0.944993101922166, 'colsample_bytree': 0.2013646426752016, 'lr': 0.09286672966423923, 'lambd': 6.709817915307811, 'alpha': 0.22300283549398864, 'n_estimator': 929, 'num_leaves': 5}. Best is trial#345 with value: 0.8938792859166903.\n",
      "[I 2020-07-16 21:40:55,898] Finished trial#350 with value: 0.8909039387928591 with parameters: {'subsample': 0.20363101489724028, 'colsample_bytree': 0.23569780559336873, 'lr': 0.09065295974414433, 'lambd': 6.339904039244207, 'alpha': 0.6618961534404904, 'n_estimator': 917, 'num_leaves': 10}. Best is trial#345 with value: 0.8938792859166903.\n",
      "[I 2020-07-16 21:40:57,697] Finished trial#351 with value: 0.8913289883819779 with parameters: {'subsample': 0.16253333578855178, 'colsample_bytree': 0.2528286475404235, 'lr': 0.08915692409179403, 'lambd': 6.476472277241383, 'alpha': 0.18306614081979872, 'n_estimator': 834, 'num_leaves': 9}. Best is trial#345 with value: 0.8938792859166903.\n",
      "[I 2020-07-16 21:40:59,572] Finished trial#352 with value: 0.8926041371493341 with parameters: {'subsample': 0.15540630406489955, 'colsample_bytree': 0.278817280428222, 'lr': 0.08848674901074104, 'lambd': 7.0564802917983105, 'alpha': 0.4716790562515494, 'n_estimator': 897, 'num_leaves': 8}. Best is trial#345 with value: 0.8938792859166903.\n",
      "[I 2020-07-16 21:41:01,610] Finished trial#353 with value: 0.892745820345707 with parameters: {'subsample': 0.21298504209853208, 'colsample_bytree': 0.21392437231361902, 'lr': 0.09326466677704419, 'lambd': 6.2072751822340395, 'alpha': 0.39311272998977287, 'n_estimator': 935, 'num_leaves': 10}. Best is trial#345 with value: 0.8938792859166903.\n",
      "[I 2020-07-16 21:41:03,457] Finished trial#354 with value: 0.8921790875602154 with parameters: {'subsample': 0.19599571567337407, 'colsample_bytree': 0.1899517790256646, 'lr': 0.09044234428080974, 'lambd': 5.991338765275581, 'alpha': 0.7126315170381792, 'n_estimator': 932, 'num_leaves': 10}. Best is trial#345 with value: 0.8938792859166903.\n",
      "[I 2020-07-16 21:41:05,406] Finished trial#355 with value: 0.8914706715783508 with parameters: {'subsample': 0.18116482627783725, 'colsample_bytree': 0.1468678875197571, 'lr': 0.09352040361405409, 'lambd': 6.756453845717667, 'alpha': 0.2942092801831136, 'n_estimator': 919, 'num_leaves': 10}. Best is trial#345 with value: 0.8938792859166903.\n",
      "[I 2020-07-16 21:41:07,424] Finished trial#356 with value: 0.8924624539529612 with parameters: {'subsample': 0.1809886983940181, 'colsample_bytree': 0.24502556779824164, 'lr': 0.09137335692101634, 'lambd': 6.793633656909034, 'alpha': 0.15015761386820503, 'n_estimator': 908, 'num_leaves': 10}. Best is trial#345 with value: 0.8938792859166903.\n",
      "[I 2020-07-16 21:41:09,373] Finished trial#357 with value: 0.8909039387928591 with parameters: {'subsample': 0.2177574503121431, 'colsample_bytree': 0.19381712837176654, 'lr': 0.09243152244314333, 'lambd': 5.809496393783615, 'alpha': 0.5737456179138485, 'n_estimator': 941, 'num_leaves': 10}. Best is trial#345 with value: 0.8938792859166903.\n",
      "[I 2020-07-16 21:41:11,336] Finished trial#358 with value: 0.8923207707565882 with parameters: {'subsample': 0.19704937923421456, 'colsample_bytree': 0.18073627243410695, 'lr': 0.08717850117060594, 'lambd': 6.905234774535436, 'alpha': 0.4219619730922959, 'n_estimator': 928, 'num_leaves': 10}. Best is trial#345 with value: 0.8938792859166903.\n",
      "[I 2020-07-16 21:41:13,117] Finished trial#359 with value: 0.8921790875602154 with parameters: {'subsample': 0.11660031289540457, 'colsample_bytree': 0.21100769622616047, 'lr': 0.08367521152971068, 'lambd': 6.52158325814368, 'alpha': 0.1359394592864243, 'n_estimator': 870, 'num_leaves': 8}. Best is trial#345 with value: 0.8938792859166903.\n",
      "[I 2020-07-16 21:41:14,982] Finished trial#360 with value: 0.8909039387928591 with parameters: {'subsample': 0.15924456936313805, 'colsample_bytree': 0.22332533275181346, 'lr': 0.08636182960919286, 'lambd': 7.261131081501335, 'alpha': 0.8614648032170331, 'n_estimator': 890, 'num_leaves': 10}. Best is trial#345 with value: 0.8938792859166903.\n",
      "[I 2020-07-16 21:41:16,950] Finished trial#361 with value: 0.8921790875602154 with parameters: {'subsample': 0.22474237746105513, 'colsample_bytree': 0.1665428102567334, 'lr': 0.09465940559627029, 'lambd': 6.147317451047624, 'alpha': 0.3649503880928444, 'n_estimator': 949, 'num_leaves': 10}. Best is trial#345 with value: 0.8938792859166903.\n",
      "[I 2020-07-16 21:41:18,922] Finished trial#362 with value: 0.8909039387928591 with parameters: {'subsample': 0.19969057152511616, 'colsample_bytree': 0.19838349933478705, 'lr': 0.0893766783395845, 'lambd': 7.097517049353531, 'alpha': 0.6079438825235433, 'n_estimator': 945, 'num_leaves': 10}. Best is trial#345 with value: 0.8938792859166903.\n",
      "[I 2020-07-16 21:41:20,832] Finished trial#363 with value: 0.8918957211674695 with parameters: {'subsample': 0.13158192513407638, 'colsample_bytree': 0.21761869101567052, 'lr': 0.08169239641253145, 'lambd': 6.326216464087492, 'alpha': 0.4528979257925242, 'n_estimator': 906, 'num_leaves': 9}. Best is trial#345 with value: 0.8938792859166903.\n",
      "[I 2020-07-16 21:41:22,862] Finished trial#364 with value: 0.8918957211674695 with parameters: {'subsample': 0.21114788410655896, 'colsample_bytree': 0.23276809285188296, 'lr': 0.0932484593351074, 'lambd': 6.920967023230018, 'alpha': 0.3679175478572754, 'n_estimator': 930, 'num_leaves': 10}. Best is trial#345 with value: 0.8938792859166903.\n",
      "[I 2020-07-16 21:41:23,964] Finished trial#365 with value: 0.8928875035420799 with parameters: {'subsample': 0.18887423507505835, 'colsample_bytree': 0.2373661936131884, 'lr': 0.09059101522836815, 'lambd': 6.709941638849068, 'alpha': 0.2260652220596183, 'n_estimator': 447, 'num_leaves': 10}. Best is trial#345 with value: 0.8938792859166903.\n",
      "[I 2020-07-16 21:41:25,031] Finished trial#366 with value: 0.8909039387928591 with parameters: {'subsample': 0.23182753411716664, 'colsample_bytree': 0.1546435600613706, 'lr': 0.09083974825848051, 'lambd': 6.660021476145079, 'alpha': 0.19702820970950635, 'n_estimator': 452, 'num_leaves': 10}. Best is trial#345 with value: 0.8938792859166903.\n",
      "[I 2020-07-16 21:41:26,989] Finished trial#367 with value: 0.8901955228109946 with parameters: {'subsample': 0.18232711543599722, 'colsample_bytree': 0.2288827796716064, 'lr': 0.08773850372719967, 'lambd': 7.012342940500166, 'alpha': 0.607406523644381, 'n_estimator': 910, 'num_leaves': 10}. Best is trial#345 with value: 0.8938792859166903.\n",
      "[I 2020-07-16 21:41:28,148] Finished trial#368 with value: 0.8918957211674695 with parameters: {'subsample': 0.16483797628686947, 'colsample_bytree': 0.19958687702365935, 'lr': 0.09029719293862483, 'lambd': 6.66129833718585, 'alpha': 0.12324937864086544, 'n_estimator': 479, 'num_leaves': 10}. Best is trial#345 with value: 0.8938792859166903.\n",
      "[I 2020-07-16 21:41:29,325] Finished trial#369 with value: 0.8926041371493341 with parameters: {'subsample': 0.19623088267593197, 'colsample_bytree': 0.1694003949202814, 'lr': 0.08799307767631115, 'lambd': 6.804728520158015, 'alpha': 0.009623460759057817, 'n_estimator': 489, 'num_leaves': 10}. Best is trial#345 with value: 0.8938792859166903.\n",
      "[I 2020-07-16 21:41:31,035] Finished trial#370 with value: 0.8892037404363843 with parameters: {'subsample': 0.22158525319211128, 'colsample_bytree': 0.12232742499337432, 'lr': 0.09257057283397609, 'lambd': 6.369221421101355, 'alpha': 1.021191293958849, 'n_estimator': 953, 'num_leaves': 10}. Best is trial#345 with value: 0.8938792859166903.\n",
      "[I 2020-07-16 21:41:32,917] Finished trial#371 with value: 0.892745820345707 with parameters: {'subsample': 0.1850168259405327, 'colsample_bytree': 0.3009212336230861, 'lr': 0.08237857184871701, 'lambd': 6.495046702747863, 'alpha': 0.23316689230438017, 'n_estimator': 862, 'num_leaves': 9}. Best is trial#345 with value: 0.8938792859166903.\n",
      "[I 2020-07-16 21:41:34,899] Finished trial#372 with value: 0.8916123547747237 with parameters: {'subsample': 0.17511167271999015, 'colsample_bytree': 0.26837138375868963, 'lr': 0.08489640899607097, 'lambd': 7.522226163848603, 'alpha': 0.6535645290391782, 'n_estimator': 921, 'num_leaves': 10}. Best is trial#345 with value: 0.8938792859166903.\n",
      "[I 2020-07-16 21:41:36,495] Finished trial#373 with value: 0.8924624539529612 with parameters: {'subsample': 0.1508025458218695, 'colsample_bytree': 0.24720204306971014, 'lr': 0.09096040001162543, 'lambd': 6.886022727258617, 'alpha': 0.25690881558750467, 'n_estimator': 688, 'num_leaves': 10}. Best is trial#345 with value: 0.8938792859166903.\n",
      "[I 2020-07-16 21:41:38,527] Finished trial#374 with value: 0.8913289883819779 with parameters: {'subsample': 0.1989563972853088, 'colsample_bytree': 0.27262874293290185, 'lr': 0.09379327419544602, 'lambd': 7.308861006572327, 'alpha': 0.30137557852943087, 'n_estimator': 888, 'num_leaves': 10}. Best is trial#345 with value: 0.8938792859166903.\n",
      "[I 2020-07-16 21:41:40,402] Finished trial#375 with value: 0.8909039387928591 with parameters: {'subsample': 0.17981667545003405, 'colsample_bytree': 0.30314444898253173, 'lr': 0.08901556901522453, 'lambd': 6.831776420739275, 'alpha': 0.0013780768937140808, 'n_estimator': 843, 'num_leaves': 10}. Best is trial#345 with value: 0.8938792859166903.\n",
      "[I 2020-07-16 21:41:42,391] Finished trial#376 with value: 0.8937376027203173 with parameters: {'subsample': 0.17511106978992874, 'colsample_bytree': 0.21119155998862998, 'lr': 0.09053312061580068, 'lambd': 6.58415127735679, 'alpha': 0.09194859017636356, 'n_estimator': 890, 'num_leaves': 10}. Best is trial#345 with value: 0.8938792859166903.\n",
      "[I 2020-07-16 21:41:44,478] Finished trial#377 with value: 0.8926041371493341 with parameters: {'subsample': 0.20672606072838276, 'colsample_bytree': 0.18567961359371432, 'lr': 0.09488841520304955, 'lambd': 6.694945763397611, 'alpha': 0.0007799340402636218, 'n_estimator': 935, 'num_leaves': 10}. Best is trial#345 with value: 0.8938792859166903.\n",
      "[I 2020-07-16 21:41:46,352] Finished trial#378 with value: 0.8921790875602154 with parameters: {'subsample': 0.15830294241917758, 'colsample_bytree': 0.3210697993667588, 'lr': 0.0805653976009614, 'lambd': 6.47521462365661, 'alpha': 0.004919889173367636, 'n_estimator': 870, 'num_leaves': 9}. Best is trial#345 with value: 0.8938792859166903.\n",
      "[I 2020-07-16 21:41:48,314] Finished trial#379 with value: 0.8918957211674695 with parameters: {'subsample': 0.14730835245631232, 'colsample_bytree': 0.22920818826952674, 'lr': 0.09009470259951124, 'lambd': 7.075533627475769, 'alpha': 0.5068957326184625, 'n_estimator': 897, 'num_leaves': 10}. Best is trial#345 with value: 0.8938792859166903.\n",
      "[I 2020-07-16 21:41:49,389] Finished trial#380 with value: 0.8921790875602154 with parameters: {'subsample': 0.16969630056668875, 'colsample_bytree': 0.21159522483804463, 'lr': 0.08798475149887598, 'lambd': 6.5821441346951906, 'alpha': 0.18083735466516004, 'n_estimator': 429, 'num_leaves': 10}. Best is trial#345 with value: 0.8938792859166903.\n",
      "[I 2020-07-16 21:41:51,777] Finished trial#381 with value: 0.889628790025503 with parameters: {'subsample': 0.21404855313455834, 'colsample_bytree': 0.231790342514571, 'lr': 0.011382228418755823, 'lambd': 6.077645572132672, 'alpha': 0.8050996684728646, 'n_estimator': 945, 'num_leaves': 10}. Best is trial#345 with value: 0.8938792859166903.\n",
      "[I 2020-07-16 21:41:52,822] Finished trial#382 with value: 0.8907622555964863 with parameters: {'subsample': 0.248938468249698, 'colsample_bytree': 0.3831929194395568, 'lr': 0.08710085953437147, 'lambd': 6.58316895336744, 'alpha': 0.0036590089800290215, 'n_estimator': 451, 'num_leaves': 9}. Best is trial#345 with value: 0.8938792859166903.\n",
      "[I 2020-07-16 21:41:54,861] Finished trial#383 with value: 0.8931708699348258 with parameters: {'subsample': 0.22343814474140197, 'colsample_bytree': 0.2069095160203708, 'lr': 0.09197366104166409, 'lambd': 6.251094778466616, 'alpha': 0.4237705301867717, 'n_estimator': 920, 'num_leaves': 10}. Best is trial#345 with value: 0.8938792859166903.\n",
      "[I 2020-07-16 21:41:56,641] Finished trial#384 with value: 0.8903372060073675 with parameters: {'subsample': 0.19303609641790523, 'colsample_bytree': 0.20636189156368515, 'lr': 0.09196457333834868, 'lambd': 6.205785123849429, 'alpha': 0.5226442314115719, 'n_estimator': 913, 'num_leaves': 7}. Best is trial#345 with value: 0.8938792859166903.\n",
      "[I 2020-07-16 21:41:58,623] Finished trial#385 with value: 0.8924624539529612 with parameters: {'subsample': 0.13094074050290255, 'colsample_bytree': 0.18930111771943023, 'lr': 0.09374948305373261, 'lambd': 6.297032437406415, 'alpha': 0.350682850177972, 'n_estimator': 918, 'num_leaves': 10}. Best is trial#345 with value: 0.8938792859166903.\n",
      "[I 2020-07-16 21:42:00,549] Finished trial#386 with value: 0.8913289883819779 with parameters: {'subsample': 0.20445301246569617, 'colsample_bytree': 0.2152115143971042, 'lr': 0.09067428705314337, 'lambd': 5.926534414500003, 'alpha': 0.7842665717556848, 'n_estimator': 930, 'num_leaves': 10}. Best is trial#345 with value: 0.8938792859166903.\n",
      "[I 2020-07-16 21:42:02,495] Finished trial#387 with value: 0.8897704732218759 with parameters: {'subsample': 0.2232623429668419, 'colsample_bytree': 0.2565063079702051, 'lr': 0.09511953127635507, 'lambd': 6.360644681636114, 'alpha': 0.5489399979588176, 'n_estimator': 882, 'num_leaves': 10}. Best is trial#345 with value: 0.8938792859166903.\n",
      "[I 2020-07-16 21:42:04,612] Finished trial#388 with value: 0.8926041371493341 with parameters: {'subsample': 0.2229062796695001, 'colsample_bytree': 0.21073095890894272, 'lr': 0.09224302581091541, 'lambd': 6.090917366854967, 'alpha': 0.37199630247294135, 'n_estimator': 951, 'num_leaves': 10}. Best is trial#345 with value: 0.8938792859166903.\n",
      "[I 2020-07-16 21:42:06,512] Finished trial#389 with value: 0.8918957211674695 with parameters: {'subsample': 0.16842196683910754, 'colsample_bytree': 0.16536479148177352, 'lr': 0.08957669745819109, 'lambd': 5.576849222535465, 'alpha': 0.17255990687966954, 'n_estimator': 888, 'num_leaves': 10}. Best is trial#345 with value: 0.8938792859166903.\n",
      "[I 2020-07-16 21:42:08,312] Finished trial#390 with value: 0.8904788892037404 with parameters: {'subsample': 0.24859836580103847, 'colsample_bytree': 0.14122374589072623, 'lr': 0.09451623677273885, 'lambd': 6.721067716113693, 'alpha': 0.7451745983736492, 'n_estimator': 919, 'num_leaves': 10}. Best is trial#345 with value: 0.8938792859166903.\n",
      "[I 2020-07-16 21:42:10,314] Finished trial#391 with value: 0.8930291867384528 with parameters: {'subsample': 0.185984484986658, 'colsample_bytree': 0.23928015647581008, 'lr': 0.09015024650706746, 'lambd': 6.867001379642693, 'alpha': 0.3342179240489442, 'n_estimator': 902, 'num_leaves': 10}. Best is trial#345 with value: 0.8938792859166903.\n",
      "[I 2020-07-16 21:42:12,063] Finished trial#392 with value: 0.8920374043638425 with parameters: {'subsample': 0.18506904814953454, 'colsample_bytree': 0.18959136226279477, 'lr': 0.09149651981381322, 'lambd': 6.886074373932862, 'alpha': 1.0733832858712389, 'n_estimator': 912, 'num_leaves': 10}. Best is trial#345 with value: 0.8938792859166903.\n",
      "[I 2020-07-16 21:42:12,914] Finished trial#393 with value: 0.889628790025503 with parameters: {'subsample': 0.21178374609288853, 'colsample_bytree': 0.23171274623208768, 'lr': 0.09934137599353723, 'lambd': 6.426801771583428, 'alpha': 0.4762611816274965, 'n_estimator': 317, 'num_leaves': 10}. Best is trial#345 with value: 0.8938792859166903.\n",
      "[I 2020-07-16 21:42:14,858] Finished trial#394 with value: 0.8910456219892321 with parameters: {'subsample': 0.1893483821724904, 'colsample_bytree': 0.2124569081502036, 'lr': 0.09244732281004661, 'lambd': 6.6059614740514006, 'alpha': 0.5808595489150199, 'n_estimator': 899, 'num_leaves': 10}. Best is trial#345 with value: 0.8938792859166903.\n",
      "[I 2020-07-16 21:42:16,925] Finished trial#395 with value: 0.8924624539529612 with parameters: {'subsample': 0.22638666555692738, 'colsample_bytree': 0.24105615954645257, 'lr': 0.09016033841836502, 'lambd': 6.81474712513453, 'alpha': 0.3042528416998211, 'n_estimator': 934, 'num_leaves': 10}. Best is trial#345 with value: 0.8938792859166903.\n",
      "[I 2020-07-16 21:42:18,703] Finished trial#396 with value: 0.8923207707565882 with parameters: {'subsample': 0.16583129532564314, 'colsample_bytree': 0.1760881117237696, 'lr': 0.09625366286199252, 'lambd': 8.544589757059038, 'alpha': 0.8414812003480905, 'n_estimator': 905, 'num_leaves': 10}. Best is trial#345 with value: 0.8938792859166903.\n",
      "[I 2020-07-16 21:42:20,686] Finished trial#397 with value: 0.8921790875602154 with parameters: {'subsample': 0.19651522443102173, 'colsample_bytree': 0.20061938722218484, 'lr': 0.09385706348919323, 'lambd': 7.043110127601716, 'alpha': 0.3210715510511749, 'n_estimator': 883, 'num_leaves': 10}. Best is trial#345 with value: 0.8938792859166903.\n",
      "[I 2020-07-16 21:42:22,675] Finished trial#398 with value: 0.8900538396146217 with parameters: {'subsample': 0.21259263205954995, 'colsample_bytree': 0.22711374997472022, 'lr': 0.08805318616128809, 'lambd': 8.990792289343428, 'alpha': 0.6694545680838724, 'n_estimator': 935, 'num_leaves': 10}. Best is trial#345 with value: 0.8938792859166903.\n",
      "[I 2020-07-16 21:42:24,718] Finished trial#399 with value: 0.8923207707565882 with parameters: {'subsample': 0.17987650139917083, 'colsample_bytree': 0.25204294768028007, 'lr': 0.09103212851096713, 'lambd': 5.804216383535181, 'alpha': 0.19756160123343158, 'n_estimator': 915, 'num_leaves': 10}. Best is trial#345 with value: 0.8938792859166903.\n",
      "[I 2020-07-16 21:42:25,237] Finished trial#400 with value: 0.8901955228109946 with parameters: {'subsample': 0.23307686793114998, 'colsample_bytree': 0.41280875589075483, 'lr': 0.08910582367558657, 'lambd': 6.599013891778549, 'alpha': 0.47205447174441806, 'n_estimator': 144, 'num_leaves': 10}. Best is trial#345 with value: 0.8938792859166903.\n",
      "[I 2020-07-16 21:42:27,357] Finished trial#401 with value: 0.8924624539529612 with parameters: {'subsample': 0.2488841059674402, 'colsample_bytree': 0.21797098192233189, 'lr': 0.09443791391833621, 'lambd': 6.365930125228725, 'alpha': 0.0011131723013292627, 'n_estimator': 953, 'num_leaves': 10}. Best is trial#345 with value: 0.8938792859166903.\n",
      "[I 2020-07-16 21:42:28,382] Finished trial#402 with value: 0.8917540379710966 with parameters: {'subsample': 0.2046232798988338, 'colsample_bytree': 0.27850080016838685, 'lr': 0.09272969533173897, 'lambd': 6.7236660814989, 'alpha': 0.004085288697896283, 'n_estimator': 411, 'num_leaves': 10}. Best is trial#345 with value: 0.8938792859166903.\n",
      "[I 2020-07-16 21:42:30,068] Finished trial#403 with value: 0.8914706715783508 with parameters: {'subsample': 0.1625769414328578, 'colsample_bytree': 0.19438181523650422, 'lr': 0.098640465120719, 'lambd': 6.93952265817202, 'alpha': 1.23066636097525, 'n_estimator': 931, 'num_leaves': 10}. Best is trial#345 with value: 0.8938792859166903.\n",
      "[I 2020-07-16 21:42:32,099] Finished trial#404 with value: 0.8923207707565882 with parameters: {'subsample': 0.18722277015582475, 'colsample_bytree': 0.2408869799315407, 'lr': 0.08833554524086883, 'lambd': 6.186388243356131, 'alpha': 0.3689446553784756, 'n_estimator': 898, 'num_leaves': 10}. Best is trial#345 with value: 0.8938792859166903.\n",
      "[I 2020-07-16 21:42:34,079] Finished trial#405 with value: 0.8914706715783508 with parameters: {'subsample': 0.22826776201641738, 'colsample_bytree': 0.2600515418092879, 'lr': 0.09638668701497931, 'lambd': 7.378157168371288, 'alpha': 0.5789713940705232, 'n_estimator': 956, 'num_leaves': 10}. Best is trial#345 with value: 0.8938792859166903.\n",
      "[I 2020-07-16 21:42:36,143] Finished trial#406 with value: 0.892745820345707 with parameters: {'subsample': 0.206955355433447, 'colsample_bytree': 0.22004004732021454, 'lr': 0.09072492026802091, 'lambd': 6.796173183909122, 'alpha': 0.1881419793673379, 'n_estimator': 926, 'num_leaves': 10}. Best is trial#345 with value: 0.8938792859166903.\n",
      "[I 2020-07-16 21:42:37,956] Finished trial#407 with value: 0.8913289883819779 with parameters: {'subsample': 0.256136571383343, 'colsample_bytree': 0.23646012872519173, 'lr': 0.08631164687527157, 'lambd': 6.447708089913791, 'alpha': 0.9477516326400914, 'n_estimator': 878, 'num_leaves': 10}. Best is trial#345 with value: 0.8938792859166903.\n",
      "[I 2020-07-16 21:42:40,222] Finished trial#408 with value: 0.8863700765089261 with parameters: {'subsample': 0.2369469516946758, 'colsample_bytree': 0.17549056749607506, 'lr': 0.007015943741831641, 'lambd': 7.187370278359454, 'alpha': 0.36491616272231303, 'n_estimator': 909, 'num_leaves': 10}. Best is trial#345 with value: 0.8938792859166903.\n",
      "[I 2020-07-16 21:42:42,180] Finished trial#409 with value: 0.8900538396146217 with parameters: {'subsample': 0.18024909430031524, 'colsample_bytree': 0.20345019782643664, 'lr': 0.09130348692184923, 'lambd': 7.040396886405621, 'alpha': 0.6989637462651551, 'n_estimator': 947, 'num_leaves': 10}. Best is trial#345 with value: 0.8938792859166903.\n",
      "[I 2020-07-16 21:42:44,251] Finished trial#410 with value: 0.891187305185605 with parameters: {'subsample': 0.15723554412504093, 'colsample_bytree': 0.26024586736848604, 'lr': 0.09438653914451982, 'lambd': 6.686213329229023, 'alpha': 0.0066720534914702645, 'n_estimator': 960, 'num_leaves': 10}. Best is trial#345 with value: 0.8938792859166903.\n",
      "[I 2020-07-16 21:42:46,251] Finished trial#411 with value: 0.8931708699348258 with parameters: {'subsample': 0.21681889021699857, 'colsample_bytree': 0.2247151168597033, 'lr': 0.08936430342733584, 'lambd': 5.958058522433674, 'alpha': 0.19620388650172194, 'n_estimator': 901, 'num_leaves': 10}. Best is trial#345 with value: 0.8938792859166903.\n",
      "[I 2020-07-16 21:42:48,245] Finished trial#412 with value: 0.892745820345707 with parameters: {'subsample': 0.19261403797437204, 'colsample_bytree': 0.19846607207371839, 'lr': 0.0881910618612126, 'lambd': 5.746573959890734, 'alpha': 0.16566869423320935, 'n_estimator': 890, 'num_leaves': 10}. Best is trial#345 with value: 0.8938792859166903.\n",
      "[I 2020-07-16 21:42:50,141] Finished trial#413 with value: 0.8916123547747237 with parameters: {'subsample': 0.22078011216608043, 'colsample_bytree': 0.22529180153694311, 'lr': 0.08551981859656431, 'lambd': 6.0396397876043935, 'alpha': 0.4979757656014388, 'n_estimator': 869, 'num_leaves': 10}. Best is trial#345 with value: 0.8938792859166903.\n",
      "[I 2020-07-16 21:42:52,017] Finished trial#414 with value: 0.8934542363275716 with parameters: {'subsample': 0.24549350590137084, 'colsample_bytree': 0.15652378160740332, 'lr': 0.09770088338290821, 'lambd': 6.052793783949359, 'alpha': 0.34559214608820904, 'n_estimator': 904, 'num_leaves': 10}. Best is trial#345 with value: 0.8938792859166903.\n",
      "[I 2020-07-16 21:42:53,153] Finished trial#415 with value: 0.8893454236327571 with parameters: {'subsample': 0.25891322546060697, 'colsample_bytree': 0.10527110224487174, 'lr': 0.09943067989628798, 'lambd': 5.918010466017673, 'alpha': 0.6637255050073554, 'n_estimator': 592, 'num_leaves': 10}. Best is trial#345 with value: 0.8938792859166903.\n",
      "[I 2020-07-16 21:42:54,579] Finished trial#416 with value: 0.8893454236327571 with parameters: {'subsample': 0.24606569129856154, 'colsample_bytree': 0.16374573331527476, 'lr': 0.09756243571889892, 'lambd': 5.501216499544321, 'alpha': 4.639787289869814, 'n_estimator': 913, 'num_leaves': 10}. Best is trial#345 with value: 0.8938792859166903.\n",
      "[I 2020-07-16 21:42:56,424] Finished trial#417 with value: 0.892745820345707 with parameters: {'subsample': 0.2206554254968642, 'colsample_bytree': 0.176825864183683, 'lr': 0.08716095013499163, 'lambd': 5.899983739974697, 'alpha': 0.3924430130394482, 'n_estimator': 878, 'num_leaves': 10}. Best is trial#345 with value: 0.8938792859166903.\n",
      "[I 2020-07-16 21:42:58,353] Finished trial#418 with value: 0.8921790875602154 with parameters: {'subsample': 0.20967229517299457, 'colsample_bytree': 0.12487943715040895, 'lr': 0.09212243291029136, 'lambd': 9.921346637835693, 'alpha': 0.003870359572271248, 'n_estimator': 909, 'num_leaves': 10}. Best is trial#345 with value: 0.8938792859166903.\n",
      "[I 2020-07-16 21:42:59,933] Finished trial#419 with value: 0.8901955228109946 with parameters: {'subsample': 0.2610605041205174, 'colsample_bytree': 0.13664806972438748, 'lr': 0.09988865073499852, 'lambd': 6.121309674609771, 'alpha': 0.8917416156529644, 'n_estimator': 848, 'num_leaves': 10}. Best is trial#345 with value: 0.8938792859166903.\n",
      "[I 2020-07-16 21:43:01,836] Finished trial#420 with value: 0.8918957211674695 with parameters: {'subsample': 0.24472541156468008, 'colsample_bytree': 0.1631433960699223, 'lr': 0.08911465487159735, 'lambd': 6.182112220815606, 'alpha': 0.2518981709953733, 'n_estimator': 889, 'num_leaves': 10}. Best is trial#345 with value: 0.8938792859166903.\n",
      "[I 2020-07-16 21:43:02,935] Finished trial#421 with value: 0.884953244545197 with parameters: {'subsample': 0.23246831357823516, 'colsample_bytree': 0.012789515172674515, 'lr': 0.08964848199472085, 'lambd': 5.658798317134454, 'alpha': 0.39499569483761915, 'n_estimator': 929, 'num_leaves': 10}. Best is trial#345 with value: 0.8938792859166903.\n",
      "[I 2020-07-16 21:43:04,827] Finished trial#422 with value: 0.8930291867384528 with parameters: {'subsample': 0.17700620231850003, 'colsample_bytree': 0.15169898013335625, 'lr': 0.08539672390306009, 'lambd': 6.2644995080931665, 'alpha': 0.20489437430965762, 'n_estimator': 870, 'num_leaves': 10}. Best is trial#345 with value: 0.8938792859166903.\n",
      "[I 2020-07-16 21:43:06,597] Finished trial#423 with value: 0.8906205724001134 with parameters: {'subsample': 0.14500039611457882, 'colsample_bytree': 0.1432720274961311, 'lr': 0.08423145677351677, 'lambd': 9.448584258049163, 'alpha': 0.6247554019387613, 'n_estimator': 851, 'num_leaves': 10}. Best is trial#345 with value: 0.8938792859166903.\n",
      "[I 2020-07-16 21:43:08,341] Finished trial#424 with value: 0.8907622555964863 with parameters: {'subsample': 0.21221727331015147, 'colsample_bytree': 0.11576455600980949, 'lr': 0.09789833053106352, 'lambd': 6.026955323621117, 'alpha': 0.4908511101931363, 'n_estimator': 898, 'num_leaves': 10}. Best is trial#345 with value: 0.8938792859166903.\n",
      "[I 2020-07-16 21:43:09,689] Finished trial#425 with value: 0.8890620572400113 with parameters: {'subsample': 0.16936014229179686, 'colsample_bytree': 0.14813583103334155, 'lr': 0.08454706682068162, 'lambd': 6.245217834663362, 'alpha': 6.253670939112029, 'n_estimator': 820, 'num_leaves': 10}. Best is trial#345 with value: 0.8938792859166903.\n",
      "[I 2020-07-16 21:43:11,616] Finished trial#426 with value: 0.8913289883819779 with parameters: {'subsample': 0.15545275544822368, 'colsample_bytree': 0.17757750576255218, 'lr': 0.08629790352208079, 'lambd': 6.325905871358404, 'alpha': 0.21531812093365743, 'n_estimator': 868, 'num_leaves': 10}. Best is trial#345 with value: 0.8938792859166903.\n",
      "[I 2020-07-16 21:43:13,599] Finished trial#427 with value: 0.8931708699348258 with parameters: {'subsample': 0.1929258037313044, 'colsample_bytree': 0.14843161246689596, 'lr': 0.09325294041009674, 'lambd': 5.941533322885534, 'alpha': 0.010704035175132853, 'n_estimator': 897, 'num_leaves': 10}. Best is trial#345 with value: 0.8938792859166903.\n",
      "[I 2020-07-16 21:43:15,480] Finished trial#428 with value: 0.8928875035420799 with parameters: {'subsample': 0.19896064454913323, 'colsample_bytree': 0.11342481545531499, 'lr': 0.09263989880463466, 'lambd': 5.777990883334854, 'alpha': 0.03613427593143215, 'n_estimator': 890, 'num_leaves': 10}. Best is trial#345 with value: 0.8938792859166903.\n",
      "[I 2020-07-16 21:43:17,069] Finished trial#429 with value: 0.8890620572400113 with parameters: {'subsample': 0.2269653388928545, 'colsample_bytree': 0.09244578850286037, 'lr': 0.09598370900924202, 'lambd': 5.978720336059924, 'alpha': 0.7704658260884234, 'n_estimator': 900, 'num_leaves': 10}. Best is trial#345 with value: 0.8938792859166903.\n",
      "[I 2020-07-16 21:43:18,941] Finished trial#430 with value: 0.8931708699348258 with parameters: {'subsample': 0.17494395835567933, 'colsample_bytree': 0.1503013706584136, 'lr': 0.0873565013394865, 'lambd': 5.878014172495778, 'alpha': 0.18701786080053218, 'n_estimator': 866, 'num_leaves': 10}. Best is trial#345 with value: 0.8938792859166903.\n",
      "[I 2020-07-16 21:43:20,763] Finished trial#431 with value: 0.8923207707565882 with parameters: {'subsample': 0.7141545635842692, 'colsample_bytree': 0.1545030441204551, 'lr': 0.08855896014869562, 'lambd': 5.457614654659899, 'alpha': 0.14761775404648558, 'n_estimator': 846, 'num_leaves': 10}. Best is trial#345 with value: 0.8938792859166903.\n",
      "[I 2020-07-16 21:43:22,656] Finished trial#432 with value: 0.8933125531311986 with parameters: {'subsample': 0.18259984919273903, 'colsample_bytree': 0.1490648346281791, 'lr': 0.08713472483987567, 'lambd': 5.893141370393582, 'alpha': 0.009069380016066997, 'n_estimator': 861, 'num_leaves': 10}. Best is trial#345 with value: 0.8938792859166903.\n",
      "[I 2020-07-16 21:43:24,506] Finished trial#433 with value: 0.8920374043638425 with parameters: {'subsample': 0.18666349286699724, 'colsample_bytree': 0.14412386879450165, 'lr': 0.08733011650107908, 'lambd': 5.6986012906780275, 'alpha': 0.0016687474595134212, 'n_estimator': 836, 'num_leaves': 10}. Best is trial#345 with value: 0.8938792859166903.\n",
      "[I 2020-07-16 21:43:26,293] Finished trial#434 with value: 0.8917540379710966 with parameters: {'subsample': 0.16684473373806583, 'colsample_bytree': 0.13014060413112077, 'lr': 0.08363521616094863, 'lambd': 5.573653314349094, 'alpha': 0.03571362729500606, 'n_estimator': 846, 'num_leaves': 10}. Best is trial#345 with value: 0.8938792859166903.\n",
      "[I 2020-07-16 21:43:28,102] Finished trial#435 with value: 0.8920374043638425 with parameters: {'subsample': 0.1797751948863136, 'colsample_bytree': 0.1326822784272692, 'lr': 0.08511881903716435, 'lambd': 5.849910819665998, 'alpha': 0.007460326111277493, 'n_estimator': 859, 'num_leaves': 10}. Best is trial#345 with value: 0.8938792859166903.\n",
      "[I 2020-07-16 21:43:29,304] Finished trial#436 with value: 0.8870784924907906 with parameters: {'subsample': 0.18106775604584532, 'colsample_bytree': 0.07057267459904853, 'lr': 0.08731108003083865, 'lambd': 5.336838860949976, 'alpha': 9.049539838399216, 'n_estimator': 875, 'num_leaves': 10}. Best is trial#345 with value: 0.8938792859166903.\n",
      "[I 2020-07-16 21:43:30,875] Finished trial#437 with value: 0.8897704732218759 with parameters: {'subsample': 0.1384777074923796, 'colsample_bytree': 0.10053082038136618, 'lr': 0.0833007192052808, 'lambd': 5.854956340459435, 'alpha': 0.009504298324933824, 'n_estimator': 827, 'num_leaves': 10}. Best is trial#345 with value: 0.8938792859166903.\n",
      "[I 2020-07-16 21:43:32,737] Finished trial#438 with value: 0.8913289883819779 with parameters: {'subsample': 0.1976132823377822, 'colsample_bytree': 0.15029846881275835, 'lr': 0.08992048253350564, 'lambd': 6.00398862766777, 'alpha': 0.3686714595908324, 'n_estimator': 880, 'num_leaves': 10}. Best is trial#345 with value: 0.8938792859166903.\n",
      "[I 2020-07-16 21:43:34,514] Finished trial#439 with value: 0.891187305185605 with parameters: {'subsample': 0.17184034925728445, 'colsample_bytree': 0.12428314187511381, 'lr': 0.0859284539255388, 'lambd': 5.67053515408849, 'alpha': 0.1787288746753593, 'n_estimator': 867, 'num_leaves': 10}. Best is trial#345 with value: 0.8938792859166903.\n",
      "[I 2020-07-16 21:43:36,247] Finished trial#440 with value: 0.8930291867384528 with parameters: {'subsample': 0.2109546870934565, 'colsample_bytree': 0.16711775100885462, 'lr': 0.09235060037948792, 'lambd': 6.023793880826918, 'alpha': 0.4905547978298292, 'n_estimator': 801, 'num_leaves': 10}. Best is trial#345 with value: 0.8938792859166903.\n",
      "[I 2020-07-16 21:43:37,583] Finished trial#441 with value: 0.8884953244545197 with parameters: {'subsample': 0.21660193080408147, 'colsample_bytree': 0.15861455738087896, 'lr': 0.0935295810086267, 'lambd': 5.929829193557012, 'alpha': 0.5430028169834955, 'n_estimator': 894, 'num_leaves': 3}. Best is trial#345 with value: 0.8938792859166903.\n",
      "[I 2020-07-16 21:43:39,278] Finished trial#442 with value: 0.8924624539529612 with parameters: {'subsample': 0.19255972695862217, 'colsample_bytree': 0.14384501084162107, 'lr': 0.08908667328011692, 'lambd': 6.065175693633454, 'alpha': 0.2816895936267, 'n_estimator': 781, 'num_leaves': 10}. Best is trial#345 with value: 0.8938792859166903.\n",
      "[I 2020-07-16 21:43:41,106] Finished trial#443 with value: 0.8917540379710966 with parameters: {'subsample': 0.15606063974135106, 'colsample_bytree': 0.1622333871542521, 'lr': 0.08739829272709265, 'lambd': 6.178764140900944, 'alpha': 0.009524967988391975, 'n_estimator': 825, 'num_leaves': 10}. Best is trial#345 with value: 0.8938792859166903.\n",
      "[I 2020-07-16 21:43:42,761] Finished trial#444 with value: 0.8923207707565882 with parameters: {'subsample': 0.18044340265526523, 'colsample_bytree': 0.16694002301137406, 'lr': 0.09095260738234011, 'lambd': 5.866088428158465, 'alpha': 0.6011928426673996, 'n_estimator': 804, 'num_leaves': 10}. Best is trial#345 with value: 0.8938792859166903.\n",
      "[I 2020-07-16 21:43:43,786] Finished trial#445 with value: 0.8846698781524511 with parameters: {'subsample': 0.1360455039474302, 'colsample_bytree': 0.03771557797781372, 'lr': 0.09512575818156294, 'lambd': 5.819511347938023, 'alpha': 0.3629699481784644, 'n_estimator': 861, 'num_leaves': 10}. Best is trial#345 with value: 0.8938792859166903.\n",
      "[I 2020-07-16 21:43:45,734] Finished trial#446 with value: 0.8924624539529612 with parameters: {'subsample': 0.2047975939520199, 'colsample_bytree': 0.16127568319883984, 'lr': 0.09220012406739198, 'lambd': 6.111674865412794, 'alpha': 0.005110357355685519, 'n_estimator': 881, 'num_leaves': 10}. Best is trial#345 with value: 0.8938792859166903.\n",
      "[I 2020-07-16 21:43:47,477] Finished trial#447 with value: 0.8914706715783508 with parameters: {'subsample': 0.17106007241823837, 'colsample_bytree': 0.11631150806864649, 'lr': 0.08855779239784506, 'lambd': 6.26029699725432, 'alpha': 0.1928049066368741, 'n_estimator': 852, 'num_leaves': 10}. Best is trial#345 with value: 0.8938792859166903.\n",
      "[I 2020-07-16 21:43:49,261] Finished trial#448 with value: 0.8914706715783508 with parameters: {'subsample': 0.24030364316584402, 'colsample_bytree': 0.18005907706786176, 'lr': 0.09334366206099111, 'lambd': 5.645066648124934, 'alpha': 0.7976806543262509, 'n_estimator': 907, 'num_leaves': 10}. Best is trial#345 with value: 0.8938792859166903.\n",
      "[I 2020-07-16 21:43:50,918] Finished trial#449 with value: 0.8889203740436384 with parameters: {'subsample': 0.19443196640110463, 'colsample_bytree': 0.08506418527863197, 'lr': 0.08506844307717587, 'lambd': 6.234165232248406, 'alpha': 0.28005654010564207, 'n_estimator': 892, 'num_leaves': 10}. Best is trial#345 with value: 0.8938792859166903.\n",
      "[I 2020-07-16 21:43:52,617] Finished trial#450 with value: 0.8893454236327571 with parameters: {'subsample': 0.21106216408686093, 'colsample_bytree': 0.13678326143971084, 'lr': 0.08714618750445334, 'lambd': 6.03732249753333, 'alpha': 1.0910781917529344, 'n_estimator': 915, 'num_leaves': 10}. Best is trial#345 with value: 0.8938792859166903.\n",
      "[I 2020-07-16 21:43:54,421] Finished trial#451 with value: 0.891187305185605 with parameters: {'subsample': 0.21445425895680073, 'colsample_bytree': 0.17806957064019224, 'lr': 0.09975828493910542, 'lambd': 5.796268444032791, 'alpha': 0.524317490786242, 'n_estimator': 882, 'num_leaves': 10}. Best is trial#345 with value: 0.8938792859166903.\n",
      "[I 2020-07-16 21:43:56,120] Finished trial#452 with value: 0.8892037404363843 with parameters: {'subsample': 0.14899912287888523, 'colsample_bytree': 0.1541002927774586, 'lr': 0.08272486578853874, 'lambd': 5.4163468151619725, 'alpha': 0.5023917561797581, 'n_estimator': 918, 'num_leaves': 6}. Best is trial#345 with value: 0.8938792859166903.\n",
      "[I 2020-07-16 21:43:58,011] Finished trial#453 with value: 0.8926041371493341 with parameters: {'subsample': 0.1966137733352752, 'colsample_bytree': 0.18361869989233623, 'lr': 0.09649447833982373, 'lambd': 5.996959790570689, 'alpha': 0.1542379022969912, 'n_estimator': 853, 'num_leaves': 10}. Best is trial#345 with value: 0.8938792859166903.\n",
      "[I 2020-07-16 21:43:59,711] Finished trial#454 with value: 0.889628790025503 with parameters: {'subsample': 0.16731561750822915, 'colsample_bytree': 0.13863414490823756, 'lr': 0.09077704602166801, 'lambd': 5.6074705397687294, 'alpha': 0.7693076593311274, 'n_estimator': 900, 'num_leaves': 10}. Best is trial#345 with value: 0.8938792859166903.\n",
      "[I 2020-07-16 21:44:01,668] Finished trial#455 with value: 0.8920374043638425 with parameters: {'subsample': 0.27069550902360806, 'colsample_bytree': 0.19294245536227705, 'lr': 0.09424227204526431, 'lambd': 5.857436401945549, 'alpha': 0.4780164801884306, 'n_estimator': 929, 'num_leaves': 10}. Best is trial#345 with value: 0.8938792859166903.\n",
      "[I 2020-07-16 21:44:03,611] Finished trial#456 with value: 0.892745820345707 with parameters: {'subsample': 0.176354467400482, 'colsample_bytree': 0.1852256198147939, 'lr': 0.08916498959653697, 'lambd': 6.369901966973448, 'alpha': 0.02518980774214341, 'n_estimator': 877, 'num_leaves': 10}. Best is trial#345 with value: 0.8938792859166903.\n",
      "[I 2020-07-16 21:44:05,694] Finished trial#457 with value: 0.8933125531311986 with parameters: {'subsample': 0.23403400248495476, 'colsample_bytree': 0.19930735400185293, 'lr': 0.08997857597293905, 'lambd': 6.464623409827267, 'alpha': 0.003128938698971795, 'n_estimator': 920, 'num_leaves': 10}. Best is trial#345 with value: 0.8938792859166903.\n",
      "[I 2020-07-16 21:44:07,888] Finished trial#458 with value: 0.8901955228109946 with parameters: {'subsample': 0.2467557603112619, 'colsample_bytree': 0.19416065949884065, 'lr': 0.028069643658987516, 'lambd': 6.051569845655577, 'alpha': 0.6184246074289916, 'n_estimator': 935, 'num_leaves': 10}. Best is trial#345 with value: 0.8938792859166903.\n",
      "[I 2020-07-16 21:44:09,857] Finished trial#459 with value: 0.8921790875602154 with parameters: {'subsample': 0.2632269171200463, 'colsample_bytree': 0.21311977293226164, 'lr': 0.09998164403926747, 'lambd': 6.293725127895406, 'alpha': 0.004579679299542533, 'n_estimator': 897, 'num_leaves': 10}. Best is trial#345 with value: 0.8938792859166903.\n",
      "[I 2020-07-16 21:44:11,864] Finished trial#460 with value: 0.8926041371493341 with parameters: {'subsample': 0.19159842453822368, 'colsample_bytree': 0.19637221375568475, 'lr': 0.09004538406900778, 'lambd': 6.395329860191759, 'alpha': 0.005367281692822025, 'n_estimator': 916, 'num_leaves': 10}. Best is trial#345 with value: 0.8938792859166903.\n",
      "[I 2020-07-16 21:44:13,256] Finished trial#461 with value: 0.8880702748654009 with parameters: {'subsample': 0.22368107284504518, 'colsample_bytree': 0.11896805666135354, 'lr': 0.08684677281481458, 'lambd': 6.507318428648648, 'alpha': 7.383934911151693, 'n_estimator': 912, 'num_leaves': 10}. Best is trial#345 with value: 0.8938792859166903.\n",
      "[I 2020-07-16 21:44:15,135] Finished trial#462 with value: 0.8926041371493341 with parameters: {'subsample': 0.20891945001655995, 'colsample_bytree': 0.16583789129765375, 'lr': 0.09187676642169029, 'lambd': 6.175523657832225, 'alpha': 0.1824771460885655, 'n_estimator': 869, 'num_leaves': 10}. Best is trial#345 with value: 0.8938792859166903.\n",
      "[I 2020-07-16 21:44:17,181] Finished trial#463 with value: 0.8935959195239445 with parameters: {'subsample': 0.23004028274712002, 'colsample_bytree': 0.2084688165717374, 'lr': 0.08888480262270641, 'lambd': 5.149381531425367, 'alpha': 0.31447581311232936, 'n_estimator': 921, 'num_leaves': 10}. Best is trial#345 with value: 0.8938792859166903.\n",
      "[I 2020-07-16 21:44:19,101] Finished trial#464 with value: 0.8920374043638425 with parameters: {'subsample': 0.18208089723871837, 'colsample_bytree': 0.15662169937345885, 'lr': 0.0896922043048726, 'lambd': 5.58289199428911, 'alpha': 0.30781349378866274, 'n_estimator': 899, 'num_leaves': 10}. Best is trial#345 with value: 0.8938792859166903.\n",
      "[I 2020-07-16 21:44:21,092] Finished trial#465 with value: 0.8917540379710966 with parameters: {'subsample': 0.15456831022721684, 'colsample_bytree': 0.18366076492776917, 'lr': 0.08570874008162911, 'lambd': 5.03505325749153, 'alpha': 1.0254201878990427e-05, 'n_estimator': 884, 'num_leaves': 10}. Best is trial#345 with value: 0.8938792859166903.\n",
      "[I 2020-07-16 21:44:22,769] Finished trial#466 with value: 0.8899121564182488 with parameters: {'subsample': 0.23244188061728388, 'colsample_bytree': 0.13696039656900494, 'lr': 0.09247312086222637, 'lambd': 5.193467427643758, 'alpha': 0.41787426695178137, 'n_estimator': 836, 'num_leaves': 10}. Best is trial#345 with value: 0.8938792859166903.\n",
      "[I 2020-07-16 21:44:24,686] Finished trial#467 with value: 0.8914706715783508 with parameters: {'subsample': 0.20368085241638526, 'colsample_bytree': 0.16179339527152997, 'lr': 0.0879322252412721, 'lambd': 5.116142097156337, 'alpha': 0.17405392470512562, 'n_estimator': 865, 'num_leaves': 10}. Best is trial#345 with value: 0.8938792859166903.\n",
      "[I 2020-07-16 21:44:25,864] Finished trial#468 with value: 0.8852366109379428 with parameters: {'subsample': 0.23873615307399146, 'colsample_bytree': 0.20859892080092454, 'lr': 0.09051435113322036, 'lambd': 5.798869711268083, 'alpha': 0.014120315399673455, 'n_estimator': 934, 'num_leaves': 2}. Best is trial#345 with value: 0.8938792859166903.\n",
      "[I 2020-07-16 21:44:27,913] Finished trial#469 with value: 0.8913289883819779 with parameters: {'subsample': 0.22326402698031472, 'colsample_bytree': 0.2043943419254618, 'lr': 0.08898650176470964, 'lambd': 6.511704949176241, 'alpha': 0.32285343887657186, 'n_estimator': 915, 'num_leaves': 10}. Best is trial#345 with value: 0.8938792859166903.\n",
      "[I 2020-07-16 21:44:29,267] Finished trial#470 with value: 0.8889203740436384 with parameters: {'subsample': 0.17028320234955413, 'colsample_bytree': 0.09815177579866403, 'lr': 0.09179469608295937, 'lambd': 5.247410608381188, 'alpha': 0.697386472106087, 'n_estimator': 725, 'num_leaves': 10}. Best is trial#345 with value: 0.8938792859166903.\n",
      "[I 2020-07-16 21:44:30,874] Finished trial#471 with value: 0.8899121564182488 with parameters: {'subsample': 0.21804386310723128, 'colsample_bytree': 0.12722223683492603, 'lr': 0.07771099332252987, 'lambd': 6.186550729250398, 'alpha': 0.3898778179277143, 'n_estimator': 808, 'num_leaves': 9}. Best is trial#345 with value: 0.8938792859166903.\n",
      "[I 2020-07-16 21:44:32,858] Finished trial#472 with value: 0.8924624539529612 with parameters: {'subsample': 0.20171374116850943, 'colsample_bytree': 0.17414823590454157, 'lr': 0.08478657908865371, 'lambd': 5.926548146029793, 'alpha': 0.18210298702712607, 'n_estimator': 886, 'num_leaves': 10}. Best is trial#345 with value: 0.8938792859166903.\n",
      "[I 2020-07-16 21:44:34,987] Finished trial#473 with value: 0.8931708699348258 with parameters: {'subsample': 0.2571762378909397, 'colsample_bytree': 0.22320602065096443, 'lr': 0.08407107937509542, 'lambd': 6.336041525672499, 'alpha': 0.15101329394682367, 'n_estimator': 925, 'num_leaves': 10}. Best is trial#345 with value: 0.8938792859166903.\n",
      "[I 2020-07-16 21:44:37,114] Finished trial#474 with value: 0.8924624539529612 with parameters: {'subsample': 0.2764848097503566, 'colsample_bytree': 0.21709480855526722, 'lr': 0.08011369430729469, 'lambd': 5.422291016914683, 'alpha': 0.0032643745329874103, 'n_estimator': 940, 'num_leaves': 10}. Best is trial#345 with value: 0.8938792859166903.\n",
      "[I 2020-07-16 21:44:39,187] Finished trial#475 with value: 0.8920374043638425 with parameters: {'subsample': 0.8478545849446273, 'colsample_bytree': 0.1957019374204502, 'lr': 0.09714399046002635, 'lambd': 4.848057799774999, 'alpha': 0.004779706482391205, 'n_estimator': 921, 'num_leaves': 10}. Best is trial#345 with value: 0.8938792859166903.\n",
      "[I 2020-07-16 21:44:39,401] Finished trial#476 with value: 0.8604420515726835 with parameters: {'subsample': 0.14673394643604742, 'colsample_bytree': 0.20765921011807636, 'lr': 0.08268024867319752, 'lambd': 6.37012792782855, 'alpha': 0.2079481590861427, 'n_estimator': 11, 'num_leaves': 10}. Best is trial#345 with value: 0.8938792859166903.\n",
      "[I 2020-07-16 21:44:41,526] Finished trial#477 with value: 0.8916123547747237 with parameters: {'subsample': 0.29989019235450726, 'colsample_bytree': 0.18663993460349743, 'lr': 0.08379527402049591, 'lambd': 6.198177856696885, 'alpha': 0.009986531112950559, 'n_estimator': 944, 'num_leaves': 10}. Best is trial#345 with value: 0.8938792859166903.\n",
      "[I 2020-07-16 21:44:43,457] Finished trial#478 with value: 0.8921790875602154 with parameters: {'subsample': 0.2554870237553317, 'colsample_bytree': 0.17434737898831257, 'lr': 0.09458819902277031, 'lambd': 6.069081645193803, 'alpha': 0.5518577968548221, 'n_estimator': 936, 'num_leaves': 10}. Best is trial#345 with value: 0.8938792859166903.\n",
      "[I 2020-07-16 21:44:45,378] Finished trial#479 with value: 0.8918957211674695 with parameters: {'subsample': 0.23395232787664005, 'colsample_bytree': 0.11564433171304138, 'lr': 0.08616119521914002, 'lambd': 5.977198864514515, 'alpha': 0.005464536780770288, 'n_estimator': 904, 'num_leaves': 10}. Best is trial#345 with value: 0.8938792859166903.\n",
      "[I 2020-07-16 21:44:47,448] Finished trial#480 with value: 0.8926041371493341 with parameters: {'subsample': 0.22472707039902234, 'colsample_bytree': 0.20535689045905156, 'lr': 0.08872567827614466, 'lambd': 5.7185970358915625, 'alpha': 0.2290636245065952, 'n_estimator': 920, 'num_leaves': 10}. Best is trial#345 with value: 0.8938792859166903.\n",
      "[I 2020-07-16 21:44:49,670] Finished trial#481 with value: 0.8892037404363843 with parameters: {'subsample': 0.28332687354835157, 'colsample_bytree': 0.22441554680990564, 'lr': 0.0195048657280018, 'lambd': 6.548427828160148, 'alpha': 3.506604144642311, 'n_estimator': 907, 'num_leaves': 10}. Best is trial#345 with value: 0.8938792859166903.\n",
      "[I 2020-07-16 21:44:51,730] Finished trial#482 with value: 0.892745820345707 with parameters: {'subsample': 0.2587551026388575, 'colsample_bytree': 0.22331721643308633, 'lr': 0.08768441616882391, 'lambd': 6.588455225531596, 'alpha': 0.3367725413492804, 'n_estimator': 899, 'num_leaves': 10}. Best is trial#345 with value: 0.8938792859166903.\n",
      "[I 2020-07-16 21:44:53,640] Finished trial#483 with value: 0.8920374043638425 with parameters: {'subsample': 0.2561899662205848, 'colsample_bytree': 0.2125891015029041, 'lr': 0.0984269732636819, 'lambd': 4.930654226299569, 'alpha': 0.6812394968716333, 'n_estimator': 952, 'num_leaves': 10}. Best is trial#345 with value: 0.8938792859166903.\n",
      "[I 2020-07-16 21:44:55,567] Finished trial#484 with value: 0.8923207707565882 with parameters: {'subsample': 0.1841026180271723, 'colsample_bytree': 0.14366185457823438, 'lr': 0.0836728961334461, 'lambd': 6.353102240805734, 'alpha': 0.169082745038723, 'n_estimator': 885, 'num_leaves': 10}. Best is trial#345 with value: 0.8938792859166903.\n",
      "[I 2020-07-16 21:44:57,704] Finished trial#485 with value: 0.892745820345707 with parameters: {'subsample': 0.2316657360014235, 'colsample_bytree': 0.19745791459072828, 'lr': 0.09096458475324146, 'lambd': 5.425636408734305, 'alpha': 0.0003449819011055455, 'n_estimator': 962, 'num_leaves': 10}. Best is trial#345 with value: 0.8938792859166903.\n",
      "[I 2020-07-16 21:44:59,438] Finished trial#486 with value: 0.8903372060073675 with parameters: {'subsample': 0.21143150957955043, 'colsample_bytree': 0.16656936809396253, 'lr': 0.08506577179396921, 'lambd': 6.2640850183547965, 'alpha': 0.9191882317737082, 'n_estimator': 867, 'num_leaves': 10}. Best is trial#345 with value: 0.8938792859166903.\n",
      "[I 2020-07-16 21:45:01,192] Finished trial#487 with value: 0.8909039387928591 with parameters: {'subsample': 0.1949524389893734, 'colsample_bytree': 0.1495356156906844, 'lr': 0.09025718384860522, 'lambd': 6.1405238163134905, 'alpha': 0.4152600152404336, 'n_estimator': 836, 'num_leaves': 10}. Best is trial#345 with value: 0.8938792859166903.\n",
      "[I 2020-07-16 21:45:03,151] Finished trial#488 with value: 0.8926041371493341 with parameters: {'subsample': 0.24637593856470658, 'colsample_bytree': 0.1831180770209815, 'lr': 0.081141510841531, 'lambd': 6.449334136166498, 'alpha': 0.35227692101973845, 'n_estimator': 931, 'num_leaves': 9}. Best is trial#345 with value: 0.8938792859166903.\n",
      "[I 2020-07-16 21:45:05,084] Finished trial#489 with value: 0.8921790875602154 with parameters: {'subsample': 0.12751566595549527, 'colsample_bytree': 0.15970163262387038, 'lr': 0.08683107696659467, 'lambd': 6.422104879033311, 'alpha': 0.17512262068111598, 'n_estimator': 891, 'num_leaves': 10}. Best is trial#345 with value: 0.8938792859166903.\n",
      "[I 2020-07-16 21:45:06,941] Finished trial#490 with value: 0.892745820345707 with parameters: {'subsample': 0.21490469867749307, 'colsample_bytree': 0.2352641305632846, 'lr': 0.09243620880631141, 'lambd': 5.970549249891829, 'alpha': 0.58424869737787, 'n_estimator': 854, 'num_leaves': 10}. Best is trial#345 with value: 0.8938792859166903.\n",
      "[I 2020-07-16 21:45:09,030] Finished trial#491 with value: 0.8920374043638425 with parameters: {'subsample': 0.16329183921790347, 'colsample_bytree': 0.24223485413736537, 'lr': 0.08865545012964152, 'lambd': 6.638438094990455, 'alpha': 0.002193121977409382, 'n_estimator': 924, 'num_leaves': 10}. Best is trial#345 with value: 0.8938792859166903.\n",
      "[I 2020-07-16 21:45:10,830] Finished trial#492 with value: 0.8920374043638425 with parameters: {'subsample': 0.18839220174253268, 'colsample_bytree': 0.17361218344855503, 'lr': 0.09252580999832594, 'lambd': 6.0981601867152255, 'alpha': 0.5283627510176401, 'n_estimator': 874, 'num_leaves': 10}. Best is trial#345 with value: 0.8938792859166903.\n",
      "[I 2020-07-16 21:45:12,438] Finished trial#493 with value: 0.8926041371493341 with parameters: {'subsample': 0.20450214405398384, 'colsample_bytree': 0.19392061988219164, 'lr': 0.0892745386562625, 'lambd': 5.70210695090155, 'alpha': 0.3909422534156506, 'n_estimator': 908, 'num_leaves': 5}. Best is trial#345 with value: 0.8938792859166903.\n",
      "[I 2020-07-16 21:45:14,442] Finished trial#494 with value: 0.8924624539529612 with parameters: {'subsample': 0.16295893180847346, 'colsample_bytree': 0.21497006616402714, 'lr': 0.08565256000480952, 'lambd': 6.42371312228141, 'alpha': 0.00453493069657665, 'n_estimator': 900, 'num_leaves': 10}. Best is trial#345 with value: 0.8938792859166903.\n",
      "[I 2020-07-16 21:45:16,444] Finished trial#495 with value: 0.8933125531311986 with parameters: {'subsample': 0.2428765894101892, 'colsample_bytree': 0.2289976085452517, 'lr': 0.08246896851316869, 'lambd': 6.278997182715106, 'alpha': 0.15305864608095152, 'n_estimator': 878, 'num_leaves': 10}. Best is trial#345 with value: 0.8938792859166903.\n",
      "[I 2020-07-16 21:45:18,592] Finished trial#496 with value: 0.8924624539529612 with parameters: {'subsample': 0.23408294014299877, 'colsample_bytree': 0.19859245054622215, 'lr': 0.07917094514189907, 'lambd': 6.576157164513631, 'alpha': 0.17224009669173995, 'n_estimator': 945, 'num_leaves': 10}. Best is trial#345 with value: 0.8938792859166903.\n",
      "[I 2020-07-16 21:45:20,572] Finished trial#497 with value: 0.8916123547747237 with parameters: {'subsample': 0.24261276205188934, 'colsample_bytree': 0.21386391785521758, 'lr': 0.08208467014382145, 'lambd': 5.892860668261386, 'alpha': 0.02161464800147126, 'n_estimator': 877, 'num_leaves': 10}. Best is trial#345 with value: 0.8938792859166903.\n",
      "[I 2020-07-16 21:45:22,376] Finished trial#498 with value: 0.8923207707565882 with parameters: {'subsample': 0.2688729465479556, 'colsample_bytree': 0.219043697963417, 'lr': 0.08354244336003921, 'lambd': 6.227958447118605, 'alpha': 0.0024520499872852375, 'n_estimator': 852, 'num_leaves': 9}. Best is trial#345 with value: 0.8938792859166903.\n",
      "[I 2020-07-16 21:45:24,443] Finished trial#499 with value: 0.8926041371493341 with parameters: {'subsample': 0.277041107185777, 'colsample_bytree': 0.27109086957774525, 'lr': 0.08732494983055192, 'lambd': 6.6374914523842214, 'alpha': 0.16603197748643952, 'n_estimator': 924, 'num_leaves': 10}. Best is trial#345 with value: 0.8938792859166903.\n",
      "\n"
     ]
    }
   ],
   "source": [
    "def objective(trial):\n",
    "    #min_child_weight = trial.suggest_int('min_child_weight', 2, 10)\n",
    "    #gamma=trial.suggest_float('gamma',0.5,10)\n",
    "    subsample = trial.suggest_float('subsample', 0.1,1)\n",
    "    colsample_bytree = trial.suggest_float('colsample_bytree', 0,1)\n",
    "    # max_deph = trial.suggest_int('max_deph', 2,10)\n",
    "    lr= trial.suggest_float('lr', 0.001,0.1)\n",
    "    lambd= trial.suggest_float('lambd', 1,10)\n",
    "    alpha= trial.suggest_float('alpha', 0,10)\n",
    "    n_estimators=trial.suggest_int('n_estimator', 5,1000)\n",
    "    num_leaves= trial.suggest_int('num_leaves', 2,10)\n",
    "\n",
    "\n",
    "    \n",
    "    \n",
    "    my_lgm = lgb.LGBMClassifier(learning_rate=lr, subsample = subsample, colsample_bytree = colsample_bytree,reg_alpha=alpha, \n",
    "                                   reg_lambda=lambd, num_leaves=num_leaves, n_estimators=n_estimators, boosting_type= 'gbdt',random_state= 42)\n",
    "\n",
    "   \n",
    "    my_lgm.fit(X_train, y_train)\n",
    "    y_pred = my_lgm .predict(X_test)\n",
    "    \n",
    "    return accuracy_score(y_test, my_lgm.predict(X_test))\n",
    "\n",
    "\n",
    "# cross_validate(X_train_mat100, y,lamda=0.01,k=4)parameters thatparameters that\n",
    "\n",
    "sampler = optuna.samplers.TPESampler()\n",
    "study = optuna.create_study(sampler=sampler, direction='maximize')\n",
    "df = study.optimize(func=objective, n_trials=500,show_progress_bar=True)"
   ]
  },
  {
   "cell_type": "code",
   "execution_count": 125,
   "metadata": {
    "colab": {},
    "colab_type": "code",
    "id": "2bdG8fvfHtFV"
   },
   "outputs": [],
   "source": [
    "# params = {'boosting_type': 'gbdt',\n",
    "#           'max_depth' : -1,\n",
    "#           'objective': 'binary',\n",
    "#           'nthread': 3, # Updated from nthread\n",
    "#           'num_leaves': 64,\n",
    "#           'learning_rate': 0.05,\n",
    "#           'max_bin': 512,\n",
    "#           'subsample_for_bin': 200,\n",
    "#           'subsample': 1,\n",
    "#           'subsample_freq': 1,\n",
    "#           'colsample_bytree': 0.8,\n",
    "#           'reg_alpha': 5,\n",
    "#           'reg_lambda': 10,\n",
    "#           'min_split_gain': 0.5,\n",
    "#           'min_child_weight': 1,\n",
    "#           'min_child_samples': 5,\n",
    "#           'scale_pos_weight': 1,\n",
    "#           'num_class' : 1,\n",
    "#           'metric' : 'binary_error'}\n",
    "\n",
    "params={'boosting_type': 'gbdt',\n",
    " 'colsample_bytree': 0.23568434745552325,\n",
    " 'learning_rate':  0.09042049414606464,\n",
    " 'n_estimators': 915,\n",
    " 'num_leaves': 10,\n",
    " 'objective': 'binary',\n",
    " 'random_state': 42,\n",
    " 'reg_alpha':0.24060508712715062,\n",
    " 'reg_lambda':  6.693537423020425,\n",
    " 'subsample':  0.18629885058277373}\n",
    "\n"
   ]
  },
  {
   "cell_type": "code",
   "execution_count": 126,
   "metadata": {
    "colab": {},
    "colab_type": "code",
    "id": "-vHobeCwHtKN"
   },
   "outputs": [],
   "source": [
    "lgm_model = lgb.LGBMClassifier(**params)"
   ]
  },
  {
   "cell_type": "code",
   "execution_count": 127,
   "metadata": {
    "colab": {
     "base_uri": "https://localhost:8080/",
     "height": 170
    },
    "colab_type": "code",
    "id": "3nxC5nREHtIj",
    "outputId": "db7e66d8-fdee-499e-8c26-27829691cedc"
   },
   "outputs": [
    {
     "data": {
      "text/plain": [
       "LGBMClassifier(boosting_type='gbdt', class_weight=None,\n",
       "               colsample_bytree=0.23568434745552325, importance_type='split',\n",
       "               learning_rate=0.09042049414606464, max_depth=-1,\n",
       "               min_child_samples=20, min_child_weight=0.001, min_split_gain=0.0,\n",
       "               n_estimators=915, n_jobs=-1, num_leaves=10, objective='binary',\n",
       "               random_state=42, reg_alpha=0.24060508712715062,\n",
       "               reg_lambda=6.693537423020425, silent=True,\n",
       "               subsample=0.18629885058277373, subsample_for_bin=200000,\n",
       "               subsample_freq=0)"
      ]
     },
     "execution_count": 127,
     "metadata": {
      "tags": []
     },
     "output_type": "execute_result"
    }
   ],
   "source": [
    "lgm_model.fit(X_train,y_train)"
   ]
  },
  {
   "cell_type": "code",
   "execution_count": 128,
   "metadata": {
    "colab": {
     "base_uri": "https://localhost:8080/",
     "height": 34
    },
    "colab_type": "code",
    "id": "-3iJNIqSIPvM",
    "outputId": "87f6eece-5484-4fc8-ba13-7fad1f13eba6"
   },
   "outputs": [
    {
     "data": {
      "text/plain": [
       "0.1061207140833097"
      ]
     },
     "execution_count": 128,
     "metadata": {
      "tags": []
     },
     "output_type": "execute_result"
    }
   ],
   "source": [
    "y_pred=lgm_model.predict(X_test)\n",
    "1-accuracy_score(y_test,y_pred)"
   ]
  },
  {
   "cell_type": "code",
   "execution_count": 86,
   "metadata": {
    "colab": {},
    "colab_type": "code",
    "id": "Lku9e3NQKzqC"
   },
   "outputs": [],
   "source": [
    "test_pred=lgm_model.predict(test_data)"
   ]
  },
  {
   "cell_type": "code",
   "execution_count": 87,
   "metadata": {
    "colab": {},
    "colab_type": "code",
    "id": "FnkiLgpJKwp3"
   },
   "outputs": [],
   "source": [
    "col=[id[i] +' '+'x'+' '+ country[i] for i in range(len(test))]\n",
    "\n",
    "test['bank_account']=test_pred\n",
    "test['uniqueid']=col\n",
    "\n",
    "\n",
    "pred=test[['uniqueid','bank_account']]\n",
    "\n",
    "# pred.columns\n",
    "pred.to_csv('lgbm1.csv', index=False)\n"
   ]
  },
  {
   "cell_type": "code",
   "execution_count": null,
   "metadata": {
    "colab": {
     "base_uri": "https://localhost:8080/",
     "height": 245
    },
    "colab_type": "code",
    "id": "MWiuFA-37LFz",
    "outputId": "34238f44-6aa6-4bda-8353-e261759867e7"
   },
   "outputs": [
    {
     "data": {
      "text/plain": [
       "GridSearchCV(cv=4, error_score='raise-deprecating',\n",
       "       estimator=LGBMClassifier(boosting_type='gbdt', class_weight=None, colsample_bytree=1.0,\n",
       "        importance_type='split', learning_rate=0.1, max_bin=512,\n",
       "        max_depth=-1, min_child_samples=5, min_child_weight=1,\n",
       "        min_split_gain=0.5, n_estimators=100, n_jobs=3, num_leaves=31,\n",
       "        objective='binary', random_state=None, reg_alpha=0.0,\n",
       "        reg_lambda=0.0, scale_pos_weight=1, silent=True, subsample=1,\n",
       "        subsample_for_bin=200, subsample_freq=1),\n",
       "       fit_params=None, iid='warn', n_jobs=2,\n",
       "       param_grid={'n_estimators': [40, 100, 200, 1000], 'num_leaves': [6, 8, 12, 16], 'reg_alpha': [1, 1.2], 'random_state': [42, 501], 'colsample_bytree': [0.65, 0.66], 'subsample': [0.7, 0.75, 0.8], 'objective': ['binary'], 'learning_rate': [0.005, 0.01, 0.05, 0.07], 'reg_lambda': [1, 1.2, 1.4], 'boosting_type': ['gbdt']},\n",
       "       pre_dispatch='2*n_jobs', refit=True, return_train_score='warn',\n",
       "       scoring=None, verbose=0)"
      ]
     },
     "execution_count": 62,
     "metadata": {
      "tags": []
     },
     "output_type": "execute_result"
    }
   ],
   "source": [
    "\n",
    "\n",
    "params = {'boosting_type': 'gbdt',\n",
    "          'max_depth' : -1,\n",
    "          'objective': 'binary',\n",
    "          'nthread': 3, # Updated from nthread\n",
    "          'num_leaves': 64,\n",
    "          'learning_rate': 0.05,\n",
    "          'max_bin': 512,\n",
    "          'subsample_for_bin': 200,\n",
    "          'subsample': 1,\n",
    "          'subsample_freq': 1,\n",
    "          'colsample_bytree': 0.8,\n",
    "          'reg_alpha': 5,\n",
    "          'reg_lambda': 10,\n",
    "          'min_split_gain': 0.5,\n",
    "          'min_child_weight': 1,\n",
    "          'min_child_samples': 5,\n",
    "          'scale_pos_weight': 1,\n",
    "          'num_class' : 1,\n",
    "          'metric' : 'binary_error'}\n",
    "\n",
    "\n",
    "\n",
    "\n",
    "\n",
    "\n",
    "gridParams = {\n",
    "    'learning_rate': [0.005, 0.01,0.05,0.07, 0.1],\n",
    "    'n_estimators': [40, 100,200,1000],\n",
    "    'num_leaves': [6,8,12,16],\n",
    "    'boosting_type' : ['gbdt'],\n",
    "    'objective' : ['binary'],\n",
    "    'random_state' : [42,501], # Updated from 'seed'\n",
    "    'colsample_bytree' : [0.6, 0.65,0.8],\n",
    "    'subsample' : [0.6,0.7,0.75, 0.8],\n",
    "    'reg_alpha' : [1,1.2],\n",
    "    'reg_lambda' : [1,1.2,1.4],\n",
    "    }\n",
    "\n",
    "# Create classifier to use. Note that parameters have to be input manually\n",
    "# not as a dict!\n",
    "mdl = lgb.LGBMClassifier(boosting_type= 'gbdt',\n",
    "          objective = 'binary',\n",
    "          n_jobs = 3, # Updated from 'nthread'\n",
    "          silent = True,\n",
    "          max_depth = params['max_depth'],\n",
    "          max_bin = params['max_bin'],\n",
    "          subsample_for_bin = params['subsample_for_bin'],\n",
    "          subsample = params['subsample'],\n",
    "          subsample_freq = params['subsample_freq'],\n",
    "          min_split_gain = params['min_split_gain'],\n",
    "          min_child_weight = params['min_child_weight'],\n",
    "          min_child_samples = params['min_child_samples'],\n",
    "          scale_pos_weight = params['scale_pos_weight'])\n",
    "\n",
    "# To view the default model params:\n",
    "mdl.get_params().keys()\n",
    "\n",
    "# Create the grid\n",
    "grid = GridSearchCV(mdl, gridParams,\n",
    "                    verbose=0,\n",
    "                    cv=4,\n",
    "                    n_jobs=2)\n",
    "# Run the grid\n",
    "grid.fit(X_train, y_train)"
   ]
  },
  {
   "cell_type": "code",
   "execution_count": null,
   "metadata": {
    "colab": {
     "base_uri": "https://localhost:8080/",
     "height": 191
    },
    "colab_type": "code",
    "id": "rMyCLjkZDjux",
    "outputId": "ffd9199b-d6ee-4efc-92a1-8375468c3479"
   },
   "outputs": [
    {
     "data": {
      "text/plain": [
       "{'boosting_type': 'gbdt',\n",
       " 'colsample_bytree': 0.66,\n",
       " 'learning_rate': 0.07,\n",
       " 'n_estimators': 1000,\n",
       " 'num_leaves': 8,\n",
       " 'objective': 'binary',\n",
       " 'random_state': 42,\n",
       " 'reg_alpha': 1.2,\n",
       " 'reg_lambda': 1.4,\n",
       " 'subsample': 0.7}"
      ]
     },
     "execution_count": 63,
     "metadata": {
      "tags": []
     },
     "output_type": "execute_result"
    }
   ],
   "source": [
    "grid.best_params_"
   ]
  },
  {
   "cell_type": "code",
   "execution_count": null,
   "metadata": {
    "colab": {
     "base_uri": "https://localhost:8080/",
     "height": 121
    },
    "colab_type": "code",
    "id": "Ur1xL-kMDtz7",
    "outputId": "2f1e49f9-51c8-4939-e073-22aa0dc6bac6"
   },
   "outputs": [
    {
     "data": {
      "text/plain": [
       "LGBMClassifier(boosting_type='gbdt', class_weight=None, colsample_bytree=0.65,\n",
       "        importance_type='split', learning_rate=0.005, max_depth=-1,\n",
       "        min_child_samples=20, min_child_weight=0.001, min_split_gain=0.0,\n",
       "        n_estimators=40, n_jobs=-1, num_leaves=6, objective='binary',\n",
       "        random_state=501, reg_alpha=1, reg_lambda=1, silent=True,\n",
       "        subsample=0.7, subsample_for_bin=200000, subsample_freq=0)"
      ]
     },
     "execution_count": 66,
     "metadata": {
      "tags": []
     },
     "output_type": "execute_result"
    }
   ],
   "source": [
    "clf = lgb.LGBMClassifier(boosting_type = 'gbdt',\n",
    " colsample_bytree = 0.65,\n",
    " learning_rate = 0.005,\n",
    " n_estimators = 40,\n",
    " num_leaves = 6,\n",
    " objective ='binary',\n",
    " random_state = 501,\n",
    " reg_alpha = 1,\n",
    " reg_lambda = 1,\n",
    " subsample = 0.7)\n",
    "clf.fit(X_train, y_train)"
   ]
  },
  {
   "cell_type": "code",
   "execution_count": null,
   "metadata": {
    "colab": {},
    "colab_type": "code",
    "id": "7lBFt7bPBYbV"
   },
   "outputs": [],
   "source": [
    "y_pred=clf.predict(X_test)\n",
    "\n",
    "for i in range(len(X_test)):\n",
    "    if y_pred[i]>=.5:       # setting threshold to .5\n",
    "       y_pred[i]=1\n",
    "    else:  \n",
    "       y_pred[i]=0"
   ]
  },
  {
   "cell_type": "code",
   "execution_count": null,
   "metadata": {
    "colab": {
     "base_uri": "https://localhost:8080/",
     "height": 34
    },
    "colab_type": "code",
    "id": "8uAOs0hVA4Ke",
    "outputId": "bcbffead-762a-4f0c-9122-7a26d40e9a97"
   },
   "outputs": [
    {
     "data": {
      "text/plain": [
       "0.1395579484273165"
      ]
     },
     "execution_count": 68,
     "metadata": {
      "tags": []
     },
     "output_type": "execute_result"
    }
   ],
   "source": [
    "\n",
    "1-accuracy_score(y_test,y_pred)"
   ]
  },
  {
   "cell_type": "markdown",
   "metadata": {
    "colab_type": "text",
    "id": "-l7Eu99WhD6t"
   },
   "source": [
    "## Using Grafient Boost"
   ]
  },
  {
   "cell_type": "code",
   "execution_count": null,
   "metadata": {
    "colab": {
     "base_uri": "https://localhost:8080/",
     "height": 173
    },
    "colab_type": "code",
    "id": "Z00UdIY27LIi",
    "outputId": "f99538f4-ab12-4a63-cc3c-f634a89fc9c4"
   },
   "outputs": [
    {
     "data": {
      "text/plain": [
       "GradientBoostingClassifier(criterion='friedman_mse', init=None,\n",
       "              learning_rate=0.01, loss='deviance', max_depth=6,\n",
       "              max_features=None, max_leaf_nodes=None,\n",
       "              min_impurity_decrease=0.0, min_impurity_split=None,\n",
       "              min_samples_leaf=1, min_samples_split=2,\n",
       "              min_weight_fraction_leaf=0.0, n_estimators=100,\n",
       "              n_iter_no_change=None, presort='auto', random_state=None,\n",
       "              subsample=1.0, tol=0.0001, validation_fraction=0.1,\n",
       "              verbose=0, warm_start=False)"
      ]
     },
     "execution_count": 105,
     "metadata": {
      "tags": []
     },
     "output_type": "execute_result"
    }
   ],
   "source": [
    "model_grad = GradientBoostingClassifier(learning_rate=0.01, max_depth=6)\n",
    "\n",
    "\n",
    "model_grad.fit(X_train, y_train)"
   ]
  },
  {
   "cell_type": "code",
   "execution_count": null,
   "metadata": {
    "colab": {},
    "colab_type": "code",
    "id": "wJOcNYtQV5RW"
   },
   "outputs": [],
   "source": [
    "params = {'max_depth':[2,3,4,5],\n",
    "          'learning_rate': [0.1,0.5,0.01,0.05], # Updated from nthread\n",
    "          }"
   ]
  },
  {
   "cell_type": "code",
   "execution_count": null,
   "metadata": {
    "colab": {
     "base_uri": "https://localhost:8080/",
     "height": 208
    },
    "colab_type": "code",
    "id": "QRHdnYaBWhID",
    "outputId": "1c89735d-5acb-4858-dd53-da6a77517167"
   },
   "outputs": [
    {
     "data": {
      "text/plain": [
       "GridSearchCV(cv=4, error_score='raise-deprecating',\n",
       "       estimator=GradientBoostingClassifier(criterion='friedman_mse', init=None,\n",
       "              learning_rate=0.1, loss='deviance', max_depth=3,\n",
       "              max_features=None, max_leaf_nodes=None,\n",
       "              min_impurity_decrease=0.0, min_impurity_split=None,\n",
       "              min_samples_leaf=1, min_sampl...      subsample=1.0, tol=0.0001, validation_fraction=0.1,\n",
       "              verbose=0, warm_start=False),\n",
       "       fit_params=None, iid='warn', n_jobs=2,\n",
       "       param_grid={'learning_rate': [0.1, 0.5, 0.01, 0.05], 'max_depth': [2, 3, 4, 5]},\n",
       "       pre_dispatch='2*n_jobs', refit=True, return_train_score='warn',\n",
       "       scoring=None, verbose=0)"
      ]
     },
     "execution_count": 143,
     "metadata": {
      "tags": []
     },
     "output_type": "execute_result"
    }
   ],
   "source": [
    "grid = GridSearchCV(model_grad, params,\n",
    "                    verbose=0,\n",
    "                    cv=4,\n",
    "                    n_jobs=2)\n",
    "# Run the grid\n",
    "grid.fit(X_train, y_train)"
   ]
  },
  {
   "cell_type": "code",
   "execution_count": null,
   "metadata": {
    "colab": {
     "base_uri": "https://localhost:8080/",
     "height": 34
    },
    "colab_type": "code",
    "id": "9cHmBcF3Zcwa",
    "outputId": "6f289037-6b2a-4589-f1b4-8afb152f790e"
   },
   "outputs": [
    {
     "data": {
      "text/plain": [
       "{'learning_rate': 0.05, 'max_depth': 4}"
      ]
     },
     "execution_count": 144,
     "metadata": {
      "tags": []
     },
     "output_type": "execute_result"
    }
   ],
   "source": [
    "grid.best_params_"
   ]
  },
  {
   "cell_type": "code",
   "execution_count": null,
   "metadata": {
    "colab": {
     "base_uri": "https://localhost:8080/",
     "height": 34
    },
    "colab_type": "code",
    "id": "wjkHjw9iNT45",
    "outputId": "f34ed497-b3ca-4e1e-956a-d7ce5ad887d2"
   },
   "outputs": [
    {
     "data": {
      "text/plain": [
       "0.11773873618588837"
      ]
     },
     "execution_count": 106,
     "metadata": {
      "tags": []
     },
     "output_type": "execute_result"
    }
   ],
   "source": [
    "y_pred=model_grad.predict(X_test)\n",
    "1-accuracy_score(y_test,y_pred)"
   ]
  },
  {
   "cell_type": "code",
   "execution_count": null,
   "metadata": {
    "colab": {},
    "colab_type": "code",
    "id": "UqcTkRSmNpjo"
   },
   "outputs": [],
   "source": [
    "final_pred=model_grad.predict(test_data)"
   ]
  },
  {
   "cell_type": "code",
   "execution_count": null,
   "metadata": {
    "colab": {},
    "colab_type": "code",
    "id": "HGeNZljHNkF_"
   },
   "outputs": [],
   "source": [
    "col=[id[i] +' '+'x'+' '+ country[i] for i in range(len(test))]\n",
    "\n",
    "test['bank_account']=final_pred\n",
    "test['uniqueid']=col\n",
    "\n",
    "\n",
    "pred=test[['uniqueid','bank_account']]\n",
    "\n",
    "# pred.columns\n",
    "pred.to_csv('grad_boost1.csv', index=False)"
   ]
  },
  {
   "cell_type": "markdown",
   "metadata": {
    "colab_type": "text",
    "id": "XxGwplJdR4f1"
   },
   "source": [
    "## ensembling"
   ]
  },
  {
   "cell_type": "code",
   "execution_count": null,
   "metadata": {
    "colab": {
     "base_uri": "https://localhost:8080/",
     "height": 191
    },
    "colab_type": "code",
    "id": "L5CveAZjR4f1",
    "outputId": "b86f7f6d-a499-45e4-bffe-3532071a15af"
   },
   "outputs": [
    {
     "name": "stdout",
     "output_type": "stream",
     "text": [
      "Collecting statistics\n",
      "  Downloading https://files.pythonhosted.org/packages/bb/3a/ae99a15e65636559d936dd2159d75af1619491e8cb770859fbc8aa62cef6/statistics-1.0.3.5.tar.gz\n",
      "Requirement already satisfied: docutils>=0.3 in /usr/local/lib/python2.7/dist-packages (from statistics) (0.14)\n",
      "Building wheels for collected packages: statistics\n",
      "  Building wheel for statistics (setup.py) ... \u001b[?25l\u001b[?25hdone\n",
      "  Created wheel for statistics: filename=statistics-1.0.3.5-cp27-none-any.whl size=7454 sha256=6922f6fc250275bc6592bcd43a01bf339adc4f8174c0af3a7de878d2bafbbfd9\n",
      "  Stored in directory: /root/.cache/pip/wheels/75/55/90/73aa7662bfb4565b567618547a275f01372a678ca92ecd64f3\n",
      "Successfully built statistics\n",
      "Installing collected packages: statistics\n",
      "Successfully installed statistics-1.0.3.5\n"
     ]
    }
   ],
   "source": [
    "!pip install statistics"
   ]
  },
  {
   "cell_type": "code",
   "execution_count": 98,
   "metadata": {
    "colab": {},
    "colab_type": "code",
    "id": "DSReWuu0R4f5"
   },
   "outputs": [],
   "source": [
    "from statistics import mode "
   ]
  },
  {
   "cell_type": "code",
   "execution_count": 100,
   "metadata": {
    "colab": {},
    "colab_type": "code",
    "id": "2F8thDy4R4f9"
   },
   "outputs": [],
   "source": [
    "# pred1=model0.predict(X_test)\n",
    "pred1=xgb_model.predict(X_test)\n",
    "pred2=model_randf.predict(X_test)\n",
    "# pred4=model_grad.predict(X_test)\n",
    "pred3=lgm_model.predict(X_test)\n",
    "\n",
    "\n",
    "\n",
    "\n",
    "final_pred = np.array([])\n",
    "for i in range(0,len(X_test)):\n",
    "    final_pred = np.append(final_pred, mode([ pred1[i],pred2[i],pred3[i]]))"
   ]
  },
  {
   "cell_type": "code",
   "execution_count": 101,
   "metadata": {
    "colab": {
     "base_uri": "https://localhost:8080/",
     "height": 34
    },
    "colab_type": "code",
    "id": "6nw1cfPyR4gK",
    "outputId": "0e04797f-3dd3-4c72-a591-8ce30a84b0ca"
   },
   "outputs": [
    {
     "data": {
      "text/plain": [
       "0.10711249645792009"
      ]
     },
     "execution_count": 101,
     "metadata": {
      "tags": []
     },
     "output_type": "execute_result"
    }
   ],
   "source": [
    "1 - accuracy_score(y_test, final_pred)"
   ]
  },
  {
   "cell_type": "code",
   "execution_count": 103,
   "metadata": {
    "colab": {},
    "colab_type": "code",
    "id": "VBtokVmvR4gO"
   },
   "outputs": [],
   "source": [
    "#pred1=model0.predict(test_data)\n",
    "pred1=xgb_model.predict(test_data)\n",
    "pred2=model_randf.predict(test_data)\n",
    "pred3=lgm_model.predict(test_data)\n",
    "\n",
    "\n",
    "final_pred = np.array([])\n",
    "for i in range(0,len(test_data)):\n",
    "    final_pred = np.append(final_pred, mode([ pred1[i], pred2[i],pred3[i]]))"
   ]
  },
  {
   "cell_type": "code",
   "execution_count": 103,
   "metadata": {
    "colab": {},
    "colab_type": "code",
    "id": "qclSAV77R4gU"
   },
   "outputs": [],
   "source": []
  },
  {
   "cell_type": "code",
   "execution_count": 104,
   "metadata": {
    "colab": {},
    "colab_type": "code",
    "id": "2jnBMIMWR4gX"
   },
   "outputs": [],
   "source": [
    "col=[id[i] +' '+'x'+' '+ country[i] for i in range(len(test))]\n",
    "\n",
    "test['bank_account']=final_pred\n",
    "test['uniqueid']=col\n",
    "\n",
    "\n",
    "pred=test[['uniqueid','bank_account']]\n",
    "\n",
    "# pred.columns\n",
    "pred.to_csv('xgb_rf_lgbm1.csv', index=False)"
   ]
  },
  {
   "cell_type": "code",
   "execution_count": null,
   "metadata": {
    "colab": {},
    "colab_type": "code",
    "id": "5DfxCS7TR4gb"
   },
   "outputs": [],
   "source": []
  },
  {
   "cell_type": "code",
   "execution_count": null,
   "metadata": {
    "colab": {},
    "colab_type": "code",
    "id": "3I5jLdc8R4gf"
   },
   "outputs": [],
   "source": []
  },
  {
   "cell_type": "code",
   "execution_count": null,
   "metadata": {
    "colab": {},
    "colab_type": "code",
    "id": "g9ybXS61R4gj"
   },
   "outputs": [],
   "source": []
  },
  {
   "cell_type": "code",
   "execution_count": null,
   "metadata": {
    "colab": {},
    "colab_type": "code",
    "id": "HM7fG4Z5R4gn"
   },
   "outputs": [],
   "source": []
  },
  {
   "cell_type": "code",
   "execution_count": null,
   "metadata": {
    "colab": {},
    "colab_type": "code",
    "id": "68b6INRlR4gs"
   },
   "outputs": [],
   "source": []
  }
 ],
 "metadata": {
  "colab": {
   "collapsed_sections": [
    "_YrlkEK_R4ax",
    "EWPIAST_R4bZ",
    "V-9-VPg2R4bg",
    "Oi-IHmwER4cC",
    "pwJJNd4BR4d4",
    "WQZ5EPABR4d5",
    "lwcjAYxMR4d-",
    "XxGwplJdR4f1"
   ],
   "name": "Zindi_1.ipynb",
   "provenance": []
  },
  "kernelspec": {
   "display_name": "Python 3",
   "language": "python",
   "name": "python3"
  },
  "language_info": {
   "codemirror_mode": {
    "name": "ipython",
    "version": 3
   },
   "file_extension": ".py",
   "mimetype": "text/x-python",
   "name": "python",
   "nbconvert_exporter": "python",
   "pygments_lexer": "ipython3",
   "version": "3.7.3"
  },
  "widgets": {
   "application/vnd.jupyter.widget-state+json": {
    "14f25f7ba8624792bc91651fe397c721": {
     "model_module": "@jupyter-widgets/controls",
     "model_name": "DescriptionStyleModel",
     "state": {
      "_model_module": "@jupyter-widgets/controls",
      "_model_module_version": "1.5.0",
      "_model_name": "DescriptionStyleModel",
      "_view_count": null,
      "_view_module": "@jupyter-widgets/base",
      "_view_module_version": "1.2.0",
      "_view_name": "StyleView",
      "description_width": ""
     }
    },
    "3656d38e8f0c4cbebab1ae600e186617": {
     "model_module": "@jupyter-widgets/base",
     "model_name": "LayoutModel",
     "state": {
      "_model_module": "@jupyter-widgets/base",
      "_model_module_version": "1.2.0",
      "_model_name": "LayoutModel",
      "_view_count": null,
      "_view_module": "@jupyter-widgets/base",
      "_view_module_version": "1.2.0",
      "_view_name": "LayoutView",
      "align_content": null,
      "align_items": null,
      "align_self": null,
      "border": null,
      "bottom": null,
      "display": null,
      "flex": null,
      "flex_flow": null,
      "grid_area": null,
      "grid_auto_columns": null,
      "grid_auto_flow": null,
      "grid_auto_rows": null,
      "grid_column": null,
      "grid_gap": null,
      "grid_row": null,
      "grid_template_areas": null,
      "grid_template_columns": null,
      "grid_template_rows": null,
      "height": null,
      "justify_content": null,
      "justify_items": null,
      "left": null,
      "margin": null,
      "max_height": null,
      "max_width": null,
      "min_height": null,
      "min_width": null,
      "object_fit": null,
      "object_position": null,
      "order": null,
      "overflow": null,
      "overflow_x": null,
      "overflow_y": null,
      "padding": null,
      "right": null,
      "top": null,
      "visibility": null,
      "width": null
     }
    },
    "61c69d23488d45e39f2dc84c060e09aa": {
     "model_module": "@jupyter-widgets/controls",
     "model_name": "ProgressStyleModel",
     "state": {
      "_model_module": "@jupyter-widgets/controls",
      "_model_module_version": "1.5.0",
      "_model_name": "ProgressStyleModel",
      "_view_count": null,
      "_view_module": "@jupyter-widgets/base",
      "_view_module_version": "1.2.0",
      "_view_name": "StyleView",
      "bar_color": null,
      "description_width": "initial"
     }
    },
    "7e717c54d6db46368489a6b5b06f017d": {
     "model_module": "@jupyter-widgets/base",
     "model_name": "LayoutModel",
     "state": {
      "_model_module": "@jupyter-widgets/base",
      "_model_module_version": "1.2.0",
      "_model_name": "LayoutModel",
      "_view_count": null,
      "_view_module": "@jupyter-widgets/base",
      "_view_module_version": "1.2.0",
      "_view_name": "LayoutView",
      "align_content": null,
      "align_items": null,
      "align_self": null,
      "border": null,
      "bottom": null,
      "display": null,
      "flex": null,
      "flex_flow": null,
      "grid_area": null,
      "grid_auto_columns": null,
      "grid_auto_flow": null,
      "grid_auto_rows": null,
      "grid_column": null,
      "grid_gap": null,
      "grid_row": null,
      "grid_template_areas": null,
      "grid_template_columns": null,
      "grid_template_rows": null,
      "height": null,
      "justify_content": null,
      "justify_items": null,
      "left": null,
      "margin": null,
      "max_height": null,
      "max_width": null,
      "min_height": null,
      "min_width": null,
      "object_fit": null,
      "object_position": null,
      "order": null,
      "overflow": null,
      "overflow_x": null,
      "overflow_y": null,
      "padding": null,
      "right": null,
      "top": null,
      "visibility": null,
      "width": null
     }
    },
    "8b95eea59ca348bdaee0f20f85481e55": {
     "model_module": "@jupyter-widgets/controls",
     "model_name": "HTMLModel",
     "state": {
      "_dom_classes": [],
      "_model_module": "@jupyter-widgets/controls",
      "_model_module_version": "1.5.0",
      "_model_name": "HTMLModel",
      "_view_count": null,
      "_view_module": "@jupyter-widgets/controls",
      "_view_module_version": "1.5.0",
      "_view_name": "HTMLView",
      "description": "",
      "description_tooltip": null,
      "layout": "IPY_MODEL_dec6eb8225dd4072a3fdb619184cc3a2",
      "placeholder": "​",
      "style": "IPY_MODEL_dd9ae5df11eb40b2a2f1cddec55cc4ab",
      "value": " 500/500 [15:18&lt;00:00,  1.84s/it]"
     }
    },
    "9aa69d3779854c339e42c821dfbc8228": {
     "model_module": "@jupyter-widgets/controls",
     "model_name": "HTMLModel",
     "state": {
      "_dom_classes": [],
      "_model_module": "@jupyter-widgets/controls",
      "_model_module_version": "1.5.0",
      "_model_name": "HTMLModel",
      "_view_count": null,
      "_view_module": "@jupyter-widgets/controls",
      "_view_module_version": "1.5.0",
      "_view_name": "HTMLView",
      "description": "",
      "description_tooltip": null,
      "layout": "IPY_MODEL_3656d38e8f0c4cbebab1ae600e186617",
      "placeholder": "​",
      "style": "IPY_MODEL_14f25f7ba8624792bc91651fe397c721",
      "value": " 500/500 [50:18&lt;00:00,  6.04s/it]"
     }
    },
    "a3fc28d7e41a42759531906dd7a3f038": {
     "model_module": "@jupyter-widgets/controls",
     "model_name": "FloatProgressModel",
     "state": {
      "_dom_classes": [],
      "_model_module": "@jupyter-widgets/controls",
      "_model_module_version": "1.5.0",
      "_model_name": "FloatProgressModel",
      "_view_count": null,
      "_view_module": "@jupyter-widgets/controls",
      "_view_module_version": "1.5.0",
      "_view_name": "ProgressView",
      "bar_style": "success",
      "description": "100%",
      "description_tooltip": null,
      "layout": "IPY_MODEL_fd054817b8144c3189638bbd141b0b98",
      "max": 500,
      "min": 0,
      "orientation": "horizontal",
      "style": "IPY_MODEL_f909dcea24f840a6a6a6e5db0b557e9e",
      "value": 500
     }
    },
    "a7310c22385c40fc99d9f65d8cebddda": {
     "model_module": "@jupyter-widgets/controls",
     "model_name": "HBoxModel",
     "state": {
      "_dom_classes": [],
      "_model_module": "@jupyter-widgets/controls",
      "_model_module_version": "1.5.0",
      "_model_name": "HBoxModel",
      "_view_count": null,
      "_view_module": "@jupyter-widgets/controls",
      "_view_module_version": "1.5.0",
      "_view_name": "HBoxView",
      "box_style": "",
      "children": [
       "IPY_MODEL_a3fc28d7e41a42759531906dd7a3f038",
       "IPY_MODEL_9aa69d3779854c339e42c821dfbc8228"
      ],
      "layout": "IPY_MODEL_b7a52d14f284406c9b3e523ecac63802"
     }
    },
    "b693347643f24302b5afb24eacf8e112": {
     "model_module": "@jupyter-widgets/controls",
     "model_name": "FloatProgressModel",
     "state": {
      "_dom_classes": [],
      "_model_module": "@jupyter-widgets/controls",
      "_model_module_version": "1.5.0",
      "_model_name": "FloatProgressModel",
      "_view_count": null,
      "_view_module": "@jupyter-widgets/controls",
      "_view_module_version": "1.5.0",
      "_view_name": "ProgressView",
      "bar_style": "success",
      "description": "100%",
      "description_tooltip": null,
      "layout": "IPY_MODEL_d1f967f5c73a4035aa5c336f513876ce",
      "max": 500,
      "min": 0,
      "orientation": "horizontal",
      "style": "IPY_MODEL_61c69d23488d45e39f2dc84c060e09aa",
      "value": 500
     }
    },
    "b7a52d14f284406c9b3e523ecac63802": {
     "model_module": "@jupyter-widgets/base",
     "model_name": "LayoutModel",
     "state": {
      "_model_module": "@jupyter-widgets/base",
      "_model_module_version": "1.2.0",
      "_model_name": "LayoutModel",
      "_view_count": null,
      "_view_module": "@jupyter-widgets/base",
      "_view_module_version": "1.2.0",
      "_view_name": "LayoutView",
      "align_content": null,
      "align_items": null,
      "align_self": null,
      "border": null,
      "bottom": null,
      "display": null,
      "flex": null,
      "flex_flow": null,
      "grid_area": null,
      "grid_auto_columns": null,
      "grid_auto_flow": null,
      "grid_auto_rows": null,
      "grid_column": null,
      "grid_gap": null,
      "grid_row": null,
      "grid_template_areas": null,
      "grid_template_columns": null,
      "grid_template_rows": null,
      "height": null,
      "justify_content": null,
      "justify_items": null,
      "left": null,
      "margin": null,
      "max_height": null,
      "max_width": null,
      "min_height": null,
      "min_width": null,
      "object_fit": null,
      "object_position": null,
      "order": null,
      "overflow": null,
      "overflow_x": null,
      "overflow_y": null,
      "padding": null,
      "right": null,
      "top": null,
      "visibility": null,
      "width": null
     }
    },
    "d1f967f5c73a4035aa5c336f513876ce": {
     "model_module": "@jupyter-widgets/base",
     "model_name": "LayoutModel",
     "state": {
      "_model_module": "@jupyter-widgets/base",
      "_model_module_version": "1.2.0",
      "_model_name": "LayoutModel",
      "_view_count": null,
      "_view_module": "@jupyter-widgets/base",
      "_view_module_version": "1.2.0",
      "_view_name": "LayoutView",
      "align_content": null,
      "align_items": null,
      "align_self": null,
      "border": null,
      "bottom": null,
      "display": null,
      "flex": null,
      "flex_flow": null,
      "grid_area": null,
      "grid_auto_columns": null,
      "grid_auto_flow": null,
      "grid_auto_rows": null,
      "grid_column": null,
      "grid_gap": null,
      "grid_row": null,
      "grid_template_areas": null,
      "grid_template_columns": null,
      "grid_template_rows": null,
      "height": null,
      "justify_content": null,
      "justify_items": null,
      "left": null,
      "margin": null,
      "max_height": null,
      "max_width": null,
      "min_height": null,
      "min_width": null,
      "object_fit": null,
      "object_position": null,
      "order": null,
      "overflow": null,
      "overflow_x": null,
      "overflow_y": null,
      "padding": null,
      "right": null,
      "top": null,
      "visibility": null,
      "width": null
     }
    },
    "dd9ae5df11eb40b2a2f1cddec55cc4ab": {
     "model_module": "@jupyter-widgets/controls",
     "model_name": "DescriptionStyleModel",
     "state": {
      "_model_module": "@jupyter-widgets/controls",
      "_model_module_version": "1.5.0",
      "_model_name": "DescriptionStyleModel",
      "_view_count": null,
      "_view_module": "@jupyter-widgets/base",
      "_view_module_version": "1.2.0",
      "_view_name": "StyleView",
      "description_width": ""
     }
    },
    "dec6eb8225dd4072a3fdb619184cc3a2": {
     "model_module": "@jupyter-widgets/base",
     "model_name": "LayoutModel",
     "state": {
      "_model_module": "@jupyter-widgets/base",
      "_model_module_version": "1.2.0",
      "_model_name": "LayoutModel",
      "_view_count": null,
      "_view_module": "@jupyter-widgets/base",
      "_view_module_version": "1.2.0",
      "_view_name": "LayoutView",
      "align_content": null,
      "align_items": null,
      "align_self": null,
      "border": null,
      "bottom": null,
      "display": null,
      "flex": null,
      "flex_flow": null,
      "grid_area": null,
      "grid_auto_columns": null,
      "grid_auto_flow": null,
      "grid_auto_rows": null,
      "grid_column": null,
      "grid_gap": null,
      "grid_row": null,
      "grid_template_areas": null,
      "grid_template_columns": null,
      "grid_template_rows": null,
      "height": null,
      "justify_content": null,
      "justify_items": null,
      "left": null,
      "margin": null,
      "max_height": null,
      "max_width": null,
      "min_height": null,
      "min_width": null,
      "object_fit": null,
      "object_position": null,
      "order": null,
      "overflow": null,
      "overflow_x": null,
      "overflow_y": null,
      "padding": null,
      "right": null,
      "top": null,
      "visibility": null,
      "width": null
     }
    },
    "e40d7277efe948bba288d3df15a35c83": {
     "model_module": "@jupyter-widgets/controls",
     "model_name": "HBoxModel",
     "state": {
      "_dom_classes": [],
      "_model_module": "@jupyter-widgets/controls",
      "_model_module_version": "1.5.0",
      "_model_name": "HBoxModel",
      "_view_count": null,
      "_view_module": "@jupyter-widgets/controls",
      "_view_module_version": "1.5.0",
      "_view_name": "HBoxView",
      "box_style": "",
      "children": [
       "IPY_MODEL_b693347643f24302b5afb24eacf8e112",
       "IPY_MODEL_8b95eea59ca348bdaee0f20f85481e55"
      ],
      "layout": "IPY_MODEL_7e717c54d6db46368489a6b5b06f017d"
     }
    },
    "f909dcea24f840a6a6a6e5db0b557e9e": {
     "model_module": "@jupyter-widgets/controls",
     "model_name": "ProgressStyleModel",
     "state": {
      "_model_module": "@jupyter-widgets/controls",
      "_model_module_version": "1.5.0",
      "_model_name": "ProgressStyleModel",
      "_view_count": null,
      "_view_module": "@jupyter-widgets/base",
      "_view_module_version": "1.2.0",
      "_view_name": "StyleView",
      "bar_color": null,
      "description_width": "initial"
     }
    },
    "fd054817b8144c3189638bbd141b0b98": {
     "model_module": "@jupyter-widgets/base",
     "model_name": "LayoutModel",
     "state": {
      "_model_module": "@jupyter-widgets/base",
      "_model_module_version": "1.2.0",
      "_model_name": "LayoutModel",
      "_view_count": null,
      "_view_module": "@jupyter-widgets/base",
      "_view_module_version": "1.2.0",
      "_view_name": "LayoutView",
      "align_content": null,
      "align_items": null,
      "align_self": null,
      "border": null,
      "bottom": null,
      "display": null,
      "flex": null,
      "flex_flow": null,
      "grid_area": null,
      "grid_auto_columns": null,
      "grid_auto_flow": null,
      "grid_auto_rows": null,
      "grid_column": null,
      "grid_gap": null,
      "grid_row": null,
      "grid_template_areas": null,
      "grid_template_columns": null,
      "grid_template_rows": null,
      "height": null,
      "justify_content": null,
      "justify_items": null,
      "left": null,
      "margin": null,
      "max_height": null,
      "max_width": null,
      "min_height": null,
      "min_width": null,
      "object_fit": null,
      "object_position": null,
      "order": null,
      "overflow": null,
      "overflow_x": null,
      "overflow_y": null,
      "padding": null,
      "right": null,
      "top": null,
      "visibility": null,
      "width": null
     }
    }
   }
  }
 },
 "nbformat": 4,
 "nbformat_minor": 1
}
